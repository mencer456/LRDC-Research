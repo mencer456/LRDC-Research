{
 "cells": [
  {
   "cell_type": "markdown",
   "metadata": {},
   "source": [
    "#  Data analysis for Lexical Richness"
   ]
  },
  {
   "cell_type": "code",
   "execution_count": 1,
   "metadata": {},
   "outputs": [],
   "source": [
    "#importing libraries\n",
    "import os\n",
    "import nltk\n",
    "import re\n",
    "import numpy as np\n",
    "import regex\n",
    "from nltk.tokenize import RegexpTokenizer\n",
    "from nltk.tokenize import word_tokenize\n",
    "import pandas as pd\n",
    "import string\n",
    "import matplotlib.pyplot as plt\n",
    "import seaborn as sns"
   ]
  },
  {
   "cell_type": "markdown",
   "metadata": {},
   "source": [
    "# Functions"
   ]
  },
  {
   "cell_type": "code",
   "execution_count": 2,
   "metadata": {},
   "outputs": [],
   "source": [
    "#binary search for strings\n",
    "def binarySearchArr(arr, x):\n",
    "    l = 0\n",
    "    r = len(arr)\n",
    "    while (l <= r):\n",
    "        m = l + ((r - l) // 2)\n",
    " \n",
    "        res = (x == arr[m])\n",
    "        # Check if x is present at mid\n",
    "        if (res == True):\n",
    "            return m\n",
    " \n",
    "        # If x greater, ignore left half\n",
    "    #problem is here\n",
    "        elif (res == False):\n",
    "            if (x>arr[m]):\n",
    "                l = m+1\n",
    "            elif (x<arr[m]):\n",
    "                r=m-1\n",
    "        # If x is smaller, ignore right half\n",
    "    return -1"
   ]
  },
  {
   "cell_type": "code",
   "execution_count": 3,
   "metadata": {},
   "outputs": [],
   "source": [
    "#This function removes all of the rows that contain a string in the passed column\n",
    "def rmStr (df, col):\n",
    "    row_index=0\n",
    "    row_ind=[]\n",
    "    for i in df[col]:\n",
    "        try:\n",
    "            int(i)\n",
    "        except:\n",
    "            row_ind.append(row_index)\n",
    "        row_index+=1\n",
    "    return df.drop(labels=row_ind,axis=0)"
   ]
  },
  {
   "cell_type": "code",
   "execution_count": 4,
   "metadata": {},
   "outputs": [],
   "source": [
    "# function that finds the unique values in a list\n",
    "def get_uniques(x):\n",
    "    return list(x.unique())"
   ]
  },
  {
   "cell_type": "code",
   "execution_count": 5,
   "metadata": {},
   "outputs": [],
   "source": [
    "#finds the number of texts per language in the given list of anon_ids\n",
    "def find_counts(df,anon_list,lang_col):\n",
    "    spanish=0\n",
    "    chinese=0\n",
    "    korean=0\n",
    "    index=0\n",
    "    for i in df[\"Number of Questions\"]:\n",
    "        anon_id=str(df.at[index,'anon_id'])\n",
    "        if anon_id in anon_list:\n",
    "            if df.at[index,lang_col]=='Spanish':            \n",
    "                spanish+=i\n",
    "            elif df.at[index,lang_col]=='Chinese':\n",
    "                chinese+=i\n",
    "            elif df.at[index,lang_col]=='Korean':\n",
    "                korean+=i\n",
    "        index+=1\n",
    "    return(spanish,chinese,korean)"
   ]
  },
  {
   "cell_type": "code",
   "execution_count": 6,
   "metadata": {},
   "outputs": [],
   "source": [
    "#finds the token average of the given level in the given level group (id_list) for each language\n",
    "def tokenAvg(df,textlencol,lang, id_list,lvl):\n",
    "    index=0\n",
    "    #total token count\n",
    "    spanish=0\n",
    "    chinese=0\n",
    "    korean=0\n",
    "    #number of questions\n",
    "    qcounts=0\n",
    "    qcountc=0\n",
    "    qcountk=0\n",
    "\n",
    "    for anon in df['anon_id']:\n",
    "        if df.at[index,'level_id']==lvl and df.at[index,'anon_id'] in id_list:\n",
    "            textlen=df.at[index,textlencol]\n",
    "            textlen=int(textlen)\n",
    "            if df.at[index,lang]=='Spanish':\n",
    "                spanish+=textlen\n",
    "                qcounts+=1\n",
    "            elif df.at[index,lang]=='Korean':\n",
    "                korean+=textlen\n",
    "                qcountk+=1\n",
    "            elif df.at[index,lang]=='Chinese':\n",
    "                chinese+=textlen\n",
    "                qcountc+=1\n",
    "        index+=1\n",
    "        \n",
    "    print(\"Spanish Average: \",spanish/qcounts)\n",
    "    print(\"Korean Average: \",korean/qcountk)\n",
    "    print(\"Chinese Average: \",chinese/qcountc)"
   ]
  },
  {
   "cell_type": "code",
   "execution_count": 7,
   "metadata": {},
   "outputs": [],
   "source": [
    "#finding the token/word count ratio for each language\n",
    "def ratio(df,textlencol,typelencol,lang, id_list,lvl):\n",
    "    index=0\n",
    "    #total token count\n",
    "    spanish=0\n",
    "    chinese=0\n",
    "    korean=0\n",
    "    #unique token count\n",
    "    tspanish=0\n",
    "    tkorean=0\n",
    "    tchinese=0\n",
    "    #total question count\n",
    "    qcounts=0\n",
    "    qcountc=0\n",
    "    qcountk=0\n",
    "\n",
    "    for anon in df['anon_id']:\n",
    "        if df.at[index,'level_id']==lvl and df.at[index,'anon_id'] in id_list:\n",
    "            textlen=df.at[index,textlencol]\n",
    "            textlen=int(textlen)\n",
    "            typelen=df.at[index,typelencol]\n",
    "            typelen=int(typelen)\n",
    "            if df.at[index,lang]=='Spanish':\n",
    "                spanish+=textlen\n",
    "                tspanish+=typelen\n",
    "                qcounts+=1\n",
    "            elif df.at[index,lang]=='Korean':\n",
    "                korean+=textlen\n",
    "                tkorean+=typelen\n",
    "                qcountk+=1\n",
    "            elif df.at[index,lang]=='Chinese':\n",
    "                chinese+=textlen\n",
    "                tchinese+=typelen\n",
    "                qcountc+=1\n",
    "        index+=1\n",
    "\n",
    "    #finding ratios    \n",
    "    spanishavg=spanish/qcounts\n",
    "    tspanishavg=tspanish/qcounts\n",
    "    koreanavg=korean/qcountk\n",
    "    tkoreanavg=tkorean/qcountk\n",
    "    chineseavg=chinese/qcountc\n",
    "    tchineseavg=tchinese/qcountc\n",
    "    \n",
    "    print(\"Spanish Ratio: \",tspanishavg/spanishavg)\n",
    "    print(\"Korean Ratio: \",tkoreanavg/koreanavg)\n",
    "    print(\"Chinese Ratio: \",tchineseavg/chineseavg)"
   ]
  },
  {
   "cell_type": "code",
   "execution_count": 8,
   "metadata": {},
   "outputs": [],
   "source": [
    "# function that counts the amount of tokens per language FINDS AVERAGE OF ALL LVLS IN SPECIFIED LIST\n",
    "def finding_tokens(df,id_list,lang_col,text_len_col,qcounts):\n",
    "    spanish=0\n",
    "    korean=0\n",
    "    chinese=0\n",
    "    index=0\n",
    "    lspanish=0\n",
    "    lchinese=0\n",
    "    lkorean=0\n",
    "    \n",
    "    for i in df['anon_id']:\n",
    "        if i in id_list:\n",
    "            lang=df.at[index,lang_col]\n",
    "            length=int(df.at[index,text_len_col])\n",
    "            if lang=='Spanish':\n",
    "                lspanish+=1\n",
    "                spanish+=length\n",
    "            elif lang=='Korean':\n",
    "                lkorean+=1\n",
    "                korean+=length\n",
    "            elif lang=='Chinese':\n",
    "                lchinese+=1\n",
    "                chinese+=length\n",
    "        index+=1\n",
    "   # print('Spanish Token Average: ',spanish,'\\nKorean Token Average: ',korean,\n",
    "    #      '\\nChinese Token Average:',chinese)\n",
    "    print('Spanish Token Average: ',spanish/lspanish,'\\nKorean Token Average: ',korean/lkorean,\n",
    "          '\\nChinese Token Average:',chinese/lchinese)"
   ]
  },
  {
   "cell_type": "markdown",
   "metadata": {},
   "source": [
    "# Adding DFs"
   ]
  },
  {
   "cell_type": "code",
   "execution_count": 9,
   "metadata": {},
   "outputs": [],
   "source": [
    "loose=pd.read_csv('original-sheets\\Responses-Loose.csv')\n",
    "student_info=pd.read_csv('corpus-files\\student_information.csv')\n",
    "course=pd.read_csv('corpus-files\\course.csv')\n",
    "answer_df=pd.read_csv('answer.csv',index_col = 'answer_id', low_memory=False)"
   ]
  },
  {
   "cell_type": "code",
   "execution_count": 10,
   "metadata": {},
   "outputs": [],
   "source": [
    "course_=course.drop(columns=['class_id','semester','section'])\n",
    "\n",
    "student=student_info.drop(columns=['birth_year','language_used_at_home','non_native_language_1','yrs_of_study_lang1',\n",
    "                                  'study_in_classroom_lang1','ways_of_study_lang1','non_native_language_2','study_in_classroom_lang2',\n",
    "                                  'ways_of_study_lang2','non_native_language_3','yrs_of_study_lang3','study_in_classroom_lang3',\n",
    "                                  'ways_of_study_lang3','yrs_of_english_learning','yrs_in_english_environment','yrs_of_study_lang2'])\n",
    "answer_=answer_df[['question_id','anon_id','course_id','version','text_len','text','tokens']].reset_index()"
   ]
  },
  {
   "cell_type": "code",
   "execution_count": 11,
   "metadata": {},
   "outputs": [],
   "source": [
    "#Cleaning the answer df\n",
    "col='course_id'\n",
    "answer=rmStr(answer_, col) #removes strings from answer_.course_id "
   ]
  },
  {
   "cell_type": "code",
   "execution_count": 12,
   "metadata": {},
   "outputs": [],
   "source": [
    "# Merging the datasets\n",
    "\n",
    "merge_ans=answer[['anon_id','course_id']] #sets answer df up for merging \n",
    "student_merge=student.drop(columns=['course_history']) #set student df up for merging\n",
    "\n",
    "student_ans=student_merge.merge(answer,on='anon_id').astype({'course_id':'int64'}) #merges student and answers\n",
    "\n",
    "stu_ans_crs_=student_ans.merge(course_, on='course_id') #merges the student-answers df with course df"
   ]
  },
  {
   "cell_type": "code",
   "execution_count": 13,
   "metadata": {
    "scrolled": true
   },
   "outputs": [
    {
     "data": {
      "text/html": [
       "<div>\n",
       "<style scoped>\n",
       "    .dataframe tbody tr th:only-of-type {\n",
       "        vertical-align: middle;\n",
       "    }\n",
       "\n",
       "    .dataframe tbody tr th {\n",
       "        vertical-align: top;\n",
       "    }\n",
       "\n",
       "    .dataframe thead th {\n",
       "        text-align: right;\n",
       "    }\n",
       "</style>\n",
       "<table border=\"1\" class=\"dataframe\">\n",
       "  <thead>\n",
       "    <tr style=\"text-align: right;\">\n",
       "      <th></th>\n",
       "      <th>index</th>\n",
       "      <th>anon_id</th>\n",
       "      <th>gender</th>\n",
       "      <th>native_language</th>\n",
       "      <th>age</th>\n",
       "      <th>answer_id</th>\n",
       "      <th>question_id</th>\n",
       "      <th>course_id</th>\n",
       "      <th>version</th>\n",
       "      <th>text_len</th>\n",
       "      <th>text</th>\n",
       "      <th>tokens</th>\n",
       "      <th>level_id</th>\n",
       "    </tr>\n",
       "  </thead>\n",
       "  <tbody>\n",
       "    <tr>\n",
       "      <th>0</th>\n",
       "      <td>0</td>\n",
       "      <td>do6</td>\n",
       "      <td>Female</td>\n",
       "      <td>Russian</td>\n",
       "      <td>31.0</td>\n",
       "      <td>150</td>\n",
       "      <td>4</td>\n",
       "      <td>117</td>\n",
       "      <td>1</td>\n",
       "      <td>299</td>\n",
       "      <td>Some people prefer eat out and some like doing...</td>\n",
       "      <td>['Some', 'people', 'prefer', 'eat', 'out', 'an...</td>\n",
       "      <td>5</td>\n",
       "    </tr>\n",
       "    <tr>\n",
       "      <th>1</th>\n",
       "      <td>1</td>\n",
       "      <td>do6</td>\n",
       "      <td>Female</td>\n",
       "      <td>Russian</td>\n",
       "      <td>31.0</td>\n",
       "      <td>1221</td>\n",
       "      <td>97</td>\n",
       "      <td>117</td>\n",
       "      <td>1</td>\n",
       "      <td>288</td>\n",
       "      <td>My opinion is that a person does need educatio...</td>\n",
       "      <td>['My', 'opinion', 'is', 'that', 'a', 'person',...</td>\n",
       "      <td>5</td>\n",
       "    </tr>\n",
       "    <tr>\n",
       "      <th>2</th>\n",
       "      <td>2</td>\n",
       "      <td>do6</td>\n",
       "      <td>Female</td>\n",
       "      <td>Russian</td>\n",
       "      <td>31.0</td>\n",
       "      <td>1957</td>\n",
       "      <td>189</td>\n",
       "      <td>117</td>\n",
       "      <td>1</td>\n",
       "      <td>321</td>\n",
       "      <td>There are two national rooms in the Cathedral ...</td>\n",
       "      <td>['There', 'are', 'two', 'national', 'rooms', '...</td>\n",
       "      <td>5</td>\n",
       "    </tr>\n",
       "    <tr>\n",
       "      <th>3</th>\n",
       "      <td>3</td>\n",
       "      <td>do6</td>\n",
       "      <td>Female</td>\n",
       "      <td>Russian</td>\n",
       "      <td>31.0</td>\n",
       "      <td>2164</td>\n",
       "      <td>190</td>\n",
       "      <td>117</td>\n",
       "      <td>1</td>\n",
       "      <td>464</td>\n",
       "      <td>There are two nation rooms in the Cathedral of...</td>\n",
       "      <td>['There', 'are', 'two', 'nation', 'rooms', 'in...</td>\n",
       "      <td>5</td>\n",
       "    </tr>\n",
       "    <tr>\n",
       "      <th>4</th>\n",
       "      <td>4</td>\n",
       "      <td>bv5</td>\n",
       "      <td>Male</td>\n",
       "      <td>Arabic</td>\n",
       "      <td>21.0</td>\n",
       "      <td>151</td>\n",
       "      <td>4</td>\n",
       "      <td>117</td>\n",
       "      <td>1</td>\n",
       "      <td>315</td>\n",
       "      <td>\"Not all learning takes place in the classroom...</td>\n",
       "      <td>['``', 'Not', 'all', 'learning', 'takes', 'pla...</td>\n",
       "      <td>5</td>\n",
       "    </tr>\n",
       "    <tr>\n",
       "      <th>...</th>\n",
       "      <td>...</td>\n",
       "      <td>...</td>\n",
       "      <td>...</td>\n",
       "      <td>...</td>\n",
       "      <td>...</td>\n",
       "      <td>...</td>\n",
       "      <td>...</td>\n",
       "      <td>...</td>\n",
       "      <td>...</td>\n",
       "      <td>...</td>\n",
       "      <td>...</td>\n",
       "      <td>...</td>\n",
       "      <td>...</td>\n",
       "    </tr>\n",
       "    <tr>\n",
       "      <th>46225</th>\n",
       "      <td>46225</td>\n",
       "      <td>cy7</td>\n",
       "      <td>Female</td>\n",
       "      <td>Korean</td>\n",
       "      <td>NaN</td>\n",
       "      <td>47682</td>\n",
       "      <td>6066</td>\n",
       "      <td>1034</td>\n",
       "      <td>1</td>\n",
       "      <td>10</td>\n",
       "      <td>1. emphasis\\n2. appropriate\\n3. requires\\n4. a...</td>\n",
       "      <td>['1', '.', 'emphasis', '2', '.', 'appropriate'...</td>\n",
       "      <td>3</td>\n",
       "    </tr>\n",
       "    <tr>\n",
       "      <th>46226</th>\n",
       "      <td>46226</td>\n",
       "      <td>fp7</td>\n",
       "      <td>Female</td>\n",
       "      <td>Turkish</td>\n",
       "      <td>NaN</td>\n",
       "      <td>47823</td>\n",
       "      <td>6066</td>\n",
       "      <td>1034</td>\n",
       "      <td>1</td>\n",
       "      <td>10</td>\n",
       "      <td>1.emphasis \\n2.appropriate\\n3.requires\\n4.anal...</td>\n",
       "      <td>['1', '.', 'emphasis', '2', '.', 'appropriate'...</td>\n",
       "      <td>3</td>\n",
       "    </tr>\n",
       "    <tr>\n",
       "      <th>46227</th>\n",
       "      <td>46227</td>\n",
       "      <td>fq6</td>\n",
       "      <td>Male</td>\n",
       "      <td>Chinese</td>\n",
       "      <td>NaN</td>\n",
       "      <td>47824</td>\n",
       "      <td>6066</td>\n",
       "      <td>1034</td>\n",
       "      <td>1</td>\n",
       "      <td>10</td>\n",
       "      <td>1.emphasis\\n2.appropriate\\n3.requires\\n4.analy...</td>\n",
       "      <td>['1', '.', 'emphasis', '2', '.', 'appropriate'...</td>\n",
       "      <td>3</td>\n",
       "    </tr>\n",
       "    <tr>\n",
       "      <th>46228</th>\n",
       "      <td>46228</td>\n",
       "      <td>di6</td>\n",
       "      <td>Male</td>\n",
       "      <td>Chinese</td>\n",
       "      <td>NaN</td>\n",
       "      <td>47787</td>\n",
       "      <td>6066</td>\n",
       "      <td>1034</td>\n",
       "      <td>1</td>\n",
       "      <td>10</td>\n",
       "      <td>1 emphasis\\n2 normal\\n3 requires\\n4 analyze\\n5...</td>\n",
       "      <td>['1', 'emphasis', '2', 'normal', '3', 'require...</td>\n",
       "      <td>3</td>\n",
       "    </tr>\n",
       "    <tr>\n",
       "      <th>46229</th>\n",
       "      <td>46229</td>\n",
       "      <td>fm3</td>\n",
       "      <td>Unknown</td>\n",
       "      <td>Arabic</td>\n",
       "      <td>NaN</td>\n",
       "      <td>47725</td>\n",
       "      <td>6066</td>\n",
       "      <td>1034</td>\n",
       "      <td>1</td>\n",
       "      <td>10</td>\n",
       "      <td>1- emphasis\\n2- appropriate\\n3- requires\\n4- a...</td>\n",
       "      <td>['1', '-', 'emphasis', '2', '-', 'appropriate'...</td>\n",
       "      <td>3</td>\n",
       "    </tr>\n",
       "  </tbody>\n",
       "</table>\n",
       "<p>46230 rows × 13 columns</p>\n",
       "</div>"
      ],
      "text/plain": [
       "       index anon_id   gender native_language   age answer_id question_id  \\\n",
       "0          0     do6   Female         Russian  31.0       150           4   \n",
       "1          1     do6   Female         Russian  31.0      1221          97   \n",
       "2          2     do6   Female         Russian  31.0      1957         189   \n",
       "3          3     do6   Female         Russian  31.0      2164         190   \n",
       "4          4     bv5     Male          Arabic  21.0       151           4   \n",
       "...      ...     ...      ...             ...   ...       ...         ...   \n",
       "46225  46225     cy7   Female          Korean   NaN     47682        6066   \n",
       "46226  46226     fp7   Female         Turkish   NaN     47823        6066   \n",
       "46227  46227     fq6     Male         Chinese   NaN     47824        6066   \n",
       "46228  46228     di6     Male         Chinese   NaN     47787        6066   \n",
       "46229  46229     fm3  Unknown          Arabic   NaN     47725        6066   \n",
       "\n",
       "       course_id version text_len  \\\n",
       "0            117       1      299   \n",
       "1            117       1      288   \n",
       "2            117       1      321   \n",
       "3            117       1      464   \n",
       "4            117       1      315   \n",
       "...          ...     ...      ...   \n",
       "46225       1034       1       10   \n",
       "46226       1034       1       10   \n",
       "46227       1034       1       10   \n",
       "46228       1034       1       10   \n",
       "46229       1034       1       10   \n",
       "\n",
       "                                                    text  \\\n",
       "0      Some people prefer eat out and some like doing...   \n",
       "1      My opinion is that a person does need educatio...   \n",
       "2      There are two national rooms in the Cathedral ...   \n",
       "3      There are two nation rooms in the Cathedral of...   \n",
       "4      \"Not all learning takes place in the classroom...   \n",
       "...                                                  ...   \n",
       "46225  1. emphasis\\n2. appropriate\\n3. requires\\n4. a...   \n",
       "46226  1.emphasis \\n2.appropriate\\n3.requires\\n4.anal...   \n",
       "46227  1.emphasis\\n2.appropriate\\n3.requires\\n4.analy...   \n",
       "46228  1 emphasis\\n2 normal\\n3 requires\\n4 analyze\\n5...   \n",
       "46229  1- emphasis\\n2- appropriate\\n3- requires\\n4- a...   \n",
       "\n",
       "                                                  tokens  level_id  \n",
       "0      ['Some', 'people', 'prefer', 'eat', 'out', 'an...         5  \n",
       "1      ['My', 'opinion', 'is', 'that', 'a', 'person',...         5  \n",
       "2      ['There', 'are', 'two', 'national', 'rooms', '...         5  \n",
       "3      ['There', 'are', 'two', 'nation', 'rooms', 'in...         5  \n",
       "4      ['``', 'Not', 'all', 'learning', 'takes', 'pla...         5  \n",
       "...                                                  ...       ...  \n",
       "46225  ['1', '.', 'emphasis', '2', '.', 'appropriate'...         3  \n",
       "46226  ['1', '.', 'emphasis', '2', '.', 'appropriate'...         3  \n",
       "46227  ['1', '.', 'emphasis', '2', '.', 'appropriate'...         3  \n",
       "46228  ['1', 'emphasis', '2', 'normal', '3', 'require...         3  \n",
       "46229  ['1', '-', 'emphasis', '2', '-', 'appropriate'...         3  \n",
       "\n",
       "[46230 rows x 13 columns]"
      ]
     },
     "execution_count": 13,
     "metadata": {},
     "output_type": "execute_result"
    }
   ],
   "source": [
    "stu_ans_crs_.reset_index()"
   ]
  },
  {
   "cell_type": "code",
   "execution_count": 14,
   "metadata": {
    "scrolled": true
   },
   "outputs": [
    {
     "data": {
      "text/html": [
       "<div>\n",
       "<style scoped>\n",
       "    .dataframe tbody tr th:only-of-type {\n",
       "        vertical-align: middle;\n",
       "    }\n",
       "\n",
       "    .dataframe tbody tr th {\n",
       "        vertical-align: top;\n",
       "    }\n",
       "\n",
       "    .dataframe thead th {\n",
       "        text-align: right;\n",
       "    }\n",
       "</style>\n",
       "<table border=\"1\" class=\"dataframe\">\n",
       "  <thead>\n",
       "    <tr style=\"text-align: right;\">\n",
       "      <th></th>\n",
       "      <th>index</th>\n",
       "      <th>anon_id</th>\n",
       "      <th>gender</th>\n",
       "      <th>native_language</th>\n",
       "      <th>age</th>\n",
       "      <th>answer_id</th>\n",
       "      <th>question_id</th>\n",
       "      <th>course_id</th>\n",
       "      <th>version</th>\n",
       "      <th>text_len</th>\n",
       "      <th>text</th>\n",
       "      <th>tokens</th>\n",
       "      <th>level_id</th>\n",
       "    </tr>\n",
       "  </thead>\n",
       "  <tbody>\n",
       "    <tr>\n",
       "      <th>0</th>\n",
       "      <td>0</td>\n",
       "      <td>do6</td>\n",
       "      <td>Female</td>\n",
       "      <td>Russian</td>\n",
       "      <td>31.0</td>\n",
       "      <td>150</td>\n",
       "      <td>4</td>\n",
       "      <td>117</td>\n",
       "      <td>1</td>\n",
       "      <td>299</td>\n",
       "      <td>Some people prefer eat out and some like doing...</td>\n",
       "      <td>['Some', 'people', 'prefer', 'eat', 'out', 'an...</td>\n",
       "      <td>5</td>\n",
       "    </tr>\n",
       "    <tr>\n",
       "      <th>1</th>\n",
       "      <td>1</td>\n",
       "      <td>do6</td>\n",
       "      <td>Female</td>\n",
       "      <td>Russian</td>\n",
       "      <td>31.0</td>\n",
       "      <td>1221</td>\n",
       "      <td>97</td>\n",
       "      <td>117</td>\n",
       "      <td>1</td>\n",
       "      <td>288</td>\n",
       "      <td>My opinion is that a person does need educatio...</td>\n",
       "      <td>['My', 'opinion', 'is', 'that', 'a', 'person',...</td>\n",
       "      <td>5</td>\n",
       "    </tr>\n",
       "    <tr>\n",
       "      <th>2</th>\n",
       "      <td>2</td>\n",
       "      <td>do6</td>\n",
       "      <td>Female</td>\n",
       "      <td>Russian</td>\n",
       "      <td>31.0</td>\n",
       "      <td>1957</td>\n",
       "      <td>189</td>\n",
       "      <td>117</td>\n",
       "      <td>1</td>\n",
       "      <td>321</td>\n",
       "      <td>There are two national rooms in the Cathedral ...</td>\n",
       "      <td>['There', 'are', 'two', 'national', 'rooms', '...</td>\n",
       "      <td>5</td>\n",
       "    </tr>\n",
       "    <tr>\n",
       "      <th>3</th>\n",
       "      <td>3</td>\n",
       "      <td>do6</td>\n",
       "      <td>Female</td>\n",
       "      <td>Russian</td>\n",
       "      <td>31.0</td>\n",
       "      <td>2164</td>\n",
       "      <td>190</td>\n",
       "      <td>117</td>\n",
       "      <td>1</td>\n",
       "      <td>464</td>\n",
       "      <td>There are two nation rooms in the Cathedral of...</td>\n",
       "      <td>['There', 'are', 'two', 'nation', 'rooms', 'in...</td>\n",
       "      <td>5</td>\n",
       "    </tr>\n",
       "    <tr>\n",
       "      <th>4</th>\n",
       "      <td>4</td>\n",
       "      <td>bv5</td>\n",
       "      <td>Male</td>\n",
       "      <td>Arabic</td>\n",
       "      <td>21.0</td>\n",
       "      <td>151</td>\n",
       "      <td>4</td>\n",
       "      <td>117</td>\n",
       "      <td>1</td>\n",
       "      <td>315</td>\n",
       "      <td>\"Not all learning takes place in the classroom...</td>\n",
       "      <td>['``', 'Not', 'all', 'learning', 'takes', 'pla...</td>\n",
       "      <td>5</td>\n",
       "    </tr>\n",
       "    <tr>\n",
       "      <th>...</th>\n",
       "      <td>...</td>\n",
       "      <td>...</td>\n",
       "      <td>...</td>\n",
       "      <td>...</td>\n",
       "      <td>...</td>\n",
       "      <td>...</td>\n",
       "      <td>...</td>\n",
       "      <td>...</td>\n",
       "      <td>...</td>\n",
       "      <td>...</td>\n",
       "      <td>...</td>\n",
       "      <td>...</td>\n",
       "      <td>...</td>\n",
       "    </tr>\n",
       "    <tr>\n",
       "      <th>17252</th>\n",
       "      <td>46214</td>\n",
       "      <td>bh8</td>\n",
       "      <td>Male</td>\n",
       "      <td>Japanese</td>\n",
       "      <td>NaN</td>\n",
       "      <td>48034</td>\n",
       "      <td>6087</td>\n",
       "      <td>1033</td>\n",
       "      <td>1</td>\n",
       "      <td>100</td>\n",
       "      <td>I received my Medical Doctor license in Japan ...</td>\n",
       "      <td>['I', 'received', 'my', 'Medical', 'Doctor', '...</td>\n",
       "      <td>3</td>\n",
       "    </tr>\n",
       "    <tr>\n",
       "      <th>17253</th>\n",
       "      <td>46215</td>\n",
       "      <td>bh8</td>\n",
       "      <td>Male</td>\n",
       "      <td>Japanese</td>\n",
       "      <td>NaN</td>\n",
       "      <td>48293</td>\n",
       "      <td>6119</td>\n",
       "      <td>1033</td>\n",
       "      <td>1</td>\n",
       "      <td>138</td>\n",
       "      <td>I introduce my ideal home to you quickly. This...</td>\n",
       "      <td>['I', 'introduce', 'my', 'ideal', 'home', 'to'...</td>\n",
       "      <td>3</td>\n",
       "    </tr>\n",
       "    <tr>\n",
       "      <th>17254</th>\n",
       "      <td>46217</td>\n",
       "      <td>cz3</td>\n",
       "      <td>Female</td>\n",
       "      <td>Korean</td>\n",
       "      <td>NaN</td>\n",
       "      <td>47451</td>\n",
       "      <td>6027</td>\n",
       "      <td>1033</td>\n",
       "      <td>1</td>\n",
       "      <td>101</td>\n",
       "      <td>I will put 5 items in time capsule such as som...</td>\n",
       "      <td>['I', 'will', 'put', '5', 'items', 'in', 'time...</td>\n",
       "      <td>3</td>\n",
       "    </tr>\n",
       "    <tr>\n",
       "      <th>17255</th>\n",
       "      <td>46218</td>\n",
       "      <td>cz3</td>\n",
       "      <td>Female</td>\n",
       "      <td>Korean</td>\n",
       "      <td>NaN</td>\n",
       "      <td>48001</td>\n",
       "      <td>6087</td>\n",
       "      <td>1033</td>\n",
       "      <td>1</td>\n",
       "      <td>100</td>\n",
       "      <td>I have studied Visual Design since 2002. I gra...</td>\n",
       "      <td>['I', 'have', 'studied', 'Visual', 'Design', '...</td>\n",
       "      <td>3</td>\n",
       "    </tr>\n",
       "    <tr>\n",
       "      <th>17256</th>\n",
       "      <td>46219</td>\n",
       "      <td>cz3</td>\n",
       "      <td>Female</td>\n",
       "      <td>Korean</td>\n",
       "      <td>NaN</td>\n",
       "      <td>48316</td>\n",
       "      <td>6119</td>\n",
       "      <td>1033</td>\n",
       "      <td>1</td>\n",
       "      <td>72</td>\n",
       "      <td>I will describe about my ideal home. I want qu...</td>\n",
       "      <td>['I', 'will', 'describe', 'about', 'my', 'idea...</td>\n",
       "      <td>3</td>\n",
       "    </tr>\n",
       "  </tbody>\n",
       "</table>\n",
       "<p>17257 rows × 13 columns</p>\n",
       "</div>"
      ],
      "text/plain": [
       "       index anon_id  gender native_language   age answer_id question_id  \\\n",
       "0          0     do6  Female         Russian  31.0       150           4   \n",
       "1          1     do6  Female         Russian  31.0      1221          97   \n",
       "2          2     do6  Female         Russian  31.0      1957         189   \n",
       "3          3     do6  Female         Russian  31.0      2164         190   \n",
       "4          4     bv5    Male          Arabic  21.0       151           4   \n",
       "...      ...     ...     ...             ...   ...       ...         ...   \n",
       "17252  46214     bh8    Male        Japanese   NaN     48034        6087   \n",
       "17253  46215     bh8    Male        Japanese   NaN     48293        6119   \n",
       "17254  46217     cz3  Female          Korean   NaN     47451        6027   \n",
       "17255  46218     cz3  Female          Korean   NaN     48001        6087   \n",
       "17256  46219     cz3  Female          Korean   NaN     48316        6119   \n",
       "\n",
       "       course_id version text_len  \\\n",
       "0            117       1      299   \n",
       "1            117       1      288   \n",
       "2            117       1      321   \n",
       "3            117       1      464   \n",
       "4            117       1      315   \n",
       "...          ...     ...      ...   \n",
       "17252       1033       1      100   \n",
       "17253       1033       1      138   \n",
       "17254       1033       1      101   \n",
       "17255       1033       1      100   \n",
       "17256       1033       1       72   \n",
       "\n",
       "                                                    text  \\\n",
       "0      Some people prefer eat out and some like doing...   \n",
       "1      My opinion is that a person does need educatio...   \n",
       "2      There are two national rooms in the Cathedral ...   \n",
       "3      There are two nation rooms in the Cathedral of...   \n",
       "4      \"Not all learning takes place in the classroom...   \n",
       "...                                                  ...   \n",
       "17252  I received my Medical Doctor license in Japan ...   \n",
       "17253  I introduce my ideal home to you quickly. This...   \n",
       "17254  I will put 5 items in time capsule such as som...   \n",
       "17255  I have studied Visual Design since 2002. I gra...   \n",
       "17256  I will describe about my ideal home. I want qu...   \n",
       "\n",
       "                                                  tokens  level_id  \n",
       "0      ['Some', 'people', 'prefer', 'eat', 'out', 'an...         5  \n",
       "1      ['My', 'opinion', 'is', 'that', 'a', 'person',...         5  \n",
       "2      ['There', 'are', 'two', 'national', 'rooms', '...         5  \n",
       "3      ['There', 'are', 'two', 'nation', 'rooms', 'in...         5  \n",
       "4      ['``', 'Not', 'all', 'learning', 'takes', 'pla...         5  \n",
       "...                                                  ...       ...  \n",
       "17252  ['I', 'received', 'my', 'Medical', 'Doctor', '...         3  \n",
       "17253  ['I', 'introduce', 'my', 'ideal', 'home', 'to'...         3  \n",
       "17254  ['I', 'will', 'put', '5', 'items', 'in', 'time...         3  \n",
       "17255  ['I', 'have', 'studied', 'Visual', 'Design', '...         3  \n",
       "17256  ['I', 'will', 'describe', 'about', 'my', 'idea...         3  \n",
       "\n",
       "[17257 rows x 13 columns]"
      ]
     },
     "execution_count": 14,
     "metadata": {},
     "output_type": "execute_result"
    }
   ],
   "source": [
    "#drops rows that had intelligible data\n",
    "index=0\n",
    "ind_list=[]\n",
    "for i in stu_ans_crs_.text_len:\n",
    "    txtlen=int(i)\n",
    "    if txtlen < 60:\n",
    "        ind_list.append(index)\n",
    "    index+=1\n",
    "\n",
    "test=stu_ans_crs_.drop(labels=ind_list,axis=0).reset_index()\n",
    "test"
   ]
  },
  {
   "cell_type": "markdown",
   "metadata": {},
   "source": [
    "# Cleaning Answers in Whole Dataset"
   ]
  },
  {
   "cell_type": "code",
   "execution_count": 15,
   "metadata": {},
   "outputs": [],
   "source": [
    "# adding spaces after punctuation if needed\n",
    "\n",
    "index=0\n",
    "stu_ans_crs=stu_ans_crs_.copy().drop(columns=['gender','age','question_id','course_id',\n",
    "                                             'version','tokens'])\n",
    "stu_ans_crs['processed_text']=pd.NaT\n",
    "stu_ans_crs['wordtype_len']=pd.NaT\n",
    "words=[]\n",
    "for text in stu_ans_crs.text:\n",
    "    uwords=[]\n",
    "    text=text.replace('\\n',' ')\n",
    "    nopunc=text.translate(str.maketrans('','',string.punctuation))\n",
    "    nopunc=nopunc.lower()\n",
    "    stu_ans_crs.at[index,'processed_text']=nopunc\n",
    "    words=nopunc.strip().split(\" \")\n",
    "    for word in words:\n",
    "        if word=='':\n",
    "            words.remove(word)\n",
    "        elif word not in uwords:\n",
    "            uwords.append(word)\n",
    "    stu_ans_crs.at[index,'text_len']=len(words)\n",
    "    stu_ans_crs.at[index,'wordtype_len']=len(uwords)\n",
    "    index+=1"
   ]
  },
  {
   "cell_type": "code",
   "execution_count": 16,
   "metadata": {},
   "outputs": [
    {
     "name": "stdout",
     "output_type": "stream",
     "text": [
      "Some people prefer eat out and some like doing it in home The restaurant food has a variety of the menu and good prices also it is good to go to a restaurant and socialize with your friend However for everyday evenings I rather a family dinner because it is healthy good quality food I can have family conversation with my children and husband during dinner and it seems for me very traditional\n",
      "Because of I like to cook and in my family we use traditional and national food it is very difficult to find same in a restaurant The restaurants politics is a food should be testy and looks beautiful so people will buy it I believe that in a restaurant you cannot meet good quality food because they do it for a sale so they do not care about how healthy their food is In the other hand when I cook dinner I always think what will be good for my husband and my children\n",
      "The next aspect of my preference the family dinner is family conversation Dinner time is the time to talk During whole day the parents and the children do not see each other because of work and school homework TV etc The dinner is the place and time to talk to ask how they doing to learn something and that important to teach children For example if you with family in big and fancy restaurant you not able to teach your children manners how to behave It is take lots of time to teach children\n",
      "The last point is traditions Neither in my family nor in my husband family is not traditional to eat in the restaurants\n",
      "In conclusion I would like to headlight that traditional family dinner is very important for me\n"
     ]
    }
   ],
   "source": [
    "text=stu_ans_crs.at[0,'text']\n",
    "textn=text.translate(str.maketrans('','',string.punctuation))\n",
    "print(textn)"
   ]
  },
  {
   "cell_type": "code",
   "execution_count": 17,
   "metadata": {
    "scrolled": true
   },
   "outputs": [
    {
     "data": {
      "text/html": [
       "<div>\n",
       "<style scoped>\n",
       "    .dataframe tbody tr th:only-of-type {\n",
       "        vertical-align: middle;\n",
       "    }\n",
       "\n",
       "    .dataframe tbody tr th {\n",
       "        vertical-align: top;\n",
       "    }\n",
       "\n",
       "    .dataframe thead th {\n",
       "        text-align: right;\n",
       "    }\n",
       "</style>\n",
       "<table border=\"1\" class=\"dataframe\">\n",
       "  <thead>\n",
       "    <tr style=\"text-align: right;\">\n",
       "      <th></th>\n",
       "      <th>anon_id</th>\n",
       "      <th>native_language</th>\n",
       "      <th>answer_id</th>\n",
       "      <th>text_len</th>\n",
       "      <th>text</th>\n",
       "      <th>level_id</th>\n",
       "      <th>processed_text</th>\n",
       "      <th>wordtype_len</th>\n",
       "    </tr>\n",
       "  </thead>\n",
       "  <tbody>\n",
       "    <tr>\n",
       "      <th>0</th>\n",
       "      <td>do6</td>\n",
       "      <td>Russian</td>\n",
       "      <td>150</td>\n",
       "      <td>299</td>\n",
       "      <td>Some people prefer eat out and some like doing...</td>\n",
       "      <td>5</td>\n",
       "      <td>some people prefer eat out and some like doing...</td>\n",
       "      <td>125</td>\n",
       "    </tr>\n",
       "    <tr>\n",
       "      <th>1</th>\n",
       "      <td>do6</td>\n",
       "      <td>Russian</td>\n",
       "      <td>1221</td>\n",
       "      <td>288</td>\n",
       "      <td>My opinion is that a person does need educatio...</td>\n",
       "      <td>5</td>\n",
       "      <td>my opinion is that a person does need educatio...</td>\n",
       "      <td>112</td>\n",
       "    </tr>\n",
       "    <tr>\n",
       "      <th>2</th>\n",
       "      <td>do6</td>\n",
       "      <td>Russian</td>\n",
       "      <td>1957</td>\n",
       "      <td>317</td>\n",
       "      <td>There are two national rooms in the Cathedral ...</td>\n",
       "      <td>5</td>\n",
       "      <td>there are two national rooms in the cathedral ...</td>\n",
       "      <td>149</td>\n",
       "    </tr>\n",
       "    <tr>\n",
       "      <th>3</th>\n",
       "      <td>do6</td>\n",
       "      <td>Russian</td>\n",
       "      <td>2164</td>\n",
       "      <td>459</td>\n",
       "      <td>There are two nation rooms in the Cathedral of...</td>\n",
       "      <td>5</td>\n",
       "      <td>there are two nation rooms in the cathedral of...</td>\n",
       "      <td>187</td>\n",
       "    </tr>\n",
       "    <tr>\n",
       "      <th>4</th>\n",
       "      <td>bv5</td>\n",
       "      <td>Arabic</td>\n",
       "      <td>151</td>\n",
       "      <td>311</td>\n",
       "      <td>\"Not all learning takes place in the classroom...</td>\n",
       "      <td>5</td>\n",
       "      <td>not all learning takes place in the classroom ...</td>\n",
       "      <td>136</td>\n",
       "    </tr>\n",
       "    <tr>\n",
       "      <th>...</th>\n",
       "      <td>...</td>\n",
       "      <td>...</td>\n",
       "      <td>...</td>\n",
       "      <td>...</td>\n",
       "      <td>...</td>\n",
       "      <td>...</td>\n",
       "      <td>...</td>\n",
       "      <td>...</td>\n",
       "    </tr>\n",
       "    <tr>\n",
       "      <th>46225</th>\n",
       "      <td>cy7</td>\n",
       "      <td>Korean</td>\n",
       "      <td>47682</td>\n",
       "      <td>20</td>\n",
       "      <td>1. emphasis\\n2. appropriate\\n3. requires\\n4. a...</td>\n",
       "      <td>3</td>\n",
       "      <td>1 emphasis 2 appropriate 3 requires 4 analyze ...</td>\n",
       "      <td>20</td>\n",
       "    </tr>\n",
       "    <tr>\n",
       "      <th>46226</th>\n",
       "      <td>fp7</td>\n",
       "      <td>Turkish</td>\n",
       "      <td>47823</td>\n",
       "      <td>10</td>\n",
       "      <td>1.emphasis \\n2.appropriate\\n3.requires\\n4.anal...</td>\n",
       "      <td>3</td>\n",
       "      <td>1emphasis  2appropriate 3requires 4analyze 5au...</td>\n",
       "      <td>9</td>\n",
       "    </tr>\n",
       "    <tr>\n",
       "      <th>46227</th>\n",
       "      <td>fq6</td>\n",
       "      <td>Chinese</td>\n",
       "      <td>47824</td>\n",
       "      <td>10</td>\n",
       "      <td>1.emphasis\\n2.appropriate\\n3.requires\\n4.analy...</td>\n",
       "      <td>3</td>\n",
       "      <td>1emphasis 2appropriate 3requires 4analyze 5aut...</td>\n",
       "      <td>10</td>\n",
       "    </tr>\n",
       "    <tr>\n",
       "      <th>46228</th>\n",
       "      <td>di6</td>\n",
       "      <td>Chinese</td>\n",
       "      <td>47787</td>\n",
       "      <td>20</td>\n",
       "      <td>1 emphasis\\n2 normal\\n3 requires\\n4 analyze\\n5...</td>\n",
       "      <td>3</td>\n",
       "      <td>1 emphasis 2 normal 3 requires 4 analyze 5 aut...</td>\n",
       "      <td>20</td>\n",
       "    </tr>\n",
       "    <tr>\n",
       "      <th>46229</th>\n",
       "      <td>fm3</td>\n",
       "      <td>Arabic</td>\n",
       "      <td>47725</td>\n",
       "      <td>20</td>\n",
       "      <td>1- emphasis\\n2- appropriate\\n3- requires\\n4- a...</td>\n",
       "      <td>3</td>\n",
       "      <td>1 emphasis 2 appropriate 3 requires 4 analyze ...</td>\n",
       "      <td>20</td>\n",
       "    </tr>\n",
       "  </tbody>\n",
       "</table>\n",
       "<p>46230 rows × 8 columns</p>\n",
       "</div>"
      ],
      "text/plain": [
       "      anon_id native_language answer_id text_len  \\\n",
       "0         do6         Russian       150      299   \n",
       "1         do6         Russian      1221      288   \n",
       "2         do6         Russian      1957      317   \n",
       "3         do6         Russian      2164      459   \n",
       "4         bv5          Arabic       151      311   \n",
       "...       ...             ...       ...      ...   \n",
       "46225     cy7          Korean     47682       20   \n",
       "46226     fp7         Turkish     47823       10   \n",
       "46227     fq6         Chinese     47824       10   \n",
       "46228     di6         Chinese     47787       20   \n",
       "46229     fm3          Arabic     47725       20   \n",
       "\n",
       "                                                    text  level_id  \\\n",
       "0      Some people prefer eat out and some like doing...         5   \n",
       "1      My opinion is that a person does need educatio...         5   \n",
       "2      There are two national rooms in the Cathedral ...         5   \n",
       "3      There are two nation rooms in the Cathedral of...         5   \n",
       "4      \"Not all learning takes place in the classroom...         5   \n",
       "...                                                  ...       ...   \n",
       "46225  1. emphasis\\n2. appropriate\\n3. requires\\n4. a...         3   \n",
       "46226  1.emphasis \\n2.appropriate\\n3.requires\\n4.anal...         3   \n",
       "46227  1.emphasis\\n2.appropriate\\n3.requires\\n4.analy...         3   \n",
       "46228  1 emphasis\\n2 normal\\n3 requires\\n4 analyze\\n5...         3   \n",
       "46229  1- emphasis\\n2- appropriate\\n3- requires\\n4- a...         3   \n",
       "\n",
       "                                          processed_text wordtype_len  \n",
       "0      some people prefer eat out and some like doing...          125  \n",
       "1      my opinion is that a person does need educatio...          112  \n",
       "2      there are two national rooms in the cathedral ...          149  \n",
       "3      there are two nation rooms in the cathedral of...          187  \n",
       "4      not all learning takes place in the classroom ...          136  \n",
       "...                                                  ...          ...  \n",
       "46225  1 emphasis 2 appropriate 3 requires 4 analyze ...           20  \n",
       "46226  1emphasis  2appropriate 3requires 4analyze 5au...            9  \n",
       "46227  1emphasis 2appropriate 3requires 4analyze 5aut...           10  \n",
       "46228  1 emphasis 2 normal 3 requires 4 analyze 5 aut...           20  \n",
       "46229  1 emphasis 2 appropriate 3 requires 4 analyze ...           20  \n",
       "\n",
       "[46230 rows x 8 columns]"
      ]
     },
     "execution_count": 17,
     "metadata": {},
     "output_type": "execute_result"
    }
   ],
   "source": [
    "stu_ans_crs"
   ]
  },
  {
   "cell_type": "code",
   "execution_count": 18,
   "metadata": {},
   "outputs": [],
   "source": [
    "#dropping all rows where the answer is less than 60 words\n",
    "index=0\n",
    "ind_list=[]\n",
    "for i in stu_ans_crs.text_len:\n",
    "    txtlen=int(i)\n",
    "    if txtlen < 60:\n",
    "        ind_list.append(index)\n",
    "    index+=1\n",
    "\n",
    "stu_ans_crs=stu_ans_crs.drop(labels=ind_list,axis=0).reset_index()"
   ]
  },
  {
   "cell_type": "code",
   "execution_count": 19,
   "metadata": {
    "scrolled": true
   },
   "outputs": [
    {
     "data": {
      "text/html": [
       "<div>\n",
       "<style scoped>\n",
       "    .dataframe tbody tr th:only-of-type {\n",
       "        vertical-align: middle;\n",
       "    }\n",
       "\n",
       "    .dataframe tbody tr th {\n",
       "        vertical-align: top;\n",
       "    }\n",
       "\n",
       "    .dataframe thead th {\n",
       "        text-align: right;\n",
       "    }\n",
       "</style>\n",
       "<table border=\"1\" class=\"dataframe\">\n",
       "  <thead>\n",
       "    <tr style=\"text-align: right;\">\n",
       "      <th></th>\n",
       "      <th>index</th>\n",
       "      <th>anon_id</th>\n",
       "      <th>native_language</th>\n",
       "      <th>answer_id</th>\n",
       "      <th>text_len</th>\n",
       "      <th>text</th>\n",
       "      <th>level_id</th>\n",
       "      <th>processed_text</th>\n",
       "      <th>wordtype_len</th>\n",
       "    </tr>\n",
       "  </thead>\n",
       "  <tbody>\n",
       "    <tr>\n",
       "      <th>0</th>\n",
       "      <td>0</td>\n",
       "      <td>do6</td>\n",
       "      <td>Russian</td>\n",
       "      <td>150</td>\n",
       "      <td>299</td>\n",
       "      <td>Some people prefer eat out and some like doing...</td>\n",
       "      <td>5</td>\n",
       "      <td>some people prefer eat out and some like doing...</td>\n",
       "      <td>125</td>\n",
       "    </tr>\n",
       "    <tr>\n",
       "      <th>1</th>\n",
       "      <td>1</td>\n",
       "      <td>do6</td>\n",
       "      <td>Russian</td>\n",
       "      <td>1221</td>\n",
       "      <td>288</td>\n",
       "      <td>My opinion is that a person does need educatio...</td>\n",
       "      <td>5</td>\n",
       "      <td>my opinion is that a person does need educatio...</td>\n",
       "      <td>112</td>\n",
       "    </tr>\n",
       "    <tr>\n",
       "      <th>2</th>\n",
       "      <td>2</td>\n",
       "      <td>do6</td>\n",
       "      <td>Russian</td>\n",
       "      <td>1957</td>\n",
       "      <td>317</td>\n",
       "      <td>There are two national rooms in the Cathedral ...</td>\n",
       "      <td>5</td>\n",
       "      <td>there are two national rooms in the cathedral ...</td>\n",
       "      <td>149</td>\n",
       "    </tr>\n",
       "    <tr>\n",
       "      <th>3</th>\n",
       "      <td>3</td>\n",
       "      <td>do6</td>\n",
       "      <td>Russian</td>\n",
       "      <td>2164</td>\n",
       "      <td>459</td>\n",
       "      <td>There are two nation rooms in the Cathedral of...</td>\n",
       "      <td>5</td>\n",
       "      <td>there are two nation rooms in the cathedral of...</td>\n",
       "      <td>187</td>\n",
       "    </tr>\n",
       "    <tr>\n",
       "      <th>4</th>\n",
       "      <td>4</td>\n",
       "      <td>bv5</td>\n",
       "      <td>Arabic</td>\n",
       "      <td>151</td>\n",
       "      <td>311</td>\n",
       "      <td>\"Not all learning takes place in the classroom...</td>\n",
       "      <td>5</td>\n",
       "      <td>not all learning takes place in the classroom ...</td>\n",
       "      <td>136</td>\n",
       "    </tr>\n",
       "    <tr>\n",
       "      <th>...</th>\n",
       "      <td>...</td>\n",
       "      <td>...</td>\n",
       "      <td>...</td>\n",
       "      <td>...</td>\n",
       "      <td>...</td>\n",
       "      <td>...</td>\n",
       "      <td>...</td>\n",
       "      <td>...</td>\n",
       "      <td>...</td>\n",
       "    </tr>\n",
       "    <tr>\n",
       "      <th>17144</th>\n",
       "      <td>46214</td>\n",
       "      <td>bh8</td>\n",
       "      <td>Japanese</td>\n",
       "      <td>48034</td>\n",
       "      <td>107</td>\n",
       "      <td>I received my Medical Doctor license in Japan ...</td>\n",
       "      <td>3</td>\n",
       "      <td>i received my medical doctor license in japan ...</td>\n",
       "      <td>54</td>\n",
       "    </tr>\n",
       "    <tr>\n",
       "      <th>17145</th>\n",
       "      <td>46215</td>\n",
       "      <td>bh8</td>\n",
       "      <td>Japanese</td>\n",
       "      <td>48293</td>\n",
       "      <td>138</td>\n",
       "      <td>I introduce my ideal home to you quickly. This...</td>\n",
       "      <td>3</td>\n",
       "      <td>i introduce my ideal home to you quickly this ...</td>\n",
       "      <td>88</td>\n",
       "    </tr>\n",
       "    <tr>\n",
       "      <th>17146</th>\n",
       "      <td>46217</td>\n",
       "      <td>cz3</td>\n",
       "      <td>Korean</td>\n",
       "      <td>47451</td>\n",
       "      <td>102</td>\n",
       "      <td>I will put 5 items in time capsule such as som...</td>\n",
       "      <td>3</td>\n",
       "      <td>i will put 5 items in time capsule such as som...</td>\n",
       "      <td>67</td>\n",
       "    </tr>\n",
       "    <tr>\n",
       "      <th>17147</th>\n",
       "      <td>46218</td>\n",
       "      <td>cz3</td>\n",
       "      <td>Korean</td>\n",
       "      <td>48001</td>\n",
       "      <td>104</td>\n",
       "      <td>I have studied Visual Design since 2002. I gra...</td>\n",
       "      <td>3</td>\n",
       "      <td>i have studied visual design since 2002 i grad...</td>\n",
       "      <td>57</td>\n",
       "    </tr>\n",
       "    <tr>\n",
       "      <th>17148</th>\n",
       "      <td>46219</td>\n",
       "      <td>cz3</td>\n",
       "      <td>Korean</td>\n",
       "      <td>48316</td>\n",
       "      <td>70</td>\n",
       "      <td>I will describe about my ideal home. I want qu...</td>\n",
       "      <td>3</td>\n",
       "      <td>i will describe about my ideal home i want qui...</td>\n",
       "      <td>51</td>\n",
       "    </tr>\n",
       "  </tbody>\n",
       "</table>\n",
       "<p>17149 rows × 9 columns</p>\n",
       "</div>"
      ],
      "text/plain": [
       "       index anon_id native_language answer_id text_len  \\\n",
       "0          0     do6         Russian       150      299   \n",
       "1          1     do6         Russian      1221      288   \n",
       "2          2     do6         Russian      1957      317   \n",
       "3          3     do6         Russian      2164      459   \n",
       "4          4     bv5          Arabic       151      311   \n",
       "...      ...     ...             ...       ...      ...   \n",
       "17144  46214     bh8        Japanese     48034      107   \n",
       "17145  46215     bh8        Japanese     48293      138   \n",
       "17146  46217     cz3          Korean     47451      102   \n",
       "17147  46218     cz3          Korean     48001      104   \n",
       "17148  46219     cz3          Korean     48316       70   \n",
       "\n",
       "                                                    text  level_id  \\\n",
       "0      Some people prefer eat out and some like doing...         5   \n",
       "1      My opinion is that a person does need educatio...         5   \n",
       "2      There are two national rooms in the Cathedral ...         5   \n",
       "3      There are two nation rooms in the Cathedral of...         5   \n",
       "4      \"Not all learning takes place in the classroom...         5   \n",
       "...                                                  ...       ...   \n",
       "17144  I received my Medical Doctor license in Japan ...         3   \n",
       "17145  I introduce my ideal home to you quickly. This...         3   \n",
       "17146  I will put 5 items in time capsule such as som...         3   \n",
       "17147  I have studied Visual Design since 2002. I gra...         3   \n",
       "17148  I will describe about my ideal home. I want qu...         3   \n",
       "\n",
       "                                          processed_text wordtype_len  \n",
       "0      some people prefer eat out and some like doing...          125  \n",
       "1      my opinion is that a person does need educatio...          112  \n",
       "2      there are two national rooms in the cathedral ...          149  \n",
       "3      there are two nation rooms in the cathedral of...          187  \n",
       "4      not all learning takes place in the classroom ...          136  \n",
       "...                                                  ...          ...  \n",
       "17144  i received my medical doctor license in japan ...           54  \n",
       "17145  i introduce my ideal home to you quickly this ...           88  \n",
       "17146  i will put 5 items in time capsule such as som...           67  \n",
       "17147  i have studied visual design since 2002 i grad...           57  \n",
       "17148  i will describe about my ideal home i want qui...           51  \n",
       "\n",
       "[17149 rows x 9 columns]"
      ]
     },
     "execution_count": 19,
     "metadata": {},
     "output_type": "execute_result"
    }
   ],
   "source": [
    "stu_ans_crs"
   ]
  },
  {
   "cell_type": "markdown",
   "metadata": {},
   "source": [
    "# Cleaning Loose Dataset"
   ]
  },
  {
   "cell_type": "code",
   "execution_count": 20,
   "metadata": {},
   "outputs": [],
   "source": [
    "dropped_loose=loose.drop(columns=['3Langs','Item','answer_id','gender','course_id','class_id','question_id','version','text1_len',\n",
    "                                     'text2_len','text1','text2 (line breaks/extra spaces removed, spaces added to reach 60)',\n",
    "                                     'Judgement','Notes'])\n",
    "drop_loose=dropped_loose.dropna()\n",
    "\n",
    "sorted_loose=drop_loose.sort_values(by=['anon_id']).reset_index(drop=True)"
   ]
  },
  {
   "cell_type": "code",
   "execution_count": 21,
   "metadata": {},
   "outputs": [
    {
     "data": {
      "text/html": [
       "<div>\n",
       "<style scoped>\n",
       "    .dataframe tbody tr th:only-of-type {\n",
       "        vertical-align: middle;\n",
       "    }\n",
       "\n",
       "    .dataframe tbody tr th {\n",
       "        vertical-align: top;\n",
       "    }\n",
       "\n",
       "    .dataframe thead th {\n",
       "        text-align: right;\n",
       "    }\n",
       "</style>\n",
       "<table border=\"1\" class=\"dataframe\">\n",
       "  <thead>\n",
       "    <tr style=\"text-align: right;\">\n",
       "      <th></th>\n",
       "      <th>anon_id</th>\n",
       "      <th>L1</th>\n",
       "      <th>level_id</th>\n",
       "      <th>text3_len</th>\n",
       "      <th>text3 (edits made to fix word counts)</th>\n",
       "    </tr>\n",
       "  </thead>\n",
       "  <tbody>\n",
       "    <tr>\n",
       "      <th>0</th>\n",
       "      <td>aa0</td>\n",
       "      <td>Spanish</td>\n",
       "      <td>5.0</td>\n",
       "      <td>109.0</td>\n",
       "      <td>Barber, chef by profession, but an expert on a...</td>\n",
       "    </tr>\n",
       "    <tr>\n",
       "      <th>1</th>\n",
       "      <td>aa0</td>\n",
       "      <td>Spanish</td>\n",
       "      <td>5.0</td>\n",
       "      <td>190.0</td>\n",
       "      <td>The article \"English as Co star\" support the f...</td>\n",
       "    </tr>\n",
       "    <tr>\n",
       "      <th>2</th>\n",
       "      <td>aa0</td>\n",
       "      <td>Spanish</td>\n",
       "      <td>5.0</td>\n",
       "      <td>193.0</td>\n",
       "      <td>In this article the authors Goleman, Kaufman a...</td>\n",
       "    </tr>\n",
       "    <tr>\n",
       "      <th>3</th>\n",
       "      <td>aa0</td>\n",
       "      <td>Spanish</td>\n",
       "      <td>5.0</td>\n",
       "      <td>170.0</td>\n",
       "      <td>Flow in the sense expressed in the text \"The C...</td>\n",
       "    </tr>\n",
       "    <tr>\n",
       "      <th>4</th>\n",
       "      <td>aa0</td>\n",
       "      <td>Spanish</td>\n",
       "      <td>5.0</td>\n",
       "      <td>85.0</td>\n",
       "      <td>Bill Gates, in this conference, explained two ...</td>\n",
       "    </tr>\n",
       "    <tr>\n",
       "      <th>...</th>\n",
       "      <td>...</td>\n",
       "      <td>...</td>\n",
       "      <td>...</td>\n",
       "      <td>...</td>\n",
       "      <td>...</td>\n",
       "    </tr>\n",
       "    <tr>\n",
       "      <th>1805</th>\n",
       "      <td>ha2</td>\n",
       "      <td>Korean</td>\n",
       "      <td>5.0</td>\n",
       "      <td>217.0</td>\n",
       "      <td>Pittsburgh had a big snowstorm recently. A lot...</td>\n",
       "    </tr>\n",
       "    <tr>\n",
       "      <th>1806</th>\n",
       "      <td>ha2</td>\n",
       "      <td>Korean</td>\n",
       "      <td>5.0</td>\n",
       "      <td>170.0</td>\n",
       "      <td>Korea, which is connected to China, belongs to...</td>\n",
       "    </tr>\n",
       "    <tr>\n",
       "      <th>1807</th>\n",
       "      <td>ha2</td>\n",
       "      <td>Korean</td>\n",
       "      <td>5.0</td>\n",
       "      <td>195.0</td>\n",
       "      <td>Koko is a big female gorilla who was born in S...</td>\n",
       "    </tr>\n",
       "    <tr>\n",
       "      <th>1808</th>\n",
       "      <td>ha2</td>\n",
       "      <td>Korean</td>\n",
       "      <td>4.0</td>\n",
       "      <td>283.0</td>\n",
       "      <td>A natural disaster is the effect of the natura...</td>\n",
       "    </tr>\n",
       "    <tr>\n",
       "      <th>1809</th>\n",
       "      <td>ha2</td>\n",
       "      <td>Korean</td>\n",
       "      <td>5.0</td>\n",
       "      <td>168.0</td>\n",
       "      <td>I think human language and nonhuman primate la...</td>\n",
       "    </tr>\n",
       "  </tbody>\n",
       "</table>\n",
       "<p>1810 rows × 5 columns</p>\n",
       "</div>"
      ],
      "text/plain": [
       "     anon_id       L1  level_id  text3_len  \\\n",
       "0        aa0  Spanish       5.0      109.0   \n",
       "1        aa0  Spanish       5.0      190.0   \n",
       "2        aa0  Spanish       5.0      193.0   \n",
       "3        aa0  Spanish       5.0      170.0   \n",
       "4        aa0  Spanish       5.0       85.0   \n",
       "...      ...      ...       ...        ...   \n",
       "1805     ha2   Korean       5.0      217.0   \n",
       "1806     ha2   Korean       5.0      170.0   \n",
       "1807     ha2   Korean       5.0      195.0   \n",
       "1808     ha2   Korean       4.0      283.0   \n",
       "1809     ha2   Korean       5.0      168.0   \n",
       "\n",
       "                  text3 (edits made to fix word counts)  \n",
       "0     Barber, chef by profession, but an expert on a...  \n",
       "1     The article \"English as Co star\" support the f...  \n",
       "2     In this article the authors Goleman, Kaufman a...  \n",
       "3     Flow in the sense expressed in the text \"The C...  \n",
       "4     Bill Gates, in this conference, explained two ...  \n",
       "...                                                 ...  \n",
       "1805  Pittsburgh had a big snowstorm recently. A lot...  \n",
       "1806  Korea, which is connected to China, belongs to...  \n",
       "1807  Koko is a big female gorilla who was born in S...  \n",
       "1808  A natural disaster is the effect of the natura...  \n",
       "1809  I think human language and nonhuman primate la...  \n",
       "\n",
       "[1810 rows x 5 columns]"
      ]
     },
     "execution_count": 21,
     "metadata": {},
     "output_type": "execute_result"
    }
   ],
   "source": [
    "sorted_loose"
   ]
  },
  {
   "cell_type": "code",
   "execution_count": 22,
   "metadata": {},
   "outputs": [],
   "source": [
    "index=0\n",
    "textcount_loose=sorted_loose.copy()\n",
    "\n",
    "textcount_loose['processed_text']=pd.NaT\n",
    "textcount_loose['wordtype_len']=pd.NaT\n",
    "words=[]\n",
    "for text in textcount_loose['text3 (edits made to fix word counts)']:\n",
    "    uwords=[]\n",
    "    text=text.replace('\\n',' ')\n",
    "    nopunc=text.translate(str.maketrans('','',string.punctuation))\n",
    "    nopunc=nopunc.lower()\n",
    "    textcount_loose.at[index,'processed_text']=nopunc\n",
    "    words=nopunc.strip().split(\" \")\n",
    "    for word in words:\n",
    "        if word=='':\n",
    "            words.remove(word)\n",
    "        elif word not in uwords:\n",
    "            uwords.append(word)\n",
    "    textcount_loose.at[index,'text3_len']=len(words)\n",
    "    textcount_loose.at[index,'wordtype_len']=len(uwords)\n",
    "    index+=1"
   ]
  },
  {
   "cell_type": "code",
   "execution_count": 23,
   "metadata": {},
   "outputs": [
    {
     "data": {
      "text/html": [
       "<div>\n",
       "<style scoped>\n",
       "    .dataframe tbody tr th:only-of-type {\n",
       "        vertical-align: middle;\n",
       "    }\n",
       "\n",
       "    .dataframe tbody tr th {\n",
       "        vertical-align: top;\n",
       "    }\n",
       "\n",
       "    .dataframe thead th {\n",
       "        text-align: right;\n",
       "    }\n",
       "</style>\n",
       "<table border=\"1\" class=\"dataframe\">\n",
       "  <thead>\n",
       "    <tr style=\"text-align: right;\">\n",
       "      <th></th>\n",
       "      <th>anon_id</th>\n",
       "      <th>L1</th>\n",
       "      <th>level_id</th>\n",
       "      <th>text3_len</th>\n",
       "      <th>text3 (edits made to fix word counts)</th>\n",
       "      <th>processed_text</th>\n",
       "      <th>wordtype_len</th>\n",
       "    </tr>\n",
       "  </thead>\n",
       "  <tbody>\n",
       "    <tr>\n",
       "      <th>0</th>\n",
       "      <td>aa0</td>\n",
       "      <td>Spanish</td>\n",
       "      <td>5.0</td>\n",
       "      <td>109.0</td>\n",
       "      <td>Barber, chef by profession, but an expert on a...</td>\n",
       "      <td>barber chef by profession but an expert on agr...</td>\n",
       "      <td>79</td>\n",
       "    </tr>\n",
       "    <tr>\n",
       "      <th>1</th>\n",
       "      <td>aa0</td>\n",
       "      <td>Spanish</td>\n",
       "      <td>5.0</td>\n",
       "      <td>190.0</td>\n",
       "      <td>The article \"English as Co star\" support the f...</td>\n",
       "      <td>the article english as co star support the fac...</td>\n",
       "      <td>117</td>\n",
       "    </tr>\n",
       "    <tr>\n",
       "      <th>2</th>\n",
       "      <td>aa0</td>\n",
       "      <td>Spanish</td>\n",
       "      <td>5.0</td>\n",
       "      <td>193.0</td>\n",
       "      <td>In this article the authors Goleman, Kaufman a...</td>\n",
       "      <td>in this article the authors goleman kaufman an...</td>\n",
       "      <td>122</td>\n",
       "    </tr>\n",
       "    <tr>\n",
       "      <th>3</th>\n",
       "      <td>aa0</td>\n",
       "      <td>Spanish</td>\n",
       "      <td>5.0</td>\n",
       "      <td>170.0</td>\n",
       "      <td>Flow in the sense expressed in the text \"The C...</td>\n",
       "      <td>flow in the sense expressed in the text the cr...</td>\n",
       "      <td>103</td>\n",
       "    </tr>\n",
       "    <tr>\n",
       "      <th>4</th>\n",
       "      <td>aa0</td>\n",
       "      <td>Spanish</td>\n",
       "      <td>5.0</td>\n",
       "      <td>85.0</td>\n",
       "      <td>Bill Gates, in this conference, explained two ...</td>\n",
       "      <td>bill gates in this conference explained two bi...</td>\n",
       "      <td>66</td>\n",
       "    </tr>\n",
       "    <tr>\n",
       "      <th>...</th>\n",
       "      <td>...</td>\n",
       "      <td>...</td>\n",
       "      <td>...</td>\n",
       "      <td>...</td>\n",
       "      <td>...</td>\n",
       "      <td>...</td>\n",
       "      <td>...</td>\n",
       "    </tr>\n",
       "    <tr>\n",
       "      <th>1805</th>\n",
       "      <td>ha2</td>\n",
       "      <td>Korean</td>\n",
       "      <td>5.0</td>\n",
       "      <td>217.0</td>\n",
       "      <td>Pittsburgh had a big snowstorm recently. A lot...</td>\n",
       "      <td>pittsburgh had a big snowstorm recently a lot ...</td>\n",
       "      <td>129</td>\n",
       "    </tr>\n",
       "    <tr>\n",
       "      <th>1806</th>\n",
       "      <td>ha2</td>\n",
       "      <td>Korean</td>\n",
       "      <td>5.0</td>\n",
       "      <td>170.0</td>\n",
       "      <td>Korea, which is connected to China, belongs to...</td>\n",
       "      <td>korea which is connected to china belongs to t...</td>\n",
       "      <td>101</td>\n",
       "    </tr>\n",
       "    <tr>\n",
       "      <th>1807</th>\n",
       "      <td>ha2</td>\n",
       "      <td>Korean</td>\n",
       "      <td>5.0</td>\n",
       "      <td>195.0</td>\n",
       "      <td>Koko is a big female gorilla who was born in S...</td>\n",
       "      <td>koko is a big female gorilla who was born in s...</td>\n",
       "      <td>115</td>\n",
       "    </tr>\n",
       "    <tr>\n",
       "      <th>1808</th>\n",
       "      <td>ha2</td>\n",
       "      <td>Korean</td>\n",
       "      <td>4.0</td>\n",
       "      <td>283.0</td>\n",
       "      <td>A natural disaster is the effect of the natura...</td>\n",
       "      <td>a natural disaster is the effect of the natura...</td>\n",
       "      <td>135</td>\n",
       "    </tr>\n",
       "    <tr>\n",
       "      <th>1809</th>\n",
       "      <td>ha2</td>\n",
       "      <td>Korean</td>\n",
       "      <td>5.0</td>\n",
       "      <td>168.0</td>\n",
       "      <td>I think human language and nonhuman primate la...</td>\n",
       "      <td>i think human language and nonhuman primate la...</td>\n",
       "      <td>100</td>\n",
       "    </tr>\n",
       "  </tbody>\n",
       "</table>\n",
       "<p>1810 rows × 7 columns</p>\n",
       "</div>"
      ],
      "text/plain": [
       "     anon_id       L1  level_id  text3_len  \\\n",
       "0        aa0  Spanish       5.0      109.0   \n",
       "1        aa0  Spanish       5.0      190.0   \n",
       "2        aa0  Spanish       5.0      193.0   \n",
       "3        aa0  Spanish       5.0      170.0   \n",
       "4        aa0  Spanish       5.0       85.0   \n",
       "...      ...      ...       ...        ...   \n",
       "1805     ha2   Korean       5.0      217.0   \n",
       "1806     ha2   Korean       5.0      170.0   \n",
       "1807     ha2   Korean       5.0      195.0   \n",
       "1808     ha2   Korean       4.0      283.0   \n",
       "1809     ha2   Korean       5.0      168.0   \n",
       "\n",
       "                  text3 (edits made to fix word counts)  \\\n",
       "0     Barber, chef by profession, but an expert on a...   \n",
       "1     The article \"English as Co star\" support the f...   \n",
       "2     In this article the authors Goleman, Kaufman a...   \n",
       "3     Flow in the sense expressed in the text \"The C...   \n",
       "4     Bill Gates, in this conference, explained two ...   \n",
       "...                                                 ...   \n",
       "1805  Pittsburgh had a big snowstorm recently. A lot...   \n",
       "1806  Korea, which is connected to China, belongs to...   \n",
       "1807  Koko is a big female gorilla who was born in S...   \n",
       "1808  A natural disaster is the effect of the natura...   \n",
       "1809  I think human language and nonhuman primate la...   \n",
       "\n",
       "                                         processed_text wordtype_len  \n",
       "0     barber chef by profession but an expert on agr...           79  \n",
       "1     the article english as co star support the fac...          117  \n",
       "2     in this article the authors goleman kaufman an...          122  \n",
       "3     flow in the sense expressed in the text the cr...          103  \n",
       "4     bill gates in this conference explained two bi...           66  \n",
       "...                                                 ...          ...  \n",
       "1805  pittsburgh had a big snowstorm recently a lot ...          129  \n",
       "1806  korea which is connected to china belongs to t...          101  \n",
       "1807  koko is a big female gorilla who was born in s...          115  \n",
       "1808  a natural disaster is the effect of the natura...          135  \n",
       "1809  i think human language and nonhuman primate la...          100  \n",
       "\n",
       "[1810 rows x 7 columns]"
      ]
     },
     "execution_count": 23,
     "metadata": {},
     "output_type": "execute_result"
    }
   ],
   "source": [
    "textcount_loose"
   ]
  },
  {
   "cell_type": "markdown",
   "metadata": {},
   "source": [
    "# Getting Ids of participants in all three of Whole Dataset"
   ]
  },
  {
   "cell_type": "code",
   "execution_count": 24,
   "metadata": {},
   "outputs": [],
   "source": [
    "sac_lvls=stu_ans_crs[['anon_id','native_language','level_id']]\n",
    "sac_lvls_rkc=sac_lvls\n",
    "\n",
    "index=0\n",
    "for i in sac_lvls_rkc.native_language:\n",
    "    if (i != 'Korean' and i != 'Spanish' and i != 'Chinese'):\n",
    "        sac_lvls_rkc=sac_lvls_rkc.drop(index)\n",
    "    index+=1"
   ]
  },
  {
   "cell_type": "code",
   "execution_count": 25,
   "metadata": {},
   "outputs": [
    {
     "data": {
      "text/html": [
       "<div>\n",
       "<style scoped>\n",
       "    .dataframe tbody tr th:only-of-type {\n",
       "        vertical-align: middle;\n",
       "    }\n",
       "\n",
       "    .dataframe tbody tr th {\n",
       "        vertical-align: top;\n",
       "    }\n",
       "\n",
       "    .dataframe thead th {\n",
       "        text-align: right;\n",
       "    }\n",
       "</style>\n",
       "<table border=\"1\" class=\"dataframe\">\n",
       "  <thead>\n",
       "    <tr style=\"text-align: right;\">\n",
       "      <th></th>\n",
       "      <th>anon_id</th>\n",
       "      <th>native_language</th>\n",
       "      <th>level_id</th>\n",
       "    </tr>\n",
       "  </thead>\n",
       "  <tbody>\n",
       "    <tr>\n",
       "      <th>13</th>\n",
       "      <td>ax4</td>\n",
       "      <td>Chinese</td>\n",
       "      <td>5</td>\n",
       "    </tr>\n",
       "    <tr>\n",
       "      <th>14</th>\n",
       "      <td>ax4</td>\n",
       "      <td>Chinese</td>\n",
       "      <td>5</td>\n",
       "    </tr>\n",
       "    <tr>\n",
       "      <th>15</th>\n",
       "      <td>ax4</td>\n",
       "      <td>Chinese</td>\n",
       "      <td>5</td>\n",
       "    </tr>\n",
       "    <tr>\n",
       "      <th>16</th>\n",
       "      <td>ax4</td>\n",
       "      <td>Chinese</td>\n",
       "      <td>5</td>\n",
       "    </tr>\n",
       "    <tr>\n",
       "      <th>17</th>\n",
       "      <td>ax4</td>\n",
       "      <td>Chinese</td>\n",
       "      <td>5</td>\n",
       "    </tr>\n",
       "    <tr>\n",
       "      <th>...</th>\n",
       "      <td>...</td>\n",
       "      <td>...</td>\n",
       "      <td>...</td>\n",
       "    </tr>\n",
       "    <tr>\n",
       "      <th>17135</th>\n",
       "      <td>ew6</td>\n",
       "      <td>Chinese</td>\n",
       "      <td>3</td>\n",
       "    </tr>\n",
       "    <tr>\n",
       "      <th>17136</th>\n",
       "      <td>ew6</td>\n",
       "      <td>Chinese</td>\n",
       "      <td>3</td>\n",
       "    </tr>\n",
       "    <tr>\n",
       "      <th>17146</th>\n",
       "      <td>cz3</td>\n",
       "      <td>Korean</td>\n",
       "      <td>3</td>\n",
       "    </tr>\n",
       "    <tr>\n",
       "      <th>17147</th>\n",
       "      <td>cz3</td>\n",
       "      <td>Korean</td>\n",
       "      <td>3</td>\n",
       "    </tr>\n",
       "    <tr>\n",
       "      <th>17148</th>\n",
       "      <td>cz3</td>\n",
       "      <td>Korean</td>\n",
       "      <td>3</td>\n",
       "    </tr>\n",
       "  </tbody>\n",
       "</table>\n",
       "<p>7580 rows × 3 columns</p>\n",
       "</div>"
      ],
      "text/plain": [
       "      anon_id native_language  level_id\n",
       "13        ax4         Chinese         5\n",
       "14        ax4         Chinese         5\n",
       "15        ax4         Chinese         5\n",
       "16        ax4         Chinese         5\n",
       "17        ax4         Chinese         5\n",
       "...       ...             ...       ...\n",
       "17135     ew6         Chinese         3\n",
       "17136     ew6         Chinese         3\n",
       "17146     cz3          Korean         3\n",
       "17147     cz3          Korean         3\n",
       "17148     cz3          Korean         3\n",
       "\n",
       "[7580 rows x 3 columns]"
      ]
     },
     "execution_count": 25,
     "metadata": {},
     "output_type": "execute_result"
    }
   ],
   "source": [
    "sac_lvls_rkc"
   ]
  },
  {
   "cell_type": "code",
   "execution_count": 26,
   "metadata": {},
   "outputs": [],
   "source": [
    "# allows us to see what levels each anon_id participated in \n",
    "lvl_list=sac_lvls_rkc.groupby('anon_id').agg(n_uniq=('level_id','nunique'), lvl_nums=('level_id',get_uniques))\n",
    "lvl_list=lvl_list.reset_index()"
   ]
  },
  {
   "cell_type": "code",
   "execution_count": 27,
   "metadata": {
    "scrolled": true
   },
   "outputs": [
    {
     "data": {
      "text/html": [
       "<div>\n",
       "<style scoped>\n",
       "    .dataframe tbody tr th:only-of-type {\n",
       "        vertical-align: middle;\n",
       "    }\n",
       "\n",
       "    .dataframe tbody tr th {\n",
       "        vertical-align: top;\n",
       "    }\n",
       "\n",
       "    .dataframe thead th {\n",
       "        text-align: right;\n",
       "    }\n",
       "</style>\n",
       "<table border=\"1\" class=\"dataframe\">\n",
       "  <thead>\n",
       "    <tr style=\"text-align: right;\">\n",
       "      <th></th>\n",
       "      <th>anon_id</th>\n",
       "      <th>n_uniq</th>\n",
       "      <th>lvl_nums</th>\n",
       "    </tr>\n",
       "  </thead>\n",
       "  <tbody>\n",
       "    <tr>\n",
       "      <th>0</th>\n",
       "      <td>aa0</td>\n",
       "      <td>1</td>\n",
       "      <td>[5]</td>\n",
       "    </tr>\n",
       "    <tr>\n",
       "      <th>1</th>\n",
       "      <td>aa1</td>\n",
       "      <td>1</td>\n",
       "      <td>[4]</td>\n",
       "    </tr>\n",
       "    <tr>\n",
       "      <th>2</th>\n",
       "      <td>aa3</td>\n",
       "      <td>1</td>\n",
       "      <td>[4]</td>\n",
       "    </tr>\n",
       "    <tr>\n",
       "      <th>3</th>\n",
       "      <td>aa8</td>\n",
       "      <td>2</td>\n",
       "      <td>[5, 4]</td>\n",
       "    </tr>\n",
       "    <tr>\n",
       "      <th>4</th>\n",
       "      <td>aa9</td>\n",
       "      <td>3</td>\n",
       "      <td>[3, 4, 2]</td>\n",
       "    </tr>\n",
       "    <tr>\n",
       "      <th>...</th>\n",
       "      <td>...</td>\n",
       "      <td>...</td>\n",
       "      <td>...</td>\n",
       "    </tr>\n",
       "    <tr>\n",
       "      <th>470</th>\n",
       "      <td>ha0</td>\n",
       "      <td>1</td>\n",
       "      <td>[5]</td>\n",
       "    </tr>\n",
       "    <tr>\n",
       "      <th>471</th>\n",
       "      <td>ha2</td>\n",
       "      <td>2</td>\n",
       "      <td>[5, 4]</td>\n",
       "    </tr>\n",
       "    <tr>\n",
       "      <th>472</th>\n",
       "      <td>ha6</td>\n",
       "      <td>2</td>\n",
       "      <td>[3, 4]</td>\n",
       "    </tr>\n",
       "    <tr>\n",
       "      <th>473</th>\n",
       "      <td>hb4</td>\n",
       "      <td>3</td>\n",
       "      <td>[5, 4, 3]</td>\n",
       "    </tr>\n",
       "    <tr>\n",
       "      <th>474</th>\n",
       "      <td>hc1</td>\n",
       "      <td>1</td>\n",
       "      <td>[5]</td>\n",
       "    </tr>\n",
       "  </tbody>\n",
       "</table>\n",
       "<p>475 rows × 3 columns</p>\n",
       "</div>"
      ],
      "text/plain": [
       "    anon_id  n_uniq   lvl_nums\n",
       "0       aa0       1        [5]\n",
       "1       aa1       1        [4]\n",
       "2       aa3       1        [4]\n",
       "3       aa8       2     [5, 4]\n",
       "4       aa9       3  [3, 4, 2]\n",
       "..      ...     ...        ...\n",
       "470     ha0       1        [5]\n",
       "471     ha2       2     [5, 4]\n",
       "472     ha6       2     [3, 4]\n",
       "473     hb4       3  [5, 4, 3]\n",
       "474     hc1       1        [5]\n",
       "\n",
       "[475 rows x 3 columns]"
      ]
     },
     "execution_count": 27,
     "metadata": {},
     "output_type": "execute_result"
    }
   ],
   "source": [
    "lvl_list"
   ]
  },
  {
   "cell_type": "code",
   "execution_count": 28,
   "metadata": {},
   "outputs": [
    {
     "data": {
      "text/plain": [
       "42"
      ]
     },
     "execution_count": 28,
     "metadata": {},
     "output_type": "execute_result"
    }
   ],
   "source": [
    "# will create a list of only the ids that have levels 3, 4, and 5 in their lvl_nums column\n",
    "all_three=[]\n",
    "ind=0\n",
    "for i in lvl_list.anon_id:\n",
    "    if ((3 in lvl_list.iat[ind,2]) and (4 in lvl_list.iat[ind,2]) and (5 in lvl_list.iat[ind,2])):\n",
    "        append=lvl_list.at[ind, 'anon_id']\n",
    "        all_three.append(append)\n",
    "    ind+=1\n",
    "\n",
    "all_three.sort()\n",
    "len(all_three)"
   ]
  },
  {
   "cell_type": "code",
   "execution_count": 29,
   "metadata": {},
   "outputs": [],
   "source": [
    "all_anon=[]\n",
    "for i in sac_lvls_rkc.anon_id:\n",
    "    all_anon.append(i)\n",
    "len(all_anon)\n",
    "all_anon.sort()\n",
    "\n",
    "sorted_sac=sac_lvls_rkc.sort_values(by=['anon_id']).reset_index(drop=True)"
   ]
  },
  {
   "cell_type": "code",
   "execution_count": 30,
   "metadata": {},
   "outputs": [
    {
     "name": "stdout",
     "output_type": "stream",
     "text": [
      "{'Korean': ['ag9', 'an5', 'as0', 'ay1', 'be7', 'bv9', 'bz5', 'cc4', 'cj8', 'co5', 'cv3', 'cw0', 'ea4', 'eq8', 'es9', 'fj7', 'fp5', 'fu6', 'gc2', 'gq8', 'gz2', 'hb4'], 'Chinese': ['aq1', 'ar8', 'bf7', 'bl4', 'bl7', 'bp4', 'bz2', 'cb3', 'cf9', 'cz4', 'dk6', 'ev9', 'fi1', 'fj4', 'gb4', 'gx5'], 'Spanish': ['bj2', 'cm9', 'fa2', 'fy1']}\n"
     ]
    }
   ],
   "source": [
    "lang_dict_all={}\n",
    "for i in all_three:\n",
    "    df_ind=binarySearchArr(all_anon,i)\n",
    "    key=sorted_sac.at[df_ind,'native_language']\n",
    "    val=sorted_sac.at[df_ind,'anon_id']\n",
    "    \n",
    "    if key in lang_dict_all:\n",
    "        lang_dict_all[key].append(val)\n",
    "    else:\n",
    "        lang_dict_all[key]=[val]\n",
    "    \n",
    "print(lang_dict_all)"
   ]
  },
  {
   "cell_type": "code",
   "execution_count": 31,
   "metadata": {},
   "outputs": [
    {
     "data": {
      "text/plain": [
       "111"
      ]
     },
     "execution_count": 31,
     "metadata": {},
     "output_type": "execute_result"
    }
   ],
   "source": [
    "# will create a list of only the ids that have levels 3 and 4 in their lvl_nums column\n",
    "lvls34=[]\n",
    "ind=0\n",
    "for i in lvl_list.anon_id:\n",
    "    if ((3 in lvl_list.iat[ind,2]) and (4 in lvl_list.iat[ind,2])):\n",
    "        append=lvl_list.at[ind, 'anon_id']\n",
    "        lvls34.append(append)\n",
    "    ind+=1\n",
    "\n",
    "lvls34.sort()\n",
    "len(lvls34)"
   ]
  },
  {
   "cell_type": "code",
   "execution_count": 32,
   "metadata": {},
   "outputs": [
    {
     "name": "stdout",
     "output_type": "stream",
     "text": [
      "{'Korean': ['aa9', 'af1', 'ag9', 'ah9', 'an4', 'an5', 'as0', 'as4', 'ay1', 'bc0', 'be2', 'be7', 'bf1', 'bm0', 'br5', 'bv9', 'bz5', 'ca6', 'cc4', 'cf6', 'ch9', 'cj8', 'cn3', 'co5', 'cv3', 'cw0', 'cw6', 'cy5', 'dd1', 'dj6', 'dp5', 'ea4', 'ef4', 'eo2', 'eq8', 'es9', 'et1', 'ex0', 'fc9', 'fh7', 'fi4', 'fj7', 'fk1', 'fl4', 'fl5', 'fo3', 'fp5', 'fp9', 'fu6', 'fv7', 'fv9', 'gb7', 'gc2', 'gd1', 'gl4', 'gq8', 'gv1', 'gz2', 'ha6', 'hb4'], 'Chinese': ['ag6', 'ai4', 'ap5', 'ap8', 'aq1', 'ar8', 'ax7', 'ba3', 'bf7', 'bl4', 'bl7', 'bp4', 'bu9', 'bz2', 'cb3', 'cf9', 'cl2', 'cl6', 'cq2', 'cs5', 'cz4', 'dk6', 'dl8', 'dm4', 'do7', 'dp1', 'dt4', 'dx1', 'eb6', 'ev5', 'ev9', 'ey8', 'ff6', 'fi1', 'fj4', 'fm2', 'fn8', 'fy3', 'gb4', 'gw5', 'gw8', 'gx5'], 'Spanish': ['bj2', 'ch0', 'cm9', 'en3', 'fa2', 'fe7', 'fg7', 'fy1', 'fy6']}\n"
     ]
    }
   ],
   "source": [
    "lang_dict_34={}\n",
    "for i in lvls34:\n",
    "    df_ind=binarySearchArr(all_anon,i)\n",
    "    key=sorted_sac.at[df_ind,'native_language']\n",
    "    val=sorted_sac.at[df_ind,'anon_id']\n",
    "    \n",
    "    if key in lang_dict_34:\n",
    "        lang_dict_34[key].append(val)\n",
    "    else:\n",
    "        lang_dict_34[key]=[val]\n",
    "    \n",
    "print(lang_dict_34)"
   ]
  },
  {
   "cell_type": "code",
   "execution_count": 33,
   "metadata": {},
   "outputs": [
    {
     "data": {
      "text/plain": [
       "154"
      ]
     },
     "execution_count": 33,
     "metadata": {},
     "output_type": "execute_result"
    }
   ],
   "source": [
    "# will create a list of only the ids that have levels 3 and 4 in their lvl_nums column\n",
    "lvls45=[]\n",
    "ind=0\n",
    "for i in lvl_list.anon_id:\n",
    "    if ((4 in lvl_list.iat[ind,2]) and (5 in lvl_list.iat[ind,2])):\n",
    "        append=lvl_list.at[ind, 'anon_id']\n",
    "        lvls45.append(append)\n",
    "    ind+=1\n",
    "\n",
    "lvls45.sort()\n",
    "len(lvls45)"
   ]
  },
  {
   "cell_type": "code",
   "execution_count": 34,
   "metadata": {},
   "outputs": [
    {
     "name": "stdout",
     "output_type": "stream",
     "text": [
      "{'Korean': ['aa8', 'ac5', 'ad1', 'ag9', 'al5', 'an5', 'ap4', 'aq5', 'as0', 'as7', 'au5', 'au6', 'aw6', 'ay1', 'be7', 'bq0', 'bu4', 'bv9', 'bw3', 'bz5', 'cc4', 'ce3', 'ch2', 'ci0', 'cj8', 'co5', 'cp0', 'cv3', 'cw0', 'cw1', 'dd9', 'df3', 'dm3', 'dy7', 'ea4', 'eb3', 'eb9', 'ec1', 'eg5', 'eq8', 'es0', 'es9', 'et3', 'ex3', 'fa0', 'fb4', 'fd6', 'ff1', 'fi5', 'fj7', 'fl0', 'fp5', 'fs0', 'ft2', 'fu6', 'fx4', 'fz8', 'ga1', 'gc2', 'ge6', 'gg2', 'gg6', 'gj0', 'gk5', 'gl1', 'gn0', 'gq8', 'gs3', 'gu0', 'gz2', 'ha2', 'hb4'], 'Chinese': ['ad7', 'ae9', 'af4', 'am5', 'an7', 'aq1', 'ar8', 'ar9', 'az8', 'bd7', 'bf2', 'bf7', 'bf9', 'bl4', 'bl7', 'bp2', 'bp4', 'br9', 'bv8', 'bw9', 'by5', 'by6', 'bz1', 'bz2', 'ca4', 'cb3', 'cd6', 'cf9', 'ci2', 'cj5', 'cl3', 'cz2', 'cz4', 'dc0', 'di7', 'dk6', 'dm8', 'dq9', 'du9', 'dw2', 'ei2', 'ei8', 'eo1', 'eq4', 'es4', 'et4', 'ev6', 'ev9', 'ff2', 'fg8', 'fi1', 'fj4', 'fk8', 'fo4', 'fq5', 'fw7', 'ga3', 'gb4', 'gf5', 'gl2', 'gm1', 'go8', 'gt0', 'gv3', 'gw0', 'gx5'], 'Spanish': ['bi4', 'bj2', 'br2', 'cm9', 'cv7', 'dc6', 'df4', 'dk0', 'eo8', 'fa2', 'fx7', 'fy1', 'gq4', 'gs6', 'gu1', 'gu9']}\n"
     ]
    }
   ],
   "source": [
    "lang_dict_45={}\n",
    "for i in lvls45:\n",
    "    df_ind=binarySearchArr(all_anon,i)\n",
    "    key=sorted_sac.at[df_ind,'native_language']\n",
    "    val=sorted_sac.at[df_ind,'anon_id']\n",
    "    \n",
    "    if key in lang_dict_45:\n",
    "        lang_dict_45[key].append(val)\n",
    "    else:\n",
    "        lang_dict_45[key]=[val]\n",
    "    \n",
    "print(lang_dict_45)"
   ]
  },
  {
   "cell_type": "code",
   "execution_count": 35,
   "metadata": {},
   "outputs": [
    {
     "name": "stdout",
     "output_type": "stream",
     "text": [
      "3-5:  42 \n",
      "3-4:  111 \n",
      "4-5:  154\n"
     ]
    }
   ],
   "source": [
    "print(\"3-5: \",len(all_three),'\\n3-4: ',len(lvls34),\"\\n4-5: \",len(lvls45))"
   ]
  },
  {
   "cell_type": "code",
   "execution_count": 36,
   "metadata": {},
   "outputs": [
    {
     "name": "stdout",
     "output_type": "stream",
     "text": [
      "All Three:\n",
      "Korean 22\n",
      "Chinese 16\n",
      "Spanish 4\n"
     ]
    }
   ],
   "source": [
    "print(\"All Three:\")\n",
    "for key, value in lang_dict_all.items():\n",
    "    print(key,len(value))"
   ]
  },
  {
   "cell_type": "code",
   "execution_count": 37,
   "metadata": {},
   "outputs": [
    {
     "name": "stdout",
     "output_type": "stream",
     "text": [
      "3-4:\n",
      "Korean 60\n",
      "Chinese 42\n",
      "Spanish 9\n"
     ]
    }
   ],
   "source": [
    "print(\"3-4:\")\n",
    "\n",
    "for key, value in lang_dict_34.items():\n",
    "    print(key,len(value))"
   ]
  },
  {
   "cell_type": "code",
   "execution_count": 38,
   "metadata": {},
   "outputs": [
    {
     "name": "stdout",
     "output_type": "stream",
     "text": [
      "4-5:\n",
      "Korean 72\n",
      "Chinese 66\n",
      "Spanish 16\n"
     ]
    }
   ],
   "source": [
    "print(\"4-5:\")\n",
    "\n",
    "for key, value in lang_dict_45.items():\n",
    "    print(key,len(value))"
   ]
  },
  {
   "cell_type": "markdown",
   "metadata": {},
   "source": [
    "# Getting distributions of Loose Dataset"
   ]
  },
  {
   "cell_type": "code",
   "execution_count": 39,
   "metadata": {},
   "outputs": [
    {
     "data": {
      "text/plain": [
       "1810"
      ]
     },
     "execution_count": 39,
     "metadata": {},
     "output_type": "execute_result"
    }
   ],
   "source": [
    "# dropping the columns that aren't needed for what we're doing right now\n",
    "\n",
    "all_anon_loose=[]\n",
    "for i in sorted_loose.anon_id:\n",
    "    all_anon_loose.append(i)\n",
    "len(all_anon_loose)"
   ]
  },
  {
   "cell_type": "code",
   "execution_count": 40,
   "metadata": {},
   "outputs": [
    {
     "data": {
      "text/html": [
       "<div>\n",
       "<style scoped>\n",
       "    .dataframe tbody tr th:only-of-type {\n",
       "        vertical-align: middle;\n",
       "    }\n",
       "\n",
       "    .dataframe tbody tr th {\n",
       "        vertical-align: top;\n",
       "    }\n",
       "\n",
       "    .dataframe thead th {\n",
       "        text-align: right;\n",
       "    }\n",
       "</style>\n",
       "<table border=\"1\" class=\"dataframe\">\n",
       "  <thead>\n",
       "    <tr style=\"text-align: right;\">\n",
       "      <th></th>\n",
       "      <th>anon_id</th>\n",
       "      <th>n_anon_ids_loose</th>\n",
       "      <th>lvl_nums_loose</th>\n",
       "    </tr>\n",
       "  </thead>\n",
       "  <tbody>\n",
       "    <tr>\n",
       "      <th>0</th>\n",
       "      <td>aa0</td>\n",
       "      <td>1</td>\n",
       "      <td>[5.0]</td>\n",
       "    </tr>\n",
       "    <tr>\n",
       "      <th>1</th>\n",
       "      <td>aa3</td>\n",
       "      <td>1</td>\n",
       "      <td>[4.0]</td>\n",
       "    </tr>\n",
       "    <tr>\n",
       "      <th>2</th>\n",
       "      <td>aa8</td>\n",
       "      <td>2</td>\n",
       "      <td>[4.0, 5.0]</td>\n",
       "    </tr>\n",
       "    <tr>\n",
       "      <th>3</th>\n",
       "      <td>aa9</td>\n",
       "      <td>2</td>\n",
       "      <td>[3.0, 4.0]</td>\n",
       "    </tr>\n",
       "    <tr>\n",
       "      <th>4</th>\n",
       "      <td>ab6</td>\n",
       "      <td>1</td>\n",
       "      <td>[4.0]</td>\n",
       "    </tr>\n",
       "    <tr>\n",
       "      <th>...</th>\n",
       "      <td>...</td>\n",
       "      <td>...</td>\n",
       "      <td>...</td>\n",
       "    </tr>\n",
       "    <tr>\n",
       "      <th>278</th>\n",
       "      <td>gz2</td>\n",
       "      <td>2</td>\n",
       "      <td>[4.0, 5.0]</td>\n",
       "    </tr>\n",
       "    <tr>\n",
       "      <th>279</th>\n",
       "      <td>gz5</td>\n",
       "      <td>1</td>\n",
       "      <td>[4.0]</td>\n",
       "    </tr>\n",
       "    <tr>\n",
       "      <th>280</th>\n",
       "      <td>gz7</td>\n",
       "      <td>1</td>\n",
       "      <td>[4.0]</td>\n",
       "    </tr>\n",
       "    <tr>\n",
       "      <th>281</th>\n",
       "      <td>ha0</td>\n",
       "      <td>1</td>\n",
       "      <td>[5.0]</td>\n",
       "    </tr>\n",
       "    <tr>\n",
       "      <th>282</th>\n",
       "      <td>ha2</td>\n",
       "      <td>2</td>\n",
       "      <td>[4.0, 5.0]</td>\n",
       "    </tr>\n",
       "  </tbody>\n",
       "</table>\n",
       "<p>283 rows × 3 columns</p>\n",
       "</div>"
      ],
      "text/plain": [
       "    anon_id  n_anon_ids_loose lvl_nums_loose\n",
       "0       aa0                 1          [5.0]\n",
       "1       aa3                 1          [4.0]\n",
       "2       aa8                 2     [4.0, 5.0]\n",
       "3       aa9                 2     [3.0, 4.0]\n",
       "4       ab6                 1          [4.0]\n",
       "..      ...               ...            ...\n",
       "278     gz2                 2     [4.0, 5.0]\n",
       "279     gz5                 1          [4.0]\n",
       "280     gz7                 1          [4.0]\n",
       "281     ha0                 1          [5.0]\n",
       "282     ha2                 2     [4.0, 5.0]\n",
       "\n",
       "[283 rows x 3 columns]"
      ]
     },
     "execution_count": 40,
     "metadata": {},
     "output_type": "execute_result"
    }
   ],
   "source": [
    "# this code gets how many times an id appeared (n_anon_ids) as well as an array of what levels they participated in (lvl_nums)\n",
    "clean_ids_lvl_loose=drop_loose.groupby('anon_id').agg(\n",
    "    n_anon_ids_loose=('level_id', 'nunique'),\n",
    "    lvl_nums_loose=('level_id', get_uniques)\n",
    ")\n",
    "\n",
    "#changes the clean_ids_lvl's index so we can access the anon_id easier\n",
    "ind_loose= clean_ids_lvl_loose.reset_index()\n",
    "ind_loose"
   ]
  },
  {
   "cell_type": "code",
   "execution_count": 41,
   "metadata": {},
   "outputs": [
    {
     "data": {
      "text/plain": [
       "8"
      ]
     },
     "execution_count": 41,
     "metadata": {},
     "output_type": "execute_result"
    }
   ],
   "source": [
    "# for loop that checks if lvl_nums has all three levels in it (3,4, and 5)\n",
    "# if there are three values in lvl_nums, the anon_id is appended to the all_three list\n",
    "ind=0\n",
    "all_three_loose=[]\n",
    "append=''\n",
    "for i in ind_loose.anon_id:\n",
    "    if ind_loose.iat[ind, 1]==3:\n",
    "        append=ind_loose.at[ind,'anon_id']\n",
    "        all_three_loose.append(append)\n",
    "    ind=ind+1\n",
    "\n",
    "all_three_loose.sort()\n",
    "len(all_three_loose)\n"
   ]
  },
  {
   "cell_type": "code",
   "execution_count": 42,
   "metadata": {},
   "outputs": [
    {
     "name": "stdout",
     "output_type": "stream",
     "text": [
      "28\n"
     ]
    }
   ],
   "source": [
    "# creates list of participants in loose sheet that are in level 3 and 4\n",
    "ind=0\n",
    "in34_loose=[]\n",
    "append=''\n",
    "for i in ind_loose.anon_id:\n",
    "    if ind_loose.iat[ind, 1]==2:\n",
    "        if (3 in ind_loose.iat[ind,2] and 4 in ind_loose.iat[ind,2]):\n",
    "            append=ind_loose.at[ind,'anon_id']\n",
    "            in34_loose.append(append)\n",
    "    elif ind_loose.iat[ind,1]==3:\n",
    "        append=ind_loose.at[ind,'anon_id']\n",
    "        in34_loose.append(append)\n",
    "    ind=ind+1\n",
    "in34_loose.sort()\n",
    "print(len(in34_loose))"
   ]
  },
  {
   "cell_type": "code",
   "execution_count": 43,
   "metadata": {},
   "outputs": [
    {
     "name": "stdout",
     "output_type": "stream",
     "text": [
      "{'Korean': ['an5', 'bv9'], 'Chinese': ['ar8', 'bl4', 'bp4', 'bz2'], 'Spanish': ['fa2', 'fy1']}\n"
     ]
    }
   ],
   "source": [
    "llang_dict_35={}\n",
    "for i in all_three_loose:\n",
    "    df_ind=binarySearchArr(all_anon_loose,i)\n",
    "    key=sorted_loose.at[df_ind,'L1']\n",
    "    val=sorted_loose.at[df_ind,'anon_id']\n",
    "    \n",
    "    if key in llang_dict_35:\n",
    "        llang_dict_35[key].append(val)\n",
    "    else:\n",
    "        llang_dict_35[key]=[val]\n",
    "    \n",
    "print(llang_dict_35)"
   ]
  },
  {
   "cell_type": "code",
   "execution_count": 44,
   "metadata": {},
   "outputs": [
    {
     "name": "stdout",
     "output_type": "stream",
     "text": [
      "{'Korean': ['aa9', 'ah9', 'an5', 'be2', 'bf1', 'bv9', 'cf6', 'cw6', 'cy5', 'ex0', 'fc9', 'fv7', 'gd1', 'gv1'], 'Chinese': ['ap5', 'ar8', 'ax7', 'bl4', 'bp4', 'bz2', 'cs5', 'ey8', 'fn8'], 'Spanish': ['ch0', 'cm9', 'fa2', 'fe7', 'fy1']}\n"
     ]
    }
   ],
   "source": [
    "llang_dict_34={}\n",
    "for i in in34_loose:\n",
    "    df_ind=binarySearchArr(all_anon_loose,i)\n",
    "    key=sorted_loose.at[df_ind,'L1']\n",
    "    val=sorted_loose.at[df_ind,'anon_id']\n",
    "    \n",
    "    if key in llang_dict_34:\n",
    "        llang_dict_34[key].append(val)\n",
    "    else:\n",
    "        llang_dict_34[key]=[val]\n",
    "    \n",
    "print(llang_dict_34)"
   ]
  },
  {
   "cell_type": "code",
   "execution_count": 45,
   "metadata": {},
   "outputs": [
    {
     "name": "stdout",
     "output_type": "stream",
     "text": [
      "61\n"
     ]
    }
   ],
   "source": [
    "# creates list of participants in loose sheet that are in level 4 and 5\n",
    "ind=0\n",
    "in45_loose=[]\n",
    "append=''\n",
    "for i in ind_loose.anon_id:\n",
    "    if ind_loose.iat[ind, 1]==2:\n",
    "        if (4 in ind_loose.iat[ind,2] and 5 in ind_loose.iat[ind,2]):\n",
    "            append=ind_loose.at[ind,'anon_id']\n",
    "            in45_loose.append(append)\n",
    "    elif ind_loose.iat[ind,1]==3:\n",
    "        append=ind_loose.at[ind,'anon_id']\n",
    "        in45_loose.append(append)\n",
    "    ind=ind+1\n",
    "in45_loose.sort()\n",
    "print(len(in45_loose))"
   ]
  },
  {
   "cell_type": "code",
   "execution_count": 46,
   "metadata": {},
   "outputs": [
    {
     "name": "stdout",
     "output_type": "stream",
     "text": [
      "{'Korean': ['aa8', 'ac5', 'al5', 'an5', 'au5', 'au6', 'bu4', 'bv9', 'cc4', 'ce3', 'cj8', 'co5', 'cw1', 'dd9', 'dy7', 'fa0', 'ff1', 'fj7', 'fp5', 'fu6', 'fx4', 'gq8', 'gz2', 'ha2'], 'Chinese': ['aq1', 'ar8', 'ar9', 'az8', 'bf2', 'bl4', 'bl7', 'bp4', 'bz2', 'cb3', 'cj5', 'cz4', 'dc0', 'dm8', 'dq9', 'ei8', 'et4', 'ev6', 'ev9', 'ff2', 'fg8', 'fk8', 'gb4', 'gf5', 'gm1'], 'Spanish': ['bi4', 'bj2', 'cv7', 'dc6', 'df4', 'dk0', 'eo8', 'fa2', 'fx7', 'fy1', 'gq4', 'gu1']}\n"
     ]
    }
   ],
   "source": [
    "llang_dict_45={}\n",
    "for i in in45_loose:\n",
    "    df_ind=binarySearchArr(all_anon_loose,i)\n",
    "    key=sorted_loose.at[df_ind,'L1']\n",
    "    val=sorted_loose.at[df_ind,'anon_id']\n",
    "    \n",
    "    if key in llang_dict_45:\n",
    "        llang_dict_45[key].append(val)\n",
    "    else:\n",
    "        llang_dict_45[key]=[val]\n",
    "    \n",
    "print(llang_dict_45)"
   ]
  },
  {
   "cell_type": "code",
   "execution_count": 47,
   "metadata": {},
   "outputs": [
    {
     "name": "stdout",
     "output_type": "stream",
     "text": [
      "3-5:\n",
      "Korean 2\n",
      "Chinese 4\n",
      "Spanish 2\n"
     ]
    }
   ],
   "source": [
    "print(\"3-5:\")\n",
    "\n",
    "for key, value in llang_dict_35.items():\n",
    "    print(key,len(value))"
   ]
  },
  {
   "cell_type": "code",
   "execution_count": 48,
   "metadata": {},
   "outputs": [
    {
     "name": "stdout",
     "output_type": "stream",
     "text": [
      "3-4:\n",
      "Korean 14\n",
      "Chinese 9\n",
      "Spanish 5\n"
     ]
    }
   ],
   "source": [
    "print(\"3-4:\")\n",
    "\n",
    "for key, value in llang_dict_34.items():\n",
    "    print(key,len(value))"
   ]
  },
  {
   "cell_type": "code",
   "execution_count": 49,
   "metadata": {},
   "outputs": [
    {
     "name": "stdout",
     "output_type": "stream",
     "text": [
      "4-5:\n",
      "Korean 24\n",
      "Chinese 25\n",
      "Spanish 12\n"
     ]
    }
   ],
   "source": [
    "print(\"4-5:\")\n",
    "\n",
    "for key, value in llang_dict_45.items():\n",
    "    print(key,len(value))"
   ]
  },
  {
   "cell_type": "markdown",
   "metadata": {},
   "source": [
    "# Answer counts for whole dataset"
   ]
  },
  {
   "cell_type": "code",
   "execution_count": 50,
   "metadata": {},
   "outputs": [],
   "source": [
    "e_counts=sorted_sac.copy()\n",
    "e_counts[\"Number of Questions\"]=e_counts.anon_id.count()\n",
    "entire_counts=e_counts.groupby(['anon_id','native_language'])['Number of Questions'].count()\n",
    "qcount_entire=entire_counts.reset_index()"
   ]
  },
  {
   "cell_type": "code",
   "execution_count": 51,
   "metadata": {},
   "outputs": [
    {
     "data": {
      "text/html": [
       "<div>\n",
       "<style scoped>\n",
       "    .dataframe tbody tr th:only-of-type {\n",
       "        vertical-align: middle;\n",
       "    }\n",
       "\n",
       "    .dataframe tbody tr th {\n",
       "        vertical-align: top;\n",
       "    }\n",
       "\n",
       "    .dataframe thead th {\n",
       "        text-align: right;\n",
       "    }\n",
       "</style>\n",
       "<table border=\"1\" class=\"dataframe\">\n",
       "  <thead>\n",
       "    <tr style=\"text-align: right;\">\n",
       "      <th></th>\n",
       "      <th>anon_id</th>\n",
       "      <th>native_language</th>\n",
       "      <th>Number of Questions</th>\n",
       "    </tr>\n",
       "  </thead>\n",
       "  <tbody>\n",
       "    <tr>\n",
       "      <th>0</th>\n",
       "      <td>aa0</td>\n",
       "      <td>Spanish</td>\n",
       "      <td>17</td>\n",
       "    </tr>\n",
       "    <tr>\n",
       "      <th>1</th>\n",
       "      <td>aa1</td>\n",
       "      <td>Chinese</td>\n",
       "      <td>22</td>\n",
       "    </tr>\n",
       "    <tr>\n",
       "      <th>2</th>\n",
       "      <td>aa3</td>\n",
       "      <td>Chinese</td>\n",
       "      <td>8</td>\n",
       "    </tr>\n",
       "    <tr>\n",
       "      <th>3</th>\n",
       "      <td>aa8</td>\n",
       "      <td>Korean</td>\n",
       "      <td>34</td>\n",
       "    </tr>\n",
       "    <tr>\n",
       "      <th>4</th>\n",
       "      <td>aa9</td>\n",
       "      <td>Korean</td>\n",
       "      <td>27</td>\n",
       "    </tr>\n",
       "    <tr>\n",
       "      <th>...</th>\n",
       "      <td>...</td>\n",
       "      <td>...</td>\n",
       "      <td>...</td>\n",
       "    </tr>\n",
       "    <tr>\n",
       "      <th>470</th>\n",
       "      <td>ha0</td>\n",
       "      <td>Korean</td>\n",
       "      <td>3</td>\n",
       "    </tr>\n",
       "    <tr>\n",
       "      <th>471</th>\n",
       "      <td>ha2</td>\n",
       "      <td>Korean</td>\n",
       "      <td>44</td>\n",
       "    </tr>\n",
       "    <tr>\n",
       "      <th>472</th>\n",
       "      <td>ha6</td>\n",
       "      <td>Korean</td>\n",
       "      <td>32</td>\n",
       "    </tr>\n",
       "    <tr>\n",
       "      <th>473</th>\n",
       "      <td>hb4</td>\n",
       "      <td>Korean</td>\n",
       "      <td>40</td>\n",
       "    </tr>\n",
       "    <tr>\n",
       "      <th>474</th>\n",
       "      <td>hc1</td>\n",
       "      <td>Korean</td>\n",
       "      <td>5</td>\n",
       "    </tr>\n",
       "  </tbody>\n",
       "</table>\n",
       "<p>475 rows × 3 columns</p>\n",
       "</div>"
      ],
      "text/plain": [
       "    anon_id native_language  Number of Questions\n",
       "0       aa0         Spanish                   17\n",
       "1       aa1         Chinese                   22\n",
       "2       aa3         Chinese                    8\n",
       "3       aa8          Korean                   34\n",
       "4       aa9          Korean                   27\n",
       "..      ...             ...                  ...\n",
       "470     ha0          Korean                    3\n",
       "471     ha2          Korean                   44\n",
       "472     ha6          Korean                   32\n",
       "473     hb4          Korean                   40\n",
       "474     hc1          Korean                    5\n",
       "\n",
       "[475 rows x 3 columns]"
      ]
     },
     "execution_count": 51,
     "metadata": {},
     "output_type": "execute_result"
    }
   ],
   "source": [
    "qcount_entire"
   ]
  },
  {
   "cell_type": "code",
   "execution_count": 52,
   "metadata": {},
   "outputs": [
    {
     "name": "stdout",
     "output_type": "stream",
     "text": [
      "Counts in all 3\n",
      "Spanish counts:  108 \n",
      "Chinese counts:  460 \n",
      "Korean counts:  795\n"
     ]
    }
   ],
   "source": [
    "espanish,echinese,ekorean=find_counts(qcount_entire,all_three,'native_language')\n",
    "print('Counts in all 3\\nSpanish counts: ',espanish,'\\nChinese counts: ',echinese,'\\nKorean counts: ',ekorean)"
   ]
  },
  {
   "cell_type": "code",
   "execution_count": 53,
   "metadata": {},
   "outputs": [
    {
     "name": "stdout",
     "output_type": "stream",
     "text": [
      "Counts in 3 and 4\n",
      "Spanish counts:  157 \n",
      "Chinese counts:  907 \n",
      "Korean counts:  1552\n"
     ]
    }
   ],
   "source": [
    "espanish34,echinese34,ekorean34=find_counts(qcount_entire,lvls34,'native_language')\n",
    "print('Counts in 3 and 4\\nSpanish counts: ',espanish34,'\\nChinese counts: ',echinese34,'\\nKorean counts: ',ekorean34)"
   ]
  },
  {
   "cell_type": "code",
   "execution_count": 54,
   "metadata": {},
   "outputs": [
    {
     "name": "stdout",
     "output_type": "stream",
     "text": [
      "Counts in 4 and 5\n",
      "Spanish counts:  298 \n",
      "Chinese counts:  1701 \n",
      "Korean counts:  1974\n"
     ]
    }
   ],
   "source": [
    "espanish45,echinese45,ekorean45=find_counts(qcount_entire,lvls45,'native_language')\n",
    "print('Counts in 4 and 5\\nSpanish counts: ',espanish45,'\\nChinese counts: ',echinese45,'\\nKorean counts: ',ekorean45)"
   ]
  },
  {
   "cell_type": "markdown",
   "metadata": {},
   "source": [
    "# Answer Counts for Loose dataset"
   ]
  },
  {
   "cell_type": "code",
   "execution_count": 55,
   "metadata": {},
   "outputs": [
    {
     "data": {
      "text/html": [
       "<div>\n",
       "<style scoped>\n",
       "    .dataframe tbody tr th:only-of-type {\n",
       "        vertical-align: middle;\n",
       "    }\n",
       "\n",
       "    .dataframe tbody tr th {\n",
       "        vertical-align: top;\n",
       "    }\n",
       "\n",
       "    .dataframe thead th {\n",
       "        text-align: right;\n",
       "    }\n",
       "</style>\n",
       "<table border=\"1\" class=\"dataframe\">\n",
       "  <thead>\n",
       "    <tr style=\"text-align: right;\">\n",
       "      <th></th>\n",
       "      <th>anon_id</th>\n",
       "      <th>L1</th>\n",
       "      <th>Number of Questions</th>\n",
       "    </tr>\n",
       "  </thead>\n",
       "  <tbody>\n",
       "    <tr>\n",
       "      <th>0</th>\n",
       "      <td>aa0</td>\n",
       "      <td>Spanish</td>\n",
       "      <td>8</td>\n",
       "    </tr>\n",
       "    <tr>\n",
       "      <th>1</th>\n",
       "      <td>aa3</td>\n",
       "      <td>Chinese</td>\n",
       "      <td>2</td>\n",
       "    </tr>\n",
       "    <tr>\n",
       "      <th>2</th>\n",
       "      <td>aa8</td>\n",
       "      <td>Korean</td>\n",
       "      <td>13</td>\n",
       "    </tr>\n",
       "    <tr>\n",
       "      <th>3</th>\n",
       "      <td>aa9</td>\n",
       "      <td>Korean</td>\n",
       "      <td>18</td>\n",
       "    </tr>\n",
       "    <tr>\n",
       "      <th>4</th>\n",
       "      <td>ab6</td>\n",
       "      <td>Chinese</td>\n",
       "      <td>2</td>\n",
       "    </tr>\n",
       "    <tr>\n",
       "      <th>...</th>\n",
       "      <td>...</td>\n",
       "      <td>...</td>\n",
       "      <td>...</td>\n",
       "    </tr>\n",
       "    <tr>\n",
       "      <th>278</th>\n",
       "      <td>gz2</td>\n",
       "      <td>Korean</td>\n",
       "      <td>8</td>\n",
       "    </tr>\n",
       "    <tr>\n",
       "      <th>279</th>\n",
       "      <td>gz5</td>\n",
       "      <td>Chinese</td>\n",
       "      <td>6</td>\n",
       "    </tr>\n",
       "    <tr>\n",
       "      <th>280</th>\n",
       "      <td>gz7</td>\n",
       "      <td>Korean</td>\n",
       "      <td>5</td>\n",
       "    </tr>\n",
       "    <tr>\n",
       "      <th>281</th>\n",
       "      <td>ha0</td>\n",
       "      <td>Korean</td>\n",
       "      <td>3</td>\n",
       "    </tr>\n",
       "    <tr>\n",
       "      <th>282</th>\n",
       "      <td>ha2</td>\n",
       "      <td>Korean</td>\n",
       "      <td>19</td>\n",
       "    </tr>\n",
       "  </tbody>\n",
       "</table>\n",
       "<p>283 rows × 3 columns</p>\n",
       "</div>"
      ],
      "text/plain": [
       "    anon_id       L1  Number of Questions\n",
       "0       aa0  Spanish                    8\n",
       "1       aa3  Chinese                    2\n",
       "2       aa8   Korean                   13\n",
       "3       aa9   Korean                   18\n",
       "4       ab6  Chinese                    2\n",
       "..      ...      ...                  ...\n",
       "278     gz2   Korean                    8\n",
       "279     gz5  Chinese                    6\n",
       "280     gz7   Korean                    5\n",
       "281     ha0   Korean                    3\n",
       "282     ha2   Korean                   19\n",
       "\n",
       "[283 rows x 3 columns]"
      ]
     },
     "execution_count": 55,
     "metadata": {},
     "output_type": "execute_result"
    }
   ],
   "source": [
    "l_counts=textcount_loose.copy()\n",
    "l_counts[\"Number of Questions\"]=l_counts.anon_id.count()\n",
    "loose_counts=l_counts.groupby(['anon_id','L1'])['Number of Questions'].count()\n",
    "qcount_loose=loose_counts.reset_index()\n",
    "qcount_loose"
   ]
  },
  {
   "cell_type": "code",
   "execution_count": 56,
   "metadata": {},
   "outputs": [
    {
     "name": "stdout",
     "output_type": "stream",
     "text": [
      "Counts in all three\n",
      "Spanish counts:  23 \n",
      "Chinese counts:  34 \n",
      "Korean counts:  26\n"
     ]
    }
   ],
   "source": [
    "lspanish,lchinese,lkorean=find_counts(qcount_loose, all_three_loose,'L1')\n",
    "print('Counts in all three\\nSpanish counts: ',lspanish,'\\nChinese counts: ',lchinese,'\\nKorean counts: ',lkorean)"
   ]
  },
  {
   "cell_type": "code",
   "execution_count": 57,
   "metadata": {},
   "outputs": [
    {
     "name": "stdout",
     "output_type": "stream",
     "text": [
      "Counts in 3 and 4\n",
      "Spanish counts:  44 \n",
      "Chinese counts:  64 \n",
      "Korean counts:  146\n"
     ]
    }
   ],
   "source": [
    "lspanish34,lchinese34,lkorean34=find_counts(qcount_loose,in34_loose,'L1')\n",
    "print('Counts in 3 and 4\\nSpanish counts: ',lspanish34,'\\nChinese counts: ',lchinese34,'\\nKorean counts: ',lkorean34)"
   ]
  },
  {
   "cell_type": "code",
   "execution_count": 58,
   "metadata": {},
   "outputs": [
    {
     "name": "stdout",
     "output_type": "stream",
     "text": [
      "Counts in 4 and 5\n",
      "Spanish counts:  128 \n",
      "Chinese counts:  305 \n",
      "Korean counts:  289\n"
     ]
    }
   ],
   "source": [
    "lspanish45,lchinese45,lkorean45=find_counts(qcount_loose, in45_loose,'L1')\n",
    "print('Counts in 4 and 5\\nSpanish counts: ',lspanish45,'\\nChinese counts: ',lchinese45,'\\nKorean counts: ',lkorean45)"
   ]
  },
  {
   "cell_type": "markdown",
   "metadata": {},
   "source": [
    "# Tokinizing Essays for Loose"
   ]
  },
  {
   "cell_type": "code",
   "execution_count": 59,
   "metadata": {
    "scrolled": true
   },
   "outputs": [
    {
     "data": {
      "text/html": [
       "<div>\n",
       "<style scoped>\n",
       "    .dataframe tbody tr th:only-of-type {\n",
       "        vertical-align: middle;\n",
       "    }\n",
       "\n",
       "    .dataframe tbody tr th {\n",
       "        vertical-align: top;\n",
       "    }\n",
       "\n",
       "    .dataframe thead th {\n",
       "        text-align: right;\n",
       "    }\n",
       "</style>\n",
       "<table border=\"1\" class=\"dataframe\">\n",
       "  <thead>\n",
       "    <tr style=\"text-align: right;\">\n",
       "      <th></th>\n",
       "      <th>anon_id</th>\n",
       "      <th>L1</th>\n",
       "      <th>level_id</th>\n",
       "      <th>text3_len</th>\n",
       "      <th>text3 (edits made to fix word counts)</th>\n",
       "      <th>processed_text</th>\n",
       "      <th>wordtype_len</th>\n",
       "    </tr>\n",
       "  </thead>\n",
       "  <tbody>\n",
       "    <tr>\n",
       "      <th>0</th>\n",
       "      <td>aa0</td>\n",
       "      <td>Spanish</td>\n",
       "      <td>5.0</td>\n",
       "      <td>109.0</td>\n",
       "      <td>Barber, chef by profession, but an expert on a...</td>\n",
       "      <td>barber chef by profession but an expert on agr...</td>\n",
       "      <td>79</td>\n",
       "    </tr>\n",
       "    <tr>\n",
       "      <th>1</th>\n",
       "      <td>aa0</td>\n",
       "      <td>Spanish</td>\n",
       "      <td>5.0</td>\n",
       "      <td>190.0</td>\n",
       "      <td>The article \"English as Co star\" support the f...</td>\n",
       "      <td>the article english as co star support the fac...</td>\n",
       "      <td>117</td>\n",
       "    </tr>\n",
       "    <tr>\n",
       "      <th>2</th>\n",
       "      <td>aa0</td>\n",
       "      <td>Spanish</td>\n",
       "      <td>5.0</td>\n",
       "      <td>193.0</td>\n",
       "      <td>In this article the authors Goleman, Kaufman a...</td>\n",
       "      <td>in this article the authors goleman kaufman an...</td>\n",
       "      <td>122</td>\n",
       "    </tr>\n",
       "    <tr>\n",
       "      <th>3</th>\n",
       "      <td>aa0</td>\n",
       "      <td>Spanish</td>\n",
       "      <td>5.0</td>\n",
       "      <td>170.0</td>\n",
       "      <td>Flow in the sense expressed in the text \"The C...</td>\n",
       "      <td>flow in the sense expressed in the text the cr...</td>\n",
       "      <td>103</td>\n",
       "    </tr>\n",
       "    <tr>\n",
       "      <th>4</th>\n",
       "      <td>aa0</td>\n",
       "      <td>Spanish</td>\n",
       "      <td>5.0</td>\n",
       "      <td>85.0</td>\n",
       "      <td>Bill Gates, in this conference, explained two ...</td>\n",
       "      <td>bill gates in this conference explained two bi...</td>\n",
       "      <td>66</td>\n",
       "    </tr>\n",
       "    <tr>\n",
       "      <th>...</th>\n",
       "      <td>...</td>\n",
       "      <td>...</td>\n",
       "      <td>...</td>\n",
       "      <td>...</td>\n",
       "      <td>...</td>\n",
       "      <td>...</td>\n",
       "      <td>...</td>\n",
       "    </tr>\n",
       "    <tr>\n",
       "      <th>1792</th>\n",
       "      <td>ha2</td>\n",
       "      <td>Korean</td>\n",
       "      <td>5.0</td>\n",
       "      <td>177.0</td>\n",
       "      <td>In Korea, a lot of parents who want their chil...</td>\n",
       "      <td>in korea a lot of parents who want their child...</td>\n",
       "      <td>100</td>\n",
       "    </tr>\n",
       "    <tr>\n",
       "      <th>1791</th>\n",
       "      <td>ha2</td>\n",
       "      <td>Korean</td>\n",
       "      <td>4.0</td>\n",
       "      <td>69.0</td>\n",
       "      <td>The importance of women is getting greater in ...</td>\n",
       "      <td>the importance of women is getting greater in ...</td>\n",
       "      <td>53</td>\n",
       "    </tr>\n",
       "    <tr>\n",
       "      <th>1808</th>\n",
       "      <td>ha2</td>\n",
       "      <td>Korean</td>\n",
       "      <td>4.0</td>\n",
       "      <td>283.0</td>\n",
       "      <td>A natural disaster is the effect of the natura...</td>\n",
       "      <td>a natural disaster is the effect of the natura...</td>\n",
       "      <td>135</td>\n",
       "    </tr>\n",
       "    <tr>\n",
       "      <th>1799</th>\n",
       "      <td>ha2</td>\n",
       "      <td>Korean</td>\n",
       "      <td>5.0</td>\n",
       "      <td>315.0</td>\n",
       "      <td>Fresh air, the npr's program, invited Ben Stil...</td>\n",
       "      <td>fresh air the nprs program invited ben stiller...</td>\n",
       "      <td>159</td>\n",
       "    </tr>\n",
       "    <tr>\n",
       "      <th>1809</th>\n",
       "      <td>ha2</td>\n",
       "      <td>Korean</td>\n",
       "      <td>5.0</td>\n",
       "      <td>168.0</td>\n",
       "      <td>I think human language and nonhuman primate la...</td>\n",
       "      <td>i think human language and nonhuman primate la...</td>\n",
       "      <td>100</td>\n",
       "    </tr>\n",
       "  </tbody>\n",
       "</table>\n",
       "<p>1810 rows × 7 columns</p>\n",
       "</div>"
      ],
      "text/plain": [
       "     anon_id       L1  level_id  text3_len  \\\n",
       "0        aa0  Spanish       5.0      109.0   \n",
       "1        aa0  Spanish       5.0      190.0   \n",
       "2        aa0  Spanish       5.0      193.0   \n",
       "3        aa0  Spanish       5.0      170.0   \n",
       "4        aa0  Spanish       5.0       85.0   \n",
       "...      ...      ...       ...        ...   \n",
       "1792     ha2   Korean       5.0      177.0   \n",
       "1791     ha2   Korean       4.0       69.0   \n",
       "1808     ha2   Korean       4.0      283.0   \n",
       "1799     ha2   Korean       5.0      315.0   \n",
       "1809     ha2   Korean       5.0      168.0   \n",
       "\n",
       "                  text3 (edits made to fix word counts)  \\\n",
       "0     Barber, chef by profession, but an expert on a...   \n",
       "1     The article \"English as Co star\" support the f...   \n",
       "2     In this article the authors Goleman, Kaufman a...   \n",
       "3     Flow in the sense expressed in the text \"The C...   \n",
       "4     Bill Gates, in this conference, explained two ...   \n",
       "...                                                 ...   \n",
       "1792  In Korea, a lot of parents who want their chil...   \n",
       "1791  The importance of women is getting greater in ...   \n",
       "1808  A natural disaster is the effect of the natura...   \n",
       "1799  Fresh air, the npr's program, invited Ben Stil...   \n",
       "1809  I think human language and nonhuman primate la...   \n",
       "\n",
       "                                         processed_text wordtype_len  \n",
       "0     barber chef by profession but an expert on agr...           79  \n",
       "1     the article english as co star support the fac...          117  \n",
       "2     in this article the authors goleman kaufman an...          122  \n",
       "3     flow in the sense expressed in the text the cr...          103  \n",
       "4     bill gates in this conference explained two bi...           66  \n",
       "...                                                 ...          ...  \n",
       "1792  in korea a lot of parents who want their child...          100  \n",
       "1791  the importance of women is getting greater in ...           53  \n",
       "1808  a natural disaster is the effect of the natura...          135  \n",
       "1799  fresh air the nprs program invited ben stiller...          159  \n",
       "1809  i think human language and nonhuman primate la...          100  \n",
       "\n",
       "[1810 rows x 7 columns]"
      ]
     },
     "execution_count": 59,
     "metadata": {},
     "output_type": "execute_result"
    }
   ],
   "source": [
    "textsort_loose=textcount_loose.sort_values(by=['anon_id'])\n",
    "textsort_loose"
   ]
  },
  {
   "cell_type": "code",
   "execution_count": 60,
   "metadata": {},
   "outputs": [
    {
     "name": "stdout",
     "output_type": "stream",
     "text": [
      "Loose All Three\n",
      "Spanish Token Average:  132.8695652173913 \n",
      "Korean Token Average:  181.3846153846154 \n",
      "Chinese Token Average: 188.64705882352942\n"
     ]
    }
   ],
   "source": [
    "print('Loose All Three')\n",
    "finding_tokens(loose,all_three_loose,'L1','text3_len',qcount_loose)"
   ]
  },
  {
   "cell_type": "code",
   "execution_count": 61,
   "metadata": {},
   "outputs": [
    {
     "name": "stdout",
     "output_type": "stream",
     "text": [
      "Loose 3-4\n",
      "Spanish Token Average:  140.8181818181818 \n",
      "Korean Token Average:  152.14383561643837 \n",
      "Chinese Token Average: 169.953125\n"
     ]
    }
   ],
   "source": [
    "print('Loose 3-4')\n",
    "finding_tokens(loose,in34_loose,'L1','text3_len',qcount_loose)"
   ]
  },
  {
   "cell_type": "code",
   "execution_count": 62,
   "metadata": {},
   "outputs": [
    {
     "name": "stdout",
     "output_type": "stream",
     "text": [
      "Loose 4-5\n",
      "Spanish Token Average:  203.5 \n",
      "Korean Token Average:  231.42560553633217 \n",
      "Chinese Token Average: 238.32131147540983\n"
     ]
    }
   ],
   "source": [
    "print('Loose 4-5')\n",
    "finding_tokens(loose,in45_loose,'L1','text3_len',qcount_loose)"
   ]
  },
  {
   "cell_type": "code",
   "execution_count": 63,
   "metadata": {},
   "outputs": [
    {
     "name": "stdout",
     "output_type": "stream",
     "text": [
      "Loose All Three, Level 3\n",
      "Spanish Average:  101.8\n",
      "Korean Average:  134.5\n",
      "Chinese Average:  131.8181818181818\n"
     ]
    }
   ],
   "source": [
    "print('Loose All Three, Level 3')\n",
    "tokenAvg(textsort_loose,'text3_len','L1',all_three_loose,3)"
   ]
  },
  {
   "cell_type": "code",
   "execution_count": 64,
   "metadata": {},
   "outputs": [
    {
     "name": "stdout",
     "output_type": "stream",
     "text": [
      "Loose All Three, Level 4\n",
      "Spanish Average:  172.5\n",
      "Korean Average:  191.5\n",
      "Chinese Average:  264.14285714285717\n"
     ]
    }
   ],
   "source": [
    "print('Loose All Three, Level 4')\n",
    "tokenAvg(textsort_loose,'text3_len','L1',all_three_loose,4)"
   ]
  },
  {
   "cell_type": "code",
   "execution_count": 65,
   "metadata": {},
   "outputs": [
    {
     "name": "stdout",
     "output_type": "stream",
     "text": [
      "Loose All Three, Level 5\n",
      "Spanish Average:  104.33333333333333\n",
      "Korean Average:  211.0\n",
      "Chinese Average:  194.6875\n"
     ]
    }
   ],
   "source": [
    "print('Loose All Three, Level 5')\n",
    "tokenAvg(textsort_loose,'text3_len','L1',all_three_loose,5)"
   ]
  },
  {
   "cell_type": "code",
   "execution_count": 66,
   "metadata": {},
   "outputs": [
    {
     "name": "stdout",
     "output_type": "stream",
     "text": [
      "Loose 3-4, Level 3\n",
      "Spanish Average:  108.8\n",
      "Korean Average:  121.32142857142857\n",
      "Chinese Average:  138.3\n"
     ]
    }
   ],
   "source": [
    "print('Loose 3-4, Level 3')\n",
    "tokenAvg(textsort_loose,'text3_len','L1',in34_loose,3)"
   ]
  },
  {
   "cell_type": "code",
   "execution_count": 67,
   "metadata": {},
   "outputs": [
    {
     "name": "stdout",
     "output_type": "stream",
     "text": [
      "Loose 3-4, Level 4\n",
      "Spanish Average:  176.52380952380952\n",
      "Korean Average:  169.46511627906978\n",
      "Chinese Average:  200.66666666666666\n"
     ]
    }
   ],
   "source": [
    "print('Loose 3-4, Level 4')\n",
    "tokenAvg(textsort_loose,'text3_len','L1',in34_loose,4)"
   ]
  },
  {
   "cell_type": "code",
   "execution_count": 68,
   "metadata": {},
   "outputs": [
    {
     "name": "stdout",
     "output_type": "stream",
     "text": [
      "Loose 4-5, Level 4\n",
      "Spanish Average:  214.77272727272728\n",
      "Korean Average:  186.7709497206704\n",
      "Chinese Average:  208.28947368421052\n"
     ]
    }
   ],
   "source": [
    "print('Loose 4-5, Level 4')\n",
    "tokenAvg(textsort_loose,'text3_len','L1',in45_loose,4)"
   ]
  },
  {
   "cell_type": "code",
   "execution_count": 69,
   "metadata": {},
   "outputs": [
    {
     "name": "stdout",
     "output_type": "stream",
     "text": [
      "Loose 4-5, Level 5\n",
      "Spanish Average:  208.73076923076923\n",
      "Korean Average:  313.77884615384613\n",
      "Chinese Average:  278.6830985915493\n"
     ]
    }
   ],
   "source": [
    "print('Loose 4-5, Level 5')\n",
    "tokenAvg(textsort_loose,'text3_len','L1',in45_loose,5)"
   ]
  },
  {
   "cell_type": "markdown",
   "metadata": {},
   "source": [
    "# Tokenizing Essays for Whole Dataset"
   ]
  },
  {
   "cell_type": "code",
   "execution_count": 70,
   "metadata": {},
   "outputs": [],
   "source": [
    "sort_sac=stu_ans_crs.sort_values(by=['anon_id']).reset_index(drop=True)"
   ]
  },
  {
   "cell_type": "code",
   "execution_count": 71,
   "metadata": {},
   "outputs": [
    {
     "name": "stdout",
     "output_type": "stream",
     "text": [
      "Whole All Three\n",
      "Spanish Token Average:  182.3148148148148 \n",
      "Korean Token Average:  210.0867924528302 \n",
      "Chinese Token Average: 211.56521739130434\n"
     ]
    }
   ],
   "source": [
    "print('Whole All Three')\n",
    "finding_tokens(stu_ans_crs,all_three,'native_language','text_len',qcount_entire)"
   ]
  },
  {
   "cell_type": "code",
   "execution_count": 72,
   "metadata": {},
   "outputs": [
    {
     "name": "stdout",
     "output_type": "stream",
     "text": [
      "Whole 3-4\n",
      "Spanish Token Average:  187.2675159235669 \n",
      "Korean Token Average:  187.3137886597938 \n",
      "Chinese Token Average: 195.03528114663726\n"
     ]
    }
   ],
   "source": [
    "print('Whole 3-4')\n",
    "finding_tokens(stu_ans_crs,lvls34,'native_language','text_len',qcount_entire)"
   ]
  },
  {
   "cell_type": "code",
   "execution_count": 73,
   "metadata": {},
   "outputs": [
    {
     "name": "stdout",
     "output_type": "stream",
     "text": [
      "Whole 4-5\n",
      "Spanish Token Average:  219.95302013422818 \n",
      "Korean Token Average:  236.97821681864235 \n",
      "Chinese Token Average: 247.12580834803057\n"
     ]
    }
   ],
   "source": [
    "print('Whole 4-5')\n",
    "finding_tokens(stu_ans_crs,lvls45,'native_language','text_len',qcount_entire)"
   ]
  },
  {
   "cell_type": "code",
   "execution_count": 74,
   "metadata": {},
   "outputs": [
    {
     "name": "stdout",
     "output_type": "stream",
     "text": [
      "Whole All Three, Level 3\n",
      "Spanish Average:  105.19444444444444\n",
      "Korean Average:  163.57309941520467\n",
      "Chinese Average:  143.54464285714286\n"
     ]
    }
   ],
   "source": [
    "print('Whole All Three, Level 3')\n",
    "tokenAvg(sort_sac,'text_len','native_language',all_three,3)\n"
   ]
  },
  {
   "cell_type": "code",
   "execution_count": 75,
   "metadata": {},
   "outputs": [
    {
     "name": "stdout",
     "output_type": "stream",
     "text": [
      "Whole All Three, Level 4\n",
      "Spanish Average:  249.21153846153845\n",
      "Korean Average:  232.37891737891738\n",
      "Chinese Average:  207.9468085106383\n"
     ]
    }
   ],
   "source": [
    "print('Whole All Three, Level 4')\n",
    "tokenAvg(sort_sac,'text_len','native_language',all_three,4)"
   ]
  },
  {
   "cell_type": "code",
   "execution_count": 76,
   "metadata": {},
   "outputs": [
    {
     "name": "stdout",
     "output_type": "stream",
     "text": [
      "Whole All Three, Level 5\n",
      "Spanish Average:  147.2\n",
      "Korean Average:  210.56043956043956\n",
      "Chinese Average:  267.2420382165605\n"
     ]
    }
   ],
   "source": [
    "print('Whole All Three, Level 5')\n",
    "tokenAvg(sort_sac,'text_len','native_language',all_three,5)"
   ]
  },
  {
   "cell_type": "code",
   "execution_count": 77,
   "metadata": {},
   "outputs": [
    {
     "name": "stdout",
     "output_type": "stream",
     "text": [
      "Whole 3-4, Level 3\n",
      "Spanish Average:  115.32835820895522\n",
      "Korean Average:  141.3293172690763\n",
      "Chinese Average:  144.34782608695653\n"
     ]
    }
   ],
   "source": [
    "print('Whole 3-4, Level 3')\n",
    "tokenAvg(sort_sac,'text_len','native_language',lvls34,3)"
   ]
  },
  {
   "cell_type": "code",
   "execution_count": 78,
   "metadata": {},
   "outputs": [
    {
     "name": "stdout",
     "output_type": "stream",
     "text": [
      "Whole 3-4, Level 4\n",
      "Spanish Average:  267.57142857142856\n",
      "Korean Average:  211.13202614379085\n",
      "Chinese Average:  207.68941176470588\n"
     ]
    }
   ],
   "source": [
    "print('Whole 3-4, Level 4')\n",
    "tokenAvg(sort_sac,'text_len','native_language',lvls34,4)"
   ]
  },
  {
   "cell_type": "code",
   "execution_count": 79,
   "metadata": {},
   "outputs": [
    {
     "name": "stdout",
     "output_type": "stream",
     "text": [
      "Whole 4-5, Level 4\n",
      "Spanish Average:  244.72027972027973\n",
      "Korean Average:  224.41098677517803\n",
      "Chinese Average:  225.59795134443021\n"
     ]
    }
   ],
   "source": [
    "print('Whole 4-5, Level 4')\n",
    "tokenAvg(sort_sac,'text_len','native_language',lvls45,4)"
   ]
  },
  {
   "cell_type": "code",
   "execution_count": 80,
   "metadata": {},
   "outputs": [
    {
     "name": "stdout",
     "output_type": "stream",
     "text": [
      "Whole 4-5, Level 5\n",
      "Spanish Average:  224.9075630252101\n",
      "Korean Average:  267.35121951219514\n",
      "Chinese Average:  283.1055900621118\n"
     ]
    }
   ],
   "source": [
    "print('Whole 4-5, Level 5')\n",
    "tokenAvg(sort_sac,'text_len','native_language',lvls45,5)"
   ]
  },
  {
   "cell_type": "markdown",
   "metadata": {},
   "source": [
    "# Finding Unique Word Counts for Loose"
   ]
  },
  {
   "cell_type": "code",
   "execution_count": 81,
   "metadata": {},
   "outputs": [
    {
     "name": "stdout",
     "output_type": "stream",
     "text": [
      "Loose 3-5, Level 3\n",
      "Spanish Average:  59.6\n",
      "Korean Average:  74.16666666666667\n",
      "Chinese Average:  72.27272727272727\n"
     ]
    }
   ],
   "source": [
    "print(\"Loose 3-5, Level 3\")\n",
    "tokenAvg(textcount_loose,'wordtype_len','L1',all_three_loose,3)"
   ]
  },
  {
   "cell_type": "code",
   "execution_count": 82,
   "metadata": {},
   "outputs": [
    {
     "name": "stdout",
     "output_type": "stream",
     "text": [
      "Loose 3-5, Level 4\n",
      "Spanish Average:  92.7\n",
      "Korean Average:  96.875\n",
      "Chinese Average:  122.14285714285714\n"
     ]
    }
   ],
   "source": [
    "print(\"Loose 3-5, Level 4\")\n",
    "tokenAvg(textcount_loose,'wordtype_len','L1',all_three_loose,4)"
   ]
  },
  {
   "cell_type": "code",
   "execution_count": 83,
   "metadata": {},
   "outputs": [
    {
     "name": "stdout",
     "output_type": "stream",
     "text": [
      "Loose 3-5, Level 5\n",
      "Spanish Average:  67.66666666666667\n",
      "Korean Average:  116.5\n",
      "Chinese Average:  99.4375\n"
     ]
    }
   ],
   "source": [
    "print(\"Loose 3-5, Level 5\")\n",
    "tokenAvg(textcount_loose,'wordtype_len','L1',all_three_loose,5)"
   ]
  },
  {
   "cell_type": "code",
   "execution_count": 84,
   "metadata": {},
   "outputs": [
    {
     "name": "stdout",
     "output_type": "stream",
     "text": [
      "Loose 3-4, Level 3\n",
      "Spanish Average:  62.5\n",
      "Korean Average:  69.05357142857143\n",
      "Chinese Average:  73.1\n"
     ]
    }
   ],
   "source": [
    "print(\"Loose 3-4, Level 3\")\n",
    "tokenAvg(textcount_loose,'wordtype_len','L1',in34_loose,3)"
   ]
  },
  {
   "cell_type": "code",
   "execution_count": 85,
   "metadata": {},
   "outputs": [
    {
     "name": "stdout",
     "output_type": "stream",
     "text": [
      "Loose 3-4, Level 4\n",
      "Spanish Average:  92.71428571428571\n",
      "Korean Average:  90.70930232558139\n",
      "Chinese Average:  102.27777777777777\n"
     ]
    }
   ],
   "source": [
    "print(\"Loose 3-4, Level 4\")\n",
    "tokenAvg(textcount_loose,'wordtype_len','L1',in34_loose,4)"
   ]
  },
  {
   "cell_type": "code",
   "execution_count": 86,
   "metadata": {},
   "outputs": [
    {
     "name": "stdout",
     "output_type": "stream",
     "text": [
      "Loose 4-5, Level 4\n",
      "Spanish Average:  110.63636363636364\n",
      "Korean Average:  98.26815642458101\n",
      "Chinese Average:  104.84210526315789\n"
     ]
    }
   ],
   "source": [
    "print(\"Loose 4-5, Level 4\")\n",
    "tokenAvg(textcount_loose,'wordtype_len','L1',in45_loose,4)"
   ]
  },
  {
   "cell_type": "code",
   "execution_count": 87,
   "metadata": {},
   "outputs": [
    {
     "name": "stdout",
     "output_type": "stream",
     "text": [
      "Loose 4-5, Level 5\n",
      "Spanish Average:  110.61538461538461\n",
      "Korean Average:  144.01923076923077\n",
      "Chinese Average:  133.6549295774648\n"
     ]
    }
   ],
   "source": [
    "print(\"Loose 4-5, Level 5\")\n",
    "tokenAvg(textcount_loose,'wordtype_len','L1',in45_loose,5)"
   ]
  },
  {
   "cell_type": "markdown",
   "metadata": {},
   "source": [
    "# Unique Word Counts Whole Dataset"
   ]
  },
  {
   "cell_type": "code",
   "execution_count": 88,
   "metadata": {},
   "outputs": [
    {
     "name": "stdout",
     "output_type": "stream",
     "text": [
      "Whole 3-5, Level 3\n",
      "Spanish Average:  61.19444444444444\n",
      "Korean Average:  87.5906432748538\n",
      "Chinese Average:  80.59821428571429\n"
     ]
    }
   ],
   "source": [
    "print(\"Whole 3-5, Level 3\")\n",
    "tokenAvg(sort_sac,'wordtype_len','native_language',all_three,3)"
   ]
  },
  {
   "cell_type": "code",
   "execution_count": 89,
   "metadata": {},
   "outputs": [
    {
     "name": "stdout",
     "output_type": "stream",
     "text": [
      "Whole 3-5, Level 4\n",
      "Spanish Average:  117.61538461538461\n",
      "Korean Average:  113.98290598290598\n",
      "Chinese Average:  105.06914893617021\n"
     ]
    }
   ],
   "source": [
    "print(\"Whole 3-5, Level 4\")\n",
    "tokenAvg(sort_sac,'wordtype_len','native_language',all_three,4)"
   ]
  },
  {
   "cell_type": "code",
   "execution_count": 90,
   "metadata": {},
   "outputs": [
    {
     "name": "stdout",
     "output_type": "stream",
     "text": [
      "Whole 3-5, Level 5\n",
      "Spanish Average:  85.6\n",
      "Korean Average:  103.13553113553114\n",
      "Chinese Average:  127.6624203821656\n"
     ]
    }
   ],
   "source": [
    "print(\"Whole 3-5, Level 5\")\n",
    "tokenAvg(sort_sac,'wordtype_len','native_language',all_three,5)"
   ]
  },
  {
   "cell_type": "code",
   "execution_count": 91,
   "metadata": {},
   "outputs": [
    {
     "name": "stdout",
     "output_type": "stream",
     "text": [
      "Whole 3-4, Level 3\n",
      "Spanish Average:  64.94029850746269\n",
      "Korean Average:  78.77309236947791\n",
      "Chinese Average:  77.59937888198758\n"
     ]
    }
   ],
   "source": [
    "print(\"Whole 3-4, Level 3\")\n",
    "tokenAvg(sort_sac,'wordtype_len','native_language',lvls34,3)"
   ]
  },
  {
   "cell_type": "code",
   "execution_count": 92,
   "metadata": {},
   "outputs": [
    {
     "name": "stdout",
     "output_type": "stream",
     "text": [
      "Whole 3-4, Level 4\n",
      "Spanish Average:  123.14285714285714\n",
      "Korean Average:  106.1032679738562\n",
      "Chinese Average:  104.78117647058824\n"
     ]
    }
   ],
   "source": [
    "print(\"Whole 3-4, Level 4\")\n",
    "tokenAvg(sort_sac,'wordtype_len','native_language',lvls34,4)"
   ]
  },
  {
   "cell_type": "code",
   "execution_count": 93,
   "metadata": {},
   "outputs": [
    {
     "name": "stdout",
     "output_type": "stream",
     "text": [
      "Whole 4-5, Level 4\n",
      "Spanish Average:  119.08391608391608\n",
      "Korean Average:  111.34893184130213\n",
      "Chinese Average:  114.32266325224072\n"
     ]
    }
   ],
   "source": [
    "print(\"Whole 4-5, Level 4\")\n",
    "tokenAvg(sort_sac,'wordtype_len','native_language',lvls45,4)"
   ]
  },
  {
   "cell_type": "code",
   "execution_count": 94,
   "metadata": {},
   "outputs": [
    {
     "name": "stdout",
     "output_type": "stream",
     "text": [
      "Whole 4-5, Level 5\n",
      "Spanish Average:  114.3109243697479\n",
      "Korean Average:  124.68170731707318\n",
      "Chinese Average:  133.51925465838508\n"
     ]
    }
   ],
   "source": [
    "print(\"Whole 4-5, Level 5\")\n",
    "tokenAvg(sort_sac,'wordtype_len','native_language',lvls45,5)"
   ]
  },
  {
   "cell_type": "markdown",
   "metadata": {},
   "source": [
    "# Token/Type Ratio Loose"
   ]
  },
  {
   "cell_type": "code",
   "execution_count": 95,
   "metadata": {},
   "outputs": [
    {
     "name": "stdout",
     "output_type": "stream",
     "text": [
      "Loose 3-5 Ratio, Level 3\n",
      "Spanish Ratio:  0.5854616895874264\n",
      "Korean Ratio:  0.5514250309789344\n",
      "Chinese Ratio:  0.5482758620689655\n"
     ]
    }
   ],
   "source": [
    "print(\"Loose 3-5 Ratio, Level 3\")\n",
    "ratio(textcount_loose,'text3_len','wordtype_len','L1',all_three_loose,3)"
   ]
  },
  {
   "cell_type": "code",
   "execution_count": 96,
   "metadata": {},
   "outputs": [
    {
     "name": "stdout",
     "output_type": "stream",
     "text": [
      "Loose 3-5 Ratio, Level 4\n",
      "Spanish Ratio:  0.5373913043478261\n",
      "Korean Ratio:  0.5058746736292428\n",
      "Chinese Ratio:  0.46241211465657106\n"
     ]
    }
   ],
   "source": [
    "print(\"Loose 3-5 Ratio, Level 4\")\n",
    "ratio(textcount_loose,'text3_len','wordtype_len','L1',all_three_loose,4)"
   ]
  },
  {
   "cell_type": "code",
   "execution_count": 97,
   "metadata": {},
   "outputs": [
    {
     "name": "stdout",
     "output_type": "stream",
     "text": [
      "Loose 3-5 Ratio, Level 5\n",
      "Spanish Ratio:  0.6485623003194889\n",
      "Korean Ratio:  0.5521327014218009\n",
      "Chinese Ratio:  0.5107544141252006\n"
     ]
    }
   ],
   "source": [
    "print(\"Loose 3-5 Ratio, Level 5\")\n",
    "ratio(textcount_loose,'text3_len','wordtype_len','L1',all_three_loose,5)"
   ]
  },
  {
   "cell_type": "code",
   "execution_count": 98,
   "metadata": {},
   "outputs": [
    {
     "name": "stdout",
     "output_type": "stream",
     "text": [
      "Loose 3-4 Ratio, Level 3\n",
      "Spanish Ratio:  0.5744485294117647\n",
      "Korean Ratio:  0.5691786870768325\n",
      "Chinese Ratio:  0.5285610990600144\n"
     ]
    }
   ],
   "source": [
    "print(\"Loose 3-4 Ratio, Level 3\")\n",
    "ratio(textcount_loose,'text3_len','wordtype_len','L1',in34_loose,3)"
   ]
  },
  {
   "cell_type": "code",
   "execution_count": 99,
   "metadata": {},
   "outputs": [
    {
     "name": "stdout",
     "output_type": "stream",
     "text": [
      "Loose 3-4 Ratio, Level 4\n",
      "Spanish Ratio:  0.5252225519287833\n",
      "Korean Ratio:  0.535268285988747\n",
      "Chinese Ratio:  0.5096899224806202\n"
     ]
    }
   ],
   "source": [
    "print(\"Loose 3-4 Ratio, Level 4\")\n",
    "ratio(textcount_loose,'text3_len','wordtype_len','L1',in34_loose,4)"
   ]
  },
  {
   "cell_type": "code",
   "execution_count": 100,
   "metadata": {},
   "outputs": [
    {
     "name": "stdout",
     "output_type": "stream",
     "text": [
      "Loose 4-5 Ratio, Level 4\n",
      "Spanish Ratio:  0.5151322751322751\n",
      "Korean Ratio:  0.5261426178511606\n",
      "Chinese Ratio:  0.503348073278585\n"
     ]
    }
   ],
   "source": [
    "print(\"Loose 4-5 Ratio, Level 4\")\n",
    "ratio(textcount_loose,'text3_len','wordtype_len','L1',in45_loose,4)"
   ]
  },
  {
   "cell_type": "code",
   "execution_count": 101,
   "metadata": {},
   "outputs": [
    {
     "name": "stdout",
     "output_type": "stream",
     "text": [
      "Loose 4-5 Ratio, Level 5\n",
      "Spanish Ratio:  0.5299428782015847\n",
      "Korean Ratio:  0.45898323782673983\n",
      "Chinese Ratio:  0.47959467313572385\n"
     ]
    }
   ],
   "source": [
    "print(\"Loose 4-5 Ratio, Level 5\")\n",
    "ratio(textcount_loose,'text3_len','wordtype_len','L1',in45_loose,5)"
   ]
  },
  {
   "cell_type": "markdown",
   "metadata": {},
   "source": [
    "# Type/Token Ratio Whole Dataset"
   ]
  },
  {
   "cell_type": "code",
   "execution_count": 102,
   "metadata": {},
   "outputs": [
    {
     "name": "stdout",
     "output_type": "stream",
     "text": [
      "Whole 3-5, Level 3\n",
      "Spanish Ratio:  0.581726960654872\n",
      "Korean Ratio:  0.5354831790068285\n",
      "Chinese Ratio:  0.5614853517447285\n"
     ]
    }
   ],
   "source": [
    "print(\"Whole 3-5, Level 3\")\n",
    "ratio(sort_sac,'text_len','wordtype_len','native_language',all_three,3)"
   ]
  },
  {
   "cell_type": "code",
   "execution_count": 103,
   "metadata": {},
   "outputs": [
    {
     "name": "stdout",
     "output_type": "stream",
     "text": [
      "Whole 3-5, Level 4\n",
      "Spanish Ratio:  0.4719499961416776\n",
      "Korean Ratio:  0.4905045056090234\n",
      "Chinese Ratio:  0.5052693507955185\n"
     ]
    }
   ],
   "source": [
    "print(\"Whole 3-5, Level 4\")\n",
    "ratio(sort_sac,'text_len','wordtype_len','native_language',all_three,4)"
   ]
  },
  {
   "cell_type": "code",
   "execution_count": 104,
   "metadata": {},
   "outputs": [
    {
     "name": "stdout",
     "output_type": "stream",
     "text": [
      "Whole 3-5, Level 5\n",
      "Spanish Ratio:  0.5815217391304348\n",
      "Korean Ratio:  0.4898143799036237\n",
      "Chinese Ratio:  0.477703362966847\n"
     ]
    }
   ],
   "source": [
    "print(\"Whole 3-5, Level 5\")\n",
    "ratio(sort_sac,'text_len','wordtype_len','native_language',all_three,5)"
   ]
  },
  {
   "cell_type": "code",
   "execution_count": 105,
   "metadata": {},
   "outputs": [
    {
     "name": "stdout",
     "output_type": "stream",
     "text": [
      "Whole 3-4, Level 3\n",
      "Spanish Ratio:  0.5630904620163064\n",
      "Korean Ratio:  0.5573726236821914\n",
      "Chinese Ratio:  0.5375860585197935\n"
     ]
    }
   ],
   "source": [
    "print(\"Whole 3-4, Level 3\")\n",
    "ratio(sort_sac,'text_len','wordtype_len','native_language',lvls34,3)"
   ]
  },
  {
   "cell_type": "code",
   "execution_count": 106,
   "metadata": {},
   "outputs": [
    {
     "name": "stdout",
     "output_type": "stream",
     "text": [
      "Whole 3-4, Level 4\n",
      "Spanish Ratio:  0.4602242391884677\n",
      "Korean Ratio:  0.5025446395403551\n",
      "Chinese Ratio:  0.5045089953323968\n"
     ]
    }
   ],
   "source": [
    "print(\"Whole 3-4, Level 4\")\n",
    "ratio(sort_sac,'text_len','wordtype_len','native_language',lvls34,4)"
   ]
  },
  {
   "cell_type": "code",
   "execution_count": 107,
   "metadata": {},
   "outputs": [
    {
     "name": "stdout",
     "output_type": "stream",
     "text": [
      "Whole 4-5, Level 4\n",
      "Spanish Ratio:  0.48661237319617084\n",
      "Korean Ratio:  0.49618306768935067\n",
      "Chinese Ratio:  0.5067539956411188\n"
     ]
    }
   ],
   "source": [
    "print(\"Whole 4-5, Level 4\")\n",
    "ratio(sort_sac,'text_len','wordtype_len','native_language',lvls45,4)"
   ]
  },
  {
   "cell_type": "code",
   "execution_count": 108,
   "metadata": {},
   "outputs": [
    {
     "name": "stdout",
     "output_type": "stream",
     "text": [
      "Whole 4-5, Level 5\n",
      "Spanish Ratio:  0.508257360633687\n",
      "Korean Ratio:  0.46635922418669146\n",
      "Chinese Ratio:  0.471623519087319\n"
     ]
    }
   ],
   "source": [
    "print(\"Whole 4-5, Level 5\")\n",
    "ratio(sort_sac,'text_len','wordtype_len','native_language',lvls45,5)"
   ]
  },
  {
   "cell_type": "markdown",
   "metadata": {},
   "source": [
    "# Visualizations"
   ]
  },
  {
   "cell_type": "code",
   "execution_count": 109,
   "metadata": {},
   "outputs": [],
   "source": [
    "def tokens(df,textlencol,lang, id_list,lvl):\n",
    "    index=0\n",
    "    #total token count\n",
    "    spanish=0\n",
    "    chinese=0\n",
    "    korean=0\n",
    "    #number of questions\n",
    "    qcounts=0\n",
    "    qcountc=0\n",
    "    qcountk=0\n",
    "\n",
    "    for anon in df['anon_id']:\n",
    "        if df.at[index,'level_id']==lvl and df.at[index,'anon_id'] in id_list:\n",
    "            textlen=df.at[index,textlencol]\n",
    "            textlen=int(textlen)\n",
    "            if df.at[index,lang]=='Spanish':\n",
    "                spanish+=textlen\n",
    "                qcounts+=1\n",
    "            elif df.at[index,lang]=='Korean':\n",
    "                korean+=textlen\n",
    "                qcountk+=1\n",
    "            elif df.at[index,lang]=='Chinese':\n",
    "                chinese+=textlen\n",
    "                qcountc+=1\n",
    "        index+=1\n",
    "                \n",
    "    return spanish/qcounts, korean/qcountk, chinese/qcountc"
   ]
  },
  {
   "cell_type": "code",
   "execution_count": 110,
   "metadata": {},
   "outputs": [],
   "source": [
    "def ratio( wspan, wkor, wchin,tspan, tkor, tchin):\n",
    "    span_ratio=wspan/tspan\n",
    "    kor_ratio=wkor/tkor\n",
    "    chin_ratio=wchin/tchin\n",
    "    \n",
    "    return(span_ratio, kor_ratio, chin_ratio)"
   ]
  },
  {
   "cell_type": "code",
   "execution_count": 111,
   "metadata": {},
   "outputs": [],
   "source": [
    "def make_df(s3,k3,c3,s4,k4,c4,s5,k5,c5):\n",
    "    df=pd.DataFrame({'Language':['Spanish','Korean','Chinese',\n",
    "                            'Spanish','Korean','Chinese',\n",
    "                            'Spanish','Korean','Chinese'],\n",
    "                   'Count':[s3,k3,c3,\n",
    "                                  s4,k4,c4,\n",
    "                                  s5,k5,c5],\n",
    "                   'Level':['3','3','3',\n",
    "                           '4','4','4',\n",
    "                           '5','5','5']})\n",
    "    return df"
   ]
  },
  {
   "cell_type": "code",
   "execution_count": 112,
   "metadata": {},
   "outputs": [],
   "source": [
    "def make_df2(s3,k3,c3,s4,k4,c4):\n",
    "    df=pd.DataFrame({'Language':['Spanish','Korean','Chinese',\n",
    "                            'Spanish','Korean','Chinese'],\n",
    "                   'Count':[s3,k3,c3,\n",
    "                            s4,k4,c4,],\n",
    "                   'Level':['3','3','3',\n",
    "                           '4','4','4']})\n",
    "    return df"
   ]
  },
  {
   "cell_type": "markdown",
   "metadata": {},
   "source": [
    "# Loose 3-5"
   ]
  },
  {
   "cell_type": "code",
   "execution_count": 113,
   "metadata": {},
   "outputs": [],
   "source": [
    "#token averages for each level\n",
    "lspan353, lkor353, lchin353=tokens(textsort_loose,'text3_len','L1',all_three_loose, 3)\n",
    "lspan354, lkor354, lchin354=tokens(textsort_loose,'text3_len','L1',all_three_loose, 4)\n",
    "lspan355, lkor355, lchin355=tokens(textsort_loose,'text3_len','L1',all_three_loose, 5)\n",
    "\n",
    "#word type averages for each level\n",
    "wspan353, wkor353, wchin353=tokens(textsort_loose,'wordtype_len','L1',all_three_loose,3)\n",
    "wspan354, wkor354, wchin354=tokens(textsort_loose,'wordtype_len','L1',all_three_loose,4)\n",
    "wspan355, wkor355, wchin355=tokens(textsort_loose,'wordtype_len','L1',all_three_loose,5)\n",
    "\n",
    "#ratios for each level\n",
    "rspan353, rkor353, rchin353=ratio( wspan353, wkor353, wchin353,lspan353, lkor353, lchin353)\n",
    "rspan354, rkor354, rchin354=ratio(wspan354, wkor354, wchin354, lspan354, lkor354, lchin354)\n",
    "rspan355, rkor355, rchin355=ratio( wspan355, wkor355, wchin355, lspan355, lkor355, lchin355)"
   ]
  },
  {
   "cell_type": "code",
   "execution_count": 114,
   "metadata": {},
   "outputs": [
    {
     "data": {
      "text/plain": [
       "Text(0.5, 1.0, 'Average Token Distribution: Loose 3-5')"
      ]
     },
     "execution_count": 114,
     "metadata": {},
     "output_type": "execute_result"
    },
    {
     "data": {
      "image/png": "[encoded data removed]",
      "text/plain": [
       "<Figure size 432x288 with 1 Axes>"
      ]
     },
     "metadata": {},
     "output_type": "display_data"
    }
   ],
   "source": [
    "#set seaborn plotting aesthetics\n",
    "token_loose35=make_df(lspan353,lkor353,lchin353, lspan354,lkor354,lchin354, lspan355,lkor355,lchin355)\n",
    "sns.set(style='whitegrid')\n",
    "\n",
    "#create grouped bar chart\n",
    "sns.barplot(x='Language', y='Count', hue='Level', data=token_loose35, palette='twilight')\n",
    "plt.title(\"Average Token Distribution: Loose 3-5\")"
   ]
  },
  {
   "cell_type": "code",
   "execution_count": 115,
   "metadata": {},
   "outputs": [
    {
     "data": {
      "text/plain": [
       "Text(0.5, 1.0, 'Average Word Type Distribution: Loose 3-5')"
      ]
     },
     "execution_count": 115,
     "metadata": {},
     "output_type": "execute_result"
    },
    {
     "data": {
      "image/png": "[encoded data removed]",
      "text/plain": [
       "<Figure size 432x288 with 1 Axes>"
      ]
     },
     "metadata": {},
     "output_type": "display_data"
    }
   ],
   "source": [
    "#set seaborn plotting aesthetics\n",
    "wordtype_loose35=make_df(wspan353, wkor353, wchin353,wspan354, wkor354, wchin354,wspan355, wkor355, wchin355)\n",
    "sns.set(style='whitegrid')\n",
    "\n",
    "#create grouped bar chart\n",
    "sns.barplot(x='Language', y='Count', hue='Level', data=wordtype_loose35, palette='PuBuGn')\n",
    "plt.title(\"Average Word Type Distribution: Loose 3-5\")"
   ]
  },
  {
   "cell_type": "code",
   "execution_count": 116,
   "metadata": {},
   "outputs": [
    {
     "data": {
      "text/plain": [
       "Text(0.5, 1.0, 'Ratio Distribution: Loose 3-5')"
      ]
     },
     "execution_count": 116,
     "metadata": {},
     "output_type": "execute_result"
    },
    {
     "data": {
      "image/png": "[encoded data removed]",
      "text/plain": [
       "<Figure size 432x288 with 1 Axes>"
      ]
     },
     "metadata": {},
     "output_type": "display_data"
    }
   ],
   "source": [
    "#set seaborn plotting aesthetics\n",
    "wordtype_loose35=make_df(rspan353, rkor353, rchin353,rspan354, rkor354, rchin354,rspan355, rkor355, rchin355)\n",
    "sns.set(style='whitegrid')\n",
    "\n",
    "#create grouped bar chart\n",
    "sns.barplot(x='Language', y='Count', hue='Level', data=wordtype_loose35, palette='PuRd')\n",
    "plt.title(\"Ratio Distribution: Loose 3-5\")\n"
   ]
  },
  {
   "cell_type": "markdown",
   "metadata": {},
   "source": [
    "# Loose 3-4"
   ]
  },
  {
   "cell_type": "code",
   "execution_count": 117,
   "metadata": {},
   "outputs": [],
   "source": [
    "#token averages for each level\n",
    "lspan343, lkor343, lchin343=tokens(textsort_loose,'text3_len','L1',in34_loose, 3)\n",
    "lspan344, lkor344, lchin344=tokens(textsort_loose,'text3_len','L1',in34_loose, 4)\n",
    "\n",
    "#word type averages for each level\n",
    "wspan343, wkor343, wchin343=tokens(textsort_loose,'wordtype_len','L1',in34_loose,3)\n",
    "wspan344, wkor344, wchin344=tokens(textsort_loose,'wordtype_len','L1',in34_loose,4)\n",
    "\n",
    "#ratios for each level\n",
    "rspan343, rkor343, rchin343=ratio(wspan343, wkor343, wchin343, lspan343, lkor343, lchin343)\n",
    "rspan344, rkor344, rchin344=ratio( wspan344, wkor344, wchin344,lspan344, lkor344, lchin344)"
   ]
  },
  {
   "cell_type": "code",
   "execution_count": 118,
   "metadata": {},
   "outputs": [
    {
     "data": {
      "text/plain": [
       "Text(0.5, 1.0, 'Average Token Distribution: Loose 3-4')"
      ]
     },
     "execution_count": 118,
     "metadata": {},
     "output_type": "execute_result"
    },
    {
     "data": {
      "image/png": "[encoded data removed]",
      "text/plain": [
       "<Figure size 432x288 with 1 Axes>"
      ]
     },
     "metadata": {},
     "output_type": "display_data"
    }
   ],
   "source": [
    "#set seaborn plotting aesthetics\n",
    "token_loose34=make_df2(lspan343,lkor343,lchin343, lspan344,lkor344,lchin344)\n",
    "sns.set(style='whitegrid')\n",
    "\n",
    "#create grouped bar chart\n",
    "sns.barplot(x='Language', y='Count', hue='Level', data=token_loose34, palette='twilight')\n",
    "plt.title(\"Average Token Distribution: Loose 3-4\")"
   ]
  },
  {
   "cell_type": "code",
   "execution_count": 119,
   "metadata": {},
   "outputs": [
    {
     "data": {
      "text/plain": [
       "Text(0.5, 1.0, 'Average Word Type Distribution: Loose 3-4')"
      ]
     },
     "execution_count": 119,
     "metadata": {},
     "output_type": "execute_result"
    },
    {
     "data": {
      "image/png": "[encoded data removed]",
      "text/plain": [
       "<Figure size 432x288 with 1 Axes>"
      ]
     },
     "metadata": {},
     "output_type": "display_data"
    }
   ],
   "source": [
    "#set seaborn plotting aesthetics\n",
    "wordtype_loose34=make_df2(wspan343, wkor343, wchin343,wspan344, wkor344, wchin344)\n",
    "sns.set(style='whitegrid')\n",
    "\n",
    "#create grouped bar chart\n",
    "sns.barplot(x='Language', y='Count', hue='Level', data=wordtype_loose34, palette='PuBuGn')\n",
    "plt.title(\"Average Word Type Distribution: Loose 3-4\")"
   ]
  },
  {
   "cell_type": "code",
   "execution_count": 120,
   "metadata": {},
   "outputs": [
    {
     "data": {
      "text/plain": [
       "Text(0.5, 1.0, 'Ratio Distribution: Loose 3-4')"
      ]
     },
     "execution_count": 120,
     "metadata": {},
     "output_type": "execute_result"
    },
    {
     "data": {
      "image/png": "[encoded data removed]",
      "text/plain": [
       "<Figure size 432x288 with 1 Axes>"
      ]
     },
     "metadata": {},
     "output_type": "display_data"
    }
   ],
   "source": [
    "#set seaborn plotting aesthetics\n",
    "wordtype_loose34=make_df2(rspan343, rkor343, rchin343,rspan344, rkor344, rchin344)\n",
    "sns.set(style='whitegrid')\n",
    "\n",
    "#create grouped bar chart\n",
    "sns.barplot(x='Language', y='Count', hue='Level', data=wordtype_loose34, palette='PuRd')\n",
    "plt.title(\"Ratio Distribution: Loose 3-4\")"
   ]
  },
  {
   "cell_type": "markdown",
   "metadata": {},
   "source": [
    "# Loose 4-5"
   ]
  },
  {
   "cell_type": "code",
   "execution_count": 121,
   "metadata": {},
   "outputs": [],
   "source": [
    "#token averages for each level\n",
    "lspan454, lkor454, lchin454=tokens(textsort_loose,'text3_len','L1',in45_loose, 4)\n",
    "lspan455, lkor455, lchin455=tokens(textsort_loose,'text3_len','L1',in45_loose, 5)\n",
    "\n",
    "#word type averages for each level\n",
    "wspan454, wkor454, wchin454=tokens(textsort_loose,'wordtype_len','L1',in45_loose,4)\n",
    "wspan455, wkor455, wchin455=tokens(textsort_loose,'wordtype_len','L1',in45_loose,5)\n",
    "\n",
    "#ratios for each level\n",
    "rspan454, rkor454, rchin454=ratio(wspan454, wkor454, wchin454, lspan454, lkor454, lchin454)\n",
    "rspan455, rkor455, rchin455=ratio( wspan455, wkor455, wchin455,lspan455, lkor455, lchin455)"
   ]
  },
  {
   "cell_type": "code",
   "execution_count": 122,
   "metadata": {},
   "outputs": [
    {
     "data": {
      "text/plain": [
       "Text(0.5, 1.0, 'Average Token Distribution: Loose 4-5')"
      ]
     },
     "execution_count": 122,
     "metadata": {},
     "output_type": "execute_result"
    },
    {
     "data": {
      "image/png": "[encoded data removed]",
      "text/plain": [
       "<Figure size 432x288 with 1 Axes>"
      ]
     },
     "metadata": {},
     "output_type": "display_data"
    }
   ],
   "source": [
    "#set seaborn plotting aesthetics\n",
    "token_loose45=make_df2(lspan454,lkor454,lchin454, lspan455,lkor455,lchin455)\n",
    "sns.set(style='whitegrid')\n",
    "\n",
    "#create grouped bar chart\n",
    "sns.barplot(x='Language', y='Count', hue='Level', data=token_loose45, palette='twilight')\n",
    "plt.title(\"Average Token Distribution: Loose 4-5\")"
   ]
  },
  {
   "cell_type": "code",
   "execution_count": 123,
   "metadata": {},
   "outputs": [
    {
     "data": {
      "text/plain": [
       "Text(0.5, 1.0, 'Average Word Type Distribution: Loose 4-5')"
      ]
     },
     "execution_count": 123,
     "metadata": {},
     "output_type": "execute_result"
    },
    {
     "data": {
      "image/png": "[encoded data removed]",
      "text/plain": [
       "<Figure size 432x288 with 1 Axes>"
      ]
     },
     "metadata": {},
     "output_type": "display_data"
    }
   ],
   "source": [
    "#set seaborn plotting aesthetics\n",
    "wordtype_loose45=make_df2(wspan454, wkor454, wchin454,wspan455, wkor455, wchin455)\n",
    "sns.set(style='whitegrid')\n",
    "\n",
    "#create grouped bar chart\n",
    "sns.barplot(x='Language', y='Count', hue='Level', data=wordtype_loose45, palette='PuBuGn')\n",
    "plt.title(\"Average Word Type Distribution: Loose 4-5\")"
   ]
  },
  {
   "cell_type": "code",
   "execution_count": 124,
   "metadata": {},
   "outputs": [
    {
     "data": {
      "text/plain": [
       "Text(0.5, 1.0, 'Ratio Distribution: Loose 4-5')"
      ]
     },
     "execution_count": 124,
     "metadata": {},
     "output_type": "execute_result"
    },
    {
     "data": {
      "image/png": "[encoded data removed]",
      "text/plain": [
       "<Figure size 432x288 with 1 Axes>"
      ]
     },
     "metadata": {},
     "output_type": "display_data"
    }
   ],
   "source": [
    "#set seaborn plotting aesthetics\n",
    "wordtype_loose45=make_df2(rspan454, rkor454, rchin454,rspan455, rkor455, rchin455)\n",
    "sns.set(style='whitegrid')\n",
    "\n",
    "#create grouped bar chart\n",
    "sns.barplot(x='Language', y='Count', hue='Level', data=wordtype_loose45, palette='PuRd')\n",
    "plt.title(\"Ratio Distribution: Loose 4-5\")"
   ]
  },
  {
   "cell_type": "markdown",
   "metadata": {},
   "source": [
    "# Whole 3-5"
   ]
  },
  {
   "cell_type": "code",
   "execution_count": 125,
   "metadata": {},
   "outputs": [],
   "source": [
    "#token averages for each level\n",
    "wtspan353, wtkor353, wtchin353=tokens(sort_sac,'text_len','native_language',all_three,3)\n",
    "wtspan354, wtkor354, wtchin354=tokens(sort_sac,'text_len','native_language',all_three, 4)\n",
    "wtspan355, wtkor355, wtchin355=tokens(sort_sac,'text_len','native_language',all_three, 5)\n",
    "\n",
    "#word type averages for each level\n",
    "wwspan353, wwkor353, wwchin353=tokens(sort_sac,'text_len','native_language',all_three,3)\n",
    "wwspan354, wwkor354, wwchin354=tokens(sort_sac,'text_len','native_language',all_three,4)\n",
    "wwspan355, wwkor355, wwchin355=tokens(sort_sac,'text_len','native_language',all_three,5)\n",
    "\n",
    "#ratios for each level\n",
    "rspan353, rkor353, rchin353=ratio(wtspan353, wtkor353, wtchin353, wwspan353, wwkor353, wwchin353)\n",
    "rspan354, rkor354, rchin354=ratio(wtspan354, wtkor354, wtchin354, wwspan354, wwkor354, wwchin354)\n",
    "rspan355, rkor355, rchin355=ratio( wtspan355, wtkor355, wtchin355,wwspan355, wwkor355, wwchin355)"
   ]
  },
  {
   "cell_type": "code",
   "execution_count": 126,
   "metadata": {},
   "outputs": [
    {
     "data": {
      "text/plain": [
       "Text(0.5, 1.0, 'Average Word Type Distribution: Whole 3-5')"
      ]
     },
     "execution_count": 126,
     "metadata": {},
     "output_type": "execute_result"
    },
    {
     "data": {
      "image/png": "[encoded data removed]",
      "text/plain": [
       "<Figure size 432x288 with 1 Axes>"
      ]
     },
     "metadata": {},
     "output_type": "display_data"
    }
   ],
   "source": [
    "#set seaborn plotting aesthetics\n",
    "wordtype_whole35=make_df(wtspan353, wtkor353, wtchin353,wtspan354, wtkor354, wtchin354,wtspan355, wtkor355, wtchin355)\n",
    "sns.set(style='whitegrid')\n",
    "\n",
    "#create grouped bar chart\n",
    "sns.barplot(x='Language', y='Count', hue='Level', data=wordtype_whole35, palette='twilight')\n",
    "plt.title(\"Average Word Type Distribution: Whole 3-5\")"
   ]
  },
  {
   "cell_type": "markdown",
   "metadata": {},
   "source": [
    "# Changes on Tokens Loose"
   ]
  },
  {
   "cell_type": "code",
   "execution_count": 127,
   "metadata": {},
   "outputs": [],
   "source": [
    "#finds the token average of the given level in the given level group (id_list) for each language\n",
    "def tokenDiff(df,textlencol,lang, id_list,lvl1, lvl2):\n",
    "    index=0\n",
    "    #total token count for first lvl\n",
    "    spanish=0\n",
    "    chinese=0\n",
    "    korean=0\n",
    "    #total token count for first second lvl\n",
    "    spanish2=0\n",
    "    chinese2=0\n",
    "    korean2=0\n",
    "    #number of questions\n",
    "    qcounts=0\n",
    "    qcountc=0\n",
    "    qcountk=0\n",
    "    #number of questions for second lvl\n",
    "    qcounts2=0\n",
    "    qcountc2=0\n",
    "    qcountk2=0\n",
    "\n",
    "    for anon in df['anon_id']:\n",
    "        if df.at[index,'level_id']==lvl1 and df.at[index,'anon_id'] in id_list:\n",
    "            textlen=df.at[index,textlencol]\n",
    "            textlen=int(textlen)\n",
    "            if df.at[index,lang]=='Spanish':\n",
    "                spanish+=textlen\n",
    "                qcounts+=1\n",
    "            elif df.at[index,lang]=='Korean':\n",
    "                korean+=textlen\n",
    "                qcountk+=1\n",
    "            elif df.at[index,lang]=='Chinese':\n",
    "                chinese+=textlen\n",
    "                qcountc+=1\n",
    "        index+=1\n",
    "        \n",
    "    index=0\n",
    "    for anon in df['anon_id']:\n",
    "        if df.at[index,'level_id']==lvl2 and df.at[index,'anon_id'] in id_list:\n",
    "            textlen=df.at[index,textlencol]\n",
    "            textlen=int(textlen)\n",
    "            if df.at[index,lang]=='Spanish':\n",
    "                spanish2+=textlen\n",
    "                qcounts2+=1\n",
    "            elif df.at[index,lang]=='Korean':\n",
    "                korean2+=textlen\n",
    "                qcountk2+=1\n",
    "            elif df.at[index,lang]=='Chinese':\n",
    "                chinese2+=textlen\n",
    "                qcountc2+=1\n",
    "        index+=1\n",
    "    \n",
    "    #average token count for first lvl\n",
    "    spanAvg=spanish/qcounts\n",
    "    korAvg=korean/qcountk\n",
    "    chinAvg=chinese/qcountc\n",
    "    # average token count for second lvl\n",
    "    spanAvg2=spanish2/qcounts2\n",
    "    korAvg2=korean2/qcountk2\n",
    "    chinAvg2=chinese2/qcountc2\n",
    "    \n",
    "    #absolute percentages\n",
    "    span=(spanAvg2-spanAvg)/spanAvg\n",
    "    kor=(korAvg2-korAvg)/korAvg\n",
    "    chin=(chinAvg2-chinAvg)/chinAvg\n",
    "    \n",
    "    print(\"Spanish Difference: \",span*100)\n",
    "    print(\"Korean Difference: \",kor*100)\n",
    "    print(\"Chinese Difference: \",chin*100)"
   ]
  },
  {
   "cell_type": "code",
   "execution_count": 128,
   "metadata": {},
   "outputs": [
    {
     "name": "stdout",
     "output_type": "stream",
     "text": [
      "Loose All Three, Level 3 and 4\n",
      "Spanish Difference:  69.4499017681729\n",
      "Korean Difference:  42.37918215613383\n",
      "Chinese Difference:  100.384236453202\n"
     ]
    }
   ],
   "source": [
    "print('Loose All Three, Level 3 and 4')\n",
    "\n",
    "tokenDiff(textsort_loose,'text3_len','L1',all_three_loose,3,4)"
   ]
  },
  {
   "cell_type": "code",
   "execution_count": 129,
   "metadata": {},
   "outputs": [
    {
     "name": "stdout",
     "output_type": "stream",
     "text": [
      "Loose All Three, Level 4 and 5\n",
      "Spanish Difference:  -39.51690821256039\n",
      "Korean Difference:  10.182767624020887\n",
      "Chinese Difference:  -26.294618712817748\n"
     ]
    }
   ],
   "source": [
    "print('Loose All Three, Level 4 and 5')\n",
    "\n",
    "tokenDiff(textsort_loose,'text3_len','L1',all_three_loose,4,5)"
   ]
  },
  {
   "cell_type": "code",
   "execution_count": 130,
   "metadata": {},
   "outputs": [
    {
     "name": "stdout",
     "output_type": "stream",
     "text": [
      "Loose 3-4\n",
      "Spanish Difference:  62.246148459383754\n",
      "Korean Difference:  39.682757015424016\n",
      "Chinese Difference:  45.09520366353336\n"
     ]
    }
   ],
   "source": [
    "print('Loose 3-4')\n",
    "\n",
    "tokenDiff(textsort_loose,'text3_len','L1',in34_loose,3,4)"
   ]
  },
  {
   "cell_type": "code",
   "execution_count": 131,
   "metadata": {},
   "outputs": [
    {
     "name": "stdout",
     "output_type": "stream",
     "text": [
      "Loose 4-5\n",
      "Spanish Difference:  -2.8131868131868187\n",
      "Korean Difference:  68.00195459900233\n",
      "Chinese Difference:  33.79605491445198\n"
     ]
    }
   ],
   "source": [
    "print('Loose 4-5')\n",
    "\n",
    "tokenDiff(textsort_loose,'text3_len','L1',in45_loose,4,5)"
   ]
  },
  {
   "cell_type": "markdown",
   "metadata": {},
   "source": [
    "# Changes on Word Types Loose"
   ]
  },
  {
   "cell_type": "code",
   "execution_count": 132,
   "metadata": {},
   "outputs": [
    {
     "name": "stdout",
     "output_type": "stream",
     "text": [
      "Loose All Three, Level 3 and 4\n",
      "Spanish Difference:  55.53691275167786\n",
      "Korean Difference:  30.61797752808988\n",
      "Chinese Difference:  69.00269541778977\n"
     ]
    }
   ],
   "source": [
    "print('Loose All Three, Level 3 and 4')\n",
    "\n",
    "tokenDiff(textsort_loose,'wordtype_len','L1',all_three_loose,3,4)"
   ]
  },
  {
   "cell_type": "code",
   "execution_count": 133,
   "metadata": {},
   "outputs": [
    {
     "name": "stdout",
     "output_type": "stream",
     "text": [
      "Loose All Three, Level 4 and 5\n",
      "Spanish Difference:  -27.004674577490107\n",
      "Korean Difference:  20.258064516129032\n",
      "Chinese Difference:  -18.589181286549707\n"
     ]
    }
   ],
   "source": [
    "print('Loose All Three, Level 4 and 5')\n",
    "\n",
    "tokenDiff(textsort_loose,'wordtype_len','L1',all_three_loose,4,5)"
   ]
  },
  {
   "cell_type": "code",
   "execution_count": 134,
   "metadata": {},
   "outputs": [
    {
     "name": "stdout",
     "output_type": "stream",
     "text": [
      "Loose 3-4\n",
      "Spanish Difference:  48.342857142857135\n",
      "Korean Difference:  31.360768819047262\n",
      "Chinese Difference:  39.91488068095455\n"
     ]
    }
   ],
   "source": [
    "print('Loose 3-4')\n",
    "\n",
    "tokenDiff(textsort_loose,'wordtype_len','L1',in34_loose,3,4)"
   ]
  },
  {
   "cell_type": "code",
   "execution_count": 135,
   "metadata": {},
   "outputs": [
    {
     "name": "stdout",
     "output_type": "stream",
     "text": [
      "Loose 4-5\n",
      "Spanish Difference:  -0.0189621389292767\n",
      "Korean Difference:  46.55737525692045\n",
      "Chinese Difference:  27.48211154477065\n"
     ]
    }
   ],
   "source": [
    "print('Loose 4-5')\n",
    "\n",
    "tokenDiff(textsort_loose,'wordtype_len','L1',in45_loose,4,5)"
   ]
  },
  {
   "cell_type": "markdown",
   "metadata": {},
   "source": [
    "# Changes on Tokens Whole"
   ]
  },
  {
   "cell_type": "code",
   "execution_count": 136,
   "metadata": {},
   "outputs": [
    {
     "name": "stdout",
     "output_type": "stream",
     "text": [
      "Whole All Three, Level 3 and 4\n",
      "Spanish Difference:  136.9056082549613\n",
      "Korean Difference:  42.06426252831459\n",
      "Chinese Difference:  44.86560025621378\n"
     ]
    }
   ],
   "source": [
    "print('Whole All Three, Level 3 and 4')\n",
    "\n",
    "tokenDiff(sort_sac,'text_len','native_language',all_three,3,4)"
   ]
  },
  {
   "cell_type": "code",
   "execution_count": 137,
   "metadata": {},
   "outputs": [
    {
     "name": "stdout",
     "output_type": "stream",
     "text": [
      "Whole All Three, Level 4 and 5\n",
      "Spanish Difference:  -40.93371402114361\n",
      "Korean Difference:  -9.389181283989105\n",
      "Chinese Difference:  28.514613968162305\n"
     ]
    }
   ],
   "source": [
    "print('Whole All Three, Level 4 and 5')\n",
    "\n",
    "tokenDiff(sort_sac,'text_len','native_language',all_three,4,5)"
   ]
  },
  {
   "cell_type": "code",
   "execution_count": 138,
   "metadata": {},
   "outputs": [
    {
     "name": "stdout",
     "output_type": "stream",
     "text": [
      "Whole 3-4\n",
      "Spanish Difference:  132.00835659745974\n",
      "Korean Difference:  49.390112556630726\n",
      "Chinese Difference:  43.88121899362154\n"
     ]
    }
   ],
   "source": [
    "print('Whole 3-4')\n",
    "\n",
    "tokenDiff(sort_sac,'text_len','native_language',lvls34,3,4)"
   ]
  },
  {
   "cell_type": "code",
   "execution_count": 139,
   "metadata": {},
   "outputs": [
    {
     "name": "stdout",
     "output_type": "stream",
     "text": [
      "Whole 4-5\n",
      "Spanish Difference:  -8.096066544920584\n",
      "Korean Difference:  19.13463924118652\n",
      "Chinese Difference:  25.491206092506648\n"
     ]
    }
   ],
   "source": [
    "print('Whole 4-5')\n",
    "\n",
    "tokenDiff(sort_sac,'text_len','native_language',lvls45,4,5)"
   ]
  },
  {
   "cell_type": "markdown",
   "metadata": {},
   "source": [
    "# Changes on Word Type Whole"
   ]
  },
  {
   "cell_type": "code",
   "execution_count": 140,
   "metadata": {},
   "outputs": [
    {
     "name": "stdout",
     "output_type": "stream",
     "text": [
      "Whole All Three, Level 3 and 4\n",
      "Spanish Difference:  92.19944830475924\n",
      "Korean Difference:  30.1313721663568\n",
      "Chinese Difference:  30.36163377479852\n"
     ]
    }
   ],
   "source": [
    "print('Whole All Three, Level 3 and 4')\n",
    "\n",
    "tokenDiff(sort_sac,'wordtype_len','native_language',all_three,3,4)"
   ]
  },
  {
   "cell_type": "code",
   "execution_count": 141,
   "metadata": {},
   "outputs": [
    {
     "name": "stdout",
     "output_type": "stream",
     "text": [
      "Whole All Three, Level 4 and 5\n",
      "Spanish Difference:  -27.220405493786792\n",
      "Korean Difference:  -9.51666809495243\n",
      "Chinese Difference:  21.50324017540189\n"
     ]
    }
   ],
   "source": [
    "print('Whole All Three, Level 4 and 5')\n",
    "\n",
    "tokenDiff(sort_sac,'wordtype_len','native_language',all_three,4,5)"
   ]
  },
  {
   "cell_type": "code",
   "execution_count": 142,
   "metadata": {},
   "outputs": [
    {
     "name": "stdout",
     "output_type": "stream",
     "text": [
      "Whole 3-4\n",
      "Spanish Difference:  89.62471681386873\n",
      "Korean Difference:  34.69481111162761\n",
      "Chinese Difference:  35.02837004654185\n"
     ]
    }
   ],
   "source": [
    "print('Whole 3-4')\n",
    "\n",
    "tokenDiff(sort_sac,'wordtype_len','native_language',lvls34,3,4)"
   ]
  },
  {
   "cell_type": "code",
   "execution_count": 143,
   "metadata": {},
   "outputs": [
    {
     "name": "stdout",
     "output_type": "stream",
     "text": [
      "Whole 4-5\n",
      "Spanish Difference:  -4.008090992577665\n",
      "Korean Difference:  11.973869219305417\n",
      "Chinese Difference:  16.791588701698753\n"
     ]
    }
   ],
   "source": [
    "print('Whole 4-5')\n",
    "\n",
    "tokenDiff(sort_sac,'wordtype_len','native_language',lvls45,4,5)"
   ]
  },
  {
   "cell_type": "markdown",
   "metadata": {},
   "source": [
    "# Vocabulary Sophistication"
   ]
  },
  {
   "cell_type": "code",
   "execution_count": 144,
   "metadata": {},
   "outputs": [],
   "source": [
    "#ranked word list containing most commonly used words in the English language\n",
    "word_list=pd.read_csv(\"unigram_freq.csv\")"
   ]
  },
  {
   "cell_type": "code",
   "execution_count": 145,
   "metadata": {},
   "outputs": [
    {
     "data": {
      "text/html": [
       "<div>\n",
       "<style scoped>\n",
       "    .dataframe tbody tr th:only-of-type {\n",
       "        vertical-align: middle;\n",
       "    }\n",
       "\n",
       "    .dataframe tbody tr th {\n",
       "        vertical-align: top;\n",
       "    }\n",
       "\n",
       "    .dataframe thead th {\n",
       "        text-align: right;\n",
       "    }\n",
       "</style>\n",
       "<table border=\"1\" class=\"dataframe\">\n",
       "  <thead>\n",
       "    <tr style=\"text-align: right;\">\n",
       "      <th></th>\n",
       "      <th>word</th>\n",
       "      <th>count</th>\n",
       "    </tr>\n",
       "  </thead>\n",
       "  <tbody>\n",
       "    <tr>\n",
       "      <th>0</th>\n",
       "      <td>the</td>\n",
       "      <td>23135851162</td>\n",
       "    </tr>\n",
       "    <tr>\n",
       "      <th>1</th>\n",
       "      <td>of</td>\n",
       "      <td>13151942776</td>\n",
       "    </tr>\n",
       "    <tr>\n",
       "      <th>2</th>\n",
       "      <td>and</td>\n",
       "      <td>12997637966</td>\n",
       "    </tr>\n",
       "    <tr>\n",
       "      <th>3</th>\n",
       "      <td>to</td>\n",
       "      <td>12136980858</td>\n",
       "    </tr>\n",
       "    <tr>\n",
       "      <th>4</th>\n",
       "      <td>a</td>\n",
       "      <td>9081174698</td>\n",
       "    </tr>\n",
       "    <tr>\n",
       "      <th>...</th>\n",
       "      <td>...</td>\n",
       "      <td>...</td>\n",
       "    </tr>\n",
       "    <tr>\n",
       "      <th>333328</th>\n",
       "      <td>gooek</td>\n",
       "      <td>12711</td>\n",
       "    </tr>\n",
       "    <tr>\n",
       "      <th>333329</th>\n",
       "      <td>gooddg</td>\n",
       "      <td>12711</td>\n",
       "    </tr>\n",
       "    <tr>\n",
       "      <th>333330</th>\n",
       "      <td>gooblle</td>\n",
       "      <td>12711</td>\n",
       "    </tr>\n",
       "    <tr>\n",
       "      <th>333331</th>\n",
       "      <td>gollgo</td>\n",
       "      <td>12711</td>\n",
       "    </tr>\n",
       "    <tr>\n",
       "      <th>333332</th>\n",
       "      <td>golgw</td>\n",
       "      <td>12711</td>\n",
       "    </tr>\n",
       "  </tbody>\n",
       "</table>\n",
       "<p>333333 rows × 2 columns</p>\n",
       "</div>"
      ],
      "text/plain": [
       "           word        count\n",
       "0           the  23135851162\n",
       "1            of  13151942776\n",
       "2           and  12997637966\n",
       "3            to  12136980858\n",
       "4             a   9081174698\n",
       "...         ...          ...\n",
       "333328    gooek        12711\n",
       "333329   gooddg        12711\n",
       "333330  gooblle        12711\n",
       "333331   gollgo        12711\n",
       "333332    golgw        12711\n",
       "\n",
       "[333333 rows x 2 columns]"
      ]
     },
     "execution_count": 145,
     "metadata": {},
     "output_type": "execute_result"
    }
   ],
   "source": [
    "word_list"
   ]
  },
  {
   "cell_type": "code",
   "execution_count": 146,
   "metadata": {},
   "outputs": [],
   "source": [
    "#creates a list of words from the word_list df\n",
    "def thousandcount(df, word_list, count,limit):\n",
    "    while(count<limit):\n",
    "        word=str(df.iat[count,0])\n",
    "        word_list.append(word)\n",
    "        count+=1\n",
    "    return count"
   ]
  },
  {
   "cell_type": "code",
   "execution_count": 147,
   "metadata": {},
   "outputs": [],
   "source": [
    "#creating list of the first,second,third, etc thousand words in the most common words list\n",
    "firstk,secondk,thirdk,fourthk,fifthk,sixthk,seventhk,eighthk,ninthk,tenthk,rest=[],[],[],[],[],[],[],[],[],[],[]\n",
    "count=0\n",
    "\n",
    "count=thousandcount(word_list,firstk,count,1000)\n",
    "count=thousandcount(word_list,secondk,count,2000)\n",
    "count=thousandcount(word_list, thirdk, count,3000)\n",
    "count=thousandcount(word_list, fourthk, count,4000)\n",
    "count=thousandcount(word_list, fifthk, count,5000)\n",
    "count=thousandcount(word_list, sixthk, count,6000)\n",
    "count=thousandcount(word_list, seventhk, count,7000)\n",
    "count=thousandcount(word_list,eighthk,count, 8000)\n",
    "count=thousandcount(word_list,ninthk,count,9000)\n",
    "count=thousandcount(word_list,tenthk,count, 10000)\n",
    "count=thousandcount(word_list,rest,count,333333)"
   ]
  },
  {
   "cell_type": "code",
   "execution_count": 148,
   "metadata": {},
   "outputs": [
    {
     "name": "stdout",
     "output_type": "stream",
     "text": [
      "['the', 'of', 'a', 'stuff', 'online', 'stuff']\n"
     ]
    },
    {
     "data": {
      "text/plain": [
       "6"
      ]
     },
     "execution_count": 148,
     "metadata": {},
     "output_type": "execute_result"
    }
   ],
   "source": [
    "#testing\n",
    "text=\"the of a stuff online stuff glapagos\"\n",
    "twords=[]\n",
    "words=text.strip().split(\" \")\n",
    "for word in words:\n",
    "    if word in firstk:\n",
    "        twords.append(word)\n",
    "print(twords)\n",
    "len(twords)"
   ]
  },
  {
   "cell_type": "code",
   "execution_count": 149,
   "metadata": {},
   "outputs": [],
   "source": [
    "#creating a list of all the ids in all the groups\n",
    "all_groups=[]\n",
    "for i in all_three: # and lvls34 and lvls45:\n",
    "    if i not in all_groups:\n",
    "        all_groups.append(i)\n",
    "for i in lvls34:\n",
    "    if i not in all_groups:\n",
    "        all_groups.append(i)\n",
    "for i in lvls45:\n",
    "    if i not in all_groups:\n",
    "        all_groups.append(i)"
   ]
  },
  {
   "cell_type": "code",
   "execution_count": 150,
   "metadata": {},
   "outputs": [
    {
     "data": {
      "text/html": [
       "<div>\n",
       "<style scoped>\n",
       "    .dataframe tbody tr th:only-of-type {\n",
       "        vertical-align: middle;\n",
       "    }\n",
       "\n",
       "    .dataframe tbody tr th {\n",
       "        vertical-align: top;\n",
       "    }\n",
       "\n",
       "    .dataframe thead th {\n",
       "        text-align: right;\n",
       "    }\n",
       "</style>\n",
       "<table border=\"1\" class=\"dataframe\">\n",
       "  <thead>\n",
       "    <tr style=\"text-align: right;\">\n",
       "      <th></th>\n",
       "      <th>index</th>\n",
       "      <th>anon_id</th>\n",
       "      <th>native_language</th>\n",
       "      <th>text_len</th>\n",
       "      <th>text</th>\n",
       "      <th>level_id</th>\n",
       "      <th>processed_text</th>\n",
       "      <th>wordtype_len</th>\n",
       "    </tr>\n",
       "  </thead>\n",
       "  <tbody>\n",
       "    <tr>\n",
       "      <th>0</th>\n",
       "      <td>60</td>\n",
       "      <td>aa8</td>\n",
       "      <td>Korean</td>\n",
       "      <td>770</td>\n",
       "      <td>College students are usually very busy during ...</td>\n",
       "      <td>5</td>\n",
       "      <td>college students are usually very busy during ...</td>\n",
       "      <td>232</td>\n",
       "    </tr>\n",
       "    <tr>\n",
       "      <th>1</th>\n",
       "      <td>61</td>\n",
       "      <td>aa8</td>\n",
       "      <td>Korean</td>\n",
       "      <td>64</td>\n",
       "      <td>I think it is strange to throw away something ...</td>\n",
       "      <td>4</td>\n",
       "      <td>i think it is strange to throw away something ...</td>\n",
       "      <td>51</td>\n",
       "    </tr>\n",
       "    <tr>\n",
       "      <th>2</th>\n",
       "      <td>62</td>\n",
       "      <td>aa8</td>\n",
       "      <td>Korean</td>\n",
       "      <td>809</td>\n",
       "      <td>College students are usually very busy during ...</td>\n",
       "      <td>5</td>\n",
       "      <td>college students are usually very busy during ...</td>\n",
       "      <td>237</td>\n",
       "    </tr>\n",
       "    <tr>\n",
       "      <th>3</th>\n",
       "      <td>63</td>\n",
       "      <td>aa8</td>\n",
       "      <td>Korean</td>\n",
       "      <td>343</td>\n",
       "      <td>I thought this was homework. \\nT.T I could not...</td>\n",
       "      <td>5</td>\n",
       "      <td>i thought this was homework  tt i could not th...</td>\n",
       "      <td>150</td>\n",
       "    </tr>\n",
       "    <tr>\n",
       "      <th>4</th>\n",
       "      <td>64</td>\n",
       "      <td>aa8</td>\n",
       "      <td>Korean</td>\n",
       "      <td>137</td>\n",
       "      <td>I. I think using a schedule book is a good way...</td>\n",
       "      <td>5</td>\n",
       "      <td>i i think using a schedule book is a good way ...</td>\n",
       "      <td>63</td>\n",
       "    </tr>\n",
       "    <tr>\n",
       "      <th>...</th>\n",
       "      <td>...</td>\n",
       "      <td>...</td>\n",
       "      <td>...</td>\n",
       "      <td>...</td>\n",
       "      <td>...</td>\n",
       "      <td>...</td>\n",
       "      <td>...</td>\n",
       "      <td>...</td>\n",
       "    </tr>\n",
       "    <tr>\n",
       "      <th>5221</th>\n",
       "      <td>17074</td>\n",
       "      <td>hb4</td>\n",
       "      <td>Korean</td>\n",
       "      <td>397</td>\n",
       "      <td>Cats and dogs are the most popular pets in the...</td>\n",
       "      <td>4</td>\n",
       "      <td>cats and dogs are the most popular pets in the...</td>\n",
       "      <td>172</td>\n",
       "    </tr>\n",
       "    <tr>\n",
       "      <th>5222</th>\n",
       "      <td>17075</td>\n",
       "      <td>hb4</td>\n",
       "      <td>Korean</td>\n",
       "      <td>440</td>\n",
       "      <td>Cats and dogs are the most popular pets in the...</td>\n",
       "      <td>4</td>\n",
       "      <td>cats and dogs are the most popular pets in the...</td>\n",
       "      <td>183</td>\n",
       "    </tr>\n",
       "    <tr>\n",
       "      <th>5223</th>\n",
       "      <td>17076</td>\n",
       "      <td>hb4</td>\n",
       "      <td>Korean</td>\n",
       "      <td>405</td>\n",
       "      <td>Global Warming\\n\\nIn the greenhouse, plants ca...</td>\n",
       "      <td>4</td>\n",
       "      <td>global warming  in the greenhouse plants can l...</td>\n",
       "      <td>199</td>\n",
       "    </tr>\n",
       "    <tr>\n",
       "      <th>5224</th>\n",
       "      <td>17077</td>\n",
       "      <td>hb4</td>\n",
       "      <td>Korean</td>\n",
       "      <td>110</td>\n",
       "      <td>My hometown is Seoul, which is capital city of...</td>\n",
       "      <td>4</td>\n",
       "      <td>my hometown is seoul which is capital city of ...</td>\n",
       "      <td>70</td>\n",
       "    </tr>\n",
       "    <tr>\n",
       "      <th>5225</th>\n",
       "      <td>17078</td>\n",
       "      <td>hb4</td>\n",
       "      <td>Korean</td>\n",
       "      <td>84</td>\n",
       "      <td>By the time I went to high school, I hadn't ex...</td>\n",
       "      <td>4</td>\n",
       "      <td>by the time i went to high school i hadnt exer...</td>\n",
       "      <td>50</td>\n",
       "    </tr>\n",
       "  </tbody>\n",
       "</table>\n",
       "<p>5226 rows × 8 columns</p>\n",
       "</div>"
      ],
      "text/plain": [
       "      index anon_id native_language text_len  \\\n",
       "0        60     aa8          Korean      770   \n",
       "1        61     aa8          Korean       64   \n",
       "2        62     aa8          Korean      809   \n",
       "3        63     aa8          Korean      343   \n",
       "4        64     aa8          Korean      137   \n",
       "...     ...     ...             ...      ...   \n",
       "5221  17074     hb4          Korean      397   \n",
       "5222  17075     hb4          Korean      440   \n",
       "5223  17076     hb4          Korean      405   \n",
       "5224  17077     hb4          Korean      110   \n",
       "5225  17078     hb4          Korean       84   \n",
       "\n",
       "                                                   text  level_id  \\\n",
       "0     College students are usually very busy during ...         5   \n",
       "1     I think it is strange to throw away something ...         4   \n",
       "2     College students are usually very busy during ...         5   \n",
       "3     I thought this was homework. \\nT.T I could not...         5   \n",
       "4     I. I think using a schedule book is a good way...         5   \n",
       "...                                                 ...       ...   \n",
       "5221  Cats and dogs are the most popular pets in the...         4   \n",
       "5222  Cats and dogs are the most popular pets in the...         4   \n",
       "5223  Global Warming\\n\\nIn the greenhouse, plants ca...         4   \n",
       "5224  My hometown is Seoul, which is capital city of...         4   \n",
       "5225  By the time I went to high school, I hadn't ex...         4   \n",
       "\n",
       "                                         processed_text wordtype_len  \n",
       "0     college students are usually very busy during ...          232  \n",
       "1     i think it is strange to throw away something ...           51  \n",
       "2     college students are usually very busy during ...          237  \n",
       "3     i thought this was homework  tt i could not th...          150  \n",
       "4     i i think using a schedule book is a good way ...           63  \n",
       "...                                                 ...          ...  \n",
       "5221  cats and dogs are the most popular pets in the...          172  \n",
       "5222  cats and dogs are the most popular pets in the...          183  \n",
       "5223  global warming  in the greenhouse plants can l...          199  \n",
       "5224  my hometown is seoul which is capital city of ...           70  \n",
       "5225  by the time i went to high school i hadnt exer...           50  \n",
       "\n",
       "[5226 rows x 8 columns]"
      ]
     },
     "execution_count": 150,
     "metadata": {},
     "output_type": "execute_result"
    }
   ],
   "source": [
    "#removing the ids that aren't in any of the level groups\n",
    "sort_sac=sort_sac.drop(columns=['index','answer_id'])\n",
    "just_groups=sort_sac.copy()\n",
    "drops=[]\n",
    "ind=0\n",
    "for i in sort_sac['anon_id']:\n",
    "    if i not in all_groups:\n",
    "        drops.append(ind)\n",
    "    ind+=1\n",
    "\n",
    "just_groups=just_groups.drop(labels=drops,axis=0).reset_index()\n",
    "just_groups"
   ]
  },
  {
   "cell_type": "code",
   "execution_count": 184,
   "metadata": {},
   "outputs": [],
   "source": [
    "#will create a list of words out of the answer text then check those words with whatever thousand list is passed\n",
    "#if a word from the answer is also in the thousand list, then it's added to a list. the length of this list is\n",
    "#the number of words from the thousands list that occurs in the answer text and that's appended to a new column for the thousand list\n",
    "def vocSophCols(df, col_name, col2_name, text_col, thouslist):\n",
    "    index=0\n",
    "    df[col_name]=pd.NaT\n",
    "    df[col2_name]=pd.NaT\n",
    "    df[\"Words \"+col2_name]=pd.NaT\n",
    "    for text in df[text_col]:\n",
    "        twords=[]\n",
    "        uwords=[]\n",
    "        words=[]\n",
    "        words=text.strip().split(\" \")\n",
    "        for word in words:\n",
    "            if word in thouslist:\n",
    "                twords.append(word)\n",
    "                if word not in uwords:\n",
    "                    uwords.append(word)\n",
    "        df.at[index,col_name]=len(twords)\n",
    "        df.at[index,col2_name]=len(uwords)\n",
    "        df.at[index,\"Words \"+col2_name]=str(uwords)\n",
    "        index+=1"
   ]
  },
  {
   "cell_type": "code",
   "execution_count": 188,
   "metadata": {},
   "outputs": [],
   "source": [
    "vocSophCols(just_groups, '1k','WT 1k','processed_text',firstk)\n",
    "vocSophCols(just_groups,'2k','WT 2k','processed_text',secondk)\n",
    "vocSophCols(just_groups,'3k','WT 3k','processed_text',thirdk)\n",
    "vocSophCols(just_groups,'4k','WT 4k','processed_text',fourthk)\n",
    "vocSophCols(just_groups,'5k','WT 5k','processed_text',fifthk)\n",
    "vocSophCols(just_groups,'6k','WT 6k','processed_text',sixthk)\n",
    "vocSophCols(just_groups,'7k','WT 7k','processed_text',seventhk)\n",
    "vocSophCols(just_groups,'8k','WT 8k','processed_text',eighthk)\n",
    "vocSophCols(just_groups,'9k','WT 9k','processed_text',ninthk)\n",
    "vocSophCols(just_groups,'10k','WT 10k','processed_text',tenthk)\n",
    "    "
   ]
  },
  {
   "cell_type": "code",
   "execution_count": 189,
   "metadata": {},
   "outputs": [
    {
     "data": {
      "text/html": [
       "<div>\n",
       "<style scoped>\n",
       "    .dataframe tbody tr th:only-of-type {\n",
       "        vertical-align: middle;\n",
       "    }\n",
       "\n",
       "    .dataframe tbody tr th {\n",
       "        vertical-align: top;\n",
       "    }\n",
       "\n",
       "    .dataframe thead th {\n",
       "        text-align: right;\n",
       "    }\n",
       "</style>\n",
       "<table border=\"1\" class=\"dataframe\">\n",
       "  <thead>\n",
       "    <tr style=\"text-align: right;\">\n",
       "      <th></th>\n",
       "      <th>index</th>\n",
       "      <th>anon_id</th>\n",
       "      <th>native_language</th>\n",
       "      <th>text_len</th>\n",
       "      <th>text</th>\n",
       "      <th>level_id</th>\n",
       "      <th>processed_text</th>\n",
       "      <th>wordtype_len</th>\n",
       "      <th>1k</th>\n",
       "      <th>2k</th>\n",
       "      <th>...</th>\n",
       "      <th>WT 6k</th>\n",
       "      <th>Words WT 6k</th>\n",
       "      <th>WT 7k</th>\n",
       "      <th>Words WT 7k</th>\n",
       "      <th>WT 8k</th>\n",
       "      <th>Words WT 8k</th>\n",
       "      <th>WT 9k</th>\n",
       "      <th>Words WT 9k</th>\n",
       "      <th>WT 10k</th>\n",
       "      <th>Words WT 10k</th>\n",
       "    </tr>\n",
       "  </thead>\n",
       "  <tbody>\n",
       "    <tr>\n",
       "      <th>0</th>\n",
       "      <td>60</td>\n",
       "      <td>aa8</td>\n",
       "      <td>Korean</td>\n",
       "      <td>770</td>\n",
       "      <td>College students are usually very busy during ...</td>\n",
       "      <td>5</td>\n",
       "      <td>college students are usually very busy during ...</td>\n",
       "      <td>232</td>\n",
       "      <td>606</td>\n",
       "      <td>48</td>\n",
       "      <td>...</td>\n",
       "      <td>3</td>\n",
       "      <td>['preparing', 'priorities', 'meal']</td>\n",
       "      <td>3</td>\n",
       "      <td>['homework', 'angry', 'crucial']</td>\n",
       "      <td>2</td>\n",
       "      <td>['cant', 'scanning']</td>\n",
       "      <td>3</td>\n",
       "      <td>['quizzes', 'efficiently', 'divide']</td>\n",
       "      <td>3</td>\n",
       "      <td>['concentrate', 'bother', 'qt']</td>\n",
       "    </tr>\n",
       "    <tr>\n",
       "      <th>1</th>\n",
       "      <td>61</td>\n",
       "      <td>aa8</td>\n",
       "      <td>Korean</td>\n",
       "      <td>64</td>\n",
       "      <td>I think it is strange to throw away something ...</td>\n",
       "      <td>4</td>\n",
       "      <td>i think it is strange to throw away something ...</td>\n",
       "      <td>51</td>\n",
       "      <td>43</td>\n",
       "      <td>7</td>\n",
       "      <td>...</td>\n",
       "      <td>1</td>\n",
       "      <td>['anymore']</td>\n",
       "      <td>0</td>\n",
       "      <td>[]</td>\n",
       "      <td>0</td>\n",
       "      <td>[]</td>\n",
       "      <td>1</td>\n",
       "      <td>['predict']</td>\n",
       "      <td>0</td>\n",
       "      <td>[]</td>\n",
       "    </tr>\n",
       "    <tr>\n",
       "      <th>2</th>\n",
       "      <td>62</td>\n",
       "      <td>aa8</td>\n",
       "      <td>Korean</td>\n",
       "      <td>809</td>\n",
       "      <td>College students are usually very busy during ...</td>\n",
       "      <td>5</td>\n",
       "      <td>college students are usually very busy during ...</td>\n",
       "      <td>237</td>\n",
       "      <td>665</td>\n",
       "      <td>44</td>\n",
       "      <td>...</td>\n",
       "      <td>4</td>\n",
       "      <td>['priorities', 'remained', 'planner', 'killing']</td>\n",
       "      <td>4</td>\n",
       "      <td>['homework', 'angry', 'limitation', 'crucial']</td>\n",
       "      <td>3</td>\n",
       "      <td>['cant', 'nervous', 'organize']</td>\n",
       "      <td>1</td>\n",
       "      <td>['efficiently']</td>\n",
       "      <td>2</td>\n",
       "      <td>['concentrate', 'bother']</td>\n",
       "    </tr>\n",
       "    <tr>\n",
       "      <th>3</th>\n",
       "      <td>63</td>\n",
       "      <td>aa8</td>\n",
       "      <td>Korean</td>\n",
       "      <td>343</td>\n",
       "      <td>I thought this was homework. \\nT.T I could not...</td>\n",
       "      <td>5</td>\n",
       "      <td>i thought this was homework  tt i could not th...</td>\n",
       "      <td>150</td>\n",
       "      <td>271</td>\n",
       "      <td>16</td>\n",
       "      <td>...</td>\n",
       "      <td>3</td>\n",
       "      <td>['tt', 'worry', 'studied']</td>\n",
       "      <td>2</td>\n",
       "      <td>['homework', 'separately']</td>\n",
       "      <td>2</td>\n",
       "      <td>['grammar', 'expressions']</td>\n",
       "      <td>0</td>\n",
       "      <td>[]</td>\n",
       "      <td>1</td>\n",
       "      <td>['concentrate']</td>\n",
       "    </tr>\n",
       "    <tr>\n",
       "      <th>4</th>\n",
       "      <td>64</td>\n",
       "      <td>aa8</td>\n",
       "      <td>Korean</td>\n",
       "      <td>137</td>\n",
       "      <td>I. I think using a schedule book is a good way...</td>\n",
       "      <td>5</td>\n",
       "      <td>i i think using a schedule book is a good way ...</td>\n",
       "      <td>63</td>\n",
       "      <td>108</td>\n",
       "      <td>9</td>\n",
       "      <td>...</td>\n",
       "      <td>2</td>\n",
       "      <td>['priorities', 'convenient']</td>\n",
       "      <td>0</td>\n",
       "      <td>[]</td>\n",
       "      <td>1</td>\n",
       "      <td>['organize']</td>\n",
       "      <td>0</td>\n",
       "      <td>[]</td>\n",
       "      <td>0</td>\n",
       "      <td>[]</td>\n",
       "    </tr>\n",
       "    <tr>\n",
       "      <th>...</th>\n",
       "      <td>...</td>\n",
       "      <td>...</td>\n",
       "      <td>...</td>\n",
       "      <td>...</td>\n",
       "      <td>...</td>\n",
       "      <td>...</td>\n",
       "      <td>...</td>\n",
       "      <td>...</td>\n",
       "      <td>...</td>\n",
       "      <td>...</td>\n",
       "      <td>...</td>\n",
       "      <td>...</td>\n",
       "      <td>...</td>\n",
       "      <td>...</td>\n",
       "      <td>...</td>\n",
       "      <td>...</td>\n",
       "      <td>...</td>\n",
       "      <td>...</td>\n",
       "      <td>...</td>\n",
       "      <td>...</td>\n",
       "      <td>...</td>\n",
       "    </tr>\n",
       "    <tr>\n",
       "      <th>5221</th>\n",
       "      <td>17074</td>\n",
       "      <td>hb4</td>\n",
       "      <td>Korean</td>\n",
       "      <td>397</td>\n",
       "      <td>Cats and dogs are the most popular pets in the...</td>\n",
       "      <td>4</td>\n",
       "      <td>cats and dogs are the most popular pets in the...</td>\n",
       "      <td>172</td>\n",
       "      <td>280</td>\n",
       "      <td>42</td>\n",
       "      <td>...</td>\n",
       "      <td>3</td>\n",
       "      <td>['humans', 'loves', 'sad']</td>\n",
       "      <td>3</td>\n",
       "      <td>['similarly', 'offensive', 'admit']</td>\n",
       "      <td>2</td>\n",
       "      <td>['cant', 'lonely']</td>\n",
       "      <td>1</td>\n",
       "      <td>['differently']</td>\n",
       "      <td>0</td>\n",
       "      <td>[]</td>\n",
       "    </tr>\n",
       "    <tr>\n",
       "      <th>5222</th>\n",
       "      <td>17075</td>\n",
       "      <td>hb4</td>\n",
       "      <td>Korean</td>\n",
       "      <td>440</td>\n",
       "      <td>Cats and dogs are the most popular pets in the...</td>\n",
       "      <td>4</td>\n",
       "      <td>cats and dogs are the most popular pets in the...</td>\n",
       "      <td>183</td>\n",
       "      <td>313</td>\n",
       "      <td>40</td>\n",
       "      <td>...</td>\n",
       "      <td>4</td>\n",
       "      <td>['humans', 'besides', 'loves', 'sad']</td>\n",
       "      <td>2</td>\n",
       "      <td>['similarly', 'likes']</td>\n",
       "      <td>3</td>\n",
       "      <td>['lonely', 'aggressive', 'cant']</td>\n",
       "      <td>1</td>\n",
       "      <td>['differently']</td>\n",
       "      <td>0</td>\n",
       "      <td>[]</td>\n",
       "    </tr>\n",
       "    <tr>\n",
       "      <th>5223</th>\n",
       "      <td>17076</td>\n",
       "      <td>hb4</td>\n",
       "      <td>Korean</td>\n",
       "      <td>405</td>\n",
       "      <td>Global Warming\\n\\nIn the greenhouse, plants ca...</td>\n",
       "      <td>4</td>\n",
       "      <td>global warming  in the greenhouse plants can l...</td>\n",
       "      <td>199</td>\n",
       "      <td>241</td>\n",
       "      <td>45</td>\n",
       "      <td>...</td>\n",
       "      <td>4</td>\n",
       "      <td>['resolve', 'corps', 'coal', 'everywhere']</td>\n",
       "      <td>4</td>\n",
       "      <td>['filtering', 'mario', 'layers', 'hottest']</td>\n",
       "      <td>1</td>\n",
       "      <td>['cant']</td>\n",
       "      <td>4</td>\n",
       "      <td>['warming', 'phenomenon', 'rays', 'centuries']</td>\n",
       "      <td>3</td>\n",
       "      <td>['greenhouse', 'refrigerator', 'ozone']</td>\n",
       "    </tr>\n",
       "    <tr>\n",
       "      <th>5224</th>\n",
       "      <td>17077</td>\n",
       "      <td>hb4</td>\n",
       "      <td>Korean</td>\n",
       "      <td>110</td>\n",
       "      <td>My hometown is Seoul, which is capital city of...</td>\n",
       "      <td>4</td>\n",
       "      <td>my hometown is seoul which is capital city of ...</td>\n",
       "      <td>70</td>\n",
       "      <td>82</td>\n",
       "      <td>5</td>\n",
       "      <td>...</td>\n",
       "      <td>0</td>\n",
       "      <td>[]</td>\n",
       "      <td>0</td>\n",
       "      <td>[]</td>\n",
       "      <td>1</td>\n",
       "      <td>['neighbors']</td>\n",
       "      <td>1</td>\n",
       "      <td>['lobby']</td>\n",
       "      <td>1</td>\n",
       "      <td>['hometown']</td>\n",
       "    </tr>\n",
       "    <tr>\n",
       "      <th>5225</th>\n",
       "      <td>17078</td>\n",
       "      <td>hb4</td>\n",
       "      <td>Korean</td>\n",
       "      <td>84</td>\n",
       "      <td>By the time I went to high school, I hadn't ex...</td>\n",
       "      <td>4</td>\n",
       "      <td>by the time i went to high school i hadnt exer...</td>\n",
       "      <td>50</td>\n",
       "      <td>57</td>\n",
       "      <td>9</td>\n",
       "      <td>...</td>\n",
       "      <td>0</td>\n",
       "      <td>[]</td>\n",
       "      <td>0</td>\n",
       "      <td>[]</td>\n",
       "      <td>1</td>\n",
       "      <td>['hobby']</td>\n",
       "      <td>1</td>\n",
       "      <td>['boring']</td>\n",
       "      <td>0</td>\n",
       "      <td>[]</td>\n",
       "    </tr>\n",
       "  </tbody>\n",
       "</table>\n",
       "<p>5226 rows × 39 columns</p>\n",
       "</div>"
      ],
      "text/plain": [
       "      index anon_id native_language text_len  \\\n",
       "0        60     aa8          Korean      770   \n",
       "1        61     aa8          Korean       64   \n",
       "2        62     aa8          Korean      809   \n",
       "3        63     aa8          Korean      343   \n",
       "4        64     aa8          Korean      137   \n",
       "...     ...     ...             ...      ...   \n",
       "5221  17074     hb4          Korean      397   \n",
       "5222  17075     hb4          Korean      440   \n",
       "5223  17076     hb4          Korean      405   \n",
       "5224  17077     hb4          Korean      110   \n",
       "5225  17078     hb4          Korean       84   \n",
       "\n",
       "                                                   text  level_id  \\\n",
       "0     College students are usually very busy during ...         5   \n",
       "1     I think it is strange to throw away something ...         4   \n",
       "2     College students are usually very busy during ...         5   \n",
       "3     I thought this was homework. \\nT.T I could not...         5   \n",
       "4     I. I think using a schedule book is a good way...         5   \n",
       "...                                                 ...       ...   \n",
       "5221  Cats and dogs are the most popular pets in the...         4   \n",
       "5222  Cats and dogs are the most popular pets in the...         4   \n",
       "5223  Global Warming\\n\\nIn the greenhouse, plants ca...         4   \n",
       "5224  My hometown is Seoul, which is capital city of...         4   \n",
       "5225  By the time I went to high school, I hadn't ex...         4   \n",
       "\n",
       "                                         processed_text wordtype_len   1k  2k  \\\n",
       "0     college students are usually very busy during ...          232  606  48   \n",
       "1     i think it is strange to throw away something ...           51   43   7   \n",
       "2     college students are usually very busy during ...          237  665  44   \n",
       "3     i thought this was homework  tt i could not th...          150  271  16   \n",
       "4     i i think using a schedule book is a good way ...           63  108   9   \n",
       "...                                                 ...          ...  ...  ..   \n",
       "5221  cats and dogs are the most popular pets in the...          172  280  42   \n",
       "5222  cats and dogs are the most popular pets in the...          183  313  40   \n",
       "5223  global warming  in the greenhouse plants can l...          199  241  45   \n",
       "5224  my hometown is seoul which is capital city of ...           70   82   5   \n",
       "5225  by the time i went to high school i hadnt exer...           50   57   9   \n",
       "\n",
       "      ... WT 6k                                       Words WT 6k WT 7k  \\\n",
       "0     ...     3               ['preparing', 'priorities', 'meal']     3   \n",
       "1     ...     1                                       ['anymore']     0   \n",
       "2     ...     4  ['priorities', 'remained', 'planner', 'killing']     4   \n",
       "3     ...     3                        ['tt', 'worry', 'studied']     2   \n",
       "4     ...     2                      ['priorities', 'convenient']     0   \n",
       "...   ...   ...                                               ...   ...   \n",
       "5221  ...     3                        ['humans', 'loves', 'sad']     3   \n",
       "5222  ...     4             ['humans', 'besides', 'loves', 'sad']     2   \n",
       "5223  ...     4        ['resolve', 'corps', 'coal', 'everywhere']     4   \n",
       "5224  ...     0                                                []     0   \n",
       "5225  ...     0                                                []     0   \n",
       "\n",
       "                                         Words WT 7k WT 8k  \\\n",
       "0                   ['homework', 'angry', 'crucial']     2   \n",
       "1                                                 []     0   \n",
       "2     ['homework', 'angry', 'limitation', 'crucial']     3   \n",
       "3                         ['homework', 'separately']     2   \n",
       "4                                                 []     1   \n",
       "...                                              ...   ...   \n",
       "5221             ['similarly', 'offensive', 'admit']     2   \n",
       "5222                          ['similarly', 'likes']     3   \n",
       "5223     ['filtering', 'mario', 'layers', 'hottest']     1   \n",
       "5224                                              []     1   \n",
       "5225                                              []     1   \n",
       "\n",
       "                           Words WT 8k WT 9k  \\\n",
       "0                 ['cant', 'scanning']     3   \n",
       "1                                   []     1   \n",
       "2      ['cant', 'nervous', 'organize']     1   \n",
       "3           ['grammar', 'expressions']     0   \n",
       "4                         ['organize']     0   \n",
       "...                                ...   ...   \n",
       "5221                ['cant', 'lonely']     1   \n",
       "5222  ['lonely', 'aggressive', 'cant']     1   \n",
       "5223                          ['cant']     4   \n",
       "5224                     ['neighbors']     1   \n",
       "5225                         ['hobby']     1   \n",
       "\n",
       "                                         Words WT 9k WT 10k  \\\n",
       "0               ['quizzes', 'efficiently', 'divide']      3   \n",
       "1                                        ['predict']      0   \n",
       "2                                    ['efficiently']      2   \n",
       "3                                                 []      1   \n",
       "4                                                 []      0   \n",
       "...                                              ...    ...   \n",
       "5221                                 ['differently']      0   \n",
       "5222                                 ['differently']      0   \n",
       "5223  ['warming', 'phenomenon', 'rays', 'centuries']      3   \n",
       "5224                                       ['lobby']      1   \n",
       "5225                                      ['boring']      0   \n",
       "\n",
       "                                 Words WT 10k  \n",
       "0             ['concentrate', 'bother', 'qt']  \n",
       "1                                          []  \n",
       "2                   ['concentrate', 'bother']  \n",
       "3                             ['concentrate']  \n",
       "4                                          []  \n",
       "...                                       ...  \n",
       "5221                                       []  \n",
       "5222                                       []  \n",
       "5223  ['greenhouse', 'refrigerator', 'ozone']  \n",
       "5224                             ['hometown']  \n",
       "5225                                       []  \n",
       "\n",
       "[5226 rows x 39 columns]"
      ]
     },
     "execution_count": 189,
     "metadata": {},
     "output_type": "execute_result"
    }
   ],
   "source": [
    "just_groups"
   ]
  },
  {
   "cell_type": "code",
   "execution_count": 168,
   "metadata": {},
   "outputs": [
    {
     "data": {
      "text/plain": [
       "['1k', '2k', '3k', '4k', '5k', '6k', '7k', '8k', '9k', '10k']"
      ]
     },
     "execution_count": 168,
     "metadata": {},
     "output_type": "execute_result"
    }
   ],
   "source": [
    "col_list= ['1k', '2k', '3k', '4k', '5k', '6k', '7k', '8k', '9k', '10k']\n",
    "col_list"
   ]
  },
  {
   "cell_type": "code",
   "execution_count": 193,
   "metadata": {},
   "outputs": [],
   "source": [
    "index=0\n",
    "just_groups['10k+']=pd.NaT\n",
    "for length in just_groups.text_len:\n",
    "    k1=just_groups.at[index,'1k']\n",
    "    k2=just_groups.at[index,'2k']\n",
    "    k3=just_groups.at[index,'3k']\n",
    "    k4=just_groups.at[index,'4k']\n",
    "    k5=just_groups.at[index,'5k']\n",
    "    k6=just_groups.at[index,'6k']\n",
    "    k7=just_groups.at[index,'7k']\n",
    "    k8=just_groups.at[index,'8k']\n",
    "    k9=just_groups.at[index,'9k']\n",
    "    k10=just_groups.at[index,'10k']\n",
    "    total=k1+k2+k3+k4+k5+k6+k7+k8+k9+k10\n",
    "    remaining=length-total\n",
    "    just_groups.at[index, '10k+']=remaining\n",
    "    \n",
    "    lengthwt=just_groups.at[index,'wordtype_len']\n",
    "    k1wt=just_groups.at[index,'WT 1k']\n",
    "    k2wt=just_groups.at[index,'WT 2k']\n",
    "    k3wt=just_groups.at[index,'WT 3k']\n",
    "    k4wt=just_groups.at[index,'WT 4k']\n",
    "    k5wt=just_groups.at[index,'WT 5k']\n",
    "    k6wt=just_groups.at[index,'WT 6k']\n",
    "    k7wt=just_groups.at[index,'WT 7k']\n",
    "    k8wt=just_groups.at[index,'WT 8k']\n",
    "    k9wt=just_groups.at[index,'WT 9k']\n",
    "    k10wt=just_groups.at[index,'WT 10k']\n",
    "    totalwt=k1wt+k2wt+k3wt+k4wt+k5wt+k6wt+k7wt+k8wt+k9wt+k10wt\n",
    "    remainingwt=lengthwt-totalwt\n",
    "    just_groups.at[index,'WT 10k+']=remainingwt\n",
    "    index+=1"
   ]
  },
  {
   "cell_type": "code",
   "execution_count": 194,
   "metadata": {},
   "outputs": [
    {
     "data": {
      "text/html": [
       "<div>\n",
       "<style scoped>\n",
       "    .dataframe tbody tr th:only-of-type {\n",
       "        vertical-align: middle;\n",
       "    }\n",
       "\n",
       "    .dataframe tbody tr th {\n",
       "        vertical-align: top;\n",
       "    }\n",
       "\n",
       "    .dataframe thead th {\n",
       "        text-align: right;\n",
       "    }\n",
       "</style>\n",
       "<table border=\"1\" class=\"dataframe\">\n",
       "  <thead>\n",
       "    <tr style=\"text-align: right;\">\n",
       "      <th></th>\n",
       "      <th>index</th>\n",
       "      <th>anon_id</th>\n",
       "      <th>native_language</th>\n",
       "      <th>text_len</th>\n",
       "      <th>text</th>\n",
       "      <th>level_id</th>\n",
       "      <th>processed_text</th>\n",
       "      <th>wordtype_len</th>\n",
       "      <th>1k</th>\n",
       "      <th>2k</th>\n",
       "      <th>...</th>\n",
       "      <th>Words WT 6k</th>\n",
       "      <th>WT 7k</th>\n",
       "      <th>Words WT 7k</th>\n",
       "      <th>WT 8k</th>\n",
       "      <th>Words WT 8k</th>\n",
       "      <th>WT 9k</th>\n",
       "      <th>Words WT 9k</th>\n",
       "      <th>WT 10k</th>\n",
       "      <th>Words WT 10k</th>\n",
       "      <th>WT 10k+</th>\n",
       "    </tr>\n",
       "  </thead>\n",
       "  <tbody>\n",
       "    <tr>\n",
       "      <th>0</th>\n",
       "      <td>60</td>\n",
       "      <td>aa8</td>\n",
       "      <td>Korean</td>\n",
       "      <td>770</td>\n",
       "      <td>College students are usually very busy during ...</td>\n",
       "      <td>5</td>\n",
       "      <td>college students are usually very busy during ...</td>\n",
       "      <td>232</td>\n",
       "      <td>606</td>\n",
       "      <td>48</td>\n",
       "      <td>...</td>\n",
       "      <td>['preparing', 'priorities', 'meal']</td>\n",
       "      <td>3</td>\n",
       "      <td>['homework', 'angry', 'crucial']</td>\n",
       "      <td>2</td>\n",
       "      <td>['cant', 'scanning']</td>\n",
       "      <td>3</td>\n",
       "      <td>['quizzes', 'efficiently', 'divide']</td>\n",
       "      <td>3</td>\n",
       "      <td>['concentrate', 'bother', 'qt']</td>\n",
       "      <td>14.0</td>\n",
       "    </tr>\n",
       "    <tr>\n",
       "      <th>1</th>\n",
       "      <td>61</td>\n",
       "      <td>aa8</td>\n",
       "      <td>Korean</td>\n",
       "      <td>64</td>\n",
       "      <td>I think it is strange to throw away something ...</td>\n",
       "      <td>4</td>\n",
       "      <td>i think it is strange to throw away something ...</td>\n",
       "      <td>51</td>\n",
       "      <td>43</td>\n",
       "      <td>7</td>\n",
       "      <td>...</td>\n",
       "      <td>['anymore']</td>\n",
       "      <td>0</td>\n",
       "      <td>[]</td>\n",
       "      <td>0</td>\n",
       "      <td>[]</td>\n",
       "      <td>1</td>\n",
       "      <td>['predict']</td>\n",
       "      <td>0</td>\n",
       "      <td>[]</td>\n",
       "      <td>5.0</td>\n",
       "    </tr>\n",
       "    <tr>\n",
       "      <th>2</th>\n",
       "      <td>62</td>\n",
       "      <td>aa8</td>\n",
       "      <td>Korean</td>\n",
       "      <td>809</td>\n",
       "      <td>College students are usually very busy during ...</td>\n",
       "      <td>5</td>\n",
       "      <td>college students are usually very busy during ...</td>\n",
       "      <td>237</td>\n",
       "      <td>665</td>\n",
       "      <td>44</td>\n",
       "      <td>...</td>\n",
       "      <td>['priorities', 'remained', 'planner', 'killing']</td>\n",
       "      <td>4</td>\n",
       "      <td>['homework', 'angry', 'limitation', 'crucial']</td>\n",
       "      <td>3</td>\n",
       "      <td>['cant', 'nervous', 'organize']</td>\n",
       "      <td>1</td>\n",
       "      <td>['efficiently']</td>\n",
       "      <td>2</td>\n",
       "      <td>['concentrate', 'bother']</td>\n",
       "      <td>10.0</td>\n",
       "    </tr>\n",
       "    <tr>\n",
       "      <th>3</th>\n",
       "      <td>63</td>\n",
       "      <td>aa8</td>\n",
       "      <td>Korean</td>\n",
       "      <td>343</td>\n",
       "      <td>I thought this was homework. \\nT.T I could not...</td>\n",
       "      <td>5</td>\n",
       "      <td>i thought this was homework  tt i could not th...</td>\n",
       "      <td>150</td>\n",
       "      <td>271</td>\n",
       "      <td>16</td>\n",
       "      <td>...</td>\n",
       "      <td>['tt', 'worry', 'studied']</td>\n",
       "      <td>2</td>\n",
       "      <td>['homework', 'separately']</td>\n",
       "      <td>2</td>\n",
       "      <td>['grammar', 'expressions']</td>\n",
       "      <td>0</td>\n",
       "      <td>[]</td>\n",
       "      <td>1</td>\n",
       "      <td>['concentrate']</td>\n",
       "      <td>8.0</td>\n",
       "    </tr>\n",
       "    <tr>\n",
       "      <th>4</th>\n",
       "      <td>64</td>\n",
       "      <td>aa8</td>\n",
       "      <td>Korean</td>\n",
       "      <td>137</td>\n",
       "      <td>I. I think using a schedule book is a good way...</td>\n",
       "      <td>5</td>\n",
       "      <td>i i think using a schedule book is a good way ...</td>\n",
       "      <td>63</td>\n",
       "      <td>108</td>\n",
       "      <td>9</td>\n",
       "      <td>...</td>\n",
       "      <td>['priorities', 'convenient']</td>\n",
       "      <td>0</td>\n",
       "      <td>[]</td>\n",
       "      <td>1</td>\n",
       "      <td>['organize']</td>\n",
       "      <td>0</td>\n",
       "      <td>[]</td>\n",
       "      <td>0</td>\n",
       "      <td>[]</td>\n",
       "      <td>0.0</td>\n",
       "    </tr>\n",
       "    <tr>\n",
       "      <th>...</th>\n",
       "      <td>...</td>\n",
       "      <td>...</td>\n",
       "      <td>...</td>\n",
       "      <td>...</td>\n",
       "      <td>...</td>\n",
       "      <td>...</td>\n",
       "      <td>...</td>\n",
       "      <td>...</td>\n",
       "      <td>...</td>\n",
       "      <td>...</td>\n",
       "      <td>...</td>\n",
       "      <td>...</td>\n",
       "      <td>...</td>\n",
       "      <td>...</td>\n",
       "      <td>...</td>\n",
       "      <td>...</td>\n",
       "      <td>...</td>\n",
       "      <td>...</td>\n",
       "      <td>...</td>\n",
       "      <td>...</td>\n",
       "      <td>...</td>\n",
       "    </tr>\n",
       "    <tr>\n",
       "      <th>5221</th>\n",
       "      <td>17074</td>\n",
       "      <td>hb4</td>\n",
       "      <td>Korean</td>\n",
       "      <td>397</td>\n",
       "      <td>Cats and dogs are the most popular pets in the...</td>\n",
       "      <td>4</td>\n",
       "      <td>cats and dogs are the most popular pets in the...</td>\n",
       "      <td>172</td>\n",
       "      <td>280</td>\n",
       "      <td>42</td>\n",
       "      <td>...</td>\n",
       "      <td>['humans', 'loves', 'sad']</td>\n",
       "      <td>3</td>\n",
       "      <td>['similarly', 'offensive', 'admit']</td>\n",
       "      <td>2</td>\n",
       "      <td>['cant', 'lonely']</td>\n",
       "      <td>1</td>\n",
       "      <td>['differently']</td>\n",
       "      <td>0</td>\n",
       "      <td>[]</td>\n",
       "      <td>12.0</td>\n",
       "    </tr>\n",
       "    <tr>\n",
       "      <th>5222</th>\n",
       "      <td>17075</td>\n",
       "      <td>hb4</td>\n",
       "      <td>Korean</td>\n",
       "      <td>440</td>\n",
       "      <td>Cats and dogs are the most popular pets in the...</td>\n",
       "      <td>4</td>\n",
       "      <td>cats and dogs are the most popular pets in the...</td>\n",
       "      <td>183</td>\n",
       "      <td>313</td>\n",
       "      <td>40</td>\n",
       "      <td>...</td>\n",
       "      <td>['humans', 'besides', 'loves', 'sad']</td>\n",
       "      <td>2</td>\n",
       "      <td>['similarly', 'likes']</td>\n",
       "      <td>3</td>\n",
       "      <td>['lonely', 'aggressive', 'cant']</td>\n",
       "      <td>1</td>\n",
       "      <td>['differently']</td>\n",
       "      <td>0</td>\n",
       "      <td>[]</td>\n",
       "      <td>13.0</td>\n",
       "    </tr>\n",
       "    <tr>\n",
       "      <th>5223</th>\n",
       "      <td>17076</td>\n",
       "      <td>hb4</td>\n",
       "      <td>Korean</td>\n",
       "      <td>405</td>\n",
       "      <td>Global Warming\\n\\nIn the greenhouse, plants ca...</td>\n",
       "      <td>4</td>\n",
       "      <td>global warming  in the greenhouse plants can l...</td>\n",
       "      <td>199</td>\n",
       "      <td>241</td>\n",
       "      <td>45</td>\n",
       "      <td>...</td>\n",
       "      <td>['resolve', 'corps', 'coal', 'everywhere']</td>\n",
       "      <td>4</td>\n",
       "      <td>['filtering', 'mario', 'layers', 'hottest']</td>\n",
       "      <td>1</td>\n",
       "      <td>['cant']</td>\n",
       "      <td>4</td>\n",
       "      <td>['warming', 'phenomenon', 'rays', 'centuries']</td>\n",
       "      <td>3</td>\n",
       "      <td>['greenhouse', 'refrigerator', 'ozone']</td>\n",
       "      <td>29.0</td>\n",
       "    </tr>\n",
       "    <tr>\n",
       "      <th>5224</th>\n",
       "      <td>17077</td>\n",
       "      <td>hb4</td>\n",
       "      <td>Korean</td>\n",
       "      <td>110</td>\n",
       "      <td>My hometown is Seoul, which is capital city of...</td>\n",
       "      <td>4</td>\n",
       "      <td>my hometown is seoul which is capital city of ...</td>\n",
       "      <td>70</td>\n",
       "      <td>82</td>\n",
       "      <td>5</td>\n",
       "      <td>...</td>\n",
       "      <td>[]</td>\n",
       "      <td>0</td>\n",
       "      <td>[]</td>\n",
       "      <td>1</td>\n",
       "      <td>['neighbors']</td>\n",
       "      <td>1</td>\n",
       "      <td>['lobby']</td>\n",
       "      <td>1</td>\n",
       "      <td>['hometown']</td>\n",
       "      <td>3.0</td>\n",
       "    </tr>\n",
       "    <tr>\n",
       "      <th>5225</th>\n",
       "      <td>17078</td>\n",
       "      <td>hb4</td>\n",
       "      <td>Korean</td>\n",
       "      <td>84</td>\n",
       "      <td>By the time I went to high school, I hadn't ex...</td>\n",
       "      <td>4</td>\n",
       "      <td>by the time i went to high school i hadnt exer...</td>\n",
       "      <td>50</td>\n",
       "      <td>57</td>\n",
       "      <td>9</td>\n",
       "      <td>...</td>\n",
       "      <td>[]</td>\n",
       "      <td>0</td>\n",
       "      <td>[]</td>\n",
       "      <td>1</td>\n",
       "      <td>['hobby']</td>\n",
       "      <td>1</td>\n",
       "      <td>['boring']</td>\n",
       "      <td>0</td>\n",
       "      <td>[]</td>\n",
       "      <td>6.0</td>\n",
       "    </tr>\n",
       "  </tbody>\n",
       "</table>\n",
       "<p>5226 rows × 40 columns</p>\n",
       "</div>"
      ],
      "text/plain": [
       "      index anon_id native_language text_len  \\\n",
       "0        60     aa8          Korean      770   \n",
       "1        61     aa8          Korean       64   \n",
       "2        62     aa8          Korean      809   \n",
       "3        63     aa8          Korean      343   \n",
       "4        64     aa8          Korean      137   \n",
       "...     ...     ...             ...      ...   \n",
       "5221  17074     hb4          Korean      397   \n",
       "5222  17075     hb4          Korean      440   \n",
       "5223  17076     hb4          Korean      405   \n",
       "5224  17077     hb4          Korean      110   \n",
       "5225  17078     hb4          Korean       84   \n",
       "\n",
       "                                                   text  level_id  \\\n",
       "0     College students are usually very busy during ...         5   \n",
       "1     I think it is strange to throw away something ...         4   \n",
       "2     College students are usually very busy during ...         5   \n",
       "3     I thought this was homework. \\nT.T I could not...         5   \n",
       "4     I. I think using a schedule book is a good way...         5   \n",
       "...                                                 ...       ...   \n",
       "5221  Cats and dogs are the most popular pets in the...         4   \n",
       "5222  Cats and dogs are the most popular pets in the...         4   \n",
       "5223  Global Warming\\n\\nIn the greenhouse, plants ca...         4   \n",
       "5224  My hometown is Seoul, which is capital city of...         4   \n",
       "5225  By the time I went to high school, I hadn't ex...         4   \n",
       "\n",
       "                                         processed_text wordtype_len   1k  2k  \\\n",
       "0     college students are usually very busy during ...          232  606  48   \n",
       "1     i think it is strange to throw away something ...           51   43   7   \n",
       "2     college students are usually very busy during ...          237  665  44   \n",
       "3     i thought this was homework  tt i could not th...          150  271  16   \n",
       "4     i i think using a schedule book is a good way ...           63  108   9   \n",
       "...                                                 ...          ...  ...  ..   \n",
       "5221  cats and dogs are the most popular pets in the...          172  280  42   \n",
       "5222  cats and dogs are the most popular pets in the...          183  313  40   \n",
       "5223  global warming  in the greenhouse plants can l...          199  241  45   \n",
       "5224  my hometown is seoul which is capital city of ...           70   82   5   \n",
       "5225  by the time i went to high school i hadnt exer...           50   57   9   \n",
       "\n",
       "      ...                                       Words WT 6k WT 7k  \\\n",
       "0     ...               ['preparing', 'priorities', 'meal']     3   \n",
       "1     ...                                       ['anymore']     0   \n",
       "2     ...  ['priorities', 'remained', 'planner', 'killing']     4   \n",
       "3     ...                        ['tt', 'worry', 'studied']     2   \n",
       "4     ...                      ['priorities', 'convenient']     0   \n",
       "...   ...                                               ...   ...   \n",
       "5221  ...                        ['humans', 'loves', 'sad']     3   \n",
       "5222  ...             ['humans', 'besides', 'loves', 'sad']     2   \n",
       "5223  ...        ['resolve', 'corps', 'coal', 'everywhere']     4   \n",
       "5224  ...                                                []     0   \n",
       "5225  ...                                                []     0   \n",
       "\n",
       "                                         Words WT 7k WT 8k  \\\n",
       "0                   ['homework', 'angry', 'crucial']     2   \n",
       "1                                                 []     0   \n",
       "2     ['homework', 'angry', 'limitation', 'crucial']     3   \n",
       "3                         ['homework', 'separately']     2   \n",
       "4                                                 []     1   \n",
       "...                                              ...   ...   \n",
       "5221             ['similarly', 'offensive', 'admit']     2   \n",
       "5222                          ['similarly', 'likes']     3   \n",
       "5223     ['filtering', 'mario', 'layers', 'hottest']     1   \n",
       "5224                                              []     1   \n",
       "5225                                              []     1   \n",
       "\n",
       "                           Words WT 8k WT 9k  \\\n",
       "0                 ['cant', 'scanning']     3   \n",
       "1                                   []     1   \n",
       "2      ['cant', 'nervous', 'organize']     1   \n",
       "3           ['grammar', 'expressions']     0   \n",
       "4                         ['organize']     0   \n",
       "...                                ...   ...   \n",
       "5221                ['cant', 'lonely']     1   \n",
       "5222  ['lonely', 'aggressive', 'cant']     1   \n",
       "5223                          ['cant']     4   \n",
       "5224                     ['neighbors']     1   \n",
       "5225                         ['hobby']     1   \n",
       "\n",
       "                                         Words WT 9k WT 10k  \\\n",
       "0               ['quizzes', 'efficiently', 'divide']      3   \n",
       "1                                        ['predict']      0   \n",
       "2                                    ['efficiently']      2   \n",
       "3                                                 []      1   \n",
       "4                                                 []      0   \n",
       "...                                              ...    ...   \n",
       "5221                                 ['differently']      0   \n",
       "5222                                 ['differently']      0   \n",
       "5223  ['warming', 'phenomenon', 'rays', 'centuries']      3   \n",
       "5224                                       ['lobby']      1   \n",
       "5225                                      ['boring']      0   \n",
       "\n",
       "                                 Words WT 10k WT 10k+  \n",
       "0             ['concentrate', 'bother', 'qt']    14.0  \n",
       "1                                          []     5.0  \n",
       "2                   ['concentrate', 'bother']    10.0  \n",
       "3                             ['concentrate']     8.0  \n",
       "4                                          []     0.0  \n",
       "...                                       ...     ...  \n",
       "5221                                       []    12.0  \n",
       "5222                                       []    13.0  \n",
       "5223  ['greenhouse', 'refrigerator', 'ozone']    29.0  \n",
       "5224                             ['hometown']     3.0  \n",
       "5225                                       []     6.0  \n",
       "\n",
       "[5226 rows x 40 columns]"
      ]
     },
     "execution_count": 194,
     "metadata": {},
     "output_type": "execute_result"
    }
   ],
   "source": [
    "just_groups"
   ]
  },
  {
   "cell_type": "markdown",
   "metadata": {},
   "source": [
    "index=0\n",
    "just_groups['num_in_firstk']=pd.NaT\n",
    "twords=[]\n",
    "for text in just_groups.processed_text:\n",
    "    twords=[]\n",
    "    words=[]\n",
    "    words=text.strip().split(\" \")\n",
    "    for word in words:\n",
    "        if word in firstk:\n",
    "            twords.append(word)\n",
    "    just_groups.at[index, 'num_in_firstk']=len(twords)\n",
    "    index+=1\n"
   ]
  },
  {
   "cell_type": "code",
   "execution_count": 158,
   "metadata": {
    "scrolled": true
   },
   "outputs": [
    {
     "data": {
      "text/html": [
       "<div>\n",
       "<style scoped>\n",
       "    .dataframe tbody tr th:only-of-type {\n",
       "        vertical-align: middle;\n",
       "    }\n",
       "\n",
       "    .dataframe tbody tr th {\n",
       "        vertical-align: top;\n",
       "    }\n",
       "\n",
       "    .dataframe thead th {\n",
       "        text-align: right;\n",
       "    }\n",
       "</style>\n",
       "<table border=\"1\" class=\"dataframe\">\n",
       "  <thead>\n",
       "    <tr style=\"text-align: right;\">\n",
       "      <th></th>\n",
       "      <th>index</th>\n",
       "      <th>anon_id</th>\n",
       "      <th>native_language</th>\n",
       "      <th>text_len</th>\n",
       "      <th>text</th>\n",
       "      <th>level_id</th>\n",
       "      <th>processed_text</th>\n",
       "      <th>wordtype_len</th>\n",
       "      <th>1k</th>\n",
       "      <th>2k</th>\n",
       "      <th>3k</th>\n",
       "      <th>4k</th>\n",
       "      <th>5k</th>\n",
       "      <th>6k</th>\n",
       "      <th>7k</th>\n",
       "      <th>8k</th>\n",
       "      <th>9k</th>\n",
       "      <th>10k</th>\n",
       "      <th>10k+</th>\n",
       "      <th>num_in_firstk</th>\n",
       "    </tr>\n",
       "  </thead>\n",
       "  <tbody>\n",
       "    <tr>\n",
       "      <th>0</th>\n",
       "      <td>60</td>\n",
       "      <td>aa8</td>\n",
       "      <td>Korean</td>\n",
       "      <td>770</td>\n",
       "      <td>College students are usually very busy during ...</td>\n",
       "      <td>5</td>\n",
       "      <td>college students are usually very busy during ...</td>\n",
       "      <td>232</td>\n",
       "      <td>606</td>\n",
       "      <td>48</td>\n",
       "      <td>30</td>\n",
       "      <td>20</td>\n",
       "      <td>10</td>\n",
       "      <td>4</td>\n",
       "      <td>7</td>\n",
       "      <td>6</td>\n",
       "      <td>7</td>\n",
       "      <td>4</td>\n",
       "      <td>28</td>\n",
       "      <td>606</td>\n",
       "    </tr>\n",
       "    <tr>\n",
       "      <th>1</th>\n",
       "      <td>61</td>\n",
       "      <td>aa8</td>\n",
       "      <td>Korean</td>\n",
       "      <td>64</td>\n",
       "      <td>I think it is strange to throw away something ...</td>\n",
       "      <td>4</td>\n",
       "      <td>i think it is strange to throw away something ...</td>\n",
       "      <td>51</td>\n",
       "      <td>43</td>\n",
       "      <td>7</td>\n",
       "      <td>0</td>\n",
       "      <td>4</td>\n",
       "      <td>2</td>\n",
       "      <td>2</td>\n",
       "      <td>0</td>\n",
       "      <td>0</td>\n",
       "      <td>1</td>\n",
       "      <td>0</td>\n",
       "      <td>5</td>\n",
       "      <td>43</td>\n",
       "    </tr>\n",
       "    <tr>\n",
       "      <th>2</th>\n",
       "      <td>62</td>\n",
       "      <td>aa8</td>\n",
       "      <td>Korean</td>\n",
       "      <td>809</td>\n",
       "      <td>College students are usually very busy during ...</td>\n",
       "      <td>5</td>\n",
       "      <td>college students are usually very busy during ...</td>\n",
       "      <td>237</td>\n",
       "      <td>665</td>\n",
       "      <td>44</td>\n",
       "      <td>26</td>\n",
       "      <td>23</td>\n",
       "      <td>11</td>\n",
       "      <td>7</td>\n",
       "      <td>7</td>\n",
       "      <td>5</td>\n",
       "      <td>1</td>\n",
       "      <td>2</td>\n",
       "      <td>18</td>\n",
       "      <td>665</td>\n",
       "    </tr>\n",
       "    <tr>\n",
       "      <th>3</th>\n",
       "      <td>63</td>\n",
       "      <td>aa8</td>\n",
       "      <td>Korean</td>\n",
       "      <td>343</td>\n",
       "      <td>I thought this was homework. \\nT.T I could not...</td>\n",
       "      <td>5</td>\n",
       "      <td>i thought this was homework  tt i could not th...</td>\n",
       "      <td>150</td>\n",
       "      <td>271</td>\n",
       "      <td>16</td>\n",
       "      <td>7</td>\n",
       "      <td>13</td>\n",
       "      <td>2</td>\n",
       "      <td>4</td>\n",
       "      <td>6</td>\n",
       "      <td>4</td>\n",
       "      <td>0</td>\n",
       "      <td>1</td>\n",
       "      <td>19</td>\n",
       "      <td>271</td>\n",
       "    </tr>\n",
       "    <tr>\n",
       "      <th>4</th>\n",
       "      <td>64</td>\n",
       "      <td>aa8</td>\n",
       "      <td>Korean</td>\n",
       "      <td>137</td>\n",
       "      <td>I. I think using a schedule book is a good way...</td>\n",
       "      <td>5</td>\n",
       "      <td>i i think using a schedule book is a good way ...</td>\n",
       "      <td>63</td>\n",
       "      <td>108</td>\n",
       "      <td>9</td>\n",
       "      <td>4</td>\n",
       "      <td>2</td>\n",
       "      <td>0</td>\n",
       "      <td>2</td>\n",
       "      <td>0</td>\n",
       "      <td>1</td>\n",
       "      <td>0</td>\n",
       "      <td>0</td>\n",
       "      <td>11</td>\n",
       "      <td>108</td>\n",
       "    </tr>\n",
       "    <tr>\n",
       "      <th>...</th>\n",
       "      <td>...</td>\n",
       "      <td>...</td>\n",
       "      <td>...</td>\n",
       "      <td>...</td>\n",
       "      <td>...</td>\n",
       "      <td>...</td>\n",
       "      <td>...</td>\n",
       "      <td>...</td>\n",
       "      <td>...</td>\n",
       "      <td>...</td>\n",
       "      <td>...</td>\n",
       "      <td>...</td>\n",
       "      <td>...</td>\n",
       "      <td>...</td>\n",
       "      <td>...</td>\n",
       "      <td>...</td>\n",
       "      <td>...</td>\n",
       "      <td>...</td>\n",
       "      <td>...</td>\n",
       "      <td>...</td>\n",
       "    </tr>\n",
       "    <tr>\n",
       "      <th>5221</th>\n",
       "      <td>17074</td>\n",
       "      <td>hb4</td>\n",
       "      <td>Korean</td>\n",
       "      <td>397</td>\n",
       "      <td>Cats and dogs are the most popular pets in the...</td>\n",
       "      <td>4</td>\n",
       "      <td>cats and dogs are the most popular pets in the...</td>\n",
       "      <td>172</td>\n",
       "      <td>280</td>\n",
       "      <td>42</td>\n",
       "      <td>23</td>\n",
       "      <td>8</td>\n",
       "      <td>18</td>\n",
       "      <td>4</td>\n",
       "      <td>3</td>\n",
       "      <td>6</td>\n",
       "      <td>1</td>\n",
       "      <td>0</td>\n",
       "      <td>12</td>\n",
       "      <td>280</td>\n",
       "    </tr>\n",
       "    <tr>\n",
       "      <th>5222</th>\n",
       "      <td>17075</td>\n",
       "      <td>hb4</td>\n",
       "      <td>Korean</td>\n",
       "      <td>440</td>\n",
       "      <td>Cats and dogs are the most popular pets in the...</td>\n",
       "      <td>4</td>\n",
       "      <td>cats and dogs are the most popular pets in the...</td>\n",
       "      <td>183</td>\n",
       "      <td>313</td>\n",
       "      <td>40</td>\n",
       "      <td>27</td>\n",
       "      <td>9</td>\n",
       "      <td>19</td>\n",
       "      <td>7</td>\n",
       "      <td>2</td>\n",
       "      <td>7</td>\n",
       "      <td>2</td>\n",
       "      <td>0</td>\n",
       "      <td>14</td>\n",
       "      <td>313</td>\n",
       "    </tr>\n",
       "    <tr>\n",
       "      <th>5223</th>\n",
       "      <td>17076</td>\n",
       "      <td>hb4</td>\n",
       "      <td>Korean</td>\n",
       "      <td>405</td>\n",
       "      <td>Global Warming\\n\\nIn the greenhouse, plants ca...</td>\n",
       "      <td>4</td>\n",
       "      <td>global warming  in the greenhouse plants can l...</td>\n",
       "      <td>199</td>\n",
       "      <td>241</td>\n",
       "      <td>45</td>\n",
       "      <td>26</td>\n",
       "      <td>13</td>\n",
       "      <td>9</td>\n",
       "      <td>4</td>\n",
       "      <td>4</td>\n",
       "      <td>2</td>\n",
       "      <td>12</td>\n",
       "      <td>12</td>\n",
       "      <td>37</td>\n",
       "      <td>241</td>\n",
       "    </tr>\n",
       "    <tr>\n",
       "      <th>5224</th>\n",
       "      <td>17077</td>\n",
       "      <td>hb4</td>\n",
       "      <td>Korean</td>\n",
       "      <td>110</td>\n",
       "      <td>My hometown is Seoul, which is capital city of...</td>\n",
       "      <td>4</td>\n",
       "      <td>my hometown is seoul which is capital city of ...</td>\n",
       "      <td>70</td>\n",
       "      <td>82</td>\n",
       "      <td>5</td>\n",
       "      <td>9</td>\n",
       "      <td>3</td>\n",
       "      <td>2</td>\n",
       "      <td>0</td>\n",
       "      <td>0</td>\n",
       "      <td>1</td>\n",
       "      <td>1</td>\n",
       "      <td>1</td>\n",
       "      <td>6</td>\n",
       "      <td>82</td>\n",
       "    </tr>\n",
       "    <tr>\n",
       "      <th>5225</th>\n",
       "      <td>17078</td>\n",
       "      <td>hb4</td>\n",
       "      <td>Korean</td>\n",
       "      <td>84</td>\n",
       "      <td>By the time I went to high school, I hadn't ex...</td>\n",
       "      <td>4</td>\n",
       "      <td>by the time i went to high school i hadnt exer...</td>\n",
       "      <td>50</td>\n",
       "      <td>57</td>\n",
       "      <td>9</td>\n",
       "      <td>4</td>\n",
       "      <td>1</td>\n",
       "      <td>5</td>\n",
       "      <td>0</td>\n",
       "      <td>0</td>\n",
       "      <td>1</td>\n",
       "      <td>1</td>\n",
       "      <td>0</td>\n",
       "      <td>6</td>\n",
       "      <td>57</td>\n",
       "    </tr>\n",
       "  </tbody>\n",
       "</table>\n",
       "<p>5226 rows × 20 columns</p>\n",
       "</div>"
      ],
      "text/plain": [
       "      index anon_id native_language text_len  \\\n",
       "0        60     aa8          Korean      770   \n",
       "1        61     aa8          Korean       64   \n",
       "2        62     aa8          Korean      809   \n",
       "3        63     aa8          Korean      343   \n",
       "4        64     aa8          Korean      137   \n",
       "...     ...     ...             ...      ...   \n",
       "5221  17074     hb4          Korean      397   \n",
       "5222  17075     hb4          Korean      440   \n",
       "5223  17076     hb4          Korean      405   \n",
       "5224  17077     hb4          Korean      110   \n",
       "5225  17078     hb4          Korean       84   \n",
       "\n",
       "                                                   text  level_id  \\\n",
       "0     College students are usually very busy during ...         5   \n",
       "1     I think it is strange to throw away something ...         4   \n",
       "2     College students are usually very busy during ...         5   \n",
       "3     I thought this was homework. \\nT.T I could not...         5   \n",
       "4     I. I think using a schedule book is a good way...         5   \n",
       "...                                                 ...       ...   \n",
       "5221  Cats and dogs are the most popular pets in the...         4   \n",
       "5222  Cats and dogs are the most popular pets in the...         4   \n",
       "5223  Global Warming\\n\\nIn the greenhouse, plants ca...         4   \n",
       "5224  My hometown is Seoul, which is capital city of...         4   \n",
       "5225  By the time I went to high school, I hadn't ex...         4   \n",
       "\n",
       "                                         processed_text wordtype_len   1k  2k  \\\n",
       "0     college students are usually very busy during ...          232  606  48   \n",
       "1     i think it is strange to throw away something ...           51   43   7   \n",
       "2     college students are usually very busy during ...          237  665  44   \n",
       "3     i thought this was homework  tt i could not th...          150  271  16   \n",
       "4     i i think using a schedule book is a good way ...           63  108   9   \n",
       "...                                                 ...          ...  ...  ..   \n",
       "5221  cats and dogs are the most popular pets in the...          172  280  42   \n",
       "5222  cats and dogs are the most popular pets in the...          183  313  40   \n",
       "5223  global warming  in the greenhouse plants can l...          199  241  45   \n",
       "5224  my hometown is seoul which is capital city of ...           70   82   5   \n",
       "5225  by the time i went to high school i hadnt exer...           50   57   9   \n",
       "\n",
       "      3k  4k  5k 6k 7k 8k  9k 10k 10k+ num_in_firstk  \n",
       "0     30  20  10  4  7  6   7   4   28           606  \n",
       "1      0   4   2  2  0  0   1   0    5            43  \n",
       "2     26  23  11  7  7  5   1   2   18           665  \n",
       "3      7  13   2  4  6  4   0   1   19           271  \n",
       "4      4   2   0  2  0  1   0   0   11           108  \n",
       "...   ..  ..  .. .. .. ..  ..  ..  ...           ...  \n",
       "5221  23   8  18  4  3  6   1   0   12           280  \n",
       "5222  27   9  19  7  2  7   2   0   14           313  \n",
       "5223  26  13   9  4  4  2  12  12   37           241  \n",
       "5224   9   3   2  0  0  1   1   1    6            82  \n",
       "5225   4   1   5  0  0  1   1   0    6            57  \n",
       "\n",
       "[5226 rows x 20 columns]"
      ]
     },
     "execution_count": 158,
     "metadata": {},
     "output_type": "execute_result"
    }
   ],
   "source": [
    "just_groups"
   ]
  },
  {
   "cell_type": "code",
   "execution_count": null,
   "metadata": {},
   "outputs": [],
   "source": []
  }
 ],
 "metadata": {
  "kernelspec": {
   "display_name": "Python 3",
   "language": "python",
   "name": "python3"
  },
  "language_info": {
   "codemirror_mode": {
    "name": "ipython",
    "version": 3
   },
   "file_extension": ".py",
   "mimetype": "text/x-python",
   "name": "python",
   "nbconvert_exporter": "python",
   "pygments_lexer": "ipython3",
   "version": "3.8.5"
  }
 },
 "nbformat": 4,
 "nbformat_minor": 4
}
