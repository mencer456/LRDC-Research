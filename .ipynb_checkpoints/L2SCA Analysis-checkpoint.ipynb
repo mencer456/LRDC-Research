{
 "cells": [
  {
   "cell_type": "markdown",
   "metadata": {},
   "source": [
    "# L2SCA Analysis"
   ]
  },
  {
   "cell_type": "code",
   "execution_count": 3,
   "metadata": {},
   "outputs": [],
   "source": [
    "#importing libraries\n",
    "import os\n",
    "import numpy as np\n",
    "import pandas as pd"
   ]
  },
  {
   "cell_type": "code",
   "execution_count": 12,
   "metadata": {},
   "outputs": [],
   "source": [
    "#importing metrics_SCA files\n",
    "lchin34=pd.read_csv('metrics_SCA-files\\lchin34_metrics_SCA.csv')\n",
    "lchin45=pd.read_csv('metrics_SCA-files\\lchin45_metrics_SCA.csv')\n",
    "lchin35=pd.read_csv('metrics_SCA-files\\lchin35_metrics_SCA.csv')\n",
    "\n",
    "lkor34=pd.read_csv('metrics_SCA-files\\lkor34_metrics_SCA.csv')\n",
    "lkor45=pd.read_csv('metrics_SCA-files\\lkor45_metrics_SCA.csv')\n",
    "lkor35=pd.read_csv('metrics_SCA-files\\lkor35_metrics_SCA.csv')\n",
    "\n",
    "lspan34=pd.read_csv('metrics_SCA-files\\lspan34_metrics_SCA.csv')\n",
    "lspan45=pd.read_csv('metrics_SCA-files\\lspan45_metrics_SCA.csv')\n",
    "lspan35=pd.read_csv('metrics_SCA-files\\lspan35_metrics_SCA.csv')\n",
    "\n",
    "wchin34=pd.read_csv('metrics_SCA-files\\wchin34_metrics_SCA.csv')\n",
    "wchin35=pd.read_csv('metrics_SCA-files\\wchin35_metrics_SCA.csv')\n",
    "\n",
    "wkor35=pd.read_csv('metrics_SCA-files\\wkor35_metrics_SCA.csv')\n",
    "\n",
    "wspan34=pd.read_csv('metrics_SCA-files\\wspan34_metrics_SCA.csv')\n",
    "wspan45=pd.read_csv('metrics_SCA-files\\wspan45_metrics_SCA.csv')\n",
    "wspan35=pd.read_csv('metrics_SCA-files\\wspan35_metrics_SCA.csv')\n",
    "\n",
    "\n",
    "\n",
    "#wchin451=pd.read_csv('metrics_SCA-files\\wchin45\\0-444metrics_SCA.csv')\n",
    "# wchin45, wkor34, wkor45 are folders"
   ]
  },
  {
   "cell_type": "code",
   "execution_count": 60,
   "metadata": {},
   "outputs": [],
   "source": [
    "awchin45=pd.read_csv('metrics_SCA-files\\wchin45_0-444metrics_SCA.csv')\n",
    "bwchin45=pd.read_csv('metrics_SCA-files\\wchin45_445_800metrics_SCA.csv')\n",
    "cwchin45=pd.read_csv('metrics_SCA-files\\wchin45_801-1300metrics_SCA.csv')\n",
    "dwchin45=pd.read_csv('metrics_SCA-files\\wchin45_1301-1700metrics_SCA.csv')"
   ]
  },
  {
   "cell_type": "code",
   "execution_count": 63,
   "metadata": {},
   "outputs": [
    {
     "ename": "ValueError",
     "evalue": "columns overlap but no suffix specified: Index(['Unnamed: 0', 'W', 'S', 'VP', 'C', 'T', 'DC', 'CT', 'CP', 'CN', 'MLS',\n       'MLT', 'MLC', 'C/S', 'VP/T', 'C/T', 'DC/C', 'DC/T', 'T/S', 'CT/T',\n       'CP/T', 'CP/C', 'CN/T', 'CN/C'],\n      dtype='object')",
     "output_type": "error",
     "traceback": [
      "\u001b[1;31m---------------------------------------------------------------------------\u001b[0m",
      "\u001b[1;31mValueError\u001b[0m                                Traceback (most recent call last)",
      "\u001b[1;32m<ipython-input-63-2856c6a12a3b>\u001b[0m in \u001b[0;36m<module>\u001b[1;34m\u001b[0m\n\u001b[1;32m----> 1\u001b[1;33m \u001b[0mwchin45\u001b[0m\u001b[1;33m=\u001b[0m\u001b[0mawchin45\u001b[0m\u001b[1;33m.\u001b[0m\u001b[0mjoin\u001b[0m\u001b[1;33m(\u001b[0m\u001b[0mbwchin45\u001b[0m\u001b[1;33m)\u001b[0m\u001b[1;33m\u001b[0m\u001b[1;33m\u001b[0m\u001b[0m\n\u001b[0m\u001b[0;32m      2\u001b[0m \u001b[0mwchin45\u001b[0m\u001b[1;33m\u001b[0m\u001b[1;33m\u001b[0m\u001b[0m\n",
      "\u001b[1;32m~\\anaconda3\\lib\\site-packages\\pandas\\core\\frame.py\u001b[0m in \u001b[0;36mjoin\u001b[1;34m(self, other, on, how, lsuffix, rsuffix, sort)\u001b[0m\n\u001b[0;32m   7868\u001b[0m         \u001b[1;36m5\u001b[0m  \u001b[0mK5\u001b[0m  \u001b[0mA5\u001b[0m  \u001b[0mNaN\u001b[0m\u001b[1;33m\u001b[0m\u001b[1;33m\u001b[0m\u001b[0m\n\u001b[0;32m   7869\u001b[0m         \"\"\"\n\u001b[1;32m-> 7870\u001b[1;33m         return self._join_compat(\n\u001b[0m\u001b[0;32m   7871\u001b[0m             \u001b[0mother\u001b[0m\u001b[1;33m,\u001b[0m \u001b[0mon\u001b[0m\u001b[1;33m=\u001b[0m\u001b[0mon\u001b[0m\u001b[1;33m,\u001b[0m \u001b[0mhow\u001b[0m\u001b[1;33m=\u001b[0m\u001b[0mhow\u001b[0m\u001b[1;33m,\u001b[0m \u001b[0mlsuffix\u001b[0m\u001b[1;33m=\u001b[0m\u001b[0mlsuffix\u001b[0m\u001b[1;33m,\u001b[0m \u001b[0mrsuffix\u001b[0m\u001b[1;33m=\u001b[0m\u001b[0mrsuffix\u001b[0m\u001b[1;33m,\u001b[0m \u001b[0msort\u001b[0m\u001b[1;33m=\u001b[0m\u001b[0msort\u001b[0m\u001b[1;33m\u001b[0m\u001b[1;33m\u001b[0m\u001b[0m\n\u001b[0;32m   7872\u001b[0m         )\n",
      "\u001b[1;32m~\\anaconda3\\lib\\site-packages\\pandas\\core\\frame.py\u001b[0m in \u001b[0;36m_join_compat\u001b[1;34m(self, other, on, how, lsuffix, rsuffix, sort)\u001b[0m\n\u001b[0;32m   7884\u001b[0m \u001b[1;33m\u001b[0m\u001b[0m\n\u001b[0;32m   7885\u001b[0m         \u001b[1;32mif\u001b[0m \u001b[0misinstance\u001b[0m\u001b[1;33m(\u001b[0m\u001b[0mother\u001b[0m\u001b[1;33m,\u001b[0m \u001b[0mDataFrame\u001b[0m\u001b[1;33m)\u001b[0m\u001b[1;33m:\u001b[0m\u001b[1;33m\u001b[0m\u001b[1;33m\u001b[0m\u001b[0m\n\u001b[1;32m-> 7886\u001b[1;33m             return merge(\n\u001b[0m\u001b[0;32m   7887\u001b[0m                 \u001b[0mself\u001b[0m\u001b[1;33m,\u001b[0m\u001b[1;33m\u001b[0m\u001b[1;33m\u001b[0m\u001b[0m\n\u001b[0;32m   7888\u001b[0m                 \u001b[0mother\u001b[0m\u001b[1;33m,\u001b[0m\u001b[1;33m\u001b[0m\u001b[1;33m\u001b[0m\u001b[0m\n",
      "\u001b[1;32m~\\anaconda3\\lib\\site-packages\\pandas\\core\\reshape\\merge.py\u001b[0m in \u001b[0;36mmerge\u001b[1;34m(left, right, how, on, left_on, right_on, left_index, right_index, sort, suffixes, copy, indicator, validate)\u001b[0m\n\u001b[0;32m     87\u001b[0m         \u001b[0mvalidate\u001b[0m\u001b[1;33m=\u001b[0m\u001b[0mvalidate\u001b[0m\u001b[1;33m,\u001b[0m\u001b[1;33m\u001b[0m\u001b[1;33m\u001b[0m\u001b[0m\n\u001b[0;32m     88\u001b[0m     )\n\u001b[1;32m---> 89\u001b[1;33m     \u001b[1;32mreturn\u001b[0m \u001b[0mop\u001b[0m\u001b[1;33m.\u001b[0m\u001b[0mget_result\u001b[0m\u001b[1;33m(\u001b[0m\u001b[1;33m)\u001b[0m\u001b[1;33m\u001b[0m\u001b[1;33m\u001b[0m\u001b[0m\n\u001b[0m\u001b[0;32m     90\u001b[0m \u001b[1;33m\u001b[0m\u001b[0m\n\u001b[0;32m     91\u001b[0m \u001b[1;33m\u001b[0m\u001b[0m\n",
      "\u001b[1;32m~\\anaconda3\\lib\\site-packages\\pandas\\core\\reshape\\merge.py\u001b[0m in \u001b[0;36mget_result\u001b[1;34m(self)\u001b[0m\n\u001b[0;32m    668\u001b[0m         \u001b[0mjoin_index\u001b[0m\u001b[1;33m,\u001b[0m \u001b[0mleft_indexer\u001b[0m\u001b[1;33m,\u001b[0m \u001b[0mright_indexer\u001b[0m \u001b[1;33m=\u001b[0m \u001b[0mself\u001b[0m\u001b[1;33m.\u001b[0m\u001b[0m_get_join_info\u001b[0m\u001b[1;33m(\u001b[0m\u001b[1;33m)\u001b[0m\u001b[1;33m\u001b[0m\u001b[1;33m\u001b[0m\u001b[0m\n\u001b[0;32m    669\u001b[0m \u001b[1;33m\u001b[0m\u001b[0m\n\u001b[1;32m--> 670\u001b[1;33m         llabels, rlabels = _items_overlap_with_suffix(\n\u001b[0m\u001b[0;32m    671\u001b[0m             \u001b[0mself\u001b[0m\u001b[1;33m.\u001b[0m\u001b[0mleft\u001b[0m\u001b[1;33m.\u001b[0m\u001b[0m_info_axis\u001b[0m\u001b[1;33m,\u001b[0m \u001b[0mself\u001b[0m\u001b[1;33m.\u001b[0m\u001b[0mright\u001b[0m\u001b[1;33m.\u001b[0m\u001b[0m_info_axis\u001b[0m\u001b[1;33m,\u001b[0m \u001b[0mself\u001b[0m\u001b[1;33m.\u001b[0m\u001b[0msuffixes\u001b[0m\u001b[1;33m\u001b[0m\u001b[1;33m\u001b[0m\u001b[0m\n\u001b[0;32m    672\u001b[0m         )\n",
      "\u001b[1;32m~\\anaconda3\\lib\\site-packages\\pandas\\core\\reshape\\merge.py\u001b[0m in \u001b[0;36m_items_overlap_with_suffix\u001b[1;34m(left, right, suffixes)\u001b[0m\n\u001b[0;32m   2089\u001b[0m \u001b[1;33m\u001b[0m\u001b[0m\n\u001b[0;32m   2090\u001b[0m     \u001b[1;32mif\u001b[0m \u001b[1;32mnot\u001b[0m \u001b[0mlsuffix\u001b[0m \u001b[1;32mand\u001b[0m \u001b[1;32mnot\u001b[0m \u001b[0mrsuffix\u001b[0m\u001b[1;33m:\u001b[0m\u001b[1;33m\u001b[0m\u001b[1;33m\u001b[0m\u001b[0m\n\u001b[1;32m-> 2091\u001b[1;33m         \u001b[1;32mraise\u001b[0m \u001b[0mValueError\u001b[0m\u001b[1;33m(\u001b[0m\u001b[1;34mf\"columns overlap but no suffix specified: {to_rename}\"\u001b[0m\u001b[1;33m)\u001b[0m\u001b[1;33m\u001b[0m\u001b[1;33m\u001b[0m\u001b[0m\n\u001b[0m\u001b[0;32m   2092\u001b[0m \u001b[1;33m\u001b[0m\u001b[0m\n\u001b[0;32m   2093\u001b[0m     \u001b[1;32mdef\u001b[0m \u001b[0mrenamer\u001b[0m\u001b[1;33m(\u001b[0m\u001b[0mx\u001b[0m\u001b[1;33m,\u001b[0m \u001b[0msuffix\u001b[0m\u001b[1;33m)\u001b[0m\u001b[1;33m:\u001b[0m\u001b[1;33m\u001b[0m\u001b[1;33m\u001b[0m\u001b[0m\n",
      "\u001b[1;31mValueError\u001b[0m: columns overlap but no suffix specified: Index(['Unnamed: 0', 'W', 'S', 'VP', 'C', 'T', 'DC', 'CT', 'CP', 'CN', 'MLS',\n       'MLT', 'MLC', 'C/S', 'VP/T', 'C/T', 'DC/C', 'DC/T', 'T/S', 'CT/T',\n       'CP/T', 'CP/C', 'CN/T', 'CN/C'],\n      dtype='object')"
     ]
    }
   ],
   "source": [
    "wchin45=awchin45.join(bwchin45)\n",
    "wchin45"
   ]
  },
  {
   "cell_type": "code",
   "execution_count": null,
   "metadata": {},
   "outputs": [],
   "source": [
    "awkor34\n",
    "bwkor34\n",
    "cwkor34\n",
    "dwkor34"
   ]
  },
  {
   "cell_type": "code",
   "execution_count": null,
   "metadata": {},
   "outputs": [],
   "source": [
    "awkor45\n",
    "bwkor45\n",
    "cwkor45\n",
    "dwkor45"
   ]
  },
  {
   "cell_type": "markdown",
   "metadata": {},
   "source": [
    "# Finding Averages"
   ]
  },
  {
   "cell_type": "code",
   "execution_count": 13,
   "metadata": {},
   "outputs": [],
   "source": [
    "# averages of loose datasets\n",
    "lchin34m=lchin34.mean()\n",
    "lchin45m=lchin45.mean()\n",
    "lchin35m=lchin35.mean()\n",
    "\n",
    "lspan34m=lspan34.mean()\n",
    "lspan45m=lspan45.mean()\n",
    "lspan35m=lspan35.mean()\n",
    "\n",
    "lkor34m=lkor34.mean()\n",
    "lkor45m=lkor45.mean()\n",
    "lkor35m=lkor35.mean()"
   ]
  },
  {
   "cell_type": "code",
   "execution_count": 14,
   "metadata": {},
   "outputs": [],
   "source": [
    "# averages of most whole datasets\n",
    "\n",
    "wchin34m=wchin34.mean()\n",
    "wchin35m=wchin35.mean()\n",
    "\n",
    "wkor35m=wkor35.mean()\n",
    "\n",
    "wspan34m=wspan34.mean()\n",
    "wspan45m=wspan45.mean()\n",
    "wspan35m=wspan35.mean()"
   ]
  },
  {
   "cell_type": "markdown",
   "metadata": {},
   "source": [
    "# Loose Chinese Averages"
   ]
  },
  {
   "cell_type": "code",
   "execution_count": 47,
   "metadata": {
    "collapsed": true
   },
   "outputs": [
    {
     "data": {
      "text/html": [
       "<div>\n",
       "<style scoped>\n",
       "    .dataframe tbody tr th:only-of-type {\n",
       "        vertical-align: middle;\n",
       "    }\n",
       "\n",
       "    .dataframe tbody tr th {\n",
       "        vertical-align: top;\n",
       "    }\n",
       "\n",
       "    .dataframe thead th {\n",
       "        text-align: right;\n",
       "    }\n",
       "</style>\n",
       "<table border=\"1\" class=\"dataframe\">\n",
       "  <thead>\n",
       "    <tr style=\"text-align: right;\">\n",
       "      <th></th>\n",
       "      <th>0</th>\n",
       "    </tr>\n",
       "  </thead>\n",
       "  <tbody>\n",
       "    <tr>\n",
       "      <th>W</th>\n",
       "      <td>170.750000</td>\n",
       "    </tr>\n",
       "    <tr>\n",
       "      <th>S</th>\n",
       "      <td>13.781250</td>\n",
       "    </tr>\n",
       "    <tr>\n",
       "      <th>VP</th>\n",
       "      <td>27.078125</td>\n",
       "    </tr>\n",
       "    <tr>\n",
       "      <th>C</th>\n",
       "      <td>21.734375</td>\n",
       "    </tr>\n",
       "    <tr>\n",
       "      <th>T</th>\n",
       "      <td>15.656250</td>\n",
       "    </tr>\n",
       "    <tr>\n",
       "      <th>DC</th>\n",
       "      <td>5.671875</td>\n",
       "    </tr>\n",
       "    <tr>\n",
       "      <th>CT</th>\n",
       "      <td>4.843750</td>\n",
       "    </tr>\n",
       "    <tr>\n",
       "      <th>CP</th>\n",
       "      <td>3.953125</td>\n",
       "    </tr>\n",
       "    <tr>\n",
       "      <th>CN</th>\n",
       "      <td>16.296875</td>\n",
       "    </tr>\n",
       "    <tr>\n",
       "      <th>MLS</th>\n",
       "      <td>12.796739</td>\n",
       "    </tr>\n",
       "    <tr>\n",
       "      <th>MLT</th>\n",
       "      <td>11.098692</td>\n",
       "    </tr>\n",
       "    <tr>\n",
       "      <th>MLC</th>\n",
       "      <td>7.982547</td>\n",
       "    </tr>\n",
       "    <tr>\n",
       "      <th>C/S</th>\n",
       "      <td>1.642438</td>\n",
       "    </tr>\n",
       "    <tr>\n",
       "      <th>VP/T</th>\n",
       "      <td>1.821059</td>\n",
       "    </tr>\n",
       "    <tr>\n",
       "      <th>C/T</th>\n",
       "      <td>1.432575</td>\n",
       "    </tr>\n",
       "    <tr>\n",
       "      <th>DC/C</th>\n",
       "      <td>0.257572</td>\n",
       "    </tr>\n",
       "    <tr>\n",
       "      <th>DC/T</th>\n",
       "      <td>0.405263</td>\n",
       "    </tr>\n",
       "    <tr>\n",
       "      <th>T/S</th>\n",
       "      <td>1.156741</td>\n",
       "    </tr>\n",
       "    <tr>\n",
       "      <th>CT/T</th>\n",
       "      <td>0.336972</td>\n",
       "    </tr>\n",
       "    <tr>\n",
       "      <th>CP/T</th>\n",
       "      <td>0.247759</td>\n",
       "    </tr>\n",
       "    <tr>\n",
       "      <th>CP/C</th>\n",
       "      <td>0.188850</td>\n",
       "    </tr>\n",
       "    <tr>\n",
       "      <th>CN/T</th>\n",
       "      <td>1.023841</td>\n",
       "    </tr>\n",
       "    <tr>\n",
       "      <th>CN/C</th>\n",
       "      <td>0.748242</td>\n",
       "    </tr>\n",
       "  </tbody>\n",
       "</table>\n",
       "</div>"
      ],
      "text/plain": [
       "               0\n",
       "W     170.750000\n",
       "S      13.781250\n",
       "VP     27.078125\n",
       "C      21.734375\n",
       "T      15.656250\n",
       "DC      5.671875\n",
       "CT      4.843750\n",
       "CP      3.953125\n",
       "CN     16.296875\n",
       "MLS    12.796739\n",
       "MLT    11.098692\n",
       "MLC     7.982547\n",
       "C/S     1.642438\n",
       "VP/T    1.821059\n",
       "C/T     1.432575\n",
       "DC/C    0.257572\n",
       "DC/T    0.405263\n",
       "T/S     1.156741\n",
       "CT/T    0.336972\n",
       "CP/T    0.247759\n",
       "CP/C    0.188850\n",
       "CN/T    1.023841\n",
       "CN/C    0.748242"
      ]
     },
     "execution_count": 47,
     "metadata": {},
     "output_type": "execute_result"
    }
   ],
   "source": [
    "lchin34a=pd.DataFrame(lchin34m)\n",
    "lchin34a"
   ]
  },
  {
   "cell_type": "code",
   "execution_count": 49,
   "metadata": {
    "collapsed": true
   },
   "outputs": [
    {
     "data": {
      "text/html": [
       "<div>\n",
       "<style scoped>\n",
       "    .dataframe tbody tr th:only-of-type {\n",
       "        vertical-align: middle;\n",
       "    }\n",
       "\n",
       "    .dataframe tbody tr th {\n",
       "        vertical-align: top;\n",
       "    }\n",
       "\n",
       "    .dataframe thead th {\n",
       "        text-align: right;\n",
       "    }\n",
       "</style>\n",
       "<table border=\"1\" class=\"dataframe\">\n",
       "  <thead>\n",
       "    <tr style=\"text-align: right;\">\n",
       "      <th></th>\n",
       "      <th>0</th>\n",
       "    </tr>\n",
       "  </thead>\n",
       "  <tbody>\n",
       "    <tr>\n",
       "      <th>W</th>\n",
       "      <td>221.901639</td>\n",
       "    </tr>\n",
       "    <tr>\n",
       "      <th>S</th>\n",
       "      <td>14.773770</td>\n",
       "    </tr>\n",
       "    <tr>\n",
       "      <th>VP</th>\n",
       "      <td>33.809836</td>\n",
       "    </tr>\n",
       "    <tr>\n",
       "      <th>C</th>\n",
       "      <td>25.868852</td>\n",
       "    </tr>\n",
       "    <tr>\n",
       "      <th>T</th>\n",
       "      <td>16.613115</td>\n",
       "    </tr>\n",
       "    <tr>\n",
       "      <th>DC</th>\n",
       "      <td>8.826230</td>\n",
       "    </tr>\n",
       "    <tr>\n",
       "      <th>CT</th>\n",
       "      <td>6.904918</td>\n",
       "    </tr>\n",
       "    <tr>\n",
       "      <th>CP</th>\n",
       "      <td>5.209836</td>\n",
       "    </tr>\n",
       "    <tr>\n",
       "      <th>CN</th>\n",
       "      <td>22.626230</td>\n",
       "    </tr>\n",
       "    <tr>\n",
       "      <th>MLS</th>\n",
       "      <td>15.291833</td>\n",
       "    </tr>\n",
       "    <tr>\n",
       "      <th>MLT</th>\n",
       "      <td>13.693514</td>\n",
       "    </tr>\n",
       "    <tr>\n",
       "      <th>MLC</th>\n",
       "      <td>8.592133</td>\n",
       "    </tr>\n",
       "    <tr>\n",
       "      <th>C/S</th>\n",
       "      <td>1.820120</td>\n",
       "    </tr>\n",
       "    <tr>\n",
       "      <th>VP/T</th>\n",
       "      <td>2.124038</td>\n",
       "    </tr>\n",
       "    <tr>\n",
       "      <th>C/T</th>\n",
       "      <td>1.621888</td>\n",
       "    </tr>\n",
       "    <tr>\n",
       "      <th>DC/C</th>\n",
       "      <td>0.336682</td>\n",
       "    </tr>\n",
       "    <tr>\n",
       "      <th>DC/T</th>\n",
       "      <td>0.596670</td>\n",
       "    </tr>\n",
       "    <tr>\n",
       "      <th>T/S</th>\n",
       "      <td>1.121268</td>\n",
       "    </tr>\n",
       "    <tr>\n",
       "      <th>CT/T</th>\n",
       "      <td>0.450177</td>\n",
       "    </tr>\n",
       "    <tr>\n",
       "      <th>CP/T</th>\n",
       "      <td>0.312297</td>\n",
       "    </tr>\n",
       "    <tr>\n",
       "      <th>CP/C</th>\n",
       "      <td>0.200223</td>\n",
       "    </tr>\n",
       "    <tr>\n",
       "      <th>CN/T</th>\n",
       "      <td>1.416717</td>\n",
       "    </tr>\n",
       "    <tr>\n",
       "      <th>CN/C</th>\n",
       "      <td>0.882801</td>\n",
       "    </tr>\n",
       "  </tbody>\n",
       "</table>\n",
       "</div>"
      ],
      "text/plain": [
       "               0\n",
       "W     221.901639\n",
       "S      14.773770\n",
       "VP     33.809836\n",
       "C      25.868852\n",
       "T      16.613115\n",
       "DC      8.826230\n",
       "CT      6.904918\n",
       "CP      5.209836\n",
       "CN     22.626230\n",
       "MLS    15.291833\n",
       "MLT    13.693514\n",
       "MLC     8.592133\n",
       "C/S     1.820120\n",
       "VP/T    2.124038\n",
       "C/T     1.621888\n",
       "DC/C    0.336682\n",
       "DC/T    0.596670\n",
       "T/S     1.121268\n",
       "CT/T    0.450177\n",
       "CP/T    0.312297\n",
       "CP/C    0.200223\n",
       "CN/T    1.416717\n",
       "CN/C    0.882801"
      ]
     },
     "execution_count": 49,
     "metadata": {},
     "output_type": "execute_result"
    }
   ],
   "source": [
    "lchin45a=pd.DataFrame(lchin45m)\n",
    "lchin45a"
   ]
  },
  {
   "cell_type": "code",
   "execution_count": null,
   "metadata": {},
   "outputs": [],
   "source": [
    "lchin3a=pd.DataFrame(lchin35m)\n",
    "lchin35a"
   ]
  },
  {
   "cell_type": "markdown",
   "metadata": {},
   "source": [
    "# Loose Spanish Averages"
   ]
  },
  {
   "cell_type": "code",
   "execution_count": null,
   "metadata": {},
   "outputs": [],
   "source": [
    "lspan34a=pd.DataFrame(lspan34m)\n",
    "lspan34a"
   ]
  },
  {
   "cell_type": "code",
   "execution_count": null,
   "metadata": {},
   "outputs": [],
   "source": [
    "lspan45a=pd.DataFrame(lspan45m)\n",
    "lsapn45a"
   ]
  },
  {
   "cell_type": "code",
   "execution_count": null,
   "metadata": {},
   "outputs": [],
   "source": [
    "lspan35a=pd.DataFrame(lspan35m)\n",
    "lspan35a"
   ]
  },
  {
   "cell_type": "markdown",
   "metadata": {},
   "source": [
    "# Loose Korean Averages"
   ]
  },
  {
   "cell_type": "code",
   "execution_count": null,
   "metadata": {},
   "outputs": [],
   "source": [
    "lkor34a=pd.DataFrame(lkor34m)\n",
    "lkor34a"
   ]
  },
  {
   "cell_type": "code",
   "execution_count": null,
   "metadata": {},
   "outputs": [],
   "source": [
    "lkor45a=pd.DataFrame(lkor45m)\n",
    "lkor45a"
   ]
  },
  {
   "cell_type": "code",
   "execution_count": null,
   "metadata": {},
   "outputs": [],
   "source": [
    "lkor35a=pd.DataFrame(lkor35m)\n",
    "lkor35a"
   ]
  },
  {
   "cell_type": "markdown",
   "metadata": {},
   "source": [
    "# Whole Chinese Averages"
   ]
  },
  {
   "cell_type": "markdown",
   "metadata": {},
   "source": [
    "# Whole Spanish Averages"
   ]
  },
  {
   "cell_type": "markdown",
   "metadata": {},
   "source": [
    "# Whole Korean Averages"
   ]
  },
  {
   "cell_type": "code",
   "execution_count": null,
   "metadata": {},
   "outputs": [],
   "source": []
  }
 ],
 "metadata": {
  "kernelspec": {
   "display_name": "Python 3",
   "language": "python",
   "name": "python3"
  },
  "language_info": {
   "codemirror_mode": {
    "name": "ipython",
    "version": 3
   },
   "file_extension": ".py",
   "mimetype": "text/x-python",
   "name": "python",
   "nbconvert_exporter": "python",
   "pygments_lexer": "ipython3",
   "version": "3.8.5"
  }
 },
 "nbformat": 4,
 "nbformat_minor": 4
}
