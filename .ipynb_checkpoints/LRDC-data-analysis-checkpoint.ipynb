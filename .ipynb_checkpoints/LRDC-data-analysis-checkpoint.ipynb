{
 "cells": [
  {
   "cell_type": "markdown",
   "metadata": {},
   "source": [
    "# Importing Excel Files"
   ]
  },
  {
   "cell_type": "code",
   "execution_count": 1,
   "metadata": {},
   "outputs": [],
   "source": [
    "%matplotlib inline\n",
    "import numpy as np              \n",
    "import pandas as pd\n",
    "import matplotlib.pyplot as plt\n",
    "import seaborn as sns"
   ]
  },
  {
   "cell_type": "code",
   "execution_count": 2,
   "metadata": {},
   "outputs": [],
   "source": [
    "# alternate way to read files through csv\n",
    "questions=pd.read_csv('Questions.csv')\n",
    "strict=pd.read_csv('Responses-Strictest.csv')\n",
    "loose=pd.read_csv('Responses-Loose.csv')\n",
    "limited=pd.read_csv('Responses-Limited.csv')\n",
    "info=pd.read_csv('Info.csv')"
   ]
  },
  {
   "cell_type": "markdown",
   "metadata": {},
   "source": [
    "# Binary Search Algorithm"
   ]
  },
  {
   "cell_type": "code",
   "execution_count": 3,
   "metadata": {},
   "outputs": [],
   "source": [
    "#binary search for strings\n",
    "def binarySearchArr(arr, x):\n",
    "    l = 0\n",
    "    r = len(arr)\n",
    "    while (l <= r):\n",
    "        m = l + ((r - l) // 2)\n",
    " \n",
    "        res = (x == arr[m])\n",
    "        # Check if x is present at mid\n",
    "        if (res == True):\n",
    "            return m\n",
    " \n",
    "        # If x greater, ignore left half\n",
    "    #problem is here\n",
    "        elif (res == False):\n",
    "            if (x>arr[m]):\n",
    "                l = m+1\n",
    "            elif (x<arr[m]):\n",
    "                r=m-1\n",
    "        # If x is smaller, ignore right half\n",
    "    return -1\n"
   ]
  },
  {
   "cell_type": "markdown",
   "metadata": {},
   "source": [
    "# Defining Functions"
   ]
  },
  {
   "cell_type": "code",
   "execution_count": 4,
   "metadata": {},
   "outputs": [],
   "source": [
    "# function that finds the unique values in a list\n",
    "def get_uniques(x):\n",
    "    return list(x.unique())\n"
   ]
  },
  {
   "cell_type": "markdown",
   "metadata": {},
   "source": [
    "# Data Analysis/Cleaning of Strictest"
   ]
  },
  {
   "cell_type": "code",
   "execution_count": 5,
   "metadata": {},
   "outputs": [
    {
     "name": "stdout",
     "output_type": "stream",
     "text": [
      "Total Participants:    212 \n",
      "Chinese Participants:  76 \n",
      "Korean Participants:   94 \n",
      "Spanish Pariticpants:  42\n"
     ]
    }
   ],
   "source": [
    "# total of each\n",
    "#tfilter=strict[strict.level_id>=3]\n",
    "total=strict['anon_id'].nunique()\n",
    "\n",
    "cfilter=strict[(strict.L1=='Chinese')]\n",
    "ctotal=cfilter['anon_id'].nunique()\n",
    "\n",
    "kfilter=strict[strict.L1=='Korean']\n",
    "ktotal=kfilter['anon_id'].nunique()\n",
    "\n",
    "sfilter=strict[strict.L1=='Spanish']\n",
    "stotal=sfilter['anon_id'].nunique()\n",
    "\n",
    "print('Total Participants:   ',total,'\\nChinese Participants: ',ctotal,\n",
    "      '\\nKorean Participants:  ',ktotal,\n",
    "         '\\nSpanish Pariticpants: ',stotal)"
   ]
  },
  {
   "cell_type": "code",
   "execution_count": 6,
   "metadata": {},
   "outputs": [
    {
     "data": {
      "text/plain": [
       "Text(0.5, 1.0, 'Number of Participants of each Language')"
      ]
     },
     "execution_count": 6,
     "metadata": {},
     "output_type": "execute_result"
    },
    {
     "data": {
      "image/png": "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\n",
      "text/plain": [
       "<Figure size 720x720 with 1 Axes>"
      ]
     },
     "metadata": {
      "needs_background": "light"
     },
     "output_type": "display_data"
    }
   ],
   "source": [
    "plt.figure(figsize=(10,10))\n",
    "\n",
    "var= [ctotal,ktotal,stotal]\n",
    "langs={'Chinese':76,'Korean':94,'Spanish':42}\n",
    "keys=langs.keys()\n",
    "vals=langs.values()\n",
    "plt.bar(keys,vals)\n",
    "plt.xlabel('Language')\n",
    "plt.ylabel('Number of Participants')\n",
    "plt.title('Number of Participants of each Language')"
   ]
  },
  {
   "cell_type": "code",
   "execution_count": 7,
   "metadata": {},
   "outputs": [
    {
     "name": "stdout",
     "output_type": "stream",
     "text": [
      "Participants in Level 3 -\n",
      "Total Participants:    39 \n",
      "Chinese Participants:  10 \n",
      "Korean Participants:   20 \n",
      "Spanish Pariticpants:  9\n"
     ]
    }
   ],
   "source": [
    "#Q2\n",
    "totalfilter=strict[strict.level_id==3]\n",
    "ltotal=totalfilter['anon_id'].nunique()\n",
    "\n",
    "lcfilter=strict[(strict.L1=='Chinese') & (strict.level_id==3)]\n",
    "lctotal=lcfilter['anon_id'].nunique()\n",
    "\n",
    "lkfilter=strict[(strict.L1=='Korean') & (strict.level_id==3)]\n",
    "lktotal=lkfilter['anon_id'].nunique()\n",
    "\n",
    "lsfilter=strict[(strict.L1=='Spanish') & (strict.level_id==3)]\n",
    "lstotal=lsfilter['anon_id'].nunique()\n",
    "\n",
    "print('Participants in Level 3 -\\n'\n",
    "      'Total Participants:   ',ltotal,'\\nChinese Participants: ',lctotal,\n",
    "      '\\nKorean Participants:  ',lktotal,\n",
    "         '\\nSpanish Pariticpants: ',lstotal)"
   ]
  },
  {
   "cell_type": "code",
   "execution_count": 8,
   "metadata": {},
   "outputs": [
    {
     "name": "stdout",
     "output_type": "stream",
     "text": [
      "Participants in Level 4 -\n",
      "Total Participants:    128 \n",
      "Chinese Participants:  49 \n",
      "Korean Participants:   54 \n",
      "Spanish Pariticpants:  25\n"
     ]
    }
   ],
   "source": [
    "ltotalfilter=strict[strict.level_id==4]\n",
    "lltotal=ltotalfilter['anon_id'].nunique()\n",
    "\n",
    "llcfilter=strict[(strict.L1=='Chinese') & (strict.level_id==4)]\n",
    "llctotal=llcfilter['anon_id'].nunique()\n",
    "\n",
    "llkfilter=strict[(strict.L1=='Korean') & (strict.level_id==4)]\n",
    "llktotal=llkfilter['anon_id'].nunique()\n",
    "\n",
    "llsfilter=strict[(strict.L1=='Spanish') & (strict.level_id==4)]\n",
    "llstotal=llsfilter['anon_id'].nunique()\n",
    "\n",
    "print('Participants in Level 4 -\\n'\n",
    "      'Total Participants:   ',lltotal,'\\nChinese Participants: ',llctotal,\n",
    "      '\\nKorean Participants:  ',llktotal,\n",
    "         '\\nSpanish Pariticpants: ',llstotal)"
   ]
  },
  {
   "cell_type": "code",
   "execution_count": 9,
   "metadata": {
    "scrolled": true
   },
   "outputs": [
    {
     "name": "stdout",
     "output_type": "stream",
     "text": [
      "Participants in Level 4 -\n",
      "Total Participants:    96 \n",
      "Chinese Participants:  37 \n",
      "Korean Participants:   43 \n",
      "Spanish Pariticpants:  16\n"
     ]
    }
   ],
   "source": [
    "lltotalfilter=strict[strict.level_id==5]\n",
    "llltotal=lltotalfilter['anon_id'].nunique()\n",
    "\n",
    "lllcfilter=strict[(strict.L1=='Chinese') & (strict.level_id==5)]\n",
    "lllctotal=lllcfilter['anon_id'].nunique()\n",
    "\n",
    "lllkfilter=strict[(strict.L1=='Korean') & (strict.level_id==5)]\n",
    "lllktotal=lllkfilter['anon_id'].nunique()\n",
    "\n",
    "lllsfilter=strict[(strict.L1=='Spanish') & (strict.level_id==5)]\n",
    "lllstotal=lllsfilter['anon_id'].nunique()\n",
    "\n",
    "print('Participants in Level 4 -\\n'\n",
    "      'Total Participants:   ',llltotal,'\\nChinese Participants: ',lllctotal,\n",
    "      '\\nKorean Participants:  ',lllktotal,\n",
    "         '\\nSpanish Pariticpants: ',lllstotal)"
   ]
  },
  {
   "cell_type": "markdown",
   "metadata": {},
   "source": [
    "# Creating new dataframe that will be eaiser to work with"
   ]
  },
  {
   "cell_type": "code",
   "execution_count": 10,
   "metadata": {},
   "outputs": [
    {
     "data": {
      "text/html": [
       "<div>\n",
       "<style scoped>\n",
       "    .dataframe tbody tr th:only-of-type {\n",
       "        vertical-align: middle;\n",
       "    }\n",
       "\n",
       "    .dataframe tbody tr th {\n",
       "        vertical-align: top;\n",
       "    }\n",
       "\n",
       "    .dataframe thead th {\n",
       "        text-align: right;\n",
       "    }\n",
       "</style>\n",
       "<table border=\"1\" class=\"dataframe\">\n",
       "  <thead>\n",
       "    <tr style=\"text-align: right;\">\n",
       "      <th></th>\n",
       "      <th>anon_id</th>\n",
       "      <th>L1</th>\n",
       "      <th>level_id</th>\n",
       "    </tr>\n",
       "  </thead>\n",
       "  <tbody>\n",
       "    <tr>\n",
       "      <th>0</th>\n",
       "      <td>az8</td>\n",
       "      <td>Chinese</td>\n",
       "      <td>5</td>\n",
       "    </tr>\n",
       "    <tr>\n",
       "      <th>1</th>\n",
       "      <td>az2</td>\n",
       "      <td>Korean</td>\n",
       "      <td>5</td>\n",
       "    </tr>\n",
       "    <tr>\n",
       "      <th>2</th>\n",
       "      <td>ea7</td>\n",
       "      <td>Spanish</td>\n",
       "      <td>5</td>\n",
       "    </tr>\n",
       "    <tr>\n",
       "      <th>3</th>\n",
       "      <td>cd6</td>\n",
       "      <td>Chinese</td>\n",
       "      <td>4</td>\n",
       "    </tr>\n",
       "    <tr>\n",
       "      <th>4</th>\n",
       "      <td>eu6</td>\n",
       "      <td>Korean</td>\n",
       "      <td>4</td>\n",
       "    </tr>\n",
       "    <tr>\n",
       "      <th>...</th>\n",
       "      <td>...</td>\n",
       "      <td>...</td>\n",
       "      <td>...</td>\n",
       "    </tr>\n",
       "    <tr>\n",
       "      <th>618</th>\n",
       "      <td>ec1</td>\n",
       "      <td>Korean</td>\n",
       "      <td>4</td>\n",
       "    </tr>\n",
       "    <tr>\n",
       "      <th>619</th>\n",
       "      <td>cq1</td>\n",
       "      <td>Spanish</td>\n",
       "      <td>4</td>\n",
       "    </tr>\n",
       "    <tr>\n",
       "      <th>620</th>\n",
       "      <td>bv8</td>\n",
       "      <td>Chinese</td>\n",
       "      <td>4</td>\n",
       "    </tr>\n",
       "    <tr>\n",
       "      <th>621</th>\n",
       "      <td>dr8</td>\n",
       "      <td>Korean</td>\n",
       "      <td>4</td>\n",
       "    </tr>\n",
       "    <tr>\n",
       "      <th>622</th>\n",
       "      <td>bl3</td>\n",
       "      <td>Spanish</td>\n",
       "      <td>4</td>\n",
       "    </tr>\n",
       "  </tbody>\n",
       "</table>\n",
       "<p>623 rows × 3 columns</p>\n",
       "</div>"
      ],
      "text/plain": [
       "    anon_id       L1  level_id\n",
       "0       az8  Chinese         5\n",
       "1       az2   Korean         5\n",
       "2       ea7  Spanish         5\n",
       "3       cd6  Chinese         4\n",
       "4       eu6   Korean         4\n",
       "..      ...      ...       ...\n",
       "618     ec1   Korean         4\n",
       "619     cq1  Spanish         4\n",
       "620     bv8  Chinese         4\n",
       "621     dr8   Korean         4\n",
       "622     bl3  Spanish         4\n",
       "\n",
       "[623 rows x 3 columns]"
      ]
     },
     "execution_count": 10,
     "metadata": {},
     "output_type": "execute_result"
    }
   ],
   "source": [
    "# this gets rid of all data except the participant id, their native language, and what level they are in\n",
    "ids_lvl=strict.drop(columns=['3Langs','Item','answer_id','gender','course_id','class_id','question_id','version','text1_len','text2_len',\n",
    "                   'text3_len', 'text1','text2 (line breaks/extra spaces removed, spaces added to reach 60)',\n",
    "                   'text3 (edits made to fix word counts)','Judgement','Notes'])\n",
    "ids_lvl"
   ]
  },
  {
   "cell_type": "markdown",
   "metadata": {},
   "source": [
    "# Get the anon_ids into an array so they can be used in binarySearchArr()"
   ]
  },
  {
   "cell_type": "code",
   "execution_count": 11,
   "metadata": {},
   "outputs": [],
   "source": [
    "anon_ids=[]\n",
    "index=0\n",
    "for i in ids_lvl.anon_id:\n",
    "    anon_ids.append(ids_lvl.at[index, 'anon_id'])\n",
    "    index+=1\n"
   ]
  },
  {
   "cell_type": "code",
<<<<<<< HEAD
   "execution_count": 12,
=======
   "execution_count": null,
>>>>>>> 683e27db4ebd5f4551e8f9969a8a7e967b99f573
   "metadata": {},
   "outputs": [],
   "source": [
    "# this code gets how many times an id appeared (n_anon_ids) as well as an array of what levels they participated in (lvl_nums)\n",
    "\n",
    "clean_ids_lvl=ids_lvl.groupby('anon_id').agg(\n",
    "    n_anon_ids=('level_id', 'nunique'),\n",
    "    lvl_nums=('level_id', get_uniques)\n",
    ")"
   ]
  },
  {
   "cell_type": "code",
<<<<<<< HEAD
   "execution_count": 13,
=======
   "execution_count": 14,
>>>>>>> 683e27db4ebd5f4551e8f9969a8a7e967b99f573
   "metadata": {},
   "outputs": [
    {
     "data": {
      "text/html": [
       "<div>\n",
       "<style scoped>\n",
       "    .dataframe tbody tr th:only-of-type {\n",
       "        vertical-align: middle;\n",
       "    }\n",
       "\n",
       "    .dataframe tbody tr th {\n",
       "        vertical-align: top;\n",
       "    }\n",
       "\n",
       "    .dataframe thead th {\n",
       "        text-align: right;\n",
       "    }\n",
       "</style>\n",
       "<table border=\"1\" class=\"dataframe\">\n",
       "  <thead>\n",
       "    <tr style=\"text-align: right;\">\n",
       "      <th></th>\n",
       "      <th>anon_id</th>\n",
       "      <th>n_anon_ids</th>\n",
       "      <th>lvl_nums</th>\n",
       "    </tr>\n",
       "  </thead>\n",
       "  <tbody>\n",
       "    <tr>\n",
       "      <th>0</th>\n",
       "      <td>aa0</td>\n",
       "      <td>1</td>\n",
       "      <td>[5]</td>\n",
       "    </tr>\n",
       "    <tr>\n",
       "      <th>1</th>\n",
       "      <td>aa8</td>\n",
       "      <td>2</td>\n",
       "      <td>[4, 5]</td>\n",
       "    </tr>\n",
       "    <tr>\n",
       "      <th>2</th>\n",
       "      <td>aa9</td>\n",
       "      <td>2</td>\n",
       "      <td>[3, 4]</td>\n",
       "    </tr>\n",
       "    <tr>\n",
       "      <th>3</th>\n",
       "      <td>ac3</td>\n",
       "      <td>1</td>\n",
       "      <td>[4]</td>\n",
       "    </tr>\n",
       "    <tr>\n",
       "      <th>4</th>\n",
       "      <td>ac5</td>\n",
       "      <td>2</td>\n",
       "      <td>[4, 5]</td>\n",
       "    </tr>\n",
       "    <tr>\n",
       "      <th>...</th>\n",
       "      <td>...</td>\n",
       "      <td>...</td>\n",
       "      <td>...</td>\n",
       "    </tr>\n",
       "    <tr>\n",
       "      <th>207</th>\n",
       "      <td>gz0</td>\n",
       "      <td>1</td>\n",
       "      <td>[3]</td>\n",
       "    </tr>\n",
       "    <tr>\n",
       "      <th>208</th>\n",
       "      <td>gz5</td>\n",
       "      <td>1</td>\n",
       "      <td>[4]</td>\n",
       "    </tr>\n",
       "    <tr>\n",
       "      <th>209</th>\n",
       "      <td>gz7</td>\n",
       "      <td>1</td>\n",
       "      <td>[4]</td>\n",
       "    </tr>\n",
       "    <tr>\n",
       "      <th>210</th>\n",
       "      <td>ha0</td>\n",
       "      <td>1</td>\n",
       "      <td>[5]</td>\n",
       "    </tr>\n",
       "    <tr>\n",
       "      <th>211</th>\n",
       "      <td>ha2</td>\n",
       "      <td>2</td>\n",
       "      <td>[4, 5]</td>\n",
       "    </tr>\n",
       "  </tbody>\n",
       "</table>\n",
       "<p>212 rows × 3 columns</p>\n",
       "</div>"
      ],
      "text/plain": [
       "    anon_id  n_anon_ids lvl_nums\n",
       "0       aa0           1      [5]\n",
       "1       aa8           2   [4, 5]\n",
       "2       aa9           2   [3, 4]\n",
       "3       ac3           1      [4]\n",
       "4       ac5           2   [4, 5]\n",
       "..      ...         ...      ...\n",
       "207     gz0           1      [3]\n",
       "208     gz5           1      [4]\n",
       "209     gz7           1      [4]\n",
       "210     ha0           1      [5]\n",
       "211     ha2           2   [4, 5]\n",
       "\n",
       "[212 rows x 3 columns]"
      ]
     },
<<<<<<< HEAD
     "execution_count": 13,
=======
     "execution_count": 14,
>>>>>>> 683e27db4ebd5f4551e8f9969a8a7e967b99f573
     "metadata": {},
     "output_type": "execute_result"
    }
   ],
   "source": [
    "#changes the clean_ids_lvl's index so we can access the anon_id easier\n",
    "with_ind= clean_ids_lvl.reset_index()\n",
    "with_ind"
   ]
  },
  {
   "cell_type": "markdown",
   "metadata": {},
   "source": [
    "# Finds how many participants are in all three"
   ]
  },
  {
   "cell_type": "code",
<<<<<<< HEAD
   "execution_count": 14,
=======
   "execution_count": 15,
>>>>>>> 683e27db4ebd5f4551e8f9969a8a7e967b99f573
   "metadata": {},
   "outputs": [
    {
     "data": {
      "text/plain": [
       "4"
      ]
     },
<<<<<<< HEAD
     "execution_count": 14,
=======
     "execution_count": 15,
>>>>>>> 683e27db4ebd5f4551e8f9969a8a7e967b99f573
     "metadata": {},
     "output_type": "execute_result"
    }
   ],
   "source": [
    "# for loop that checks if lvl_nums has all three levels in it (3,4, and 5)\n",
    "# if there are three values in lvl_nums, the anon_id is appended to the all_three list\n",
    "ind=0\n",
    "all_three=[]\n",
    "append=''\n",
    "for i in with_ind.anon_id:\n",
    "    if with_ind.iat[ind, 1]==3:\n",
    "        append=with_ind.at[ind,'anon_id']\n",
    "        all_three.append(append)\n",
    "    ind=ind+1\n",
    "\n",
    "len(all_three)\n"
   ]
  },
  {
   "cell_type": "code",
<<<<<<< HEAD
   "execution_count": 15,
=======
   "execution_count": 16,
>>>>>>> 683e27db4ebd5f4551e8f9969a8a7e967b99f573
   "metadata": {},
   "outputs": [
    {
     "data": {
      "text/plain": [
       "11"
      ]
     },
<<<<<<< HEAD
     "execution_count": 15,
=======
     "execution_count": 16,
>>>>>>> 683e27db4ebd5f4551e8f9969a8a7e967b99f573
     "metadata": {},
     "output_type": "execute_result"
    }
   ],
   "source": [
    "# similar mechanism as the previous for loop\n",
    "# if the numbers 3 and 4 are present, the anon_id is appended to in_two\n",
    "# if they participated in all three, their anon_id is also appened\n",
    "ind=0\n",
    "in_two=[]\n",
    "append=''\n",
    "for i in with_ind.anon_id:\n",
    "    if with_ind.iat[ind, 1]==2:\n",
    "        if (3 in with_ind.iat[ind,2] and 4 in with_ind.iat[ind,2]):\n",
    "            append=with_ind.at[ind,'anon_id']\n",
    "            in_two.append(append)\n",
    "    elif with_ind.iat[ind,1]==3:\n",
    "        append=with_ind.at[ind,'anon_id']\n",
    "        in_two.append(append)\n",
    "    ind=ind+1\n",
    "len(in_two)"
   ]
  },
  {
   "cell_type": "code",
<<<<<<< HEAD
   "execution_count": 16,
=======
   "execution_count": 17,
>>>>>>> 683e27db4ebd5f4551e8f9969a8a7e967b99f573
   "metadata": {},
   "outputs": [
    {
     "name": "stdout",
     "output_type": "stream",
     "text": [
      "['an5', 'ar8', 'bv9', 'bz2']\n"
     ]
    }
   ],
   "source": [
    "print(all_three)"
   ]
  },
  {
   "cell_type": "code",
<<<<<<< HEAD
   "execution_count": 17,
=======
   "execution_count": 18,
>>>>>>> 683e27db4ebd5f4551e8f9969a8a7e967b99f573
   "metadata": {},
   "outputs": [
    {
     "name": "stdout",
     "output_type": "stream",
     "text": [
      "['aa9', 'an5', 'ar8', 'bv9', 'bz2', 'cf6', 'ch0', 'cw6', 'fn8', 'fv7', 'gv1']\n"
     ]
    }
   ],
   "source": [
    "print(in_two)"
   ]
  },
  {
   "cell_type": "code",
<<<<<<< HEAD
   "execution_count": 18,
=======
   "execution_count": 19,
>>>>>>> 683e27db4ebd5f4551e8f9969a8a7e967b99f573
   "metadata": {},
   "outputs": [],
   "source": [
    "# same mechanism as the previous for loop for 3 and 4 except this checks if there are participants in 4 and 5\n",
    "ind=0\n",
    "in_45=[]\n",
    "append=''\n",
    "for i in with_ind.anon_id:\n",
    "    if with_ind.iat[ind, 1]==2:\n",
    "        if (4 in with_ind.iat[ind,2] and 5 in with_ind.iat[ind,2]):\n",
    "            append=with_ind.at[ind,'anon_id']\n",
    "            in_45.append(append)\n",
    "    elif with_ind.iat[ind,1]==3:\n",
    "        append=with_ind.at[ind,'anon_id']\n",
    "        in_45.append(append)\n",
    "    ind=ind+1\n"
   ]
  },
  {
   "cell_type": "code",
<<<<<<< HEAD
   "execution_count": 19,
=======
   "execution_count": 20,
>>>>>>> 683e27db4ebd5f4551e8f9969a8a7e967b99f573
   "metadata": {},
   "outputs": [
    {
     "data": {
      "text/html": [
       "<div>\n",
       "<style scoped>\n",
       "    .dataframe tbody tr th:only-of-type {\n",
       "        vertical-align: middle;\n",
       "    }\n",
       "\n",
       "    .dataframe tbody tr th {\n",
       "        vertical-align: top;\n",
       "    }\n",
       "\n",
       "    .dataframe thead th {\n",
       "        text-align: right;\n",
       "    }\n",
       "</style>\n",
       "<table border=\"1\" class=\"dataframe\">\n",
       "  <thead>\n",
       "    <tr style=\"text-align: right;\">\n",
       "      <th></th>\n",
       "      <th>anon_id</th>\n",
       "      <th>level_id</th>\n",
       "    </tr>\n",
       "  </thead>\n",
       "  <tbody>\n",
       "    <tr>\n",
       "      <th>0</th>\n",
       "      <td>aa0</td>\n",
       "      <td>4</td>\n",
       "    </tr>\n",
       "    <tr>\n",
       "      <th>1</th>\n",
       "      <td>aa8</td>\n",
       "      <td>4</td>\n",
       "    </tr>\n",
       "    <tr>\n",
       "      <th>2</th>\n",
       "      <td>aa9</td>\n",
       "      <td>4</td>\n",
       "    </tr>\n",
       "    <tr>\n",
       "      <th>3</th>\n",
       "      <td>ac3</td>\n",
       "      <td>4</td>\n",
       "    </tr>\n",
       "    <tr>\n",
       "      <th>4</th>\n",
       "      <td>ac5</td>\n",
       "      <td>10</td>\n",
       "    </tr>\n",
       "    <tr>\n",
       "      <th>...</th>\n",
       "      <td>...</td>\n",
       "      <td>...</td>\n",
       "    </tr>\n",
       "    <tr>\n",
       "      <th>207</th>\n",
       "      <td>gz0</td>\n",
       "      <td>1</td>\n",
       "    </tr>\n",
       "    <tr>\n",
       "      <th>208</th>\n",
       "      <td>gz5</td>\n",
       "      <td>1</td>\n",
       "    </tr>\n",
       "    <tr>\n",
       "      <th>209</th>\n",
       "      <td>gz7</td>\n",
       "      <td>2</td>\n",
       "    </tr>\n",
       "    <tr>\n",
       "      <th>210</th>\n",
       "      <td>ha0</td>\n",
       "      <td>2</td>\n",
       "    </tr>\n",
       "    <tr>\n",
       "      <th>211</th>\n",
       "      <td>ha2</td>\n",
       "      <td>9</td>\n",
       "    </tr>\n",
       "  </tbody>\n",
       "</table>\n",
       "<p>212 rows × 2 columns</p>\n",
       "</div>"
      ],
      "text/plain": [
       "    anon_id  level_id\n",
       "0       aa0         4\n",
       "1       aa8         4\n",
       "2       aa9         4\n",
       "3       ac3         4\n",
       "4       ac5        10\n",
       "..      ...       ...\n",
       "207     gz0         1\n",
       "208     gz5         1\n",
       "209     gz7         2\n",
       "210     ha0         2\n",
       "211     ha2         9\n",
       "\n",
       "[212 rows x 2 columns]"
      ]
     },
<<<<<<< HEAD
     "execution_count": 19,
=======
     "execution_count": 20,
>>>>>>> 683e27db4ebd5f4551e8f9969a8a7e967b99f573
     "metadata": {},
     "output_type": "execute_result"
    }
   ],
   "source": [
    "# this shows how many questions each participant answered. Used for reference when checking the anon_ids with the excel sheet\n",
    "test2=ids_lvl.groupby('anon_id')['level_id'].count()\n",
    "counts=test2.reset_index()\n",
    "counts"
   ]
  },
  {
   "cell_type": "markdown",
   "metadata": {},
   "source": [
    "# Binary Search on Strictest"
   ]
  },
  {
   "cell_type": "code",
<<<<<<< HEAD
   "execution_count": 20,
=======
   "execution_count": 21,
>>>>>>> 683e27db4ebd5f4551e8f9969a8a7e967b99f573
   "metadata": {},
   "outputs": [],
   "source": [
    "# making a dataframe that only has anon_id and their native language to make things easier to work with\n",
    "ids_lang=ids_lvl.drop(columns='level_id')"
   ]
  },
  {
   "cell_type": "code",
<<<<<<< HEAD
   "execution_count": 21,
=======
   "execution_count": 22,
>>>>>>> 683e27db4ebd5f4551e8f9969a8a7e967b99f573
   "metadata": {},
   "outputs": [
    {
     "data": {
      "text/html": [
       "<div>\n",
       "<style scoped>\n",
       "    .dataframe tbody tr th:only-of-type {\n",
       "        vertical-align: middle;\n",
       "    }\n",
       "\n",
       "    .dataframe tbody tr th {\n",
       "        vertical-align: top;\n",
       "    }\n",
       "\n",
       "    .dataframe thead th {\n",
       "        text-align: right;\n",
       "    }\n",
       "</style>\n",
       "<table border=\"1\" class=\"dataframe\">\n",
       "  <thead>\n",
       "    <tr style=\"text-align: right;\">\n",
       "      <th></th>\n",
       "      <th>anon_id</th>\n",
       "      <th>L1</th>\n",
       "    </tr>\n",
       "  </thead>\n",
       "  <tbody>\n",
       "    <tr>\n",
       "      <th>0</th>\n",
       "      <td>az8</td>\n",
       "      <td>Chinese</td>\n",
       "    </tr>\n",
       "    <tr>\n",
       "      <th>1</th>\n",
       "      <td>az2</td>\n",
       "      <td>Korean</td>\n",
       "    </tr>\n",
       "    <tr>\n",
       "      <th>2</th>\n",
       "      <td>ea7</td>\n",
       "      <td>Spanish</td>\n",
       "    </tr>\n",
       "    <tr>\n",
       "      <th>3</th>\n",
       "      <td>cd6</td>\n",
       "      <td>Chinese</td>\n",
       "    </tr>\n",
       "    <tr>\n",
       "      <th>4</th>\n",
       "      <td>eu6</td>\n",
       "      <td>Korean</td>\n",
       "    </tr>\n",
       "    <tr>\n",
       "      <th>...</th>\n",
       "      <td>...</td>\n",
       "      <td>...</td>\n",
       "    </tr>\n",
       "    <tr>\n",
       "      <th>618</th>\n",
       "      <td>ec1</td>\n",
       "      <td>Korean</td>\n",
       "    </tr>\n",
       "    <tr>\n",
       "      <th>619</th>\n",
       "      <td>cq1</td>\n",
       "      <td>Spanish</td>\n",
       "    </tr>\n",
       "    <tr>\n",
       "      <th>620</th>\n",
       "      <td>bv8</td>\n",
       "      <td>Chinese</td>\n",
       "    </tr>\n",
       "    <tr>\n",
       "      <th>621</th>\n",
       "      <td>dr8</td>\n",
       "      <td>Korean</td>\n",
       "    </tr>\n",
       "    <tr>\n",
       "      <th>622</th>\n",
       "      <td>bl3</td>\n",
       "      <td>Spanish</td>\n",
       "    </tr>\n",
       "  </tbody>\n",
       "</table>\n",
       "<p>623 rows × 2 columns</p>\n",
       "</div>"
      ],
      "text/plain": [
       "    anon_id       L1\n",
       "0       az8  Chinese\n",
       "1       az2   Korean\n",
       "2       ea7  Spanish\n",
       "3       cd6  Chinese\n",
       "4       eu6   Korean\n",
       "..      ...      ...\n",
       "618     ec1   Korean\n",
       "619     cq1  Spanish\n",
       "620     bv8  Chinese\n",
       "621     dr8   Korean\n",
       "622     bl3  Spanish\n",
       "\n",
       "[623 rows x 2 columns]"
      ]
     },
<<<<<<< HEAD
     "execution_count": 21,
=======
     "execution_count": 22,
>>>>>>> 683e27db4ebd5f4551e8f9969a8a7e967b99f573
     "metadata": {},
     "output_type": "execute_result"
    }
   ],
   "source": [
    "ids_lang"
   ]
  },
  {
   "cell_type": "code",
<<<<<<< HEAD
   "execution_count": 22,
=======
   "execution_count": 23,
>>>>>>> 683e27db4ebd5f4551e8f9969a8a7e967b99f573
   "metadata": {},
   "outputs": [
    {
     "name": "stdout",
     "output_type": "stream",
     "text": [
      "5\n",
      "aa8\n"
     ]
    }
   ],
   "source": [
    "# for binary searches to work, the array we are looking through must be in alphabetical order, so that's what .sort() is for\n",
    "#the rest is just a check to make sure the binary search works\n",
    "anon_ids.sort()\n",
    "val=binarySearchArr(anon_ids, 'aa8')\n",
    "print(val)\n",
    "print(anon_ids[val])"
   ]
  },
  {
   "cell_type": "code",
<<<<<<< HEAD
   "execution_count": 23,
=======
   "execution_count": 24,
>>>>>>> 683e27db4ebd5f4551e8f9969a8a7e967b99f573
   "metadata": {},
   "outputs": [
    {
     "name": "stdout",
     "output_type": "stream",
     "text": [
      "bz2\n"
     ]
    }
   ],
   "source": [
    "# another check to make sure the binary search works on different arrays\n",
    "index=binarySearchArr(in_45, 'bz2')\n",
    "print(in_45[index])"
   ]
  },
  {
   "cell_type": "code",
<<<<<<< HEAD
   "execution_count": 24,
=======
   "execution_count": 25,
>>>>>>> 683e27db4ebd5f4551e8f9969a8a7e967b99f573
   "metadata": {},
   "outputs": [
    {
     "data": {
      "text/html": [
       "<div>\n",
       "<style scoped>\n",
       "    .dataframe tbody tr th:only-of-type {\n",
       "        vertical-align: middle;\n",
       "    }\n",
       "\n",
       "    .dataframe tbody tr th {\n",
       "        vertical-align: top;\n",
       "    }\n",
       "\n",
       "    .dataframe thead th {\n",
       "        text-align: right;\n",
       "    }\n",
       "</style>\n",
       "<table border=\"1\" class=\"dataframe\">\n",
       "  <thead>\n",
       "    <tr style=\"text-align: right;\">\n",
       "      <th></th>\n",
       "      <th>anon_id</th>\n",
       "      <th>L1</th>\n",
       "      <th>level_id</th>\n",
       "    </tr>\n",
       "  </thead>\n",
       "  <tbody>\n",
       "    <tr>\n",
       "      <th>0</th>\n",
       "      <td>aa0</td>\n",
       "      <td>Spanish</td>\n",
       "      <td>5</td>\n",
       "    </tr>\n",
       "    <tr>\n",
       "      <th>1</th>\n",
       "      <td>aa0</td>\n",
       "      <td>Spanish</td>\n",
       "      <td>5</td>\n",
       "    </tr>\n",
       "    <tr>\n",
       "      <th>2</th>\n",
       "      <td>aa0</td>\n",
       "      <td>Spanish</td>\n",
       "      <td>5</td>\n",
       "    </tr>\n",
       "    <tr>\n",
       "      <th>3</th>\n",
       "      <td>aa0</td>\n",
       "      <td>Spanish</td>\n",
       "      <td>5</td>\n",
       "    </tr>\n",
       "    <tr>\n",
       "      <th>4</th>\n",
       "      <td>aa8</td>\n",
       "      <td>Korean</td>\n",
       "      <td>4</td>\n",
       "    </tr>\n",
       "    <tr>\n",
       "      <th>...</th>\n",
       "      <td>...</td>\n",
       "      <td>...</td>\n",
       "      <td>...</td>\n",
       "    </tr>\n",
       "    <tr>\n",
       "      <th>618</th>\n",
       "      <td>ha2</td>\n",
       "      <td>Korean</td>\n",
       "      <td>5</td>\n",
       "    </tr>\n",
       "    <tr>\n",
       "      <th>619</th>\n",
       "      <td>ha2</td>\n",
       "      <td>Korean</td>\n",
       "      <td>5</td>\n",
       "    </tr>\n",
       "    <tr>\n",
       "      <th>620</th>\n",
       "      <td>ha2</td>\n",
       "      <td>Korean</td>\n",
       "      <td>5</td>\n",
       "    </tr>\n",
       "    <tr>\n",
       "      <th>621</th>\n",
       "      <td>ha2</td>\n",
       "      <td>Korean</td>\n",
       "      <td>5</td>\n",
       "    </tr>\n",
       "    <tr>\n",
       "      <th>622</th>\n",
       "      <td>ha2</td>\n",
       "      <td>Korean</td>\n",
       "      <td>5</td>\n",
       "    </tr>\n",
       "  </tbody>\n",
       "</table>\n",
       "<p>623 rows × 3 columns</p>\n",
       "</div>"
      ],
      "text/plain": [
       "    anon_id       L1  level_id\n",
       "0       aa0  Spanish         5\n",
       "1       aa0  Spanish         5\n",
       "2       aa0  Spanish         5\n",
       "3       aa0  Spanish         5\n",
       "4       aa8   Korean         4\n",
       "..      ...      ...       ...\n",
       "618     ha2   Korean         5\n",
       "619     ha2   Korean         5\n",
       "620     ha2   Korean         5\n",
       "621     ha2   Korean         5\n",
       "622     ha2   Korean         5\n",
       "\n",
       "[623 rows x 3 columns]"
      ]
     },
<<<<<<< HEAD
     "execution_count": 24,
=======
     "execution_count": 25,
>>>>>>> 683e27db4ebd5f4551e8f9969a8a7e967b99f573
     "metadata": {},
     "output_type": "execute_result"
    }
   ],
   "source": [
    "# putting anon_ids in alphabetical order and creating a new index so the binary search will work\n",
    "sorted_df=ids_lvl.sort_values(by=['anon_id']).reset_index(drop=True)\n",
    "sorted_df"
   ]
  },
  {
   "cell_type": "code",
<<<<<<< HEAD
   "execution_count": 25,
=======
   "execution_count": 26,
>>>>>>> 683e27db4ebd5f4551e8f9969a8a7e967b99f573
   "metadata": {},
   "outputs": [
    {
     "name": "stdout",
     "output_type": "stream",
     "text": [
      "{'aa8': 'Korean', 'ac5': 'Korean', 'an5': 'Korean', 'aq1': 'Chinese', 'ar8': 'Chinese', 'ar9': 'Chinese', 'au5': 'Korean', 'au6': 'Korean', 'az8': 'Chinese', 'bi4': 'Spanish', 'bl7': 'Chinese', 'bu4': 'Korean', 'bv9': 'Korean', 'bz2': 'Chinese', 'cb3': 'Chinese', 'cc4': 'Korean', 'ce3': 'Korean', 'cv7': 'Spanish', 'cz4': 'Chinese', 'dc0': 'Chinese', 'dc6': 'Spanish', 'dd9': 'Korean', 'df4': 'Spanish', 'dm8': 'Chinese', 'dq9': 'Chinese', 'dy7': 'Korean', 'ei8': 'Chinese', 'ev6': 'Chinese', 'ev9': 'Chinese', 'fa2': 'Spanish', 'ff1': 'Korean', 'ff2': 'Chinese', 'fk8': 'Chinese', 'fu6': 'Korean', 'fx4': 'Korean', 'fx7': 'Spanish', 'gm1': 'Chinese', 'ha2': 'Korean'}\n"
     ]
    }
   ],
   "source": [
    "# gathers anon_ids and their native language for in_45 since that list had the most participants\n",
    "index=0\n",
    "lang_dict={} #creates a dictionary where we can store the anon_id as the key and the language as the definition\n",
    "for i in in_45:\n",
    "    df_index=binarySearchArr(anon_ids,i) #utilizing binary search\n",
    "    key=sorted_df.at[df_index,'anon_id'] #adding the anon_id as a key\n",
    "    val=sorted_df.at[df_index,'L1'] #adding the language as the definition of that anon_ids\n",
    "    if key not in lang_dict.keys(): #to account for duplicate entires. if the anon_id is not already a key, it will be added\n",
    "        lang_dict.update({key: val})\n",
    "print(lang_dict)"
   ]
  },
  {
   "cell_type": "code",
<<<<<<< HEAD
   "execution_count": 26,
=======
   "execution_count": 27,
>>>>>>> 683e27db4ebd5f4551e8f9969a8a7e967b99f573
   "metadata": {},
   "outputs": [
    {
     "data": {
      "text/plain": [
       "38"
      ]
     },
<<<<<<< HEAD
     "execution_count": 26,
=======
     "execution_count": 27,
>>>>>>> 683e27db4ebd5f4551e8f9969a8a7e967b99f573
     "metadata": {},
     "output_type": "execute_result"
    }
   ],
   "source": [
    "# check to make sure the length of the dictionary and the original list are the same\n",
    "len(lang_dict)"
   ]
  },
  {
   "cell_type": "code",
<<<<<<< HEAD
   "execution_count": 27,
=======
   "execution_count": 28,
>>>>>>> 683e27db4ebd5f4551e8f9969a8a7e967b99f573
   "metadata": {},
   "outputs": [
    {
     "data": {
      "text/plain": [
       "38"
      ]
     },
<<<<<<< HEAD
     "execution_count": 27,
=======
     "execution_count": 28,
>>>>>>> 683e27db4ebd5f4551e8f9969a8a7e967b99f573
     "metadata": {},
     "output_type": "execute_result"
    }
   ],
   "source": [
    "len(in_45)"
   ]
  },
  {
   "cell_type": "markdown",
   "metadata": {},
   "source": [
    "# Doing the same processes on the limited data set"
   ]
  },
  {
   "cell_type": "code",
<<<<<<< HEAD
   "execution_count": 28,
=======
   "execution_count": 29,
>>>>>>> 683e27db4ebd5f4551e8f9969a8a7e967b99f573
   "metadata": {},
   "outputs": [
    {
     "data": {
      "text/html": [
       "<div>\n",
       "<style scoped>\n",
       "    .dataframe tbody tr th:only-of-type {\n",
       "        vertical-align: middle;\n",
       "    }\n",
       "\n",
       "    .dataframe tbody tr th {\n",
       "        vertical-align: top;\n",
       "    }\n",
       "\n",
       "    .dataframe thead th {\n",
       "        text-align: right;\n",
       "    }\n",
       "</style>\n",
       "<table border=\"1\" class=\"dataframe\">\n",
       "  <thead>\n",
       "    <tr style=\"text-align: right;\">\n",
       "      <th></th>\n",
       "      <th>anon_id</th>\n",
       "      <th>L1</th>\n",
       "      <th>level_id</th>\n",
       "    </tr>\n",
       "  </thead>\n",
       "  <tbody>\n",
       "    <tr>\n",
       "      <th>0</th>\n",
       "      <td>aj8</td>\n",
       "      <td>Chinese</td>\n",
       "      <td>5.0</td>\n",
       "    </tr>\n",
       "    <tr>\n",
       "      <th>1</th>\n",
       "      <td>az8</td>\n",
       "      <td>Chinese</td>\n",
       "      <td>5.0</td>\n",
       "    </tr>\n",
       "    <tr>\n",
       "      <th>2</th>\n",
       "      <td>az2</td>\n",
       "      <td>Korean</td>\n",
       "      <td>5.0</td>\n",
       "    </tr>\n",
       "    <tr>\n",
       "      <th>3</th>\n",
       "      <td>at8</td>\n",
       "      <td>Korean</td>\n",
       "      <td>5.0</td>\n",
       "    </tr>\n",
       "    <tr>\n",
       "      <th>4</th>\n",
       "      <td>eh9</td>\n",
       "      <td>Korean</td>\n",
       "      <td>5.0</td>\n",
       "    </tr>\n",
       "    <tr>\n",
       "      <th>...</th>\n",
       "      <td>...</td>\n",
       "      <td>...</td>\n",
       "      <td>...</td>\n",
       "    </tr>\n",
       "    <tr>\n",
       "      <th>1184</th>\n",
       "      <td>fk2</td>\n",
       "      <td>Chinese</td>\n",
       "      <td>4.0</td>\n",
       "    </tr>\n",
       "    <tr>\n",
       "      <th>1185</th>\n",
       "      <td>ec1</td>\n",
       "      <td>Korean</td>\n",
       "      <td>4.0</td>\n",
       "    </tr>\n",
       "    <tr>\n",
       "      <th>1186</th>\n",
       "      <td>cq1</td>\n",
       "      <td>Spanish</td>\n",
       "      <td>4.0</td>\n",
       "    </tr>\n",
       "    <tr>\n",
       "      <th>1187</th>\n",
       "      <td>NaN</td>\n",
       "      <td>NaN</td>\n",
       "      <td>NaN</td>\n",
       "    </tr>\n",
       "    <tr>\n",
       "      <th>1188</th>\n",
       "      <td>NaN</td>\n",
       "      <td>NaN</td>\n",
       "      <td>NaN</td>\n",
       "    </tr>\n",
       "  </tbody>\n",
       "</table>\n",
       "<p>1189 rows × 3 columns</p>\n",
       "</div>"
      ],
      "text/plain": [
       "     anon_id       L1  level_id\n",
       "0        aj8  Chinese       5.0\n",
       "1        az8  Chinese       5.0\n",
       "2        az2   Korean       5.0\n",
       "3        at8   Korean       5.0\n",
       "4        eh9   Korean       5.0\n",
       "...      ...      ...       ...\n",
       "1184     fk2  Chinese       4.0\n",
       "1185     ec1   Korean       4.0\n",
       "1186     cq1  Spanish       4.0\n",
       "1187     NaN      NaN       NaN\n",
       "1188     NaN      NaN       NaN\n",
       "\n",
       "[1189 rows x 3 columns]"
      ]
     },
<<<<<<< HEAD
     "execution_count": 28,
=======
     "execution_count": 29,
>>>>>>> 683e27db4ebd5f4551e8f9969a8a7e967b99f573
     "metadata": {},
     "output_type": "execute_result"
    }
   ],
   "source": [
    "# dropping the columns that aren't needed for what we're doing right now\n",
    "dropped_limited=limited.drop(columns=['3Langs','Item','answer_id','gender','course_id','class_id','question_id','version','text1_len',\n",
    "                                     'text2_len','text3_len','text1','text2 (line breaks/extra spaces removed, spaces added to reach 60)',\n",
    "                                     'text3 (edits made to fix word counts)','Judgement','Notes'])\n",
    "dropped_limited"
   ]
  },
  {
   "cell_type": "code",
<<<<<<< HEAD
   "execution_count": 29,
=======
   "execution_count": 30,
>>>>>>> 683e27db4ebd5f4551e8f9969a8a7e967b99f573
   "metadata": {},
   "outputs": [
    {
     "data": {
      "text/html": [
       "<div>\n",
       "<style scoped>\n",
       "    .dataframe tbody tr th:only-of-type {\n",
       "        vertical-align: middle;\n",
       "    }\n",
       "\n",
       "    .dataframe tbody tr th {\n",
       "        vertical-align: top;\n",
       "    }\n",
       "\n",
       "    .dataframe thead th {\n",
       "        text-align: right;\n",
       "    }\n",
       "</style>\n",
       "<table border=\"1\" class=\"dataframe\">\n",
       "  <thead>\n",
       "    <tr style=\"text-align: right;\">\n",
       "      <th></th>\n",
       "      <th>anon_id</th>\n",
       "      <th>L1</th>\n",
       "      <th>level_id</th>\n",
       "    </tr>\n",
       "  </thead>\n",
       "  <tbody>\n",
       "    <tr>\n",
       "      <th>0</th>\n",
       "      <td>aj8</td>\n",
       "      <td>Chinese</td>\n",
       "      <td>5.0</td>\n",
       "    </tr>\n",
       "    <tr>\n",
       "      <th>1</th>\n",
       "      <td>az8</td>\n",
       "      <td>Chinese</td>\n",
       "      <td>5.0</td>\n",
       "    </tr>\n",
       "    <tr>\n",
       "      <th>2</th>\n",
       "      <td>az2</td>\n",
       "      <td>Korean</td>\n",
       "      <td>5.0</td>\n",
       "    </tr>\n",
       "    <tr>\n",
       "      <th>3</th>\n",
       "      <td>at8</td>\n",
       "      <td>Korean</td>\n",
       "      <td>5.0</td>\n",
       "    </tr>\n",
       "    <tr>\n",
       "      <th>4</th>\n",
       "      <td>eh9</td>\n",
       "      <td>Korean</td>\n",
       "      <td>5.0</td>\n",
       "    </tr>\n",
       "    <tr>\n",
       "      <th>...</th>\n",
       "      <td>...</td>\n",
       "      <td>...</td>\n",
       "      <td>...</td>\n",
       "    </tr>\n",
       "    <tr>\n",
       "      <th>1182</th>\n",
       "      <td>bl3</td>\n",
       "      <td>Spanish</td>\n",
       "      <td>4.0</td>\n",
       "    </tr>\n",
       "    <tr>\n",
       "      <th>1183</th>\n",
       "      <td>dp1</td>\n",
       "      <td>Chinese</td>\n",
       "      <td>4.0</td>\n",
       "    </tr>\n",
       "    <tr>\n",
       "      <th>1184</th>\n",
       "      <td>fk2</td>\n",
       "      <td>Chinese</td>\n",
       "      <td>4.0</td>\n",
       "    </tr>\n",
       "    <tr>\n",
       "      <th>1185</th>\n",
       "      <td>ec1</td>\n",
       "      <td>Korean</td>\n",
       "      <td>4.0</td>\n",
       "    </tr>\n",
       "    <tr>\n",
       "      <th>1186</th>\n",
       "      <td>cq1</td>\n",
       "      <td>Spanish</td>\n",
       "      <td>4.0</td>\n",
       "    </tr>\n",
       "  </tbody>\n",
       "</table>\n",
       "<p>1187 rows × 3 columns</p>\n",
       "</div>"
      ],
      "text/plain": [
       "     anon_id       L1  level_id\n",
       "0        aj8  Chinese       5.0\n",
       "1        az8  Chinese       5.0\n",
       "2        az2   Korean       5.0\n",
       "3        at8   Korean       5.0\n",
       "4        eh9   Korean       5.0\n",
       "...      ...      ...       ...\n",
       "1182     bl3  Spanish       4.0\n",
       "1183     dp1  Chinese       4.0\n",
       "1184     fk2  Chinese       4.0\n",
       "1185     ec1   Korean       4.0\n",
       "1186     cq1  Spanish       4.0\n",
       "\n",
       "[1187 rows x 3 columns]"
      ]
     },
<<<<<<< HEAD
     "execution_count": 29,
=======
     "execution_count": 30,
>>>>>>> 683e27db4ebd5f4551e8f9969a8a7e967b99f573
     "metadata": {},
     "output_type": "execute_result"
    }
   ],
   "source": [
    "#there were a few rows at the end that had no data, so this gets rid of those rows\n",
    "final_lim=dropped_limited.dropna()\n",
    "final_lim"
   ]
  },
  {
   "cell_type": "code",
<<<<<<< HEAD
   "execution_count": 30,
=======
   "execution_count": 31,
>>>>>>> 683e27db4ebd5f4551e8f9969a8a7e967b99f573
   "metadata": {},
   "outputs": [
    {
     "name": "stdout",
     "output_type": "stream",
     "text": [
      "Total Participants:    263 \n",
      "Chinese Participants:  94 \n",
      "Korean Participants:   118 \n",
      "Spanish Pariticpants:  51\n"
     ]
    }
   ],
   "source": [
    "# total of each\n",
    "total_lim=final_lim['anon_id'].nunique()\n",
    "\n",
    "cfilter_lim=final_lim[(final_lim.L1=='Chinese')]\n",
    "ctotal_lim=cfilter_lim['anon_id'].nunique()\n",
    "\n",
    "kfilter_lim=final_lim[final_lim.L1=='Korean']\n",
    "ktotal_lim=kfilter_lim['anon_id'].nunique()\n",
    "\n",
    "sfilter_lim=final_lim[final_lim.L1=='Spanish']\n",
    "stotal_lim=sfilter_lim['anon_id'].nunique()\n",
    "\n",
    "print('Total Participants:   ',total_lim,'\\nChinese Participants: ',ctotal_lim,\n",
    "      '\\nKorean Participants:  ',ktotal_lim,\n",
    "         '\\nSpanish Pariticpants: ',stotal_lim)"
   ]
  },
  {
   "cell_type": "code",
<<<<<<< HEAD
   "execution_count": 31,
=======
   "execution_count": 32,
>>>>>>> 683e27db4ebd5f4551e8f9969a8a7e967b99f573
   "metadata": {},
   "outputs": [
    {
     "name": "stdout",
     "output_type": "stream",
     "text": [
      "Participants in Level 3 -\n",
      "Total Participants:    40 \n",
      "Chinese Participants:  11 \n",
      "Korean Participants:   19 \n",
      "Spanish Pariticpants:  10\n"
     ]
    }
   ],
   "source": [
    "# Finding distribution of participants in level 3 for limited data set\n",
    "totalfilter_lim=final_lim[final_lim.level_id==3]\n",
    "ltotal_lim=totalfilter_lim['anon_id'].nunique()\n",
    "\n",
    "lcfilter_lim=final_lim[(final_lim.L1=='Chinese') & (final_lim.level_id==3)]\n",
    "lctotal_lim=lcfilter_lim['anon_id'].nunique()\n",
    "\n",
    "lkfilter_lim=final_lim[(final_lim.L1=='Korean') & (final_lim.level_id==3)]\n",
    "lktotal_lim=lkfilter_lim['anon_id'].nunique()\n",
    "\n",
    "lsfilter_lim=final_lim[(final_lim.L1=='Spanish') & (final_lim.level_id==3)]\n",
    "lstotal_lim=lsfilter_lim['anon_id'].nunique()\n",
    "\n",
    "print('Participants in Level 3 -\\n'\n",
    "      'Total Participants:   ',ltotal_lim,'\\nChinese Participants: ',lctotal_lim,\n",
    "      '\\nKorean Participants:  ',lktotal_lim,\n",
    "         '\\nSpanish Pariticpants: ',lstotal_lim)"
   ]
  },
  {
   "cell_type": "code",
<<<<<<< HEAD
   "execution_count": 32,
=======
   "execution_count": 33,
>>>>>>> 683e27db4ebd5f4551e8f9969a8a7e967b99f573
   "metadata": {},
   "outputs": [
    {
     "name": "stdout",
     "output_type": "stream",
     "text": [
      "Participants in Level 4 -\n",
      "Total Participants:    176 \n",
      "Chinese Participants:  64 \n",
      "Korean Participants:   78 \n",
      "Spanish Pariticpants:  34\n"
     ]
    }
   ],
   "source": [
    "# Finding distribution of participants in level 4 for limited data set\n",
    "totalfilter_lim=final_lim[final_lim.level_id==4]\n",
    "ltotal_lim=totalfilter_lim['anon_id'].nunique()\n",
    "\n",
    "lcfilter_lim=final_lim[(final_lim.L1=='Chinese') & (final_lim.level_id==4)]\n",
    "lctotal_lim=lcfilter_lim['anon_id'].nunique()\n",
    "\n",
    "lkfilter_lim=final_lim[(final_lim.L1=='Korean') & (final_lim.level_id==4)]\n",
    "lktotal_lim=lkfilter_lim['anon_id'].nunique()\n",
    "\n",
    "lsfilter_lim=final_lim[(final_lim.L1=='Spanish') & (final_lim.level_id==4)]\n",
    "lstotal_lim=lsfilter_lim['anon_id'].nunique()\n",
    "\n",
    "print('Participants in Level 4 -\\n'\n",
    "      'Total Participants:   ',ltotal_lim,'\\nChinese Participants: ',lctotal_lim,\n",
    "      '\\nKorean Participants:  ',lktotal_lim,\n",
    "         '\\nSpanish Pariticpants: ',lstotal_lim)"
   ]
  },
  {
   "cell_type": "code",
<<<<<<< HEAD
   "execution_count": 33,
=======
   "execution_count": 34,
>>>>>>> 683e27db4ebd5f4551e8f9969a8a7e967b99f573
   "metadata": {},
   "outputs": [
    {
     "name": "stdout",
     "output_type": "stream",
     "text": [
      "Participants in Level 5 -\n",
      "Total Participants:    118 \n",
      "Chinese Participants:  46 \n",
      "Korean Participants:   51 \n",
      "Spanish Pariticpants:  21\n"
     ]
    }
   ],
   "source": [
    "# Finding distribution of participants in level 5 for limited data set\n",
    "totalfilter5_lim=final_lim[final_lim.level_id==5]\n",
    "ltotal5_lim=totalfilter5_lim['anon_id'].nunique()\n",
    "\n",
    "lcfilter5_lim=final_lim[(final_lim.L1=='Chinese') & (final_lim.level_id==5)]\n",
    "lctotal5_lim=lcfilter5_lim['anon_id'].nunique()\n",
    "\n",
    "lkfilter5_lim=final_lim[(final_lim.L1=='Korean') & (final_lim.level_id==5)]\n",
    "lktotal5_lim=lkfilter5_lim['anon_id'].nunique()\n",
    "\n",
    "lsfilter5_lim=final_lim[(final_lim.L1=='Spanish') & (final_lim.level_id==5)]\n",
    "lstotal5_lim=lsfilter5_lim['anon_id'].nunique()\n",
    "\n",
    "print('Participants in Level 5 -\\n'\n",
    "      'Total Participants:   ',ltotal5_lim,'\\nChinese Participants: ',lctotal5_lim,\n",
    "      '\\nKorean Participants:  ',lktotal5_lim,\n",
    "         '\\nSpanish Pariticpants: ',lstotal5_lim)"
   ]
  },
  {
   "cell_type": "markdown",
   "metadata": {},
   "source": [
    "# Participant level distribution for Limited"
   ]
  },
  {
   "cell_type": "code",
<<<<<<< HEAD
   "execution_count": 34,
=======
   "execution_count": 35,
>>>>>>> 683e27db4ebd5f4551e8f9969a8a7e967b99f573
   "metadata": {},
   "outputs": [
    {
     "data": {
      "text/html": [
       "<div>\n",
       "<style scoped>\n",
       "    .dataframe tbody tr th:only-of-type {\n",
       "        vertical-align: middle;\n",
       "    }\n",
       "\n",
       "    .dataframe tbody tr th {\n",
       "        vertical-align: top;\n",
       "    }\n",
       "\n",
       "    .dataframe thead th {\n",
       "        text-align: right;\n",
       "    }\n",
       "</style>\n",
       "<table border=\"1\" class=\"dataframe\">\n",
       "  <thead>\n",
       "    <tr style=\"text-align: right;\">\n",
       "      <th></th>\n",
       "      <th>anon_id</th>\n",
       "      <th>n_anon_ids_lim</th>\n",
       "      <th>lvl_nums_lim</th>\n",
       "    </tr>\n",
       "  </thead>\n",
       "  <tbody>\n",
       "    <tr>\n",
       "      <th>0</th>\n",
       "      <td>aa0</td>\n",
       "      <td>1</td>\n",
       "      <td>[5.0]</td>\n",
       "    </tr>\n",
       "    <tr>\n",
       "      <th>1</th>\n",
       "      <td>aa3</td>\n",
       "      <td>1</td>\n",
       "      <td>[4.0]</td>\n",
       "    </tr>\n",
       "    <tr>\n",
       "      <th>2</th>\n",
       "      <td>aa8</td>\n",
       "      <td>1</td>\n",
       "      <td>[4.0]</td>\n",
       "    </tr>\n",
       "    <tr>\n",
       "      <th>3</th>\n",
       "      <td>aa9</td>\n",
       "      <td>2</td>\n",
       "      <td>[3.0, 4.0]</td>\n",
       "    </tr>\n",
       "    <tr>\n",
       "      <th>4</th>\n",
       "      <td>ab6</td>\n",
       "      <td>1</td>\n",
       "      <td>[4.0]</td>\n",
       "    </tr>\n",
       "    <tr>\n",
       "      <th>...</th>\n",
       "      <td>...</td>\n",
       "      <td>...</td>\n",
       "      <td>...</td>\n",
       "    </tr>\n",
       "    <tr>\n",
       "      <th>258</th>\n",
       "      <td>gz2</td>\n",
       "      <td>2</td>\n",
       "      <td>[4.0, 5.0]</td>\n",
       "    </tr>\n",
       "    <tr>\n",
       "      <th>259</th>\n",
       "      <td>gz5</td>\n",
       "      <td>1</td>\n",
       "      <td>[4.0]</td>\n",
       "    </tr>\n",
       "    <tr>\n",
       "      <th>260</th>\n",
       "      <td>gz7</td>\n",
       "      <td>1</td>\n",
       "      <td>[4.0]</td>\n",
       "    </tr>\n",
       "    <tr>\n",
       "      <th>261</th>\n",
       "      <td>ha0</td>\n",
       "      <td>1</td>\n",
       "      <td>[5.0]</td>\n",
       "    </tr>\n",
       "    <tr>\n",
       "      <th>262</th>\n",
       "      <td>ha2</td>\n",
       "      <td>2</td>\n",
       "      <td>[4.0, 5.0]</td>\n",
       "    </tr>\n",
       "  </tbody>\n",
       "</table>\n",
       "<p>263 rows × 3 columns</p>\n",
       "</div>"
      ],
      "text/plain": [
       "    anon_id  n_anon_ids_lim lvl_nums_lim\n",
       "0       aa0               1        [5.0]\n",
       "1       aa3               1        [4.0]\n",
       "2       aa8               1        [4.0]\n",
       "3       aa9               2   [3.0, 4.0]\n",
       "4       ab6               1        [4.0]\n",
       "..      ...             ...          ...\n",
       "258     gz2               2   [4.0, 5.0]\n",
       "259     gz5               1        [4.0]\n",
       "260     gz7               1        [4.0]\n",
       "261     ha0               1        [5.0]\n",
       "262     ha2               2   [4.0, 5.0]\n",
       "\n",
       "[263 rows x 3 columns]"
      ]
     },
<<<<<<< HEAD
     "execution_count": 34,
=======
     "execution_count": 35,
>>>>>>> 683e27db4ebd5f4551e8f9969a8a7e967b99f573
     "metadata": {},
     "output_type": "execute_result"
    }
   ],
   "source": [
    "# this code gets how many times an id appeared (n_anon_ids) as well as an array of what levels they participated in (lvl_nums)\n",
    "clean_ids_lvl_lim=final_lim.groupby('anon_id').agg(\n",
    "    n_anon_ids_lim=('level_id', 'nunique'),\n",
    "    lvl_nums_lim=('level_id', get_uniques)\n",
    ")\n",
    "\n",
    "#changes the clean_ids_lvl's index so we can access the anon_id easier\n",
    "ind_lim= clean_ids_lvl_lim.reset_index()\n",
    "ind_lim\n"
   ]
  },
  {
   "cell_type": "code",
<<<<<<< HEAD
   "execution_count": 35,
=======
   "execution_count": 36,
>>>>>>> 683e27db4ebd5f4551e8f9969a8a7e967b99f573
   "metadata": {},
   "outputs": [
    {
     "data": {
      "text/plain": [
       "3"
      ]
     },
<<<<<<< HEAD
     "execution_count": 35,
=======
     "execution_count": 36,
>>>>>>> 683e27db4ebd5f4551e8f9969a8a7e967b99f573
     "metadata": {},
     "output_type": "execute_result"
    }
   ],
   "source": [
    "# for loop that checks if lvl_nums has all three levels in it (3,4, and 5)\n",
    "# if there are three values in lvl_nums, the anon_id is appended to the all_three list\n",
    "ind=0\n",
    "all_three_lim=[]\n",
    "append=''\n",
    "for i in ind_lim.anon_id:\n",
    "    if ind_lim.iat[ind, 1]==3:\n",
    "        append=ind_lim.at[ind,'anon_id']\n",
    "        all_three_lim.append(append)\n",
    "    ind=ind+1\n",
    "\n",
    "len(all_three_lim)\n"
   ]
  },
  {
   "cell_type": "code",
<<<<<<< HEAD
   "execution_count": 36,
=======
   "execution_count": 37,
>>>>>>> 683e27db4ebd5f4551e8f9969a8a7e967b99f573
   "metadata": {},
   "outputs": [
    {
     "data": {
      "text/plain": [
       "['bl4', 'bp4', 'fy1']"
      ]
     },
<<<<<<< HEAD
     "execution_count": 36,
=======
     "execution_count": 37,
>>>>>>> 683e27db4ebd5f4551e8f9969a8a7e967b99f573
     "metadata": {},
     "output_type": "execute_result"
    }
   ],
   "source": [
    "all_three_lim"
   ]
  },
  {
   "cell_type": "code",
<<<<<<< HEAD
   "execution_count": 37,
=======
   "execution_count": 38,
>>>>>>> 683e27db4ebd5f4551e8f9969a8a7e967b99f573
   "metadata": {},
   "outputs": [
    {
     "name": "stdout",
     "output_type": "stream",
     "text": [
      "[3.0, 5.0, 4.0]\n"
     ]
    }
   ],
   "source": [
    "index=binarySearchArr(ind_lim['anon_id'],'fy1')\n",
    "print(ind_lim.at[index,'lvl_nums_lim'])"
   ]
  },
  {
   "cell_type": "code",
<<<<<<< HEAD
   "execution_count": 38,
=======
   "execution_count": 201,
>>>>>>> 683e27db4ebd5f4551e8f9969a8a7e967b99f573
   "metadata": {},
   "outputs": [
    {
     "name": "stdout",
     "output_type": "stream",
     "text": [
      "['aa9', 'ah9', 'ax7', 'be2', 'bf1', 'bl4', 'bp4', 'bv9', 'cm9', 'cs5', 'cy5', 'ex0', 'ey8', 'fa2', 'fc9', 'fe7', 'fn8', 'fv7', 'fy1', 'gv1']\n",
      "20\n"
     ]
    }
   ],
   "source": [
    "# creates list of participants in limited sheet that are in level 3 and 4\n",
    "ind=0\n",
    "in34_lim=[]\n",
    "append=''\n",
    "for i in ind_lim.anon_id:\n",
    "    if ind_lim.iat[ind, 1]==2:\n",
    "        if (3 in ind_lim.iat[ind,2] and 4 in ind_lim.iat[ind,2]):\n",
    "            append=ind_lim.at[ind,'anon_id']\n",
    "            in34_lim.append(append)\n",
    "    elif ind_lim.iat[ind,1]==3:\n",
    "        append=ind_lim.at[ind,'anon_id']\n",
    "        in34_lim.append(append)\n",
    "    ind=ind+1\n",
    "print(in34_lim)\n",
    "print(len(in34_lim))"
   ]
  },
  {
   "cell_type": "code",
<<<<<<< HEAD
   "execution_count": 39,
=======
   "execution_count": 51,
>>>>>>> 683e27db4ebd5f4551e8f9969a8a7e967b99f573
   "metadata": {},
   "outputs": [
    {
     "name": "stdout",
     "output_type": "stream",
     "text": [
      "['ac5', 'al5', 'an5', 'ar8', 'ar9', 'au5', 'az8', 'bf2', 'bi4', 'bj2', 'bl4', 'bl7', 'bp4', 'bu4', 'cb3', 'cc4', 'ce3', 'cj5', 'cj8', 'co5', 'cv7', 'cw1', 'cz4', 'dc0', 'dd9', 'df4', 'dk0', 'dq9', 'dy7', 'ei8', 'eo8', 'et4', 'ev6', 'ev9', 'ff1', 'fg8', 'fj7', 'fk8', 'fu6', 'fx4', 'fx7', 'fy1', 'gf5', 'gm1', 'gq4', 'gq8', 'gu1', 'gz2', 'ha2']\n",
      "49\n"
     ]
    }
   ],
   "source": [
    "# creates list of participants in limited sheet that are in level 4 and 5\n",
    "ind=0\n",
    "in45_lim=[]\n",
    "append=''\n",
    "for i in ind_lim.anon_id:\n",
    "    if ind_lim.iat[ind, 1]==2:\n",
    "        if (4 in ind_lim.iat[ind,2] and 5 in ind_lim.iat[ind,2]):\n",
    "            append=ind_lim.at[ind,'anon_id']\n",
    "            in45_lim.append(append)\n",
    "    elif ind_lim.iat[ind,1]==3:\n",
    "        append=ind_lim.at[ind,'anon_id']\n",
    "        in45_lim.append(append)\n",
    "    ind=ind+1\n",
    "print(in45_lim)\n",
    "print(len(in45_lim))"
   ]
  },
  {
   "cell_type": "code",
<<<<<<< HEAD
   "execution_count": 40,
=======
   "execution_count": 50,
>>>>>>> 683e27db4ebd5f4551e8f9969a8a7e967b99f573
   "metadata": {},
   "outputs": [
    {
     "name": "stdout",
     "output_type": "stream",
     "text": [
      "['be7', 'bl4', 'bp4', 'bz2', 'fy1']\n",
      "5\n"
     ]
    }
   ],
   "source": [
    "# creates list of participants in limited sheet that are in level 3 and 5\n",
    "ind=0\n",
    "in35_lim=[]\n",
    "append=''\n",
    "for i in ind_lim.anon_id:\n",
    "    if ind_lim.iat[ind, 1]==2:\n",
    "        if (3 in ind_lim.iat[ind,2] and 5 in ind_lim.iat[ind,2]):\n",
    "            append=ind_lim.at[ind,'anon_id']\n",
    "            in35_lim.append(append)\n",
    "    elif ind_lim.iat[ind,1]==3:\n",
    "        append=ind_lim.at[ind,'anon_id']\n",
    "        in35_lim.append(append)\n",
    "    ind=ind+1\n",
    "print(in35_lim)\n",
    "print(len(in35_lim))"
   ]
  },
  {
   "cell_type": "markdown",
   "metadata": {},
   "source": [
    "# Participant level distribution across Responses-Loose"
   ]
  },
  {
   "cell_type": "code",
<<<<<<< HEAD
   "execution_count": 41,
=======
   "execution_count": 40,
>>>>>>> 683e27db4ebd5f4551e8f9969a8a7e967b99f573
   "metadata": {},
   "outputs": [],
   "source": [
    "# dropping the columns that aren't needed for what we're doing right now\n",
    "dropped_loose=loose.drop(columns=['3Langs','Item','answer_id','gender','course_id','class_id','question_id','version','text1_len',\n",
    "                                     'text2_len','text3_len','text1','text2 (line breaks/extra spaces removed, spaces added to reach 60)',\n",
    "                                     'text3 (edits made to fix word counts)','Judgement','Notes'])"
   ]
  },
  {
   "cell_type": "code",
<<<<<<< HEAD
   "execution_count": 42,
=======
   "execution_count": 41,
>>>>>>> 683e27db4ebd5f4551e8f9969a8a7e967b99f573
   "metadata": {},
   "outputs": [
    {
     "data": {
      "text/html": [
       "<div>\n",
       "<style scoped>\n",
       "    .dataframe tbody tr th:only-of-type {\n",
       "        vertical-align: middle;\n",
       "    }\n",
       "\n",
       "    .dataframe tbody tr th {\n",
       "        vertical-align: top;\n",
       "    }\n",
       "\n",
       "    .dataframe thead th {\n",
       "        text-align: right;\n",
       "    }\n",
       "</style>\n",
       "<table border=\"1\" class=\"dataframe\">\n",
       "  <thead>\n",
       "    <tr style=\"text-align: right;\">\n",
       "      <th></th>\n",
       "      <th>anon_id</th>\n",
       "      <th>L1</th>\n",
       "      <th>level_id</th>\n",
       "    </tr>\n",
       "  </thead>\n",
       "  <tbody>\n",
       "    <tr>\n",
       "      <th>0</th>\n",
       "      <td>aj8</td>\n",
       "      <td>Chinese</td>\n",
       "      <td>5.0</td>\n",
       "    </tr>\n",
       "    <tr>\n",
       "      <th>1</th>\n",
       "      <td>az8</td>\n",
       "      <td>Chinese</td>\n",
       "      <td>5.0</td>\n",
       "    </tr>\n",
       "    <tr>\n",
       "      <th>2</th>\n",
       "      <td>az2</td>\n",
       "      <td>Korean</td>\n",
       "      <td>5.0</td>\n",
       "    </tr>\n",
       "    <tr>\n",
       "      <th>3</th>\n",
       "      <td>at8</td>\n",
       "      <td>Korean</td>\n",
       "      <td>5.0</td>\n",
       "    </tr>\n",
       "    <tr>\n",
       "      <th>4</th>\n",
       "      <td>eh9</td>\n",
       "      <td>Korean</td>\n",
       "      <td>5.0</td>\n",
       "    </tr>\n",
       "    <tr>\n",
       "      <th>...</th>\n",
       "      <td>...</td>\n",
       "      <td>...</td>\n",
       "      <td>...</td>\n",
       "    </tr>\n",
       "    <tr>\n",
       "      <th>1805</th>\n",
       "      <td>ec1</td>\n",
       "      <td>Korean</td>\n",
       "      <td>4.0</td>\n",
       "    </tr>\n",
       "    <tr>\n",
       "      <th>1806</th>\n",
       "      <td>cq1</td>\n",
       "      <td>Spanish</td>\n",
       "      <td>4.0</td>\n",
       "    </tr>\n",
       "    <tr>\n",
       "      <th>1807</th>\n",
       "      <td>bv8</td>\n",
       "      <td>Chinese</td>\n",
       "      <td>4.0</td>\n",
       "    </tr>\n",
       "    <tr>\n",
       "      <th>1808</th>\n",
       "      <td>dr8</td>\n",
       "      <td>Korean</td>\n",
       "      <td>4.0</td>\n",
       "    </tr>\n",
       "    <tr>\n",
       "      <th>1809</th>\n",
       "      <td>bl3</td>\n",
       "      <td>Spanish</td>\n",
       "      <td>4.0</td>\n",
       "    </tr>\n",
       "  </tbody>\n",
       "</table>\n",
       "<p>1810 rows × 3 columns</p>\n",
       "</div>"
      ],
      "text/plain": [
       "     anon_id       L1  level_id\n",
       "0        aj8  Chinese       5.0\n",
       "1        az8  Chinese       5.0\n",
       "2        az2   Korean       5.0\n",
       "3        at8   Korean       5.0\n",
       "4        eh9   Korean       5.0\n",
       "...      ...      ...       ...\n",
       "1805     ec1   Korean       4.0\n",
       "1806     cq1  Spanish       4.0\n",
       "1807     bv8  Chinese       4.0\n",
       "1808     dr8   Korean       4.0\n",
       "1809     bl3  Spanish       4.0\n",
       "\n",
       "[1810 rows x 3 columns]"
      ]
     },
<<<<<<< HEAD
     "execution_count": 42,
=======
     "execution_count": 41,
>>>>>>> 683e27db4ebd5f4551e8f9969a8a7e967b99f573
     "metadata": {},
     "output_type": "execute_result"
    }
   ],
   "source": [
    "final_loose=dropped_loose.dropna()\n",
    "final_loose"
   ]
  },
  {
   "cell_type": "code",
<<<<<<< HEAD
   "execution_count": 43,
=======
   "execution_count": 42,
>>>>>>> 683e27db4ebd5f4551e8f9969a8a7e967b99f573
   "metadata": {},
   "outputs": [
    {
     "data": {
      "text/html": [
       "<div>\n",
       "<style scoped>\n",
       "    .dataframe tbody tr th:only-of-type {\n",
       "        vertical-align: middle;\n",
       "    }\n",
       "\n",
       "    .dataframe tbody tr th {\n",
       "        vertical-align: top;\n",
       "    }\n",
       "\n",
       "    .dataframe thead th {\n",
       "        text-align: right;\n",
       "    }\n",
       "</style>\n",
       "<table border=\"1\" class=\"dataframe\">\n",
       "  <thead>\n",
       "    <tr style=\"text-align: right;\">\n",
       "      <th></th>\n",
       "      <th>anon_id</th>\n",
       "      <th>n_anon_ids_loose</th>\n",
       "      <th>lvl_nums_loose</th>\n",
       "    </tr>\n",
       "  </thead>\n",
       "  <tbody>\n",
       "    <tr>\n",
       "      <th>0</th>\n",
       "      <td>aa0</td>\n",
       "      <td>1</td>\n",
       "      <td>[5.0]</td>\n",
       "    </tr>\n",
       "    <tr>\n",
       "      <th>1</th>\n",
       "      <td>aa3</td>\n",
       "      <td>1</td>\n",
       "      <td>[4.0]</td>\n",
       "    </tr>\n",
       "    <tr>\n",
       "      <th>2</th>\n",
       "      <td>aa8</td>\n",
       "      <td>2</td>\n",
       "      <td>[4.0, 5.0]</td>\n",
       "    </tr>\n",
       "    <tr>\n",
       "      <th>3</th>\n",
       "      <td>aa9</td>\n",
       "      <td>2</td>\n",
       "      <td>[3.0, 4.0]</td>\n",
       "    </tr>\n",
       "    <tr>\n",
       "      <th>4</th>\n",
       "      <td>ab6</td>\n",
       "      <td>1</td>\n",
       "      <td>[4.0]</td>\n",
       "    </tr>\n",
       "    <tr>\n",
       "      <th>...</th>\n",
       "      <td>...</td>\n",
       "      <td>...</td>\n",
       "      <td>...</td>\n",
       "    </tr>\n",
       "    <tr>\n",
       "      <th>278</th>\n",
       "      <td>gz2</td>\n",
       "      <td>2</td>\n",
       "      <td>[4.0, 5.0]</td>\n",
       "    </tr>\n",
       "    <tr>\n",
       "      <th>279</th>\n",
       "      <td>gz5</td>\n",
       "      <td>1</td>\n",
       "      <td>[4.0]</td>\n",
       "    </tr>\n",
       "    <tr>\n",
       "      <th>280</th>\n",
       "      <td>gz7</td>\n",
       "      <td>1</td>\n",
       "      <td>[4.0]</td>\n",
       "    </tr>\n",
       "    <tr>\n",
       "      <th>281</th>\n",
       "      <td>ha0</td>\n",
       "      <td>1</td>\n",
       "      <td>[5.0]</td>\n",
       "    </tr>\n",
       "    <tr>\n",
       "      <th>282</th>\n",
       "      <td>ha2</td>\n",
       "      <td>2</td>\n",
       "      <td>[4.0, 5.0]</td>\n",
       "    </tr>\n",
       "  </tbody>\n",
       "</table>\n",
       "<p>283 rows × 3 columns</p>\n",
       "</div>"
      ],
      "text/plain": [
       "    anon_id  n_anon_ids_loose lvl_nums_loose\n",
       "0       aa0                 1          [5.0]\n",
       "1       aa3                 1          [4.0]\n",
       "2       aa8                 2     [4.0, 5.0]\n",
       "3       aa9                 2     [3.0, 4.0]\n",
       "4       ab6                 1          [4.0]\n",
       "..      ...               ...            ...\n",
       "278     gz2                 2     [4.0, 5.0]\n",
       "279     gz5                 1          [4.0]\n",
       "280     gz7                 1          [4.0]\n",
       "281     ha0                 1          [5.0]\n",
       "282     ha2                 2     [4.0, 5.0]\n",
       "\n",
       "[283 rows x 3 columns]"
      ]
     },
<<<<<<< HEAD
     "execution_count": 43,
=======
     "execution_count": 42,
>>>>>>> 683e27db4ebd5f4551e8f9969a8a7e967b99f573
     "metadata": {},
     "output_type": "execute_result"
    }
   ],
   "source": [
    "# this code gets how many times an id appeared (n_anon_ids) as well as an array of what levels they participated in (lvl_nums)\n",
    "clean_ids_lvl_loose=final_loose.groupby('anon_id').agg(\n",
    "    n_anon_ids_loose=('level_id', 'nunique'),\n",
    "    lvl_nums_loose=('level_id', get_uniques)\n",
    ")\n",
    "\n",
    "#changes the clean_ids_lvl's index so we can access the anon_id easier\n",
    "ind_loose= clean_ids_lvl_loose.reset_index()\n",
    "ind_loose\n"
   ]
  },
  {
   "cell_type": "code",
<<<<<<< HEAD
   "execution_count": 44,
=======
   "execution_count": 43,
>>>>>>> 683e27db4ebd5f4551e8f9969a8a7e967b99f573
   "metadata": {},
   "outputs": [
    {
     "data": {
      "text/plain": [
       "8"
      ]
     },
<<<<<<< HEAD
     "execution_count": 44,
=======
     "execution_count": 43,
>>>>>>> 683e27db4ebd5f4551e8f9969a8a7e967b99f573
     "metadata": {},
     "output_type": "execute_result"
    }
   ],
   "source": [
    "# for loop that checks if lvl_nums has all three levels in it (3,4, and 5)\n",
    "# if there are three values in lvl_nums, the anon_id is appended to the all_three list\n",
    "ind=0\n",
    "all_three_loose=[]\n",
    "append=''\n",
    "for i in ind_loose.anon_id:\n",
    "    if ind_loose.iat[ind, 1]==3:\n",
    "        append=ind_loose.at[ind,'anon_id']\n",
    "        all_three_loose.append(append)\n",
    "    ind=ind+1\n",
    "\n",
    "len(all_three_loose)\n"
   ]
  },
  {
   "cell_type": "code",
<<<<<<< HEAD
   "execution_count": 45,
=======
   "execution_count": 54,
>>>>>>> 683e27db4ebd5f4551e8f9969a8a7e967b99f573
   "metadata": {},
   "outputs": [
    {
     "name": "stdout",
     "output_type": "stream",
     "text": [
      "['aa9', 'ah9', 'an5', 'ap5', 'ar8', 'ax7', 'be2', 'bf1', 'bl4', 'bp4', 'bv9', 'bz2', 'cf6', 'ch0', 'cm9', 'cs5', 'cw6', 'cy5', 'ex0', 'ey8', 'fa2', 'fc9', 'fe7', 'fn8', 'fv7', 'fy1', 'gd1', 'gv1']\n",
      "28\n"
     ]
    }
   ],
   "source": [
    "# creates list of participants in loose sheet that are in level 3 and 4\n",
    "ind=0\n",
    "in34_loose=[]\n",
    "append=''\n",
    "for i in ind_loose.anon_id:\n",
    "    if ind_loose.iat[ind, 1]==2:\n",
    "        if (3 in ind_loose.iat[ind,2] and 4 in ind_loose.iat[ind,2]):\n",
    "            append=ind_loose.at[ind,'anon_id']\n",
    "            in34_loose.append(append)\n",
    "    elif ind_loose.iat[ind,1]==3:\n",
    "        append=ind_loose.at[ind,'anon_id']\n",
    "        in34_loose.append(append)\n",
    "    ind=ind+1\n",
    "print(in34_loose)\n",
    "print(len(in34_loose))"
   ]
  },
  {
   "cell_type": "code",
<<<<<<< HEAD
   "execution_count": 46,
=======
   "execution_count": 53,
>>>>>>> 683e27db4ebd5f4551e8f9969a8a7e967b99f573
   "metadata": {},
   "outputs": [
    {
     "name": "stdout",
     "output_type": "stream",
     "text": [
      "['aa8', 'ac5', 'al5', 'an5', 'aq1', 'ar8', 'ar9', 'au5', 'au6', 'az8', 'bf2', 'bi4', 'bj2', 'bl4', 'bl7', 'bp4', 'bu4', 'bv9', 'bz2', 'cb3', 'cc4', 'ce3', 'cj5', 'cj8', 'co5', 'cv7', 'cw1', 'cz4', 'dc0', 'dc6', 'dd9', 'df4', 'dk0', 'dm8', 'dq9', 'dy7', 'ei8', 'eo8', 'et4', 'ev6', 'ev9', 'fa0', 'fa2', 'ff1', 'ff2', 'fg8', 'fj7', 'fk8', 'fp5', 'fu6', 'fx4', 'fx7', 'fy1', 'gb4', 'gf5', 'gm1', 'gq4', 'gq8', 'gu1', 'gz2', 'ha2']\n",
      "61\n"
     ]
    }
   ],
   "source": [
    "# creates list of participants in limited sheet that are in level 4 and 5\n",
    "ind=0\n",
    "in45_loose=[]\n",
    "append=''\n",
    "for i in ind_loose.anon_id:\n",
    "    if ind_loose.iat[ind, 1]==2:\n",
    "        if (4 in ind_loose.iat[ind,2] and 5 in ind_loose.iat[ind,2]):\n",
    "            append=ind_loose.at[ind,'anon_id']\n",
    "            in45_loose.append(append)\n",
    "    elif ind_loose.iat[ind,1]==3:\n",
    "        append=ind_loose.at[ind,'anon_id']\n",
    "        in45_loose.append(append)\n",
    "    ind=ind+1\n",
    "print(in45_loose)\n",
    "print(len(in45_loose))"
   ]
  },
  {
   "cell_type": "code",
<<<<<<< HEAD
   "execution_count": 47,
=======
   "execution_count": 52,
>>>>>>> 683e27db4ebd5f4551e8f9969a8a7e967b99f573
   "metadata": {},
   "outputs": [
    {
     "name": "stdout",
     "output_type": "stream",
     "text": [
      "['an5', 'ar8', 'be7', 'bl4', 'bp4', 'bv9', 'bz2', 'bz5', 'fa2', 'fy1']\n",
      "10\n"
     ]
    }
   ],
   "source": [
    "# creates list of participants in limited sheet that are in level 3 and 5\n",
    "ind=0\n",
    "in35_loose=[]\n",
    "append=''\n",
    "for i in ind_loose.anon_id:\n",
    "    if ind_loose.iat[ind, 1]==2:\n",
    "        if (3 in ind_loose.iat[ind,2] and 5 in ind_loose.iat[ind,2]):\n",
    "            append=ind_loose.at[ind,'anon_id']\n",
    "            in35_loose.append(append)\n",
    "    elif ind_loose.iat[ind,1]==3:\n",
    "        append=ind_loose.at[ind,'anon_id']\n",
    "        in35_loose.append(append)\n",
    "    ind=ind+1\n",
    "print(in35_loose)\n",
    "print(len(in35_loose))"
   ]
  },
  {
   "cell_type": "markdown",
   "metadata": {},
   "source": [
    "# Creating Sorted/Cleaned Dataframes for Binary Search"
   ]
  },
  {
   "cell_type": "code",
<<<<<<< HEAD
   "execution_count": 48,
=======
   "execution_count": 108,
>>>>>>> 683e27db4ebd5f4551e8f9969a8a7e967b99f573
   "metadata": {},
   "outputs": [
    {
     "data": {
      "text/html": [
       "<div>\n",
       "<style scoped>\n",
       "    .dataframe tbody tr th:only-of-type {\n",
       "        vertical-align: middle;\n",
       "    }\n",
       "\n",
       "    .dataframe tbody tr th {\n",
       "        vertical-align: top;\n",
       "    }\n",
       "\n",
       "    .dataframe thead th {\n",
       "        text-align: right;\n",
       "    }\n",
       "</style>\n",
       "<table border=\"1\" class=\"dataframe\">\n",
       "  <thead>\n",
       "    <tr style=\"text-align: right;\">\n",
       "      <th></th>\n",
       "      <th>anon_id</th>\n",
       "      <th>L1</th>\n",
       "    </tr>\n",
       "  </thead>\n",
       "  <tbody>\n",
       "    <tr>\n",
       "      <th>0</th>\n",
       "      <td>aa0</td>\n",
       "      <td>Spanish</td>\n",
       "    </tr>\n",
       "    <tr>\n",
       "      <th>1</th>\n",
       "      <td>aa0</td>\n",
       "      <td>Spanish</td>\n",
       "    </tr>\n",
       "    <tr>\n",
       "      <th>2</th>\n",
       "      <td>aa0</td>\n",
       "      <td>Spanish</td>\n",
       "    </tr>\n",
       "    <tr>\n",
       "      <th>3</th>\n",
       "      <td>aa0</td>\n",
       "      <td>Spanish</td>\n",
       "    </tr>\n",
       "    <tr>\n",
       "      <th>4</th>\n",
       "      <td>aa3</td>\n",
       "      <td>Chinese</td>\n",
       "    </tr>\n",
       "    <tr>\n",
       "      <th>...</th>\n",
       "      <td>...</td>\n",
       "      <td>...</td>\n",
       "    </tr>\n",
       "    <tr>\n",
       "      <th>1182</th>\n",
       "      <td>ha2</td>\n",
       "      <td>Korean</td>\n",
       "    </tr>\n",
       "    <tr>\n",
       "      <th>1183</th>\n",
       "      <td>ha2</td>\n",
       "      <td>Korean</td>\n",
       "    </tr>\n",
       "    <tr>\n",
       "      <th>1184</th>\n",
       "      <td>ha2</td>\n",
       "      <td>Korean</td>\n",
       "    </tr>\n",
       "    <tr>\n",
       "      <th>1185</th>\n",
       "      <td>ha2</td>\n",
       "      <td>Korean</td>\n",
       "    </tr>\n",
       "    <tr>\n",
       "      <th>1186</th>\n",
       "      <td>ha2</td>\n",
       "      <td>Korean</td>\n",
       "    </tr>\n",
       "  </tbody>\n",
       "</table>\n",
       "<p>1187 rows × 2 columns</p>\n",
       "</div>"
      ],
      "text/plain": [
       "     anon_id       L1\n",
       "0        aa0  Spanish\n",
       "1        aa0  Spanish\n",
       "2        aa0  Spanish\n",
       "3        aa0  Spanish\n",
       "4        aa3  Chinese\n",
       "...      ...      ...\n",
       "1182     ha2   Korean\n",
       "1183     ha2   Korean\n",
       "1184     ha2   Korean\n",
       "1185     ha2   Korean\n",
       "1186     ha2   Korean\n",
       "\n",
       "[1187 rows x 2 columns]"
      ]
     },
<<<<<<< HEAD
     "execution_count": 48,
=======
     "execution_count": 108,
>>>>>>> 683e27db4ebd5f4551e8f9969a8a7e967b99f573
     "metadata": {},
     "output_type": "execute_result"
    }
   ],
   "source": [
    "# df for limited\n",
    "lim=dropped_limited.drop(columns='level_id') #this gives us only the id and language columns\n",
    "\n",
    "sorted_lim=lim.sort_values(by=['anon_id']).reset_index(drop=True).dropna() #sorts the ids by alphabetical order\n",
    "sorted_lim "
   ]
  },
  {
   "cell_type": "code",
<<<<<<< HEAD
   "execution_count": 49,
=======
   "execution_count": 191,
>>>>>>> 683e27db4ebd5f4551e8f9969a8a7e967b99f573
   "metadata": {},
   "outputs": [],
   "source": [
    "#this is the basis for counting up the number of questions each participant completed\n",
    "sorted_lim[\"Number of Questions\"]=sorted_lim.anon_id.count()"
   ]
  },
  {
   "cell_type": "code",
<<<<<<< HEAD
   "execution_count": 50,
   "metadata": {},
   "outputs": [
    {
     "data": {
      "text/html": [
       "<div>\n",
       "<style scoped>\n",
       "    .dataframe tbody tr th:only-of-type {\n",
       "        vertical-align: middle;\n",
       "    }\n",
       "\n",
       "    .dataframe tbody tr th {\n",
       "        vertical-align: top;\n",
       "    }\n",
       "\n",
       "    .dataframe thead th {\n",
       "        text-align: right;\n",
       "    }\n",
       "</style>\n",
       "<table border=\"1\" class=\"dataframe\">\n",
       "  <thead>\n",
       "    <tr style=\"text-align: right;\">\n",
       "      <th></th>\n",
       "      <th>anon_id</th>\n",
       "      <th>L1</th>\n",
       "      <th>Number of Questions</th>\n",
       "    </tr>\n",
       "  </thead>\n",
       "  <tbody>\n",
       "    <tr>\n",
       "      <th>0</th>\n",
       "      <td>aa0</td>\n",
       "      <td>Spanish</td>\n",
       "      <td>4</td>\n",
       "    </tr>\n",
       "    <tr>\n",
       "      <th>1</th>\n",
       "      <td>aa3</td>\n",
       "      <td>Chinese</td>\n",
       "      <td>2</td>\n",
       "    </tr>\n",
       "    <tr>\n",
       "      <th>2</th>\n",
       "      <td>aa8</td>\n",
       "      <td>Korean</td>\n",
       "      <td>9</td>\n",
       "    </tr>\n",
       "    <tr>\n",
       "      <th>3</th>\n",
       "      <td>aa9</td>\n",
       "      <td>Korean</td>\n",
       "      <td>14</td>\n",
       "    </tr>\n",
       "    <tr>\n",
       "      <th>4</th>\n",
       "      <td>ab6</td>\n",
       "      <td>Chinese</td>\n",
       "      <td>2</td>\n",
       "    </tr>\n",
       "    <tr>\n",
       "      <th>...</th>\n",
       "      <td>...</td>\n",
       "      <td>...</td>\n",
       "      <td>...</td>\n",
       "    </tr>\n",
       "    <tr>\n",
       "      <th>258</th>\n",
       "      <td>gz2</td>\n",
       "      <td>Korean</td>\n",
       "      <td>8</td>\n",
       "    </tr>\n",
       "    <tr>\n",
       "      <th>259</th>\n",
       "      <td>gz5</td>\n",
       "      <td>Chinese</td>\n",
       "      <td>5</td>\n",
       "    </tr>\n",
       "    <tr>\n",
       "      <th>260</th>\n",
       "      <td>gz7</td>\n",
       "      <td>Korean</td>\n",
       "      <td>3</td>\n",
       "    </tr>\n",
       "    <tr>\n",
       "      <th>261</th>\n",
       "      <td>ha0</td>\n",
       "      <td>Korean</td>\n",
       "      <td>1</td>\n",
       "    </tr>\n",
       "    <tr>\n",
       "      <th>262</th>\n",
       "      <td>ha2</td>\n",
       "      <td>Korean</td>\n",
       "      <td>10</td>\n",
       "    </tr>\n",
       "  </tbody>\n",
       "</table>\n",
       "<p>263 rows × 3 columns</p>\n",
       "</div>"
      ],
      "text/plain": [
       "    anon_id       L1  Number of Questions\n",
       "0       aa0  Spanish                    4\n",
       "1       aa3  Chinese                    2\n",
       "2       aa8   Korean                    9\n",
       "3       aa9   Korean                   14\n",
       "4       ab6  Chinese                    2\n",
       "..      ...      ...                  ...\n",
       "258     gz2   Korean                    8\n",
       "259     gz5  Chinese                    5\n",
       "260     gz7   Korean                    3\n",
       "261     ha0   Korean                    1\n",
       "262     ha2   Korean                   10\n",
       "\n",
       "[263 rows x 3 columns]"
      ]
     },
     "execution_count": 50,
     "metadata": {},
     "output_type": "execute_result"
    }
   ],
=======
   "execution_count": null,
   "metadata": {},
   "outputs": [],
>>>>>>> 683e27db4ebd5f4551e8f9969a8a7e967b99f573
   "source": [
    "# this shows how many questions each participant answered. Used for reference when checking the anon_ids with the excel sheet\n",
    "#used to get the val2 for the dictionary\n",
    "test3=sorted_lim.groupby(['anon_id','L1'])['Number of Questions'].count()\n",
    "qcount_lim=test3.reset_index()\n",
    "qcount_lim"
   ]
  },
  {
   "cell_type": "code",
<<<<<<< HEAD
   "execution_count": 51,
=======
   "execution_count": 179,
>>>>>>> 683e27db4ebd5f4551e8f9969a8a7e967b99f573
   "metadata": {},
   "outputs": [
    {
     "data": {
      "text/plain": [
       "1187"
      ]
     },
<<<<<<< HEAD
     "execution_count": 51,
=======
     "execution_count": 179,
>>>>>>> 683e27db4ebd5f4551e8f9969a8a7e967b99f573
     "metadata": {},
     "output_type": "execute_result"
    }
   ],
   "source": [
    "# gathers anon_ids of limited to use in the binary search as the index\n",
    "anon_lim=[]\n",
    "for i in sorted_lim.anon_id:\n",
    "    anon_lim.append(i)\n",
    "len(anon_lim)"
   ]
  },
  {
   "cell_type": "code",
<<<<<<< HEAD
   "execution_count": 52,
=======
   "execution_count": 183,
>>>>>>> 683e27db4ebd5f4551e8f9969a8a7e967b99f573
   "metadata": {},
   "outputs": [
    {
     "data": {
      "text/plain": [
       "263"
      ]
     },
<<<<<<< HEAD
     "execution_count": 52,
=======
     "execution_count": 183,
>>>>>>> 683e27db4ebd5f4551e8f9969a8a7e967b99f573
     "metadata": {},
     "output_type": "execute_result"
    }
   ],
   "source": [
    "# gathers unique ids to use for val2 in dictionary\n",
    "uanon_lim=[]\n",
    "index=0\n",
    "for i in anon_lim:\n",
    "    if anon_lim[index] not in uanon_lim:\n",
    "        uanon_lim.append(anon_lim[index])\n",
    "    index=index+1\n",
    "len(uanon_lim)"
   ]
  },
  {
   "cell_type": "code",
<<<<<<< HEAD
   "execution_count": 53,
=======
   "execution_count": 110,
>>>>>>> 683e27db4ebd5f4551e8f9969a8a7e967b99f573
   "metadata": {},
   "outputs": [
    {
     "data": {
      "text/html": [
       "<div>\n",
       "<style scoped>\n",
       "    .dataframe tbody tr th:only-of-type {\n",
       "        vertical-align: middle;\n",
       "    }\n",
       "\n",
       "    .dataframe tbody tr th {\n",
       "        vertical-align: top;\n",
       "    }\n",
       "\n",
       "    .dataframe thead th {\n",
       "        text-align: right;\n",
       "    }\n",
       "</style>\n",
       "<table border=\"1\" class=\"dataframe\">\n",
       "  <thead>\n",
       "    <tr style=\"text-align: right;\">\n",
       "      <th></th>\n",
       "      <th>anon_id</th>\n",
       "      <th>L1</th>\n",
       "    </tr>\n",
       "  </thead>\n",
       "  <tbody>\n",
       "    <tr>\n",
       "      <th>0</th>\n",
       "      <td>aa0</td>\n",
       "      <td>Spanish</td>\n",
       "    </tr>\n",
       "    <tr>\n",
       "      <th>1</th>\n",
       "      <td>aa0</td>\n",
       "      <td>Spanish</td>\n",
       "    </tr>\n",
       "    <tr>\n",
       "      <th>2</th>\n",
       "      <td>aa0</td>\n",
       "      <td>Spanish</td>\n",
       "    </tr>\n",
       "    <tr>\n",
       "      <th>3</th>\n",
       "      <td>aa0</td>\n",
       "      <td>Spanish</td>\n",
       "    </tr>\n",
       "    <tr>\n",
       "      <th>4</th>\n",
       "      <td>aa0</td>\n",
       "      <td>Spanish</td>\n",
       "    </tr>\n",
       "    <tr>\n",
       "      <th>...</th>\n",
       "      <td>...</td>\n",
       "      <td>...</td>\n",
       "    </tr>\n",
       "    <tr>\n",
       "      <th>1805</th>\n",
       "      <td>ha2</td>\n",
       "      <td>Korean</td>\n",
       "    </tr>\n",
       "    <tr>\n",
       "      <th>1806</th>\n",
       "      <td>ha2</td>\n",
       "      <td>Korean</td>\n",
       "    </tr>\n",
       "    <tr>\n",
       "      <th>1807</th>\n",
       "      <td>ha2</td>\n",
       "      <td>Korean</td>\n",
       "    </tr>\n",
       "    <tr>\n",
       "      <th>1808</th>\n",
       "      <td>ha2</td>\n",
       "      <td>Korean</td>\n",
       "    </tr>\n",
       "    <tr>\n",
       "      <th>1809</th>\n",
       "      <td>ha2</td>\n",
       "      <td>Korean</td>\n",
       "    </tr>\n",
       "  </tbody>\n",
       "</table>\n",
       "<p>1810 rows × 2 columns</p>\n",
       "</div>"
      ],
      "text/plain": [
       "     anon_id       L1\n",
       "0        aa0  Spanish\n",
       "1        aa0  Spanish\n",
       "2        aa0  Spanish\n",
       "3        aa0  Spanish\n",
       "4        aa0  Spanish\n",
       "...      ...      ...\n",
       "1805     ha2   Korean\n",
       "1806     ha2   Korean\n",
       "1807     ha2   Korean\n",
       "1808     ha2   Korean\n",
       "1809     ha2   Korean\n",
       "\n",
       "[1810 rows x 2 columns]"
      ]
     },
<<<<<<< HEAD
     "execution_count": 53,
=======
     "execution_count": 110,
>>>>>>> 683e27db4ebd5f4551e8f9969a8a7e967b99f573
     "metadata": {},
     "output_type": "execute_result"
    }
   ],
   "source": [
    "# df for loose\n",
    "newloose=dropped_loose.drop(columns='level_id') #this gives us only the id and language columns\n",
    "\n",
    "sorted_loose=newloose.sort_values(by=['anon_id']).reset_index(drop=True).dropna() #sorts the ids by alphabetical order\n",
    "sorted_loose"
   ]
  },
  {
   "cell_type": "code",
<<<<<<< HEAD
   "execution_count": 54,
=======
   "execution_count": 192,
>>>>>>> 683e27db4ebd5f4551e8f9969a8a7e967b99f573
   "metadata": {},
   "outputs": [],
   "source": [
    "sorted_loose[\"Number of Questions\"]=sorted_lim.anon_id.count()"
   ]
  },
  {
   "cell_type": "code",
<<<<<<< HEAD
   "execution_count": 55,
=======
   "execution_count": 193,
>>>>>>> 683e27db4ebd5f4551e8f9969a8a7e967b99f573
   "metadata": {},
   "outputs": [
    {
     "data": {
      "text/html": [
       "<div>\n",
       "<style scoped>\n",
       "    .dataframe tbody tr th:only-of-type {\n",
       "        vertical-align: middle;\n",
       "    }\n",
       "\n",
       "    .dataframe tbody tr th {\n",
       "        vertical-align: top;\n",
       "    }\n",
       "\n",
       "    .dataframe thead th {\n",
       "        text-align: right;\n",
       "    }\n",
       "</style>\n",
       "<table border=\"1\" class=\"dataframe\">\n",
       "  <thead>\n",
       "    <tr style=\"text-align: right;\">\n",
       "      <th></th>\n",
       "      <th>anon_id</th>\n",
       "      <th>L1</th>\n",
       "      <th>Number of Questions</th>\n",
       "    </tr>\n",
       "  </thead>\n",
       "  <tbody>\n",
       "    <tr>\n",
       "      <th>0</th>\n",
       "      <td>aa0</td>\n",
       "      <td>Spanish</td>\n",
       "      <td>8</td>\n",
       "    </tr>\n",
       "    <tr>\n",
       "      <th>1</th>\n",
       "      <td>aa3</td>\n",
       "      <td>Chinese</td>\n",
       "      <td>2</td>\n",
       "    </tr>\n",
       "    <tr>\n",
       "      <th>2</th>\n",
       "      <td>aa8</td>\n",
       "      <td>Korean</td>\n",
       "      <td>13</td>\n",
       "    </tr>\n",
       "    <tr>\n",
       "      <th>3</th>\n",
       "      <td>aa9</td>\n",
       "      <td>Korean</td>\n",
       "      <td>18</td>\n",
       "    </tr>\n",
       "    <tr>\n",
       "      <th>4</th>\n",
       "      <td>ab6</td>\n",
       "      <td>Chinese</td>\n",
       "      <td>2</td>\n",
       "    </tr>\n",
       "    <tr>\n",
       "      <th>...</th>\n",
       "      <td>...</td>\n",
       "      <td>...</td>\n",
       "      <td>...</td>\n",
       "    </tr>\n",
       "    <tr>\n",
       "      <th>278</th>\n",
       "      <td>gz2</td>\n",
       "      <td>Korean</td>\n",
       "      <td>8</td>\n",
       "    </tr>\n",
       "    <tr>\n",
       "      <th>279</th>\n",
       "      <td>gz5</td>\n",
       "      <td>Chinese</td>\n",
       "      <td>6</td>\n",
       "    </tr>\n",
       "    <tr>\n",
       "      <th>280</th>\n",
       "      <td>gz7</td>\n",
       "      <td>Korean</td>\n",
       "      <td>5</td>\n",
       "    </tr>\n",
       "    <tr>\n",
       "      <th>281</th>\n",
       "      <td>ha0</td>\n",
       "      <td>Korean</td>\n",
       "      <td>3</td>\n",
       "    </tr>\n",
       "    <tr>\n",
       "      <th>282</th>\n",
       "      <td>ha2</td>\n",
       "      <td>Korean</td>\n",
       "      <td>19</td>\n",
       "    </tr>\n",
       "  </tbody>\n",
       "</table>\n",
       "<p>283 rows × 3 columns</p>\n",
       "</div>"
      ],
      "text/plain": [
       "    anon_id       L1  Number of Questions\n",
       "0       aa0  Spanish                    8\n",
       "1       aa3  Chinese                    2\n",
       "2       aa8   Korean                   13\n",
       "3       aa9   Korean                   18\n",
       "4       ab6  Chinese                    2\n",
       "..      ...      ...                  ...\n",
       "278     gz2   Korean                    8\n",
       "279     gz5  Chinese                    6\n",
       "280     gz7   Korean                    5\n",
       "281     ha0   Korean                    3\n",
       "282     ha2   Korean                   19\n",
       "\n",
       "[283 rows x 3 columns]"
      ]
     },
<<<<<<< HEAD
     "execution_count": 55,
=======
     "execution_count": 193,
>>>>>>> 683e27db4ebd5f4551e8f9969a8a7e967b99f573
     "metadata": {},
     "output_type": "execute_result"
    }
   ],
   "source": [
    "# this shows how many questions each participant answered. Used for reference when checking the anon_ids with the excel sheet\n",
    "#used to get the val2 for the dictionary\n",
    "test4=sorted_loose.groupby(['anon_id','L1'])['Number of Questions'].count()\n",
    "qcount_loose=test4.reset_index()\n",
    "qcount_loose"
   ]
  },
  {
   "cell_type": "code",
<<<<<<< HEAD
   "execution_count": 56,
=======
   "execution_count": 111,
>>>>>>> 683e27db4ebd5f4551e8f9969a8a7e967b99f573
   "metadata": {},
   "outputs": [
    {
     "data": {
      "text/plain": [
       "1810"
      ]
     },
<<<<<<< HEAD
     "execution_count": 56,
=======
     "execution_count": 111,
>>>>>>> 683e27db4ebd5f4551e8f9969a8a7e967b99f573
     "metadata": {},
     "output_type": "execute_result"
    }
   ],
   "source": [
    "# gathers anon_ids of limited to use in the binary search as the index\n",
    "anon_loose=[]\n",
    "for i in sorted_loose.anon_id:\n",
    "    anon_loose.append(i)\n",
    "len(anon_loose)"
   ]
  },
  {
   "cell_type": "code",
<<<<<<< HEAD
   "execution_count": 57,
=======
   "execution_count": 195,
>>>>>>> 683e27db4ebd5f4551e8f9969a8a7e967b99f573
   "metadata": {},
   "outputs": [
    {
     "data": {
      "text/plain": [
       "283"
      ]
     },
<<<<<<< HEAD
     "execution_count": 57,
=======
     "execution_count": 195,
>>>>>>> 683e27db4ebd5f4551e8f9969a8a7e967b99f573
     "metadata": {},
     "output_type": "execute_result"
    }
   ],
   "source": [
    "# gets unique ids\n",
    "uanon_loose=[]\n",
    "index=0\n",
    "for i in anon_loose:\n",
    "    if anon_loose[index] not in uanon_loose:\n",
    "        uanon_loose.append(anon_loose[index])\n",
    "    index=index+1\n",
    "len(uanon_loose)"
   ]
  },
  {
   "cell_type": "markdown",
   "metadata": {},
   "source": [
    "# Creating Dictionaries for Limited and Loose participant id lists"
   ]
  },
  {
   "cell_type": "code",
<<<<<<< HEAD
   "execution_count": 58,
=======
   "execution_count": 205,
>>>>>>> 683e27db4ebd5f4551e8f9969a8a7e967b99f573
   "metadata": {},
   "outputs": [
    {
     "name": "stdout",
     "output_type": "stream",
     "text": [
      "{'aa9': ['Korean', 14], 'ah9': ['Korean', 5], 'ax7': ['Chinese', 4], 'be2': ['Korean', 5], 'bf1': ['Korean', 4], 'bl4': ['Chinese', 5], 'bp4': ['Chinese', 6], 'bv9': ['Korean', 10], 'cm9': ['Spanish', 6], 'cs5': ['Chinese', 5], 'cy5': ['Korean', 6], 'ex0': ['Korean', 10], 'ey8': ['Chinese', 4], 'fa2': ['Spanish', 9], 'fc9': ['Korean', 3], 'fe7': ['Spanish', 6], 'fn8': ['Chinese', 8], 'fv7': ['Korean', 18], 'fy1': ['Spanish', 7], 'gv1': ['Korean', 16]}\n"
     ]
    }
   ],
   "source": [
    "# gathers anon_ids and their native language for LIMITED LEVELS 3 AND 4\n",
    "\n",
    "lang_dict_in34lim={} #creates a dictionary where we can store the anon_id as the key and the language as the definition\n",
    "for i in in34_lim:\n",
    "    df_index=binarySearchArr(anon_lim,i) #utilizing binary search \n",
    "    qindex=binarySearchArr(uanon_lim, i)\n",
    "    \n",
    "    key=sorted_lim.at[df_index,'anon_id'] #adding the anon_id as a key\n",
    "    val=sorted_lim.at[df_index,'L1'] #adding the language as the definition of that anon_ids\n",
    "    val2=qcount_lim.at[qindex,'Number of Questions']\n",
    "    \n",
    "    if key not in lang_dict_in34lim.keys():#to account for duplicate entires. if the anon_id is not already a key, it will be added\n",
    "        lang_dict_in34lim.update({key: [val,val2] })\n",
    "print(lang_dict_in34lim)\n",
    "\n"
   ]
  },
  {
   "cell_type": "code",
<<<<<<< HEAD
   "execution_count": 59,
=======
   "execution_count": 206,
>>>>>>> 683e27db4ebd5f4551e8f9969a8a7e967b99f573
   "metadata": {},
   "outputs": [
    {
     "name": "stdout",
     "output_type": "stream",
     "text": [
      "{'ac5': ['Korean', 7], 'al5': ['Korean', 8], 'an5': ['Korean', 8], 'ar8': ['Chinese', 6], 'ar9': ['Chinese', 4], 'au5': ['Korean', 7], 'az8': ['Chinese', 16], 'bf2': ['Chinese', 7], 'bi4': ['Spanish', 11], 'bj2': ['Spanish', 5], 'bl4': ['Chinese', 5], 'bl7': ['Chinese', 8], 'bp4': ['Chinese', 6], 'bu4': ['Korean', 12], 'cb3': ['Chinese', 6], 'cc4': ['Korean', 10], 'ce3': ['Korean', 4], 'cj5': ['Chinese', 5], 'cj8': ['Korean', 8], 'co5': ['Korean', 8], 'cv7': ['Spanish', 5], 'cw1': ['Korean', 5], 'cz4': ['Chinese', 7], 'dc0': ['Chinese', 5], 'dd9': ['Korean', 13], 'df4': ['Spanish', 13], 'dk0': ['Spanish', 5], 'dq9': ['Chinese', 14], 'dy7': ['Korean', 12], 'ei8': ['Chinese', 11], 'eo8': ['Spanish', 5], 'et4': ['Chinese', 12], 'ev6': ['Chinese', 2], 'ev9': ['Chinese', 9], 'ff1': ['Korean', 5], 'fg8': ['Chinese', 5], 'fj7': ['Korean', 5], 'fk8': ['Chinese', 8], 'fu6': ['Korean', 6], 'fx4': ['Korean', 8], 'fx7': ['Spanish', 9], 'fy1': ['Spanish', 7], 'gf5': ['Chinese', 6], 'gm1': ['Chinese', 10], 'gq4': ['Spanish', 4], 'gq8': ['Korean', 4], 'gu1': ['Spanish', 3], 'gz2': ['Korean', 8], 'ha2': ['Korean', 10]}\n"
     ]
    }
   ],
   "source": [
    "# gathers anon_ids and their native language for LIMITED LEVELS 4 AND 5\n",
    "count=0\n",
    "lang_dict_in45lim={} #creates a dictionary where we can store the anon_id as the key and the language as the definition\n",
    "for i in in45_lim:\n",
    "    df_index=binarySearchArr(anon_lim,i) #utilizing binary search \n",
    "    qindex=binarySearchArr(uanon_lim, i)\n",
    "\n",
    "    \n",
    "    key=sorted_lim.at[df_index,'anon_id'] #adding the anon_id as a key\n",
    "    val=sorted_lim.at[df_index,'L1'] #adding the language as the definition of that anon_ids\n",
    "    val2=qcount_lim.at[qindex,'Number of Questions']\n",
    "\n",
    "    if key not in lang_dict_in45lim.keys():#to account for duplicate entires. if the anon_id is not already a key, it will be added\n",
    "        lang_dict_in45lim.update({key: [val,val2]})\n",
    "print(lang_dict_in45lim)\n"
   ]
  },
  {
   "cell_type": "code",
<<<<<<< HEAD
   "execution_count": 60,
=======
   "execution_count": 207,
>>>>>>> 683e27db4ebd5f4551e8f9969a8a7e967b99f573
   "metadata": {},
   "outputs": [
    {
     "name": "stdout",
     "output_type": "stream",
     "text": [
      "49\n"
     ]
    }
   ],
   "source": [
    "print(len(lang_dict_in45lim))"
   ]
  },
  {
   "cell_type": "code",
<<<<<<< HEAD
   "execution_count": 61,
=======
   "execution_count": 121,
>>>>>>> 683e27db4ebd5f4551e8f9969a8a7e967b99f573
   "metadata": {},
   "outputs": [
    {
     "name": "stdout",
     "output_type": "stream",
     "text": [
<<<<<<< HEAD
      "{'be7': 'Korean', 'bl4': 'Chinese', 'bp4': 'Chinese', 'bz2': 'Chinese', 'fy1': 'Spanish'}\n"
=======
      "{'be7': 'Korean', 'bl4': 'Chinese', 'bp4': 'Chinese', 'bz2': 'Chinese', 'fy1': 'Spanish'}\n",
      "5 5\n"
>>>>>>> 683e27db4ebd5f4551e8f9969a8a7e967b99f573
     ]
    }
   ],
   "source": [
    "# gathers anon_ids and their native language for LIMITED LEVELS 3 AND 5\n",
    "count=0\n",
    "lang_dict_in35lim={} #creates a dictionary where we can store the anon_id as the key and the language as the definition\n",
    "for i in in35_lim:\n",
    "    df_index=binarySearchArr(anon_lim,i) #utilizing binary search \n",
    "    qindex=binarySearchArr(uanon_lim, i)\n",
    "\n",
    "    \n",
    "    key=sorted_lim.at[df_index,'anon_id'] #adding the anon_id as a key\n",
    "    val=sorted_lim.at[df_index,'L1'] #adding the language as the definition of that anon_ids\n",
    "    val2=qcount_lim.at[qindex,'Number of Questions']\n",
    "\n",
    "    \n",
    "    if key not in lang_dict_in35lim.keys():#to account for duplicate entires. if the anon_id is not already a key, it will be added\n",
    "        lang_dict_in35lim.update({key: val})\n",
    "print(lang_dict_in35lim)"
   ]
  },
  {
   "cell_type": "code",
<<<<<<< HEAD
   "execution_count": 62,
=======
   "execution_count": 208,
>>>>>>> 683e27db4ebd5f4551e8f9969a8a7e967b99f573
   "metadata": {},
   "outputs": [
    {
     "name": "stdout",
     "output_type": "stream",
     "text": [
      "{'aa9': ['Korean', 18], 'ah9': ['Korean', 6], 'an5': ['Korean', 12], 'ap5': ['Chinese', 3], 'ar8': ['Chinese', 13], 'ax7': ['Chinese', 4], 'be2': ['Korean', 6], 'bf1': ['Korean', 4], 'bl4': ['Chinese', 5], 'bp4': ['Chinese', 6], 'bv9': ['Korean', 14], 'bz2': ['Chinese', 10], 'cf6': ['Korean', 3], 'ch0': ['Spanish', 8], 'cm9': ['Spanish', 6], 'cs5': ['Chinese', 8], 'cw6': ['Korean', 6], 'cy5': ['Korean', 8], 'ex0': ['Korean', 12], 'ey8': ['Chinese', 4], 'fa2': ['Spanish', 13], 'fc9': ['Korean', 3], 'fe7': ['Spanish', 7], 'fn8': ['Chinese', 11], 'fv7': ['Korean', 25], 'fy1': ['Spanish', 10], 'gd1': ['Korean', 5], 'gv1': ['Korean', 24]}\n"
     ]
    }
   ],
   "source": [
    "# gathers anon_ids and their native language - LOOSE 3 AND 4\n",
    "count=0\n",
    "lang_dict_in34loose={} #creates a dictionary where we can store the anon_id as the key and the language as the definition\n",
    "for i in in34_loose:\n",
    "    df_index=binarySearchArr(anon_loose,i) #utilizing binary search \n",
    "    qindex=binarySearchArr(uanon_loose, i)\n",
    "\n",
    "    \n",
    "    key=sorted_loose.at[df_index,'anon_id'] #adding the anon_id as a key\n",
    "    val=sorted_loose.at[df_index,'L1'] #adding the language as the definition of that anon_ids\n",
    "    val2=qcount_loose.at[qindex,'Number of Questions']\n",
    "    \n",
    "    \n",
    "    if key not in lang_dict_in34loose.keys():#to account for duplicate entires. if the anon_id is not already a key, it will be added\n",
    "        lang_dict_in34loose.update({key: [val, val2]})\n",
    "        \n",
    "        \n",
    "print(lang_dict_in34loose)"
   ]
  },
  {
   "cell_type": "code",
<<<<<<< HEAD
   "execution_count": 63,
=======
   "execution_count": 209,
>>>>>>> 683e27db4ebd5f4551e8f9969a8a7e967b99f573
   "metadata": {},
   "outputs": [
    {
     "data": {
      "text/plain": [
       "28"
      ]
     },
<<<<<<< HEAD
     "execution_count": 63,
=======
     "execution_count": 209,
>>>>>>> 683e27db4ebd5f4551e8f9969a8a7e967b99f573
     "metadata": {},
     "output_type": "execute_result"
    }
   ],
   "source": [
    "len(lang_dict_in34loose)"
   ]
  },
  {
   "cell_type": "code",
<<<<<<< HEAD
   "execution_count": 64,
=======
   "execution_count": 210,
>>>>>>> 683e27db4ebd5f4551e8f9969a8a7e967b99f573
   "metadata": {},
   "outputs": [
    {
     "name": "stdout",
     "output_type": "stream",
     "text": [
      "{'aa8': 'Korean', 'ac5': 'Korean', 'al5': 'Korean', 'an5': 'Korean', 'aq1': 'Chinese', 'ar8': 'Chinese', 'ar9': 'Chinese', 'au5': 'Korean', 'au6': 'Korean', 'az8': 'Chinese', 'bf2': 'Chinese', 'bi4': 'Spanish', 'bj2': 'Spanish', 'bl4': 'Chinese', 'bl7': 'Chinese', 'bp4': 'Chinese', 'bu4': 'Korean', 'bv9': 'Korean', 'bz2': 'Chinese', 'cb3': 'Chinese', 'cc4': 'Korean', 'ce3': 'Korean', 'cj5': 'Chinese', 'cj8': 'Korean', 'co5': 'Korean', 'cv7': 'Spanish', 'cw1': 'Korean', 'cz4': 'Chinese', 'dc0': 'Chinese', 'dc6': 'Spanish', 'dd9': 'Korean', 'df4': 'Spanish', 'dk0': 'Spanish', 'dm8': 'Chinese', 'dq9': 'Chinese', 'dy7': 'Korean', 'ei8': 'Chinese', 'eo8': 'Spanish', 'et4': 'Chinese', 'ev6': 'Chinese', 'ev9': 'Chinese', 'fa0': 'Korean', 'fa2': 'Spanish', 'ff1': 'Korean', 'ff2': 'Chinese', 'fg8': 'Chinese', 'fj7': 'Korean', 'fk8': 'Chinese', 'fp5': 'Korean', 'fu6': 'Korean', 'fx4': 'Korean', 'fx7': 'Spanish', 'fy1': 'Spanish', 'gb4': 'Chinese', 'gf5': 'Chinese', 'gm1': 'Chinese', 'gq4': 'Spanish', 'gq8': 'Korean', 'gu1': 'Spanish', 'gz2': 'Korean', 'ha2': 'Korean'}\n"
     ]
    }
   ],
   "source": [
    "# gathers anon_ids and their native language - LOOSE 4 AND 5\n",
    "count=0\n",
    "lang_dict_in45loose={} #creates a dictionary where we can store the anon_id as the key and the language as the definition\n",
    "for i in in45_loose:\n",
    "    df_index=binarySearchArr(anon_loose,i) #utilizing binary search \n",
    "    qindex=binarySearchArr(uanon_loose, i)\n",
    "    \n",
    "    \n",
    "    key=sorted_loose.at[df_index,'anon_id'] #adding the anon_id as a key\n",
    "    val=sorted_loose.at[df_index,'L1'] #adding the language as the definition of that anon_ids\n",
    "    val2=qcount_loose.at[qindex,'Number of Questions']\n",
    "\n",
    "    \n",
    "    if key not in lang_dict_in45loose.keys():#to account for duplicate entires. if the anon_id is not already a key, it will be added\n",
    "        lang_dict_in45loose.update({key: val})\n",
    "print(lang_dict_in45loose)\n"
   ]
  },
  {
   "cell_type": "code",
<<<<<<< HEAD
   "execution_count": 65,
=======
   "execution_count": 118,
>>>>>>> 683e27db4ebd5f4551e8f9969a8a7e967b99f573
   "metadata": {},
   "outputs": [
    {
     "name": "stdout",
     "output_type": "stream",
     "text": [
      "{'an5': 'Korean', 'ar8': 'Chinese', 'be7': 'Korean', 'bl4': 'Chinese', 'bp4': 'Chinese', 'bv9': 'Korean', 'bz2': 'Chinese', 'bz5': 'Korean', 'fa2': 'Spanish', 'fy1': 'Spanish'}\n"
     ]
    }
   ],
   "source": [
    "# gathers anon_ids and their native language - LOOSE 3 AND 5\n",
    "count=0\n",
    "lang_dict_in35loose={} #creates a dictionary where we can store the anon_id as the key and the language as the definition\n",
    "for i in in35_loose:\n",
    "    df_index=binarySearchArr(anon_loose,i) #utilizing binary search \n",
    "    key=sorted_loose.at[df_index,'anon_id'] #adding the anon_id as a key\n",
    "    val=sorted_loose.at[df_index,'L1'] #adding the language as the definition of that anon_ids\n",
    "    if key not in lang_dict_in35loose.keys():#to account for duplicate entires. if the anon_id is not already a key, it will be added\n",
    "        lang_dict_in35loose.update({key: val})\n",
    "print(lang_dict_in35loose)"
   ]
  },
  {
   "cell_type": "markdown",
   "metadata": {},
   "source": [
    "# Relevant Ids for all sheets"
   ]
  },
  {
   "cell_type": "code",
<<<<<<< HEAD
   "execution_count": 66,
=======
   "execution_count": 44,
>>>>>>> 683e27db4ebd5f4551e8f9969a8a7e967b99f573
   "metadata": {},
   "outputs": [
    {
     "name": "stdout",
     "output_type": "stream",
     "text": [
      "['an5', 'ar8', 'bl4', 'bp4', 'bv9', 'bz2', 'fa2', 'fy1']\n"
     ]
    }
   ],
   "source": [
    "print(all_three_loose)"
   ]
  },
  {
   "cell_type": "code",
<<<<<<< HEAD
   "execution_count": 67,
=======
   "execution_count": 45,
>>>>>>> 683e27db4ebd5f4551e8f9969a8a7e967b99f573
   "metadata": {},
   "outputs": [
    {
     "name": "stdout",
     "output_type": "stream",
     "text": [
      "['bl4', 'bp4', 'fy1']\n"
     ]
    }
   ],
   "source": [
    "print(all_three_lim)"
   ]
  },
  {
   "cell_type": "code",
<<<<<<< HEAD
   "execution_count": 68,
=======
   "execution_count": 46,
>>>>>>> 683e27db4ebd5f4551e8f9969a8a7e967b99f573
   "metadata": {},
   "outputs": [
    {
     "name": "stdout",
     "output_type": "stream",
     "text": [
      "['an5', 'ar8', 'bv9', 'bz2']\n"
     ]
    }
   ],
   "source": [
    "print(all_three)"
   ]
  },
  {
   "cell_type": "markdown",
   "metadata": {},
   "source": [
    "# Data Visualizations"
   ]
  },
  {
   "cell_type": "code",
<<<<<<< HEAD
   "execution_count": 69,
=======
   "execution_count": 48,
>>>>>>> 683e27db4ebd5f4551e8f9969a8a7e967b99f573
   "metadata": {},
   "outputs": [
    {
     "data": {
      "text/html": [
       "<div>\n",
       "<style scoped>\n",
       "    .dataframe tbody tr th:only-of-type {\n",
       "        vertical-align: middle;\n",
       "    }\n",
       "\n",
       "    .dataframe tbody tr th {\n",
       "        vertical-align: top;\n",
       "    }\n",
       "\n",
       "    .dataframe thead th {\n",
       "        text-align: right;\n",
       "    }\n",
       "</style>\n",
       "<table border=\"1\" class=\"dataframe\">\n",
       "  <thead>\n",
       "    <tr style=\"text-align: right;\">\n",
       "      <th></th>\n",
       "      <th>3Langs</th>\n",
       "      <th>Item</th>\n",
       "      <th>answer_id</th>\n",
       "      <th>anon_id</th>\n",
       "      <th>L1</th>\n",
       "      <th>gender</th>\n",
       "      <th>course_id</th>\n",
       "      <th>level_id</th>\n",
       "      <th>class_id</th>\n",
       "      <th>question_id</th>\n",
       "      <th>version</th>\n",
       "      <th>text1_len</th>\n",
       "      <th>text2_len</th>\n",
       "      <th>text3_len</th>\n",
       "      <th>text1</th>\n",
       "      <th>text2 (line breaks/extra spaces removed, spaces added to reach 60)</th>\n",
       "      <th>text3 (edits made to fix word counts)</th>\n",
       "      <th>Judgement</th>\n",
       "      <th>Notes</th>\n",
       "    </tr>\n",
       "  </thead>\n",
       "  <tbody>\n",
       "    <tr>\n",
       "      <th>0</th>\n",
       "      <td>Y</td>\n",
       "      <td>C79</td>\n",
       "      <td>985</td>\n",
       "      <td>az8</td>\n",
       "      <td>Chinese</td>\n",
       "      <td>Female</td>\n",
       "      <td>154</td>\n",
       "      <td>5</td>\n",
       "      <td>g</td>\n",
       "      <td>95</td>\n",
       "      <td>1</td>\n",
       "      <td>183</td>\n",
       "      <td>179</td>\n",
       "      <td>179</td>\n",
       "      <td>\\nMy major was in the food science and nutriti...</td>\n",
       "      <td>My major was in the food science and nutrition...</td>\n",
       "      <td>My major was in the food science and nutrition...</td>\n",
       "      <td>3</td>\n",
       "      <td>NaN</td>\n",
       "    </tr>\n",
       "    <tr>\n",
       "      <th>1</th>\n",
       "      <td>Y</td>\n",
       "      <td>K98</td>\n",
       "      <td>958</td>\n",
       "      <td>az2</td>\n",
       "      <td>Korean</td>\n",
       "      <td>Male</td>\n",
       "      <td>154</td>\n",
       "      <td>5</td>\n",
       "      <td>g</td>\n",
       "      <td>95</td>\n",
       "      <td>1</td>\n",
       "      <td>105</td>\n",
       "      <td>104</td>\n",
       "      <td>104</td>\n",
       "      <td>When I was elementary school student, I liked ...</td>\n",
       "      <td>When I was elementary school student, I liked ...</td>\n",
       "      <td>When I was elementary school student, I liked ...</td>\n",
       "      <td>3</td>\n",
       "      <td>NaN</td>\n",
       "    </tr>\n",
       "    <tr>\n",
       "      <th>2</th>\n",
       "      <td>Y</td>\n",
       "      <td>S6</td>\n",
       "      <td>999</td>\n",
       "      <td>ea7</td>\n",
       "      <td>Spanish</td>\n",
       "      <td>Female</td>\n",
       "      <td>154</td>\n",
       "      <td>5</td>\n",
       "      <td>g</td>\n",
       "      <td>95</td>\n",
       "      <td>1</td>\n",
       "      <td>152</td>\n",
       "      <td>149</td>\n",
       "      <td>151</td>\n",
       "      <td>About one year ago, I made a big decision. I g...</td>\n",
       "      <td>About one year ago, I made a big decision. I g...</td>\n",
       "      <td>About one year ago, I made a big decision. I g...</td>\n",
       "      <td>3</td>\n",
       "      <td>NaN</td>\n",
       "    </tr>\n",
       "    <tr>\n",
       "      <th>3</th>\n",
       "      <td>Y</td>\n",
       "      <td>C104</td>\n",
       "      <td>1200</td>\n",
       "      <td>cd6</td>\n",
       "      <td>Chinese</td>\n",
       "      <td>Female</td>\n",
       "      <td>150</td>\n",
       "      <td>4</td>\n",
       "      <td>g</td>\n",
       "      <td>112</td>\n",
       "      <td>1</td>\n",
       "      <td>312</td>\n",
       "      <td>311</td>\n",
       "      <td>312</td>\n",
       "      <td>Last semester, which was my first semester of ...</td>\n",
       "      <td>Last semester, which was my first semester of ...</td>\n",
       "      <td>Last semester, which was my first semester of ...</td>\n",
       "      <td>3</td>\n",
       "      <td>NaN</td>\n",
       "    </tr>\n",
       "    <tr>\n",
       "      <th>4</th>\n",
       "      <td>Y</td>\n",
       "      <td>K120</td>\n",
       "      <td>1186</td>\n",
       "      <td>eu6</td>\n",
       "      <td>Korean</td>\n",
       "      <td>Male</td>\n",
       "      <td>150</td>\n",
       "      <td>4</td>\n",
       "      <td>g</td>\n",
       "      <td>112</td>\n",
       "      <td>2</td>\n",
       "      <td>125</td>\n",
       "      <td>125</td>\n",
       "      <td>125</td>\n",
       "      <td>It was a thing at funeral. My uncle, who made ...</td>\n",
       "      <td>It was a thing at funeral. My uncle, who made ...</td>\n",
       "      <td>It was a thing at funeral. My uncle, who made ...</td>\n",
       "      <td>3</td>\n",
       "      <td>NaN</td>\n",
       "    </tr>\n",
       "    <tr>\n",
       "      <th>...</th>\n",
       "      <td>...</td>\n",
       "      <td>...</td>\n",
       "      <td>...</td>\n",
       "      <td>...</td>\n",
       "      <td>...</td>\n",
       "      <td>...</td>\n",
       "      <td>...</td>\n",
       "      <td>...</td>\n",
       "      <td>...</td>\n",
       "      <td>...</td>\n",
       "      <td>...</td>\n",
       "      <td>...</td>\n",
       "      <td>...</td>\n",
       "      <td>...</td>\n",
       "      <td>...</td>\n",
       "      <td>...</td>\n",
       "      <td>...</td>\n",
       "      <td>...</td>\n",
       "      <td>...</td>\n",
       "    </tr>\n",
       "    <tr>\n",
       "      <th>618</th>\n",
       "      <td>Y</td>\n",
       "      <td>K3521</td>\n",
       "      <td>46969</td>\n",
       "      <td>ec1</td>\n",
       "      <td>Korean</td>\n",
       "      <td>Female</td>\n",
       "      <td>1048</td>\n",
       "      <td>4</td>\n",
       "      <td>g</td>\n",
       "      <td>5961</td>\n",
       "      <td>1</td>\n",
       "      <td>106</td>\n",
       "      <td>106</td>\n",
       "      <td>106</td>\n",
       "      <td>Yesterday, I called up the Honda car dealer sh...</td>\n",
       "      <td>Yesterday, I called up the Honda car dealer sh...</td>\n",
       "      <td>Yesterday, I called up the Honda car dealer sh...</td>\n",
       "      <td>3</td>\n",
       "      <td>NaN</td>\n",
       "    </tr>\n",
       "    <tr>\n",
       "      <th>619</th>\n",
       "      <td>Y</td>\n",
       "      <td>S763</td>\n",
       "      <td>46958</td>\n",
       "      <td>cq1</td>\n",
       "      <td>Spanish</td>\n",
       "      <td>Female</td>\n",
       "      <td>1048</td>\n",
       "      <td>4</td>\n",
       "      <td>g</td>\n",
       "      <td>5961</td>\n",
       "      <td>1</td>\n",
       "      <td>121</td>\n",
       "      <td>120</td>\n",
       "      <td>120</td>\n",
       "      <td>The last month I was interested to buy an ipho...</td>\n",
       "      <td>The last month I was interested to buy an ipho...</td>\n",
       "      <td>The last month I was interested to buy an ipho...</td>\n",
       "      <td>3</td>\n",
       "      <td>NaN</td>\n",
       "    </tr>\n",
       "    <tr>\n",
       "      <th>620</th>\n",
       "      <td>Y</td>\n",
       "      <td>C3207</td>\n",
       "      <td>48246</td>\n",
       "      <td>bv8</td>\n",
       "      <td>Chinese</td>\n",
       "      <td>Unknown</td>\n",
       "      <td>1043</td>\n",
       "      <td>4</td>\n",
       "      <td>g</td>\n",
       "      <td>6105</td>\n",
       "      <td>1</td>\n",
       "      <td>133</td>\n",
       "      <td>131</td>\n",
       "      <td>131</td>\n",
       "      <td>The quote that talks about a true friend is so...</td>\n",
       "      <td>The quote that talks about a true friend is so...</td>\n",
       "      <td>The quote that talks about a true friend is so...</td>\n",
       "      <td>3</td>\n",
       "      <td>NaN</td>\n",
       "    </tr>\n",
       "    <tr>\n",
       "      <th>621</th>\n",
       "      <td>Y</td>\n",
       "      <td>K3559</td>\n",
       "      <td>48254</td>\n",
       "      <td>dr8</td>\n",
       "      <td>Korean</td>\n",
       "      <td>Female</td>\n",
       "      <td>1043</td>\n",
       "      <td>4</td>\n",
       "      <td>g</td>\n",
       "      <td>6105</td>\n",
       "      <td>1</td>\n",
       "      <td>175</td>\n",
       "      <td>162</td>\n",
       "      <td>162</td>\n",
       "      <td>I think this means that home is not just a pla...</td>\n",
       "      <td>I think this means that home is not just a pla...</td>\n",
       "      <td>I think this means that home is not just a pla...</td>\n",
       "      <td>3</td>\n",
       "      <td>NaN</td>\n",
       "    </tr>\n",
       "    <tr>\n",
       "      <th>622</th>\n",
       "      <td>Y</td>\n",
       "      <td>S781</td>\n",
       "      <td>48252</td>\n",
       "      <td>bl3</td>\n",
       "      <td>Spanish</td>\n",
       "      <td>Female</td>\n",
       "      <td>1043</td>\n",
       "      <td>4</td>\n",
       "      <td>g</td>\n",
       "      <td>6105</td>\n",
       "      <td>1</td>\n",
       "      <td>157</td>\n",
       "      <td>146</td>\n",
       "      <td>146</td>\n",
       "      <td>This quotation means that the majority of peop...</td>\n",
       "      <td>This quotation means that the majority of peop...</td>\n",
       "      <td>This quotation means that the majority of peop...</td>\n",
       "      <td>3</td>\n",
       "      <td>NaN</td>\n",
       "    </tr>\n",
       "  </tbody>\n",
       "</table>\n",
       "<p>623 rows × 19 columns</p>\n",
       "</div>"
      ],
      "text/plain": [
       "    3Langs   Item  answer_id anon_id       L1   gender  course_id  level_id  \\\n",
       "0        Y    C79        985     az8  Chinese   Female        154         5   \n",
       "1        Y    K98        958     az2   Korean     Male        154         5   \n",
       "2        Y     S6        999     ea7  Spanish   Female        154         5   \n",
       "3        Y   C104       1200     cd6  Chinese   Female        150         4   \n",
       "4        Y   K120       1186     eu6   Korean     Male        150         4   \n",
       "..     ...    ...        ...     ...      ...      ...        ...       ...   \n",
       "618      Y  K3521      46969     ec1   Korean   Female       1048         4   \n",
       "619      Y   S763      46958     cq1  Spanish   Female       1048         4   \n",
       "620      Y  C3207      48246     bv8  Chinese  Unknown       1043         4   \n",
       "621      Y  K3559      48254     dr8   Korean   Female       1043         4   \n",
       "622      Y   S781      48252     bl3  Spanish   Female       1043         4   \n",
       "\n",
       "    class_id  question_id  version  text1_len  text2_len  text3_len  \\\n",
       "0          g           95        1        183        179        179   \n",
       "1          g           95        1        105        104        104   \n",
       "2          g           95        1        152        149        151   \n",
       "3          g          112        1        312        311        312   \n",
       "4          g          112        2        125        125        125   \n",
       "..       ...          ...      ...        ...        ...        ...   \n",
       "618        g         5961        1        106        106        106   \n",
       "619        g         5961        1        121        120        120   \n",
       "620        g         6105        1        133        131        131   \n",
       "621        g         6105        1        175        162        162   \n",
       "622        g         6105        1        157        146        146   \n",
       "\n",
       "                                                 text1  \\\n",
       "0    \\nMy major was in the food science and nutriti...   \n",
       "1    When I was elementary school student, I liked ...   \n",
       "2    About one year ago, I made a big decision. I g...   \n",
       "3    Last semester, which was my first semester of ...   \n",
       "4    It was a thing at funeral. My uncle, who made ...   \n",
       "..                                                 ...   \n",
       "618  Yesterday, I called up the Honda car dealer sh...   \n",
       "619  The last month I was interested to buy an ipho...   \n",
       "620  The quote that talks about a true friend is so...   \n",
       "621  I think this means that home is not just a pla...   \n",
       "622  This quotation means that the majority of peop...   \n",
       "\n",
       "    text2 (line breaks/extra spaces removed, spaces added to reach 60)  \\\n",
       "0    My major was in the food science and nutrition...                   \n",
       "1    When I was elementary school student, I liked ...                   \n",
       "2    About one year ago, I made a big decision. I g...                   \n",
       "3    Last semester, which was my first semester of ...                   \n",
       "4    It was a thing at funeral. My uncle, who made ...                   \n",
       "..                                                 ...                   \n",
       "618  Yesterday, I called up the Honda car dealer sh...                   \n",
       "619  The last month I was interested to buy an ipho...                   \n",
       "620  The quote that talks about a true friend is so...                   \n",
       "621  I think this means that home is not just a pla...                   \n",
       "622  This quotation means that the majority of peop...                   \n",
       "\n",
       "                 text3 (edits made to fix word counts)  Judgement Notes  \n",
       "0    My major was in the food science and nutrition...          3   NaN  \n",
       "1    When I was elementary school student, I liked ...          3   NaN  \n",
       "2    About one year ago, I made a big decision. I g...          3   NaN  \n",
       "3    Last semester, which was my first semester of ...          3   NaN  \n",
       "4    It was a thing at funeral. My uncle, who made ...          3   NaN  \n",
       "..                                                 ...        ...   ...  \n",
       "618  Yesterday, I called up the Honda car dealer sh...          3   NaN  \n",
       "619  The last month I was interested to buy an ipho...          3   NaN  \n",
       "620  The quote that talks about a true friend is so...          3   NaN  \n",
       "621  I think this means that home is not just a pla...          3   NaN  \n",
       "622  This quotation means that the majority of peop...          3   NaN  \n",
       "\n",
       "[623 rows x 19 columns]"
      ]
     },
<<<<<<< HEAD
     "execution_count": 69,
=======
     "execution_count": 48,
>>>>>>> 683e27db4ebd5f4551e8f9969a8a7e967b99f573
     "metadata": {},
     "output_type": "execute_result"
    }
   ],
   "source": [
    "strict"
   ]
  },
  {
   "cell_type": "code",
<<<<<<< HEAD
   "execution_count": 70,
=======
   "execution_count": 58,
>>>>>>> 683e27db4ebd5f4551e8f9969a8a7e967b99f573
   "metadata": {},
   "outputs": [
    {
     "data": {
      "image/png": "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\n",
      "text/plain": [
       "<Figure size 720x468 with 1 Axes>"
      ]
     },
     "metadata": {
      "needs_background": "light"
     },
     "output_type": "display_data"
    }
   ],
   "source": [
    "strict['gender'].value_counts().plot.bar(figsize=(10,6.5), color=['pink','purple'],rot=0)\n",
    "plt.xlabel(\"Gender\")\n",
    "plt.ylabel(\"Count\")\n",
    "plt.show()"
   ]
  },
  {
   "cell_type": "code",
   "execution_count": null,
   "metadata": {},
   "outputs": [],
   "source": []
  },
  {
   "cell_type": "markdown",
   "metadata": {},
   "source": [
    "# References\n",
    "https://emark.colop.com/faq/index.php?action=artikel&cat=3&id=135&artlang=en#:~:text=Go%20to%20File%20and%20then%20Save%20as.,the%20name%20of%20the%20file.\n",
    "https://www.geeksforgeeks.org/python-program-for-binary-search/\n"
   ]
  },
  {
   "cell_type": "code",
   "execution_count": null,
   "metadata": {},
   "outputs": [],
   "source": []
<<<<<<< HEAD
  },
  {
   "cell_type": "code",
   "execution_count": null,
   "metadata": {},
   "outputs": [],
   "source": []
=======
>>>>>>> 683e27db4ebd5f4551e8f9969a8a7e967b99f573
  }
 ],
 "metadata": {
  "kernelspec": {
   "display_name": "Python 3",
   "language": "python",
   "name": "python3"
  },
  "language_info": {
   "codemirror_mode": {
    "name": "ipython",
    "version": 3
   },
   "file_extension": ".py",
   "mimetype": "text/x-python",
   "name": "python",
   "nbconvert_exporter": "python",
   "pygments_lexer": "ipython3",
   "version": "3.8.5"
  }
 },
 "nbformat": 4,
 "nbformat_minor": 4
}
