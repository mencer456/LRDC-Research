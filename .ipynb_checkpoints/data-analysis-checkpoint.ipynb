{
 "cells": [
  {
   "cell_type": "markdown",
   "metadata": {},
   "source": [
    "# Importing Excel Files"
   ]
  },
  {
   "cell_type": "code",
   "execution_count": 1,
   "metadata": {},
   "outputs": [],
   "source": [
    "%matplotlib inline\n",
    "import numpy as np              \n",
    "import pandas as pd\n",
    "import matplotlib.pyplot as plt\n",
    "import seaborn as sns"
   ]
  },
  {
   "cell_type": "code",
   "execution_count": 2,
   "metadata": {},
   "outputs": [],
   "source": [
    "#imoprting excel files\n",
    "equestions=df= pd.read_excel (r'C:\\Users\\Hanna\\OneDrive\\Documents\\LRDC\\Chinese_Korean_Spanish_FINAL.xlsx', sheet_name='Questions')\n",
    "estrictest=df= pd.read_excel (r'C:\\Users\\Hanna\\OneDrive\\Documents\\LRDC\\Chinese_Korean_Spanish_FINAL.xlsx', sheet_name='Responses-Strictest')\n",
    "eloose=df= pd.read_excel (r'C:\\Users\\Hanna\\OneDrive\\Documents\\LRDC\\Chinese_Korean_Spanish_FINAL.xlsx', sheet_name='Responses-Loose')\n",
    "elimited=df= pd.read_excel (r'C:\\Users\\Hanna\\OneDrive\\Documents\\LRDC\\Chinese_Korean_Spanish_FINAL.xlsx', sheet_name='Responses-Limited')\n",
    "einfo=df= pd.read_excel (r'C:\\Users\\Hanna\\OneDrive\\Documents\\LRDC\\Chinese_Korean_Spanish_FINAL.xlsx', sheet_name='Info')"
   ]
  },
  {
   "cell_type": "code",
   "execution_count": 3,
   "metadata": {},
   "outputs": [],
   "source": [
    "# alternate way to read files through csv\n",
    "questions=pd.read_csv('Questions.csv')\n",
    "strict=pd.read_csv('Responses-Strictest.csv')\n",
    "loose=pd.read_csv('Responses-Loose.csv')\n",
    "limited=pd.read_csv('Responses-Limited.csv')\n",
    "info=pd.read_csv('Info.csv')"
   ]
  },
  {
   "cell_type": "markdown",
   "metadata": {},
   "source": [
    "# Data Analysis/Cleaning of Strictest"
   ]
  },
  {
   "cell_type": "code",
   "execution_count": 4,
   "metadata": {},
   "outputs": [
    {
     "name": "stdout",
     "output_type": "stream",
     "text": [
      "Total Participants:    212 \n",
      "Chinese Participants:  76 \n",
      "Korean Participants:   94 \n",
      "Spanish Pariticpants:  42\n"
     ]
    }
   ],
   "source": [
    "# total of each\n",
    "#tfilter=strict[strict.level_id>=3]\n",
    "total=strict['anon_id'].nunique()\n",
    "\n",
    "cfilter=strict[(strict.L1=='Chinese')]\n",
    "ctotal=cfilter['anon_id'].nunique()\n",
    "\n",
    "kfilter=strict[strict.L1=='Korean']\n",
    "ktotal=kfilter['anon_id'].nunique()\n",
    "\n",
    "sfilter=strict[strict.L1=='Spanish']\n",
    "stotal=sfilter['anon_id'].nunique()\n",
    "\n",
    "print('Total Participants:   ',total,'\\nChinese Participants: ',ctotal,\n",
    "      '\\nKorean Participants:  ',ktotal,\n",
    "         '\\nSpanish Pariticpants: ',stotal)"
   ]
  },
  {
   "cell_type": "code",
   "execution_count": 5,
   "metadata": {},
   "outputs": [
    {
     "data": {
      "text/plain": [
       "Text(0.5, 1.0, 'Number of Participants of each Language')"
      ]
     },
     "execution_count": 5,
     "metadata": {},
     "output_type": "execute_result"
    },
    {
     "data": {
      "image/png": "[encoded data removed]",
      "text/plain": [
       "<Figure size 720x720 with 1 Axes>"
      ]
     },
     "metadata": {
      "needs_background": "light"
     },
     "output_type": "display_data"
    }
   ],
   "source": [
    "plt.figure(figsize=(10,10))\n",
    "\n",
    "var= [ctotal,ktotal,stotal]\n",
    "langs={'Chinese':76,'Korean':94,'Spanish':42}\n",
    "keys=langs.keys()\n",
    "vals=langs.values()\n",
    "plt.bar(keys,vals)\n",
    "plt.xlabel('Language')\n",
    "plt.ylabel('Number of Participants')\n",
    "plt.title('Number of Participants of each Language')"
   ]
  },
  {
   "cell_type": "code",
   "execution_count": 6,
   "metadata": {},
   "outputs": [
    {
     "name": "stdout",
     "output_type": "stream",
     "text": [
      "Participants in Level 3 -\n",
      "Total Participants:    39 \n",
      "Chinese Participants:  10 \n",
      "Korean Participants:   20 \n",
      "Spanish Pariticpants:  9\n"
     ]
    }
   ],
   "source": [
    "#Q2\n",
    "totalfilter=strict[strict.level_id==3]\n",
    "ltotal=totalfilter['anon_id'].nunique()\n",
    "\n",
    "lcfilter=strict[(strict.L1=='Chinese') & (strict.level_id==3)]\n",
    "lctotal=lcfilter['anon_id'].nunique()\n",
    "\n",
    "lkfilter=strict[(strict.L1=='Korean') & (strict.level_id==3)]\n",
    "lktotal=lkfilter['anon_id'].nunique()\n",
    "\n",
    "lsfilter=strict[(strict.L1=='Spanish') & (strict.level_id==3)]\n",
    "lstotal=lsfilter['anon_id'].nunique()\n",
    "\n",
    "print('Participants in Level 3 -\\n'\n",
    "      'Total Participants:   ',ltotal,'\\nChinese Participants: ',lctotal,\n",
    "      '\\nKorean Participants:  ',lktotal,\n",
    "         '\\nSpanish Pariticpants: ',lstotal)"
   ]
  },
  {
   "cell_type": "code",
   "execution_count": 7,
   "metadata": {},
   "outputs": [
    {
     "name": "stdout",
     "output_type": "stream",
     "text": [
      "Participants in Level 4 -\n",
      "Total Participants:    128 \n",
      "Chinese Participants:  49 \n",
      "Korean Participants:   54 \n",
      "Spanish Pariticpants:  25\n"
     ]
    }
   ],
   "source": [
    "ltotalfilter=strict[strict.level_id==4]\n",
    "lltotal=ltotalfilter['anon_id'].nunique()\n",
    "\n",
    "llcfilter=strict[(strict.L1=='Chinese') & (strict.level_id==4)]\n",
    "llctotal=llcfilter['anon_id'].nunique()\n",
    "\n",
    "llkfilter=strict[(strict.L1=='Korean') & (strict.level_id==4)]\n",
    "llktotal=llkfilter['anon_id'].nunique()\n",
    "\n",
    "llsfilter=strict[(strict.L1=='Spanish') & (strict.level_id==4)]\n",
    "llstotal=llsfilter['anon_id'].nunique()\n",
    "\n",
    "print('Participants in Level 4 -\\n'\n",
    "      'Total Participants:   ',lltotal,'\\nChinese Participants: ',llctotal,\n",
    "      '\\nKorean Participants:  ',llktotal,\n",
    "         '\\nSpanish Pariticpants: ',llstotal)"
   ]
  },
  {
   "cell_type": "code",
   "execution_count": 8,
   "metadata": {
    "scrolled": true
   },
   "outputs": [
    {
     "name": "stdout",
     "output_type": "stream",
     "text": [
      "Participants in Level 4 -\n",
      "Total Participants:    96 \n",
      "Chinese Participants:  37 \n",
      "Korean Participants:   43 \n",
      "Spanish Pariticpants:  16\n"
     ]
    }
   ],
   "source": [
    "lltotalfilter=strict[strict.level_id==5]\n",
    "llltotal=lltotalfilter['anon_id'].nunique()\n",
    "\n",
    "lllcfilter=strict[(strict.L1=='Chinese') & (strict.level_id==5)]\n",
    "lllctotal=lllcfilter['anon_id'].nunique()\n",
    "\n",
    "lllkfilter=strict[(strict.L1=='Korean') & (strict.level_id==5)]\n",
    "lllktotal=lllkfilter['anon_id'].nunique()\n",
    "\n",
    "lllsfilter=strict[(strict.L1=='Spanish') & (strict.level_id==5)]\n",
    "lllstotal=lllsfilter['anon_id'].nunique()\n",
    "\n",
    "print('Participants in Level 4 -\\n'\n",
    "      'Total Participants:   ',llltotal,'\\nChinese Participants: ',lllctotal,\n",
    "      '\\nKorean Participants:  ',lllktotal,\n",
    "         '\\nSpanish Pariticpants: ',lllstotal)"
   ]
  },
  {
   "cell_type": "code",
   "execution_count": 9,
   "metadata": {},
   "outputs": [
    {
     "data": {
      "text/html": [
       "<div>\n",
       "<style scoped>\n",
       "    .dataframe tbody tr th:only-of-type {\n",
       "        vertical-align: middle;\n",
       "    }\n",
       "\n",
       "    .dataframe tbody tr th {\n",
       "        vertical-align: top;\n",
       "    }\n",
       "\n",
       "    .dataframe thead th {\n",
       "        text-align: right;\n",
       "    }\n",
       "</style>\n",
       "<table border=\"1\" class=\"dataframe\">\n",
       "  <thead>\n",
       "    <tr style=\"text-align: right;\">\n",
       "      <th></th>\n",
       "      <th>anon_id</th>\n",
       "      <th>L1</th>\n",
       "      <th>level_id</th>\n",
       "    </tr>\n",
       "  </thead>\n",
       "  <tbody>\n",
       "    <tr>\n",
       "      <th>0</th>\n",
       "      <td>az8</td>\n",
       "      <td>Chinese</td>\n",
       "      <td>5</td>\n",
       "    </tr>\n",
       "    <tr>\n",
       "      <th>1</th>\n",
       "      <td>az2</td>\n",
       "      <td>Korean</td>\n",
       "      <td>5</td>\n",
       "    </tr>\n",
       "    <tr>\n",
       "      <th>2</th>\n",
       "      <td>ea7</td>\n",
       "      <td>Spanish</td>\n",
       "      <td>5</td>\n",
       "    </tr>\n",
       "    <tr>\n",
       "      <th>3</th>\n",
       "      <td>cd6</td>\n",
       "      <td>Chinese</td>\n",
       "      <td>4</td>\n",
       "    </tr>\n",
       "    <tr>\n",
       "      <th>4</th>\n",
       "      <td>eu6</td>\n",
       "      <td>Korean</td>\n",
       "      <td>4</td>\n",
       "    </tr>\n",
       "    <tr>\n",
       "      <th>...</th>\n",
       "      <td>...</td>\n",
       "      <td>...</td>\n",
       "      <td>...</td>\n",
       "    </tr>\n",
       "    <tr>\n",
       "      <th>618</th>\n",
       "      <td>ec1</td>\n",
       "      <td>Korean</td>\n",
       "      <td>4</td>\n",
       "    </tr>\n",
       "    <tr>\n",
       "      <th>619</th>\n",
       "      <td>cq1</td>\n",
       "      <td>Spanish</td>\n",
       "      <td>4</td>\n",
       "    </tr>\n",
       "    <tr>\n",
       "      <th>620</th>\n",
       "      <td>bv8</td>\n",
       "      <td>Chinese</td>\n",
       "      <td>4</td>\n",
       "    </tr>\n",
       "    <tr>\n",
       "      <th>621</th>\n",
       "      <td>dr8</td>\n",
       "      <td>Korean</td>\n",
       "      <td>4</td>\n",
       "    </tr>\n",
       "    <tr>\n",
       "      <th>622</th>\n",
       "      <td>bl3</td>\n",
       "      <td>Spanish</td>\n",
       "      <td>4</td>\n",
       "    </tr>\n",
       "  </tbody>\n",
       "</table>\n",
       "<p>623 rows × 3 columns</p>\n",
       "</div>"
      ],
      "text/plain": [
       "    anon_id       L1  level_id\n",
       "0       az8  Chinese         5\n",
       "1       az2   Korean         5\n",
       "2       ea7  Spanish         5\n",
       "3       cd6  Chinese         4\n",
       "4       eu6   Korean         4\n",
       "..      ...      ...       ...\n",
       "618     ec1   Korean         4\n",
       "619     cq1  Spanish         4\n",
       "620     bv8  Chinese         4\n",
       "621     dr8   Korean         4\n",
       "622     bl3  Spanish         4\n",
       "\n",
       "[623 rows x 3 columns]"
      ]
     },
     "execution_count": 9,
     "metadata": {},
     "output_type": "execute_result"
    }
   ],
   "source": [
    "ids_lvl=strict.drop(columns=['3Langs','Item','answer_id','gender','course_id','class_id','question_id','version','text1_len','text2_len',\n",
    "                   'text3_len', 'text1','text2 (line breaks/extra spaces removed, spaces added to reach 60)',\n",
    "                   'text3 (edits made to fix word counts)','Judgement','Notes'])\n",
    "ids_lvl"
   ]
  },
  {
   "cell_type": "markdown",
   "metadata": {},
   "source": [
    "# Get the anon_ids into an array so they can be used in binarySearchArr()"
   ]
  },
  {
   "cell_type": "code",
   "execution_count": 116,
   "metadata": {},
   "outputs": [],
   "source": [
    "anon_ids=[]\n",
    "index=0\n",
    "for i in ids_lvl.anon_id:\n",
    "    anon_ids.append(ids_lvl.at[index, 'anon_id'])\n",
    "    index+=1\n"
   ]
  },
  {
   "cell_type": "code",
   "execution_count": 11,
   "metadata": {},
   "outputs": [
    {
     "name": "stdout",
     "output_type": "stream",
     "text": [
      "anon_id  level_id\n",
      "aa0      5           4\n",
      "aa8      4           2\n",
      "         5           2\n",
      "aa9      3           1\n",
      "         4           3\n",
      "                    ..\n",
      "gz5      4           1\n",
      "gz7      4           2\n",
      "ha0      5           2\n",
      "ha2      4           2\n",
      "         5           7\n",
      "Length: 263, dtype: int64\n"
     ]
    }
   ],
   "source": [
    "user_id_multilevel_group_by = ids_lvl.groupby(['anon_id','level_id']).size()\n",
    "print(user_id_multilevel_group_by)"
   ]
  },
  {
   "cell_type": "code",
   "execution_count": 12,
   "metadata": {},
   "outputs": [],
   "source": [
    "def get_uniques(x):\n",
    "    return list(x.unique())\n",
    "\n",
    "clean_ids_lvl=ids_lvl.groupby('anon_id').agg(\n",
    "    n_anon_ids=('level_id', 'nunique'),\n",
    "    lvl_nums=('level_id', get_uniques)\n",
    ")"
   ]
  },
  {
   "cell_type": "code",
   "execution_count": 13,
   "metadata": {},
   "outputs": [
    {
     "data": {
      "text/html": [
       "<div>\n",
       "<style scoped>\n",
       "    .dataframe tbody tr th:only-of-type {\n",
       "        vertical-align: middle;\n",
       "    }\n",
       "\n",
       "    .dataframe tbody tr th {\n",
       "        vertical-align: top;\n",
       "    }\n",
       "\n",
       "    .dataframe thead th {\n",
       "        text-align: right;\n",
       "    }\n",
       "</style>\n",
       "<table border=\"1\" class=\"dataframe\">\n",
       "  <thead>\n",
       "    <tr style=\"text-align: right;\">\n",
       "      <th></th>\n",
       "      <th>n_anon_ids</th>\n",
       "      <th>lvl_nums</th>\n",
       "    </tr>\n",
       "    <tr>\n",
       "      <th>anon_id</th>\n",
       "      <th></th>\n",
       "      <th></th>\n",
       "    </tr>\n",
       "  </thead>\n",
       "  <tbody>\n",
       "    <tr>\n",
       "      <th>aa0</th>\n",
       "      <td>1</td>\n",
       "      <td>[5]</td>\n",
       "    </tr>\n",
       "    <tr>\n",
       "      <th>aa8</th>\n",
       "      <td>2</td>\n",
       "      <td>[4, 5]</td>\n",
       "    </tr>\n",
       "    <tr>\n",
       "      <th>aa9</th>\n",
       "      <td>2</td>\n",
       "      <td>[3, 4]</td>\n",
       "    </tr>\n",
       "    <tr>\n",
       "      <th>ac3</th>\n",
       "      <td>1</td>\n",
       "      <td>[4]</td>\n",
       "    </tr>\n",
       "    <tr>\n",
       "      <th>ac5</th>\n",
       "      <td>2</td>\n",
       "      <td>[4, 5]</td>\n",
       "    </tr>\n",
       "    <tr>\n",
       "      <th>...</th>\n",
       "      <td>...</td>\n",
       "      <td>...</td>\n",
       "    </tr>\n",
       "    <tr>\n",
       "      <th>gz0</th>\n",
       "      <td>1</td>\n",
       "      <td>[3]</td>\n",
       "    </tr>\n",
       "    <tr>\n",
       "      <th>gz5</th>\n",
       "      <td>1</td>\n",
       "      <td>[4]</td>\n",
       "    </tr>\n",
       "    <tr>\n",
       "      <th>gz7</th>\n",
       "      <td>1</td>\n",
       "      <td>[4]</td>\n",
       "    </tr>\n",
       "    <tr>\n",
       "      <th>ha0</th>\n",
       "      <td>1</td>\n",
       "      <td>[5]</td>\n",
       "    </tr>\n",
       "    <tr>\n",
       "      <th>ha2</th>\n",
       "      <td>2</td>\n",
       "      <td>[4, 5]</td>\n",
       "    </tr>\n",
       "  </tbody>\n",
       "</table>\n",
       "<p>212 rows × 2 columns</p>\n",
       "</div>"
      ],
      "text/plain": [
       "         n_anon_ids lvl_nums\n",
       "anon_id                     \n",
       "aa0               1      [5]\n",
       "aa8               2   [4, 5]\n",
       "aa9               2   [3, 4]\n",
       "ac3               1      [4]\n",
       "ac5               2   [4, 5]\n",
       "...             ...      ...\n",
       "gz0               1      [3]\n",
       "gz5               1      [4]\n",
       "gz7               1      [4]\n",
       "ha0               1      [5]\n",
       "ha2               2   [4, 5]\n",
       "\n",
       "[212 rows x 2 columns]"
      ]
     },
     "execution_count": 13,
     "metadata": {},
     "output_type": "execute_result"
    }
   ],
   "source": [
    "clean_ids_lvl"
   ]
  },
  {
   "cell_type": "code",
   "execution_count": 14,
   "metadata": {},
   "outputs": [],
   "source": [
    "ind=[]\n",
    "lim=212\n",
    "val=0\n",
    "while val<lim:\n",
    "    ind.append(val)\n",
    "    val=val+1\n"
   ]
  },
  {
   "cell_type": "code",
   "execution_count": 15,
   "metadata": {},
   "outputs": [
    {
     "name": "stdout",
     "output_type": "stream",
     "text": [
      "211\n"
     ]
    }
   ],
   "source": [
    "print(ind[211])"
   ]
  },
  {
   "cell_type": "code",
   "execution_count": 16,
   "metadata": {},
   "outputs": [
    {
     "data": {
      "text/html": [
       "<div>\n",
       "<style scoped>\n",
       "    .dataframe tbody tr th:only-of-type {\n",
       "        vertical-align: middle;\n",
       "    }\n",
       "\n",
       "    .dataframe tbody tr th {\n",
       "        vertical-align: top;\n",
       "    }\n",
       "\n",
       "    .dataframe thead th {\n",
       "        text-align: right;\n",
       "    }\n",
       "</style>\n",
       "<table border=\"1\" class=\"dataframe\">\n",
       "  <thead>\n",
       "    <tr style=\"text-align: right;\">\n",
       "      <th></th>\n",
       "      <th>anon_id</th>\n",
       "      <th>n_anon_ids</th>\n",
       "      <th>lvl_nums</th>\n",
       "    </tr>\n",
       "  </thead>\n",
       "  <tbody>\n",
       "    <tr>\n",
       "      <th>0</th>\n",
       "      <td>aa0</td>\n",
       "      <td>1</td>\n",
       "      <td>[5]</td>\n",
       "    </tr>\n",
       "    <tr>\n",
       "      <th>1</th>\n",
       "      <td>aa8</td>\n",
       "      <td>2</td>\n",
       "      <td>[4, 5]</td>\n",
       "    </tr>\n",
       "    <tr>\n",
       "      <th>2</th>\n",
       "      <td>aa9</td>\n",
       "      <td>2</td>\n",
       "      <td>[3, 4]</td>\n",
       "    </tr>\n",
       "    <tr>\n",
       "      <th>3</th>\n",
       "      <td>ac3</td>\n",
       "      <td>1</td>\n",
       "      <td>[4]</td>\n",
       "    </tr>\n",
       "    <tr>\n",
       "      <th>4</th>\n",
       "      <td>ac5</td>\n",
       "      <td>2</td>\n",
       "      <td>[4, 5]</td>\n",
       "    </tr>\n",
       "    <tr>\n",
       "      <th>...</th>\n",
       "      <td>...</td>\n",
       "      <td>...</td>\n",
       "      <td>...</td>\n",
       "    </tr>\n",
       "    <tr>\n",
       "      <th>207</th>\n",
       "      <td>gz0</td>\n",
       "      <td>1</td>\n",
       "      <td>[3]</td>\n",
       "    </tr>\n",
       "    <tr>\n",
       "      <th>208</th>\n",
       "      <td>gz5</td>\n",
       "      <td>1</td>\n",
       "      <td>[4]</td>\n",
       "    </tr>\n",
       "    <tr>\n",
       "      <th>209</th>\n",
       "      <td>gz7</td>\n",
       "      <td>1</td>\n",
       "      <td>[4]</td>\n",
       "    </tr>\n",
       "    <tr>\n",
       "      <th>210</th>\n",
       "      <td>ha0</td>\n",
       "      <td>1</td>\n",
       "      <td>[5]</td>\n",
       "    </tr>\n",
       "    <tr>\n",
       "      <th>211</th>\n",
       "      <td>ha2</td>\n",
       "      <td>2</td>\n",
       "      <td>[4, 5]</td>\n",
       "    </tr>\n",
       "  </tbody>\n",
       "</table>\n",
       "<p>212 rows × 3 columns</p>\n",
       "</div>"
      ],
      "text/plain": [
       "    anon_id  n_anon_ids lvl_nums\n",
       "0       aa0           1      [5]\n",
       "1       aa8           2   [4, 5]\n",
       "2       aa9           2   [3, 4]\n",
       "3       ac3           1      [4]\n",
       "4       ac5           2   [4, 5]\n",
       "..      ...         ...      ...\n",
       "207     gz0           1      [3]\n",
       "208     gz5           1      [4]\n",
       "209     gz7           1      [4]\n",
       "210     ha0           1      [5]\n",
       "211     ha2           2   [4, 5]\n",
       "\n",
       "[212 rows x 3 columns]"
      ]
     },
     "execution_count": 16,
     "metadata": {},
     "output_type": "execute_result"
    }
   ],
   "source": [
    "with_ind= clean_ids_lvl.reset_index()\n",
    "with_ind"
   ]
  },
  {
   "cell_type": "markdown",
   "metadata": {},
   "source": [
    "# Finds how many participants are in all three"
   ]
  },
  {
   "cell_type": "code",
   "execution_count": 17,
   "metadata": {},
   "outputs": [
    {
     "data": {
      "text/plain": [
       "4"
      ]
     },
     "execution_count": 17,
     "metadata": {},
     "output_type": "execute_result"
    }
   ],
   "source": [
    "\n",
    "ind=0\n",
    "all_three=[]\n",
    "append=''\n",
    "for i in with_ind.anon_id:\n",
    "    if with_ind.iat[ind, 1]==3:\n",
    "        append=with_ind.at[ind,'anon_id']\n",
    "        all_three.append(append)\n",
    "    ind=ind+1\n",
    "\n",
    "len(all_three)\n"
   ]
  },
  {
   "cell_type": "code",
   "execution_count": 18,
   "metadata": {},
   "outputs": [
    {
     "data": {
      "text/plain": [
       "11"
      ]
     },
     "execution_count": 18,
     "metadata": {},
     "output_type": "execute_result"
    }
   ],
   "source": [
    "ind=0\n",
    "in_two=[]\n",
    "append=''\n",
    "for i in with_ind.anon_id:\n",
    "    if with_ind.iat[ind, 1]==2:\n",
    "        if (3 in with_ind.iat[ind,2] and 4 in with_ind.iat[ind,2]):\n",
    "            append=with_ind.at[ind,'anon_id']\n",
    "            in_two.append(append)\n",
    "    elif with_ind.iat[ind,1]==3:\n",
    "        append=with_ind.at[ind,'anon_id']\n",
    "        in_two.append(append)\n",
    "    ind=ind+1\n",
    "len(in_two)"
   ]
  },
  {
   "cell_type": "code",
   "execution_count": 19,
   "metadata": {},
   "outputs": [
    {
     "name": "stdout",
     "output_type": "stream",
     "text": [
      "['an5', 'ar8', 'bv9', 'bz2']\n"
     ]
    }
   ],
   "source": [
    "print(all_three)"
   ]
  },
  {
   "cell_type": "code",
   "execution_count": 20,
   "metadata": {},
   "outputs": [
    {
     "name": "stdout",
     "output_type": "stream",
     "text": [
      "['aa9', 'an5', 'ar8', 'bv9', 'bz2', 'cf6', 'ch0', 'cw6', 'fn8', 'fv7', 'gv1']\n"
     ]
    }
   ],
   "source": [
    "print(in_two)"
   ]
  },
  {
   "cell_type": "code",
   "execution_count": null,
   "metadata": {},
   "outputs": [],
   "source": []
  },
  {
   "cell_type": "code",
   "execution_count": 21,
   "metadata": {},
   "outputs": [],
   "source": [
    "ind=0\n",
    "in_45=[]\n",
    "append=''\n",
    "for i in with_ind.anon_id:\n",
    "    if with_ind.iat[ind, 1]==2:\n",
    "        if (4 in with_ind.iat[ind,2] and 5 in with_ind.iat[ind,2]):\n",
    "            append=with_ind.at[ind,'anon_id']\n",
    "            in_45.append(append)\n",
    "    elif with_ind.iat[ind,1]==3:\n",
    "        append=with_ind.at[ind,'anon_id']\n",
    "        in_45.append(append)\n",
    "    ind=ind+1\n"
   ]
  },
  {
   "cell_type": "code",
   "execution_count": 152,
   "metadata": {},
   "outputs": [
    {
     "name": "stdout",
     "output_type": "stream",
     "text": [
      "anon_id\n",
      "aa0     4\n",
      "aa8     4\n",
      "aa9     4\n",
      "ac3     4\n",
      "ac5    10\n",
      "       ..\n",
      "gz0     1\n",
      "gz5     1\n",
      "gz7     2\n",
      "ha0     2\n",
      "ha2     9\n",
      "Name: level_id, Length: 212, dtype: int64\n"
     ]
    },
    {
     "data": {
      "text/html": [
       "<div>\n",
       "<style scoped>\n",
       "    .dataframe tbody tr th:only-of-type {\n",
       "        vertical-align: middle;\n",
       "    }\n",
       "\n",
       "    .dataframe tbody tr th {\n",
       "        vertical-align: top;\n",
       "    }\n",
       "\n",
       "    .dataframe thead th {\n",
       "        text-align: right;\n",
       "    }\n",
       "</style>\n",
       "<table border=\"1\" class=\"dataframe\">\n",
       "  <thead>\n",
       "    <tr style=\"text-align: right;\">\n",
       "      <th></th>\n",
       "      <th>anon_id</th>\n",
       "      <th>level_id</th>\n",
       "    </tr>\n",
       "  </thead>\n",
       "  <tbody>\n",
       "    <tr>\n",
       "      <th>0</th>\n",
       "      <td>aa0</td>\n",
       "      <td>4</td>\n",
       "    </tr>\n",
       "    <tr>\n",
       "      <th>1</th>\n",
       "      <td>aa8</td>\n",
       "      <td>4</td>\n",
       "    </tr>\n",
       "    <tr>\n",
       "      <th>2</th>\n",
       "      <td>aa9</td>\n",
       "      <td>4</td>\n",
       "    </tr>\n",
       "    <tr>\n",
       "      <th>3</th>\n",
       "      <td>ac3</td>\n",
       "      <td>4</td>\n",
       "    </tr>\n",
       "    <tr>\n",
       "      <th>4</th>\n",
       "      <td>ac5</td>\n",
       "      <td>10</td>\n",
       "    </tr>\n",
       "    <tr>\n",
       "      <th>...</th>\n",
       "      <td>...</td>\n",
       "      <td>...</td>\n",
       "    </tr>\n",
       "    <tr>\n",
       "      <th>207</th>\n",
       "      <td>gz0</td>\n",
       "      <td>1</td>\n",
       "    </tr>\n",
       "    <tr>\n",
       "      <th>208</th>\n",
       "      <td>gz5</td>\n",
       "      <td>1</td>\n",
       "    </tr>\n",
       "    <tr>\n",
       "      <th>209</th>\n",
       "      <td>gz7</td>\n",
       "      <td>2</td>\n",
       "    </tr>\n",
       "    <tr>\n",
       "      <th>210</th>\n",
       "      <td>ha0</td>\n",
       "      <td>2</td>\n",
       "    </tr>\n",
       "    <tr>\n",
       "      <th>211</th>\n",
       "      <td>ha2</td>\n",
       "      <td>9</td>\n",
       "    </tr>\n",
       "  </tbody>\n",
       "</table>\n",
       "<p>212 rows × 2 columns</p>\n",
       "</div>"
      ],
      "text/plain": [
       "    anon_id  level_id\n",
       "0       aa0         4\n",
       "1       aa8         4\n",
       "2       aa9         4\n",
       "3       ac3         4\n",
       "4       ac5        10\n",
       "..      ...       ...\n",
       "207     gz0         1\n",
       "208     gz5         1\n",
       "209     gz7         2\n",
       "210     ha0         2\n",
       "211     ha2         9\n",
       "\n",
       "[212 rows x 2 columns]"
      ]
     },
     "execution_count": 152,
     "metadata": {},
     "output_type": "execute_result"
    }
   ],
   "source": [
    "test2=ids_lvl.groupby('anon_id')['level_id'].count()\n",
    "counts=test2.reset_index()\n",
    "counts"
   ]
  },
  {
   "cell_type": "code",
   "execution_count": 23,
   "metadata": {},
   "outputs": [
    {
     "ename": "SyntaxError",
     "evalue": "invalid syntax (<ipython-input-23-fee5ec28cd4e>, line 3)",
     "output_type": "error",
     "traceback": [
      "\u001b[1;36m  File \u001b[1;32m\"<ipython-input-23-fee5ec28cd4e>\"\u001b[1;36m, line \u001b[1;32m3\u001b[0m\n\u001b[1;33m    if in_45[part]=counts.at[i, 'anon_id']:\u001b[0m\n\u001b[1;37m                  ^\u001b[0m\n\u001b[1;31mSyntaxError\u001b[0m\u001b[1;31m:\u001b[0m invalid syntax\n"
     ]
    }
   ],
   "source": [
    "\n",
    "for part in in_45:\n",
    "    for i in counts.anon_id:\n",
    "        if in_45[part]=counts.at[i, 'anon_id']:\n",
    "             "
   ]
  },
  {
   "cell_type": "markdown",
   "metadata": {},
   "source": [
    "# Binary Search"
   ]
  },
  {
   "cell_type": "code",
   "execution_count": 24,
   "metadata": {},
   "outputs": [],
   "source": [
    "ids_lang=ids_lvl.drop(columns='level_id')"
   ]
  },
  {
   "cell_type": "code",
   "execution_count": 25,
   "metadata": {},
   "outputs": [
    {
     "data": {
      "text/html": [
       "<div>\n",
       "<style scoped>\n",
       "    .dataframe tbody tr th:only-of-type {\n",
       "        vertical-align: middle;\n",
       "    }\n",
       "\n",
       "    .dataframe tbody tr th {\n",
       "        vertical-align: top;\n",
       "    }\n",
       "\n",
       "    .dataframe thead th {\n",
       "        text-align: right;\n",
       "    }\n",
       "</style>\n",
       "<table border=\"1\" class=\"dataframe\">\n",
       "  <thead>\n",
       "    <tr style=\"text-align: right;\">\n",
       "      <th></th>\n",
       "      <th>anon_id</th>\n",
       "      <th>L1</th>\n",
       "    </tr>\n",
       "  </thead>\n",
       "  <tbody>\n",
       "    <tr>\n",
       "      <th>0</th>\n",
       "      <td>az8</td>\n",
       "      <td>Chinese</td>\n",
       "    </tr>\n",
       "    <tr>\n",
       "      <th>1</th>\n",
       "      <td>az2</td>\n",
       "      <td>Korean</td>\n",
       "    </tr>\n",
       "    <tr>\n",
       "      <th>2</th>\n",
       "      <td>ea7</td>\n",
       "      <td>Spanish</td>\n",
       "    </tr>\n",
       "    <tr>\n",
       "      <th>3</th>\n",
       "      <td>cd6</td>\n",
       "      <td>Chinese</td>\n",
       "    </tr>\n",
       "    <tr>\n",
       "      <th>4</th>\n",
       "      <td>eu6</td>\n",
       "      <td>Korean</td>\n",
       "    </tr>\n",
       "    <tr>\n",
       "      <th>...</th>\n",
       "      <td>...</td>\n",
       "      <td>...</td>\n",
       "    </tr>\n",
       "    <tr>\n",
       "      <th>618</th>\n",
       "      <td>ec1</td>\n",
       "      <td>Korean</td>\n",
       "    </tr>\n",
       "    <tr>\n",
       "      <th>619</th>\n",
       "      <td>cq1</td>\n",
       "      <td>Spanish</td>\n",
       "    </tr>\n",
       "    <tr>\n",
       "      <th>620</th>\n",
       "      <td>bv8</td>\n",
       "      <td>Chinese</td>\n",
       "    </tr>\n",
       "    <tr>\n",
       "      <th>621</th>\n",
       "      <td>dr8</td>\n",
       "      <td>Korean</td>\n",
       "    </tr>\n",
       "    <tr>\n",
       "      <th>622</th>\n",
       "      <td>bl3</td>\n",
       "      <td>Spanish</td>\n",
       "    </tr>\n",
       "  </tbody>\n",
       "</table>\n",
       "<p>623 rows × 2 columns</p>\n",
       "</div>"
      ],
      "text/plain": [
       "    anon_id       L1\n",
       "0       az8  Chinese\n",
       "1       az2   Korean\n",
       "2       ea7  Spanish\n",
       "3       cd6  Chinese\n",
       "4       eu6   Korean\n",
       "..      ...      ...\n",
       "618     ec1   Korean\n",
       "619     cq1  Spanish\n",
       "620     bv8  Chinese\n",
       "621     dr8   Korean\n",
       "622     bl3  Spanish\n",
       "\n",
       "[623 rows x 2 columns]"
      ]
     },
     "execution_count": 25,
     "metadata": {},
     "output_type": "execute_result"
    }
   ],
   "source": [
    "ids_lang"
   ]
  },
  {
   "cell_type": "code",
   "execution_count": 137,
   "metadata": {},
   "outputs": [],
   "source": [
    "#bin search for arrays\n",
    "def binarySearchArr(arr, x):\n",
    "    l = 0\n",
    "    r = len(arr)\n",
    "    while (l <= r):\n",
    "        m = l + ((r - l) // 2)\n",
    " \n",
    "        res = (x == arr[m])\n",
    "        # Check if x is present at mid\n",
    "        if (res == True):\n",
    "            return m\n",
    " \n",
    "        # If x greater, ignore left half\n",
    "    #problem is here\n",
    "        elif (res == False):\n",
    "            if (x>arr[m]):\n",
    "                l = m+1\n",
    "            elif (x<arr[m]):\n",
    "                r=m-1\n",
    "        # If x is smaller, ignore right half\n",
    "    return -1\n",
    " "
   ]
  },
  {
   "cell_type": "code",
   "execution_count": 138,
   "metadata": {},
   "outputs": [
    {
     "name": "stdout",
     "output_type": "stream",
     "text": [
      "5\n",
      "aa8\n"
     ]
    }
   ],
   "source": [
    "anon_ids.sort()\n",
    "val=binarySearchArr(anon_ids, 'aa8')\n",
    "print(val)\n",
    "print(anon_ids[val])"
   ]
  },
  {
   "cell_type": "code",
   "execution_count": 61,
   "metadata": {},
   "outputs": [
    {
     "name": "stdout",
     "output_type": "stream",
     "text": [
      "dc6\n"
     ]
    }
   ],
   "source": [
    "index=binarySearch(in_45, 'bz2')\n",
    "print(in_45[index])"
   ]
  },
  {
   "cell_type": "code",
   "execution_count": 28,
   "metadata": {},
   "outputs": [
    {
     "ename": "NameError",
     "evalue": "name 'mydict' is not defined",
     "output_type": "error",
     "traceback": [
      "\u001b[1;31m---------------------------------------------------------------------------\u001b[0m",
      "\u001b[1;31mNameError\u001b[0m                                 Traceback (most recent call last)",
      "\u001b[1;32m<ipython-input-28-b64aa3573acd>\u001b[0m in \u001b[0;36m<module>\u001b[1;34m\u001b[0m\n\u001b[0;32m      1\u001b[0m \u001b[0mkey\u001b[0m\u001b[1;33m=\u001b[0m\u001b[1;34m\"one\"\u001b[0m\u001b[1;33m\u001b[0m\u001b[1;33m\u001b[0m\u001b[0m\n\u001b[0;32m      2\u001b[0m \u001b[1;33m\u001b[0m\u001b[0m\n\u001b[1;32m----> 3\u001b[1;33m \u001b[1;32mif\u001b[0m \u001b[0mkey\u001b[0m \u001b[1;32min\u001b[0m \u001b[0mmydict\u001b[0m\u001b[1;33m.\u001b[0m\u001b[0mkeys\u001b[0m\u001b[1;33m(\u001b[0m\u001b[1;33m)\u001b[0m\u001b[1;33m:\u001b[0m\u001b[1;33m\u001b[0m\u001b[1;33m\u001b[0m\u001b[0m\n\u001b[0m\u001b[0;32m      4\u001b[0m     \u001b[0mprint\u001b[0m\u001b[1;33m(\u001b[0m\u001b[1;34m\"Key exists\"\u001b[0m\u001b[1;33m)\u001b[0m\u001b[1;33m\u001b[0m\u001b[1;33m\u001b[0m\u001b[0m\n",
      "\u001b[1;31mNameError\u001b[0m: name 'mydict' is not defined"
     ]
    }
   ],
   "source": [
    "key=\"one\"\n",
    "\n",
    "if key in mydict.keys():\n",
    "    print(\"Key exists\")"
   ]
  },
  {
   "cell_type": "code",
   "execution_count": null,
   "metadata": {},
   "outputs": [],
   "source": [
    "df.sort_values(by=['col1'])"
   ]
  },
  {
   "cell_type": "code",
   "execution_count": 153,
   "metadata": {},
   "outputs": [
    {
     "data": {
      "text/html": [
       "<div>\n",
       "<style scoped>\n",
       "    .dataframe tbody tr th:only-of-type {\n",
       "        vertical-align: middle;\n",
       "    }\n",
       "\n",
       "    .dataframe tbody tr th {\n",
       "        vertical-align: top;\n",
       "    }\n",
       "\n",
       "    .dataframe thead th {\n",
       "        text-align: right;\n",
       "    }\n",
       "</style>\n",
       "<table border=\"1\" class=\"dataframe\">\n",
       "  <thead>\n",
       "    <tr style=\"text-align: right;\">\n",
       "      <th></th>\n",
       "      <th>anon_id</th>\n",
       "      <th>L1</th>\n",
       "      <th>level_id</th>\n",
       "    </tr>\n",
       "  </thead>\n",
       "  <tbody>\n",
       "    <tr>\n",
       "      <th>0</th>\n",
       "      <td>aa0</td>\n",
       "      <td>Spanish</td>\n",
       "      <td>5</td>\n",
       "    </tr>\n",
       "    <tr>\n",
       "      <th>1</th>\n",
       "      <td>aa0</td>\n",
       "      <td>Spanish</td>\n",
       "      <td>5</td>\n",
       "    </tr>\n",
       "    <tr>\n",
       "      <th>2</th>\n",
       "      <td>aa0</td>\n",
       "      <td>Spanish</td>\n",
       "      <td>5</td>\n",
       "    </tr>\n",
       "    <tr>\n",
       "      <th>3</th>\n",
       "      <td>aa0</td>\n",
       "      <td>Spanish</td>\n",
       "      <td>5</td>\n",
       "    </tr>\n",
       "    <tr>\n",
       "      <th>4</th>\n",
       "      <td>aa8</td>\n",
       "      <td>Korean</td>\n",
       "      <td>4</td>\n",
       "    </tr>\n",
       "    <tr>\n",
       "      <th>...</th>\n",
       "      <td>...</td>\n",
       "      <td>...</td>\n",
       "      <td>...</td>\n",
       "    </tr>\n",
       "    <tr>\n",
       "      <th>618</th>\n",
       "      <td>ha2</td>\n",
       "      <td>Korean</td>\n",
       "      <td>5</td>\n",
       "    </tr>\n",
       "    <tr>\n",
       "      <th>619</th>\n",
       "      <td>ha2</td>\n",
       "      <td>Korean</td>\n",
       "      <td>5</td>\n",
       "    </tr>\n",
       "    <tr>\n",
       "      <th>620</th>\n",
       "      <td>ha2</td>\n",
       "      <td>Korean</td>\n",
       "      <td>5</td>\n",
       "    </tr>\n",
       "    <tr>\n",
       "      <th>621</th>\n",
       "      <td>ha2</td>\n",
       "      <td>Korean</td>\n",
       "      <td>5</td>\n",
       "    </tr>\n",
       "    <tr>\n",
       "      <th>622</th>\n",
       "      <td>ha2</td>\n",
       "      <td>Korean</td>\n",
       "      <td>5</td>\n",
       "    </tr>\n",
       "  </tbody>\n",
       "</table>\n",
       "<p>623 rows × 3 columns</p>\n",
       "</div>"
      ],
      "text/plain": [
       "    anon_id       L1  level_id\n",
       "0       aa0  Spanish         5\n",
       "1       aa0  Spanish         5\n",
       "2       aa0  Spanish         5\n",
       "3       aa0  Spanish         5\n",
       "4       aa8   Korean         4\n",
       "..      ...      ...       ...\n",
       "618     ha2   Korean         5\n",
       "619     ha2   Korean         5\n",
       "620     ha2   Korean         5\n",
       "621     ha2   Korean         5\n",
       "622     ha2   Korean         5\n",
       "\n",
       "[623 rows x 3 columns]"
      ]
     },
     "execution_count": 153,
     "metadata": {},
     "output_type": "execute_result"
    }
   ],
   "source": [
    "sorted_df=ids_lvl.sort_values(by=['anon_id']).reset_index(drop=True)\n",
    "#sorted_df.reindex(drop=True)\n",
    "sorted_df"
   ]
  },
  {
   "cell_type": "code",
   "execution_count": 156,
   "metadata": {},
   "outputs": [
    {
     "name": "stdout",
     "output_type": "stream",
     "text": [
      "{'aa8': 'Korean', 'ac5': 'Korean', 'an5': 'Korean', 'aq1': 'Chinese', 'ar8': 'Chinese', 'ar9': 'Chinese', 'au5': 'Korean', 'au6': 'Korean', 'az8': 'Chinese', 'bi4': 'Spanish', 'bl7': 'Chinese', 'bu4': 'Korean', 'bv9': 'Korean', 'bz2': 'Chinese', 'cb3': 'Chinese', 'cc4': 'Korean', 'ce3': 'Korean', 'cv7': 'Spanish', 'cz4': 'Chinese', 'dc0': 'Chinese', 'dc6': 'Spanish', 'dd9': 'Korean', 'df4': 'Spanish', 'dm8': 'Chinese', 'dq9': 'Chinese', 'dy7': 'Korean', 'ei8': 'Chinese', 'ev6': 'Chinese', 'ev9': 'Chinese', 'fa2': 'Spanish', 'ff1': 'Korean', 'ff2': 'Chinese', 'fk8': 'Chinese', 'fu6': 'Korean', 'fx4': 'Korean', 'fx7': 'Spanish', 'gm1': 'Chinese', 'ha2': 'Korean'}\n"
     ]
    }
   ],
   "source": [
    "index=0\n",
    "lang_dict={}\n",
    "for i in in_45:\n",
    "    df_index=binarySearchArr(anon_ids,i)\n",
    "    key=sorted_df.at[df_index,'anon_id']\n",
    "    val=sorted_df.at[df_index,'L1']\n",
    "    if key not in lang_dict.keys():\n",
    "        lang_dict.update({key: val})\n",
    "print(lang_dict)"
   ]
  },
  {
   "cell_type": "code",
   "execution_count": 157,
   "metadata": {},
   "outputs": [
    {
     "data": {
      "text/plain": [
       "38"
      ]
     },
     "execution_count": 157,
     "metadata": {},
     "output_type": "execute_result"
    }
   ],
   "source": [
    "len(lang_dict)"
   ]
  },
  {
   "cell_type": "code",
   "execution_count": 142,
   "metadata": {},
   "outputs": [
    {
     "data": {
      "text/plain": [
       "38"
      ]
     },
     "execution_count": 142,
     "metadata": {},
     "output_type": "execute_result"
    }
   ],
   "source": [
    "len(in_45)"
   ]
  },
  {
   "cell_type": "code",
   "execution_count": 143,
   "metadata": {},
   "outputs": [
    {
     "name": "stdout",
     "output_type": "stream",
     "text": [
      "['an5', 'ar8', 'bv9', 'bz2']\n",
      "['aa8', 'ac5', 'an5', 'aq1', 'ar8', 'ar9', 'au5', 'au6', 'az8', 'bi4', 'bl7', 'bu4', 'bv9', 'bz2', 'cb3', 'cc4', 'ce3', 'cv7', 'cz4', 'dc0', 'dc6', 'dd9', 'df4', 'dm8', 'dq9', 'dy7', 'ei8', 'ev6', 'ev9', 'fa2', 'ff1', 'ff2', 'fk8', 'fu6', 'fx4', 'fx7', 'gm1', 'ha2']\n"
     ]
    }
   ],
   "source": [
    "print(all_three)\n",
    "print(in_45)"
   ]
  },
  {
   "cell_type": "code",
   "execution_count": 23,
   "metadata": {},
   "outputs": [
    {
     "data": {
      "text/html": [
       "<div>\n",
       "<style scoped>\n",
       "    .dataframe tbody tr th:only-of-type {\n",
       "        vertical-align: middle;\n",
       "    }\n",
       "\n",
       "    .dataframe tbody tr th {\n",
       "        vertical-align: top;\n",
       "    }\n",
       "\n",
       "    .dataframe thead th {\n",
       "        text-align: right;\n",
       "    }\n",
       "</style>\n",
       "<table border=\"1\" class=\"dataframe\">\n",
       "  <thead>\n",
       "    <tr style=\"text-align: right;\">\n",
       "      <th></th>\n",
       "      <th>anon_id</th>\n",
       "      <th>L1</th>\n",
       "      <th>level_id</th>\n",
       "    </tr>\n",
       "  </thead>\n",
       "  <tbody>\n",
       "    <tr>\n",
       "      <th>30</th>\n",
       "      <td>aa9</td>\n",
       "      <td>Korean</td>\n",
       "      <td>3</td>\n",
       "    </tr>\n",
       "    <tr>\n",
       "      <th>34</th>\n",
       "      <td>fv7</td>\n",
       "      <td>Korean</td>\n",
       "      <td>3</td>\n",
       "    </tr>\n",
       "    <tr>\n",
       "      <th>37</th>\n",
       "      <td>gv1</td>\n",
       "      <td>Korean</td>\n",
       "      <td>3</td>\n",
       "    </tr>\n",
       "    <tr>\n",
       "      <th>49</th>\n",
       "      <td>fv7</td>\n",
       "      <td>Korean</td>\n",
       "      <td>4</td>\n",
       "    </tr>\n",
       "    <tr>\n",
       "      <th>51</th>\n",
       "      <td>gv1</td>\n",
       "      <td>Korean</td>\n",
       "      <td>4</td>\n",
       "    </tr>\n",
       "  </tbody>\n",
       "</table>\n",
       "</div>"
      ],
      "text/plain": [
       "   anon_id      L1  level_id\n",
       "30     aa9  Korean         3\n",
       "34     fv7  Korean         3\n",
       "37     gv1  Korean         3\n",
       "49     fv7  Korean         4\n",
       "51     gv1  Korean         4"
      ]
     },
     "execution_count": 23,
     "metadata": {},
     "output_type": "execute_result"
    }
   ],
   "source": [
    ">>> # Get all rows with an ID that appears multiple times\n",
    "df=ids_lvl\n",
    "is_duplicate = df.anon_id.isin(df.anon_id.value_counts()[df.anon_id.value_counts() > 1].keys())\n",
    "\n",
    " # Get all rows if the ID has at least one score = 1\n",
    "score_equal_to_1 = df.anon_id.isin(df[df.level_id == 3].anon_id.values)\n",
    "\n",
    "# Apply both constraints to the dataframe\n",
    "gf=df[is_duplicate & score_equal_to_1]\n",
    "gf.head()"
   ]
  },
  {
   "cell_type": "code",
   "execution_count": 61,
   "metadata": {},
   "outputs": [],
   "source": [
    "#Getting anon_id of everyone that was lvl 3\n",
    "lvl3=[]\n",
    "entry=''\n",
    "e=0\n",
    "for i in ids_lvl.anon_id:\n",
    "    if ids_lvl.iat[e, 2]==3:\n",
    "        entry=ids_lvl.iat[e, 0]\n",
    "        lvl3.append(entry)\n",
    "    e=e+1\n",
    "len(lvl3)\n",
    "ids_lvl\n",
    "\n",
    "#this makes sure we have each unique id \n",
    "ulvl3=[]\n",
    "for i in lvl3:\n",
    "    if i not in ulvl3:\n",
    "        ulvl3.append(i)\n"
   ]
  },
  {
   "cell_type": "code",
   "execution_count": 65,
   "metadata": {},
   "outputs": [],
   "source": [
    "#Getting anon_id of everyone that was lvl 4\n",
    "lvl4=[]\n",
    "entry=''\n",
    "e=0\n",
    "for i in ids_lvl.anon_id:\n",
    "    if ids_lvl.iat[e, 2]==4:\n",
    "        entry=ids_lvl.iat[e, 0]\n",
    "        lvl4.append(entry)\n",
    "    e=e+1\n",
    "len(lvl4)\n",
    "ids_lvl\n",
    "\n",
    "#this makes sure we have each unique id \n",
    "ulvl4=[]\n",
    "for i in lvl4:\n",
    "    if i not in ulvl4:\n",
    "        ulvl4.append(i)\n"
   ]
  },
  {
   "cell_type": "code",
   "execution_count": 89,
   "metadata": {},
   "outputs": [],
   "source": [
    "#Getting anon_id of everyone that was lvl 5\n",
    "lvl5=[]\n",
    "entry=''\n",
    "e=0\n",
    "for i in ids_lvl.anon_id:\n",
    "    if ids_lvl.iat[e, 2]==5:\n",
    "        entry=ids_lvl.iat[e, 0]\n",
    "        lvl5.append(entry)\n",
    "    e=e+1\n",
    "\n",
    "#this makes sure we have each unique id \n",
    "ulvl5=[]\n",
    "for i in lvl5:\n",
    "    if i not in ulvl5:\n",
    "        ulvl5.append(i)\n"
   ]
  },
  {
   "cell_type": "code",
   "execution_count": 82,
   "metadata": {},
   "outputs": [],
   "source": [
    "#BINARY SEARCH FUNCTION\n",
    "\n",
    "# Returns index of x in arr if present, else -1\n",
    "def binary_search(arr, low, high, x):\n",
    " \n",
    "    # Check base case\n",
    "    if high >= low:\n",
    " \n",
    "        mid = (high + low) // 2\n",
    "        #print(mid)\n",
    " \n",
    "        # If element is present at the middle itself\n",
    "        if arr[mid] == x:\n",
    "            return mid\n",
    " \n",
    "        # If element is smaller than mid, then it can only\n",
    "        # be present in left subarray\n",
    "        elif arr[mid] > x:\n",
    "            return binary_search(arr, low, mid - 1, x)\n",
    " \n",
    "        # Else the element can only be present in right subarray\n",
    "        else:\n",
    "            return binary_search(arr, mid + 1, high, x)\n",
    " \n",
    "    else:\n",
    "        # Element is not present in the array\n",
    "        return -1"
   ]
  },
  {
   "cell_type": "code",
   "execution_count": 87,
   "metadata": {},
   "outputs": [
    {
     "name": "stdout",
     "output_type": "stream",
     "text": [
      "None\n"
     ]
    }
   ],
   "source": [
    "##BINARY FOR STRING IS DIFFERENT must use sorted list\n",
    "lst3=ulvl3.sort()\n",
    "print(lst3)"
   ]
  },
  {
   "cell_type": "markdown",
   "metadata": {},
   "source": [
    "# References\n",
    "https://emark.colop.com/faq/index.php?action=artikel&cat=3&id=135&artlang=en#:~:text=Go%20to%20File%20and%20then%20Save%20as.,the%20name%20of%20the%20file.\n",
    "https://www.geeksforgeeks.org/python-program-for-binary-search/\n"
   ]
  },
  {
   "cell_type": "code",
   "execution_count": null,
   "metadata": {},
   "outputs": [],
   "source": []
  }
 ],
 "metadata": {
  "kernelspec": {
   "display_name": "Python 3",
   "language": "python",
   "name": "python3"
  },
  "language_info": {
   "codemirror_mode": {
    "name": "ipython",
    "version": 3
   },
   "file_extension": ".py",
   "mimetype": "text/x-python",
   "name": "python",
   "nbconvert_exporter": "python",
   "pygments_lexer": "ipython3",
   "version": "3.8.5"
  }
 },
 "nbformat": 4,
 "nbformat_minor": 4
}
